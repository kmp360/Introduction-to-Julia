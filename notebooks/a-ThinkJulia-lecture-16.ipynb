{
 "cells": [
  {
   "cell_type": "markdown",
   "metadata": {},
   "source": [
    "kmp\n",
    "\n",
    "Based on **Lauwens & Downey \"Think Julia: How to Think Like a Computer Scientist\"** \n",
    "\n",
    "https://benlauwens.github.io/ThinkJulia.jl/latest/book.html\n",
    "\n",
    "Resources:\n",
    "\n",
    "Julia webpage https://julialang.org/ \n",
    "\n",
    "Julia documentation https://docs.julialang.org/en/v1/\n"
   ]
  },
  {
   "cell_type": "markdown",
   "metadata": {},
   "source": [
    "## Chapter 16 -- Structs and Functions\n",
    "\n",
    "https://benlauwens.github.io/ThinkJulia.jl/latest/book.html#chap16\n",
    "\n",
    "Now that we know how to create new composite types, the next step is to write functions that take **programmer-defined objects** as parameters and return them as results. \n",
    "\n",
    "In this chapter a **functional programming style** is presented as well as two new program development plans.\n",
    "\n",
    "### Time\n",
    "\n",
    "As another example of a composite type, we define a **`struct`** called MyTime that records the time of day. The struct definition looks like this:\n",
    "\n",
    "```Julia\n",
    "    \"\"\"\n",
    "    Represents the time of day.\n",
    "    fields: hour, minute, second\n",
    "    \"\"\"\n",
    "    struct MyTime\n",
    "        hour    ::Int64\n",
    "        minute  ::Int64\n",
    "        second  ::Int64\n",
    "    end\n",
    "```\n",
    "\n",
    "The name **Time** is already used in Julia and to avoid a name clash, MyTime is used. We can create a new MyTime object:"
   ]
  },
  {
   "cell_type": "code",
   "execution_count": 6,
   "metadata": {},
   "outputs": [],
   "source": [
    "struct MyTime\n",
    "    hour    ::Int64\n",
    "    minute  ::Int64\n",
    "    second  ::Int64\n",
    "end"
   ]
  },
  {
   "cell_type": "code",
   "execution_count": 8,
   "metadata": {},
   "outputs": [
    {
     "data": {
      "text/plain": [
       "MyTime(11, 59, 30)"
      ]
     },
     "metadata": {},
     "output_type": "display_data"
    }
   ],
   "source": [
    "mtime = MyTime(11, 59, 30)"
   ]
  },
  {
   "cell_type": "code",
   "execution_count": 9,
   "metadata": {},
   "outputs": [
    {
     "name": "stdout",
     "output_type": "stream",
     "text": [
      "MyTime\n",
      "  hour: Int64 11\n",
      "  minute: Int64 59\n",
      "  second: Int64 30\n"
     ]
    }
   ],
   "source": [
    "dump(mtime)"
   ]
  },
  {
   "cell_type": "markdown",
   "metadata": {},
   "source": [
    "### Exercise 16-1\n",
    "\n",
    "Write a function called `printtime` that takes a MyTime object and prints it in the form hour:minute:second. The `@printf` macro of the StdLib module `Printf` prints an integer with the format sequence `\"%02d\"` using at least two digits, including a leading zero if necessary."
   ]
  },
  {
   "cell_type": "code",
   "execution_count": 1,
   "metadata": {},
   "outputs": [
    {
     "name": "stdout",
     "output_type": "stream",
     "text": [
      "0 0.0 -0.007812"
     ]
    }
   ],
   "source": [
    "using Printf\n",
    "\n",
    "@printf(\"%.0f %.1f %f\", 0.5, 0.025, -0.0078125)     # just a reminder"
   ]
  },
  {
   "cell_type": "code",
   "execution_count": 13,
   "metadata": {},
   "outputs": [
    {
     "name": "stdout",
     "output_type": "stream",
     "text": [
      "11:59:30"
     ]
    }
   ],
   "source": [
    "function printtime(time::MyTime)\n",
    "\n",
    "    @printf(\"%02d:%02d:%02d\", time.hour, time.minute, time.second)\n",
    "end\n",
    "\n",
    "printtime(mtime)"
   ]
  },
  {
   "cell_type": "code",
   "execution_count": 14,
   "metadata": {},
   "outputs": [
    {
     "name": "stdout",
     "output_type": "stream",
     "text": [
      "127:09:00"
     ]
    }
   ],
   "source": [
    "printtime(MyTime(127, 9, 0))"
   ]
  },
  {
   "cell_type": "markdown",
   "metadata": {},
   "source": [
    "### Exercise 16-2\n",
    "\n",
    "Write a boolean function called `isafter` that takes two MyTime objects, t1 and t2, and returns true if t1 follows t2 chronologically and false otherwise. \n",
    "\n",
    "Challenge: try without using an if statement."
   ]
  },
  {
   "cell_type": "code",
   "execution_count": 16,
   "metadata": {},
   "outputs": [
    {
     "data": {
      "text/plain": [
       "false"
      ]
     },
     "metadata": {},
     "output_type": "display_data"
    }
   ],
   "source": [
    "function isafter(t1::MyTime, t2::MyTime)\n",
    "    (t1.hour, t1.minute, t1.second) > (t2.hour, t2.minute, t2.second)\n",
    "end\n",
    "\n",
    "t1 = MyTime(1,1,0)\n",
    "t2 = MyTime(1,1,1)\n",
    "\n",
    "isafter(t1, t2)"
   ]
  },
  {
   "cell_type": "markdown",
   "metadata": {},
   "source": [
    "### Pure Functions\n",
    "\n",
    "In the next few sections, we will write two functions that add time values. They demonstrate two kinds of functions: **pure functions** and **modifiers**. They also demonstrate a development plan, **prototype and patch**, which is a way of tackling a complex problem by starting with a simple prototype and incrementally dealing with the complications.\n",
    "\n",
    "Here is a simple prototype of addtime:\n",
    "\n",
    "```Julia\n",
    "    function addtime(t1, t2)\n",
    "        MyTime(t1.hour + t2.hour, t1.minute + t2.minute, t1.second + t2.second)\n",
    "    end\n",
    "```\n",
    "\n",
    "The function creates a new MyTime object, initializes its fields, and returns a reference to the new object.\n",
    "\n",
    "This is sometimes called a pure function because it does not modify any of the objects passed to it as arguments and it has no effect, like displaying a value or getting user input, other than returning a value.\n",
    "\n",
    "To test this function, we will create two MyTime objects: `start` contains the start time of a movie, and `duration` contains the run time of the movie, which is one hour 35 minutes; `addtime` figures out when the movie will be done.\n",
    "\n",
    "```Julia\n",
    "    julia> start = MyTime(9, 45, 0);\n",
    "\n",
    "    julia> duration = MyTime(1, 35, 0);\n",
    "\n",
    "    julia> done = addtime(start, duration);\n",
    "\n",
    "    julia> printtime(done)\n",
    "        10:80:00\n",
    "```\n",
    "\n",
    "The result, 10:80:00 might not be what you were hoping for. The problem is that this function does not deal with cases where the number of seconds or minutes adds up to more than sixty. \n",
    "\n",
    "When that happens, we have to **`carry`** the extra seconds into the minute column or the extra minutes into the hour column. \n",
    "\n",
    "Here is an improved version:\n",
    "\n",
    "```Julia\n",
    "    function addtime(t1, t2)\n",
    "        second = t1.second + t2.second\n",
    "        minute = t1.minute + t2.minute\n",
    "        hour = t1.hour + t2.hour\n",
    "        if second >= 60\n",
    "            second -= 60\n",
    "            minute += 1\n",
    "        end\n",
    "        if minute >= 60\n",
    "            minute -= 60\n",
    "            hour += 1\n",
    "        end\n",
    "        MyTime(hour, minute, second)\n",
    "    end\n",
    "```\n",
    "\n",
    "Although this function is correct, it is starting to get big. We will see a shorter alternative later.\n"
   ]
  },
  {
   "cell_type": "markdown",
   "metadata": {},
   "source": [
    "### Modifiers\n",
    "\n",
    "Sometimes it is useful for a function to modify the objects it gets as parameters and that the changes are visible to the caller. Functions that work this way are called **modifiers**; `increment!`, which adds a given number of seconds to a MyTime object, can be written naturally as a modifier. Here is a rough draft:\n",
    "\n",
    "```Julia\n",
    "    function increment!(time, seconds)\n",
    "        time.second += seconds\n",
    "        if time.second >= 60\n",
    "            time.second -= 60\n",
    "            time.minute += 1\n",
    "        end\n",
    "        if time.minute >= 60\n",
    "            time.minute -= 60\n",
    "            time.hour += 1\n",
    "        end\n",
    "    end\n",
    "```\n",
    "\n",
    "The first line performs the basic operation; the remainder deals with the special cases we saw before. Is this function correct? What happens if seconds is much greater than 60? In that case, it is not enough to carry once; we have to keep doing it until time.second is less than sixty. One solution is to replace the if statements with while statements. That would make the function correct, but not very efficient."
   ]
  },
  {
   "cell_type": "markdown",
   "metadata": {},
   "source": [
    "### Exercise 16-3\n",
    "\n",
    "Write a correct version of `increment!` that does not contain any loops."
   ]
  },
  {
   "cell_type": "markdown",
   "metadata": {},
   "source": [
    "Anything that can be done with modifiers can also be done with pure functions. In fact, some programming languages only allow pure functions. There is some evidence that programs that use pure functions are faster to develop and less error-prone than programs that use modifiers. But modifiers are convenient at times, and functional programs tend to be less efficient.\n",
    "\n",
    "In general, I recommend that you write pure functions whenever it is reasonable and resort to modifiers only if there is a compelling advantage. This approach might be called a **functional programming style**."
   ]
  },
  {
   "cell_type": "markdown",
   "metadata": {},
   "source": [
    "### Exercise 16-4\n",
    "\n",
    "Write a pure version of increment that creates and returns a new MyTime object rather than modifying the parameter."
   ]
  },
  {
   "cell_type": "markdown",
   "metadata": {},
   "source": [
    "### Prototyping Versus Planning\n",
    "\n",
    "The development plan demonstrated, **prototype and patch**: For each function, a prototype was first written that performed the basic calculation and then tested, patching errors along the way.\n",
    "\n",
    "This approach can be effective, especially if you do not yet have a deep understanding of the problem but are rather discovering by exploration. \n",
    "\n",
    "But incremental corrections can generate code that is unnecessarily complicated—since it deals with many special cases—and unreliable—since it is hard to know if you have found all the errors.\n",
    "\n",
    "An alternative is **`designed development`**`, in which high-level insight into the problem can make the programming much easier. \n",
    "\n",
    "In this case, the insight is that a Time object is really a three-digit number in base 60 (see https://en.wikipedia.org/wiki/Sexagesimal)! The second attribute is the \"ones column\", the minute attribute is the \"sixties column\", and the hour attribute is the \"thirty-six hundreds column\".\n",
    "\n",
    "When we wrote addtime and increment!, we were effectively doing addition in base 60, which is why we had to carry from one column to the next. This observation suggests another approach to the whole problem—we can convert MyTime objects to integers and take advantage of the fact that the computer knows how to do integer arithmetic. Here is a function that converts mytimes to integers:\n",
    "\n",
    "```Julia\n",
    "    function timetoint(time)\n",
    "        minutes = time.hour * 60 + time.minute\n",
    "        seconds = minutes * 60 + time.second\n",
    "    end\n",
    "```\n",
    "And here is a function that converts an integer to a MyTime (recall that `divrem` divides the first argument by the second and returns the quotient and remainder as a tuple):\n",
    "\n",
    "```Julia\n",
    "    function inttotime(seconds)\n",
    "        (minutes, second) = divrem(seconds, 60)\n",
    "        hour, minute = divrem(minutes, 60)\n",
    "        MyTime(hour, minute, second)\n",
    "    end\n",
    "```\n",
    "You might have to think a bit, and run some tests, to convince yourself that these functions are correct. One way to test them is to check that timetoint(inttotime(x)) == x for many values of x. This is an example of a **`consistency check`**.\n",
    "\n",
    "Once you are convinced they are correct, you can use them to rewrite addtime:\n",
    "\n",
    "```Julia\n",
    "    function addtime(t1, t2)\n",
    "        seconds = timetoint(t1) + timetoint(t2)\n",
    "        inttotime(seconds)\n",
    "    end\n",
    "```\n",
    "This version is shorter than the original, and easier to verify."
   ]
  },
  {
   "cell_type": "markdown",
   "metadata": {},
   "source": [
    "### Exercise 16-5\n",
    "\n",
    "Rewrite `increment!` using `timetoint` and `inttotime`."
   ]
  },
  {
   "cell_type": "markdown",
   "metadata": {},
   "source": [
    "In some ways, converting from base 60 to base 10 and back is harder than just dealing with times. Base conversion is more abstract; our intuition for dealing with time values is better.\n",
    "\n",
    "But if we have the insight to treat times as base 60 numbers and make the investment of writing the conversion functions (`timetoint` and `inttotime`), we get a program that is shorter, easier to read and debug, and more reliable.\n",
    "\n",
    "It is also easier to add features later. For example, imagine subtracting two +MyTime+s to find the duration between them. The naive approach would be to implement subtraction with borrowing. Using the conversion functions would be easier and more likely to be correct.\n",
    "\n",
    "Ironically, sometimes making a problem harder (or more general) makes it easier (because there are fewer special cases and fewer opportunities for error)."
   ]
  },
  {
   "cell_type": "markdown",
   "metadata": {},
   "source": [
    "### Debugging\n",
    "\n",
    "A MyTime object is well-formed if the values of minute and second are between 0 and 60 (including 0 but not 60) and if hour is positive; hour and minute should be integral values, but we might allow second to have a fraction part.\n",
    "\n",
    "Requirements like these are called **invariants** because they should always be true. To put it a different way, if they are not true, something has gone wrong.\n",
    "\n",
    "Writing code to check invariants can help detect errors and find their causes. For example, you might have a function like `isvalidtime` that takes a MyTime object and returns false if it violates an invariant:\n",
    "\n",
    "```Julia\n",
    "    function isvalidtime(time)\n",
    "        if time.hour < 0 || time.minute < 0 || time.second < 0\n",
    "            return false\n",
    "        end\n",
    "        if time.minute >= 60 || time.second >= 60\n",
    "            return false\n",
    "        end\n",
    "        true\n",
    "    end\n",
    "```\n",
    "\n",
    "At the beginning of each function you could check the arguments to make sure they are valid:\n",
    "\n",
    "```Julia\n",
    "    function addtime(t1, t2)\n",
    "        if !isvalidtime(t1) || !isvalidtime(t2)\n",
    "            error(\"invalid MyTime object in add_time\")\n",
    "        end\n",
    "        seconds = timetoint(t1) + timetoint(t2)\n",
    "        inttotime(seconds)\n",
    "    end\n",
    "```\n",
    "\n",
    "Or you could use an **`@assert` macro**, which checks a given invariant and throws an exception if it fails:\n",
    "\n",
    "```Julia\n",
    "    function addtime(t1, t2)\n",
    "        @assert(isvalidtime(t1) && isvalidtime(t2), \"invalid MyTime object in add_time\")\n",
    "        seconds = timetoint(t1) + timetoint(t2)\n",
    "        inttotime(seconds)\n",
    "    end\n",
    "```\n",
    "`@assert` macros are useful because they distinguish code that deals with normal conditions from code that checks for errors."
   ]
  },
  {
   "cell_type": "markdown",
   "metadata": {},
   "source": [
    "## Exercises\n",
    "\n",
    "### Exercise 16-6\n",
    "\n",
    "Write a function called `multime` that takes a MyTime object and a number and returns a new MyTime object that contains the product of the original MyTime and the number.\n",
    "\n",
    "Then use multime to write a function that takes a MyTime object that represents the finishing time in a race, and a number that represents the distance, and returns a MyTime object that represents the average pace (time per kilometer)."
   ]
  },
  {
   "cell_type": "markdown",
   "metadata": {},
   "source": [
    "### Exercise 16-7\n",
    "\n",
    "Julia provides time objects that are similar to the MyTime objects in this chapter, but they provide a rich set of function and operators. \n",
    "\n",
    "Read the documentation at https://docs.julialang.org/en/v1/stdlib/Dates/.\n",
    "\n",
    "Write a program that gets the current date and prints the day of the week.\n",
    "\n",
    "Write a program that takes a birthday as input and prints the user’s age and the number of days, hours, minutes and seconds until their next birthday.\n",
    "\n",
    "For two people born on different days, there is a day when one is twice as old as the other. That is their Double Day. Write a program that takes two birthdays and computes their Double Day.\n",
    "\n",
    "For a little more challenge, write the more general version that computes the day when one person is n times older than the other."
   ]
  }
 ],
 "metadata": {
  "kernelspec": {
   "display_name": "Julia 1.9.3",
   "language": "julia",
   "name": "julia-1.9"
  },
  "language_info": {
   "file_extension": ".jl",
   "mimetype": "application/julia",
   "name": "julia",
   "version": "1.9.3"
  },
  "orig_nbformat": 4,
  "vscode": {
   "interpreter": {
    "hash": "8e72a6ea8ae570bc9b562cd7a1d6883761b9cd7ac49ad6b17855b6c636bf0317"
   }
  }
 },
 "nbformat": 4,
 "nbformat_minor": 2
}
