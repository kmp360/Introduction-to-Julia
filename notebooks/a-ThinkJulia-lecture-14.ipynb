{
 "cells": [
  {
   "cell_type": "markdown",
   "metadata": {},
   "source": [
    "kmp 2022\n",
    "\n",
    "Based on **Lauwens & Downey \"Think Julia: How to Think Like a Computer Scientist\" \n",
    "https://benlauwens.github.io/ThinkJulia.jl/latest/book.html**\n",
    "\n",
    "Resources:\n",
    "\n",
    "Julia webpage https://julialang.org/ \n",
    "\n",
    "Julia documentation https://docs.julialang.org/en/v1/\n"
   ]
  },
  {
   "cell_type": "markdown",
   "metadata": {},
   "source": [
    "## Chapter 14 -- Files\n",
    "\n",
    "https://benlauwens.github.io/ThinkJulia.jl/latest/book.html#chap14\n",
    "\n",
    "This chapter introduces the idea of persistent programs that keep data in permanent storage, and shows how to use different kinds of permanent storage, like files and databases.\n",
    "\n",
    "https://docs.julialang.org/en/v1/base/file/\n",
    "\n",
    "### Persistence\n",
    "\n",
    "Most of the programs we have seen so far are transient in the sense that they run for a short time and produce some output, but when they end, their data disappears. If you run the program again, it starts with a clean slate.\n",
    "\n",
    "Other programs are persistent: they run for a long time (or all the time); they keep at least some of their data in permanent storage (on a hard drive, for example); and if they shut down and restart, they pick up where they left off.\n",
    "\n",
    "Examples of persistent programs are **operating systems**, which run pretty much whenever a computer is on, and **web servers**, which run all the time, waiting for requests to come in on the network.\n",
    "\n",
    "One of the simplest ways for programs to maintain their data is by reading and writing **text files**. We have already seen programs that read text files; in this chapter we will see programs that write them. An alternative is to store the state of the program in a **database**. \n",
    "\n",
    "### Reading and Writing\n",
    "\n",
    "A **text file is a sequence of characters stored on a permanent medium** like a hard drive. We saw how to open and read a file in Reading Word Lists. To write a file, you have to **`open`** it with **`mode \"w\"`** as a second parameter:\n",
    "\n",
    "```Julia\n",
    "\tjulia> fout = open(\"output.txt\", \"w\")\n",
    "\t\tIOStream(<file output.txt>)\n",
    "```\n",
    "\n",
    "**Important to note: If the file already exists, opening it in write mode clears out the old data and starts fresh, so be careful!**\n",
    "\n",
    "If the file does not exist, a new one is created. **`open`** returns a **file object** and the write function puts data into the file.\n",
    "\n",
    "```Julia\n",
    "\tjulia> line1 = \"This here's the wattle,\\n\";\n",
    "\n",
    "\tjulia> write(fout, line1)\n",
    "\t\t24\n",
    "```\n",
    "\n",
    "The return value is the number of characters that were written. The file object keeps track of where it is, so if you call write again, it adds the new data to the end of the file.\n",
    "\n",
    "```Julia\n",
    "\tjulia> line2 = \"the emblem of our land.\\n\";\n",
    "\n",
    "\tjulia> write(fout, line2)\n",
    "\t\t24\n",
    "```\n",
    "\n",
    "When you are done writing, you should **`close`** the file.\n",
    "\n",
    "```Julia\n",
    "\tjulia> close(fout)\n",
    "```\n",
    "\n",
    "**If you do not close the file, it gets closed for you when the program ends.**\n"
   ]
  },
  {
   "cell_type": "markdown",
   "metadata": {},
   "source": [
    "### Formatting Text\n",
    "\n",
    "The argument of write has to be a string, so if we want to put other values in a file, we have to convert them to strings. The easiest way to do that is with **string** or **string interpolation**:\n",
    "\n",
    "```Julia\n",
    "\tjulia> fout = open(\"output.txt\", \"a\")\n",
    "\t\tIOStream(<file output.txt>)\n",
    "\n",
    "\tjulia> write(fout, string(150))\n",
    "\t\t3\n",
    "```\n",
    "\n",
    "An alternative is to use the **print(ln)** family of functions.\n",
    "\n",
    "```Julia\n",
    "\tjulia> camels = 42\n",
    "\t\t42\n",
    "\n",
    "\tjulia> println(fout, \"I have spotted $camels camels.\")\n",
    "```\n",
    "\n",
    "A more powerful alternative is the **`@printf` macro** that prints using a **C style format specification string**, which you can read about at https://docs.julialang.org/en/v1/stdlib/Printf/."
   ]
  },
  {
   "cell_type": "markdown",
   "metadata": {},
   "source": [
    "The **`Printf.@printf`** macro\n",
    "\n",
    "Syntax: **`@printf([io::IO], \"%Fmt\", args...)`**"
   ]
  },
  {
   "cell_type": "code",
   "execution_count": null,
   "metadata": {},
   "outputs": [],
   "source": [
    "using Printf"
   ]
  },
  {
   "cell_type": "code",
   "execution_count": null,
   "metadata": {},
   "outputs": [],
   "source": [
    "@printf \"Hello %s\\n\" \"world!\"\n",
    "\n",
    "@printf \"Scientific notation: %e\\n\" 1.234\n",
    "\n",
    "@printf \"Scientific notation three digits: %.3e\\n\" 1.23456\n",
    "\n",
    "@printf \"Decimal two digits: %.2f\\n\" 1.23456\n",
    "\n",
    "@printf \"Padded to length 5: %5i\\n\" 123\n",
    "\n",
    "@printf \"Padded with zeros to length: 6 %06i\\n\" 123\n",
    "\n",
    "@printf \"Use shorter of decimal or scientific: %g %g\\n\" 1.23 12300000.0"
   ]
  },
  {
   "cell_type": "markdown",
   "metadata": {},
   "source": [
    "The **`Printf.@sprintf`** macro\n",
    "\n",
    "Syntax: **`@sprintf(\"%Fmt\", args...)`**"
   ]
  },
  {
   "cell_type": "code",
   "execution_count": null,
   "metadata": {},
   "outputs": [],
   "source": [
    "@sprintf \"this is a %s %15.1f\" \"test\" 34.567"
   ]
  },
  {
   "cell_type": "code",
   "execution_count": null,
   "metadata": {},
   "outputs": [],
   "source": [
    "str = @sprintf \"this is a %s %15.1f\" \"test\" 34.567;"
   ]
  },
  {
   "cell_type": "code",
   "execution_count": null,
   "metadata": {},
   "outputs": [],
   "source": [
    "str"
   ]
  },
  {
   "cell_type": "markdown",
   "metadata": {},
   "source": [
    "### Filenames and Paths\n",
    "\n",
    "Files are organized into **directories** (or **folders**). Every running program has a **current directory**, which is the default directory for most operations. For example, when you open a file for reading, Julia looks for it in the current directory.\n",
    "\n",
    "The function **`pwd()`** returns the name of the current directory:\n",
    "\n",
    "```Julia\n",
    "\tjulia> cwd = pwd()\n",
    "\t\t\"/home/ben\"\n",
    "```\n",
    "\n",
    "**`cwd`** stands for **current working directory**. The result in this example is _/home/ben_, which is the home directory of a user named ben."
   ]
  },
  {
   "cell_type": "code",
   "execution_count": null,
   "metadata": {},
   "outputs": [],
   "source": [
    "cd(\"E:\\\\aaa-Julia-course-2022\\\\lectures-1.8\")\n",
    "cwd = pwd()"
   ]
  },
  {
   "cell_type": "code",
   "execution_count": null,
   "metadata": {},
   "outputs": [],
   "source": [
    "cwd"
   ]
  },
  {
   "cell_type": "code",
   "execution_count": null,
   "metadata": {},
   "outputs": [],
   "source": [
    "cd()        # user or home directory\n",
    "pwd()"
   ]
  },
  {
   "cell_type": "code",
   "execution_count": null,
   "metadata": {},
   "outputs": [],
   "source": [
    "cd(\"..\")    # step up once\n",
    "pwd()"
   ]
  },
  {
   "cell_type": "code",
   "execution_count": null,
   "metadata": {},
   "outputs": [],
   "source": [
    "cd(cwd)\n",
    "pwd()"
   ]
  },
  {
   "cell_type": "code",
   "execution_count": null,
   "metadata": {},
   "outputs": [],
   "source": [
    "cd(\"..\\\\..\")    # step up twice\n",
    "pwd()"
   ]
  },
  {
   "cell_type": "code",
   "execution_count": null,
   "metadata": {},
   "outputs": [],
   "source": [
    "cd(cwd)\n",
    "pwd()"
   ]
  },
  {
   "cell_type": "code",
   "execution_count": null,
   "metadata": {},
   "outputs": [],
   "source": [
    "cd(\"\\\\\")    # disk or partition root\n",
    "pwd()"
   ]
  },
  {
   "cell_type": "code",
   "execution_count": null,
   "metadata": {},
   "outputs": [],
   "source": [
    "cd(cwd)\n",
    "pwd()"
   ]
  },
  {
   "cell_type": "markdown",
   "metadata": {},
   "source": [
    "A string like \"/home/ben\" that identifies a file or directory is called a **path**. \n",
    "\n",
    "A simple filename, like `memo.txt` is also considered a path. It is a **relative path** because it relates to the current directory. If the current directory is /home/ben, then filename `memo.txt` refers to `/home/ben/memo.txt`, which is the **fullpath** or **absolute path** of `memo.txt`.\n",
    "\n",
    "A path that begins with / does not depend on the current directory; it is called an **absolute path**. To find the absolute path to a file, you can use **abspath**:"
   ]
  },
  {
   "cell_type": "code",
   "execution_count": null,
   "metadata": {},
   "outputs": [],
   "source": [
    "abspath(\"word.txt\")"
   ]
  },
  {
   "cell_type": "code",
   "execution_count": null,
   "metadata": {},
   "outputs": [],
   "source": [
    "ispath(\"word.txt\")"
   ]
  },
  {
   "cell_type": "markdown",
   "metadata": {},
   "source": [
    "\n",
    "Julia also provides other functions for working with filenames and paths. For example, **`ispath`** checks whether a file or directory exists:\n",
    "\n",
    "```Julia\n",
    "\tjulia> ispath(\"memo.txt\")\n",
    "\t\ttrue\n",
    "```\n",
    "\n",
    "If it exists, **isdir** checks whether it is a directory:\n",
    "\n",
    "```Julia\n",
    "\tjulia> isdir(\"memo.txt\")\n",
    "\t\tfalse\n",
    "\n",
    "\tjulia> isdir(\"/home/ben\")\n",
    "\t\ttrue\n",
    "```\n",
    "\n",
    "Similarly, **`isfile`** checks whether it is a file. **`readdir`** returns an array of the files (and other directories) in the given directory:"
   ]
  },
  {
   "cell_type": "code",
   "execution_count": null,
   "metadata": {},
   "outputs": [],
   "source": [
    "isdir(\"memo.txt\"), isdir(cwd)"
   ]
  },
  {
   "cell_type": "code",
   "execution_count": null,
   "metadata": {},
   "outputs": [],
   "source": [
    "readdir()"
   ]
  },
  {
   "cell_type": "markdown",
   "metadata": {},
   "source": [
    "To demonstrate these functions, the following example walks through a directory, prints the names of all the files, and calls itself recursively on all the directories."
   ]
  },
  {
   "cell_type": "code",
   "execution_count": null,
   "metadata": {},
   "outputs": [],
   "source": [
    "function walk(dirname)\n",
    "    for name in readdir(dirname)\n",
    "        path = joinpath(dirname, name)\n",
    "        if isfile(path)\n",
    "            println(path)\n",
    "        else\n",
    "            walk(path)\n",
    "        end\n",
    "    end\n",
    "end"
   ]
  },
  {
   "cell_type": "code",
   "execution_count": null,
   "metadata": {},
   "outputs": [],
   "source": [
    "walk(pwd())"
   ]
  },
  {
   "cell_type": "markdown",
   "metadata": {},
   "source": [
    "**`joinpath`** takes a directory and a file name and joins them into a complete path.\n",
    "\n",
    "Julia provides a function called **`walkdir`** that is similar to this one but more versatile. As an exercise, read the documentation and use it to print the names of the files in a given directory and its subdirectories.\n",
    "\n",
    "https://docs.julialang.org/en/v1/base/file/#Base.Filesystem.walkdir"
   ]
  },
  {
   "cell_type": "code",
   "execution_count": null,
   "metadata": {},
   "outputs": [],
   "source": [
    "path = \"E:\\\\aaa-Julia-course-2022\\\\lectures-1.8\\\\Introduction-to-Julia\\\\notebooks\"\n",
    "\n",
    "for (root, dirs, files) in walkdir(path)\n",
    "\n",
    "    println(\"Root directory: $root\")\n",
    "\n",
    "    if !isempty(dirs)\n",
    "        println(\"Directories in $root\")\n",
    "        \n",
    "        for dir in dirs\n",
    "            println(joinpath(root, dir)) # path to directories\n",
    "        end\n",
    "    else \n",
    "        println(\"No directories in root directory.\")\n",
    "    end\n",
    "\n",
    "    if !isempty(files)\n",
    "        println(\"Files in root directory:\")\n",
    "\n",
    "        for file in files\n",
    "            println(joinpath(root, file)) # path to files\n",
    "        end\n",
    "    end\n",
    "end"
   ]
  },
  {
   "cell_type": "markdown",
   "metadata": {},
   "source": [
    "### Catching Exceptions\n",
    "\n",
    "A lot of things can go wrong when you try to read and write files. If you try to open a file that does not exist, you get a SystemError:\n",
    "\n",
    "```Julia\n",
    "\tjulia> fin = open(\"bad_file\")\n",
    "\t\tERROR: SystemError: opening file \"bad_file\": No such file or directory\n",
    "```\n",
    "\n",
    "If you do not have permission to access a file:\n",
    "\n",
    "```Julia\n",
    "\tjulia> fout = open(\"/etc/passwd\", \"w\")\n",
    "\t\tERROR: SystemError: opening file \"/etc/passwd\": Permission denied\n",
    "```\n",
    "\n",
    "To avoid these errors, you could use functions like **`ispath`** and **`isfile`**, but it would take a lot of time and code to check all the possibilities. It is easier to go ahead and try and deal with problems if they happen which is exactly what the **`try`** statement does. The syntax is similar to an if statement:\n"
   ]
  },
  {
   "cell_type": "code",
   "execution_count": null,
   "metadata": {},
   "outputs": [],
   "source": [
    "fin = open(\"bad_file.txt\")"
   ]
  },
  {
   "cell_type": "code",
   "execution_count": null,
   "metadata": {},
   "outputs": [],
   "source": [
    "try\n",
    "    fin = open(\"bad_file.txt\")\n",
    "catch exc\n",
    "    println(\"Something went wrong: $exc\")\n",
    "end"
   ]
  },
  {
   "cell_type": "markdown",
   "metadata": {},
   "source": [
    "Julia starts by executing the **`try clause`**. If all goes well, it skips the catch clause and proceeds. \n",
    "\n",
    "**If an exception occurs, it jumps out of the try clause and runs the catch clause**. \n",
    "\n",
    "Handling an exception with a try statement is called **`catching an exception`**. In this example, the except clause prints an error message that is not very helpful. In general, catching an exception gives you a chance to fix the problem, or try again, or at least end the program gracefully.\n",
    "\n",
    "In code that performs state changes or uses resources like files, there is typically clean-up work (such as closing files) that needs to be done when the code is finished. Exceptions potentially complicate this task, since they can cause a block of code to exit before reaching its normal end. The **`finally`** keyword provides a way to run some code when a given block of code exits, regardless of how it exits:\n",
    "\n",
    "```Julia\n",
    "\tf = open(\"output.txt\")\n",
    "\ttry\n",
    "\t\tline = readline(f)\n",
    "\t\tprintln(line)\n",
    "\tfinally\n",
    "\t\tclose(f)\n",
    "\tend\n",
    "```\n",
    "The function **`close`** will always be executed."
   ]
  },
  {
   "cell_type": "markdown",
   "metadata": {},
   "source": [
    "### Databases\n",
    "\n",
    "A database is a file that is organized for storing data. Many databases are organized like a dictionary in the sense that they map from keys to values. The biggest difference between a database and a dictionary is that the database is on disk (or other **persistant storage**), so it persists after the program ends. **`ThinkJulia`** provides an interface to **`GDBM (GNU dbm)`** for creating and updating database files. As an example, we will create a database that contains captions for image files. Opening a database is similar to opening other files:\n",
    "\n",
    "```Julia\n",
    "\tjulia> using ThinkJulia\n",
    "\n",
    "\tjulia> db = DBM(\"captions\", \"c\")\n",
    "\t\tDBM(<captions>)\n",
    "```\n",
    "\n",
    "The **mode `\"c\"`** means that the database should be created if it does not already exist. The result is a **`database object`** that can be used (for most operations) like a dictionary. "
   ]
  },
  {
   "cell_type": "code",
   "execution_count": null,
   "metadata": {},
   "outputs": [],
   "source": [
    "using ThinkJulia\n",
    "db = DBM(\"captions\", \"c\")"
   ]
  },
  {
   "cell_type": "markdown",
   "metadata": {},
   "source": [
    "When you create a new item, GDBM updates the database file:\n",
    "\n",
    "```Julia\n",
    "\tjulia> db[\"cleese.png\"] = \"Photo of John Cleese.\"\n",
    "\t\t\"Photo of John Cleese.\"\n",
    "```"
   ]
  },
  {
   "cell_type": "code",
   "execution_count": null,
   "metadata": {},
   "outputs": [],
   "source": [
    "db[\"cleese.png\"] = \"Photo of John Cleese.\""
   ]
  },
  {
   "cell_type": "markdown",
   "metadata": {},
   "source": [
    "When you access one of the items, GDBM reads the file:\n",
    "\n",
    "```Julia\n",
    "\tjulia> db[\"cleese.png\"]\n",
    "\t\t\"Photo of John Cleese.\"\n",
    "```"
   ]
  },
  {
   "cell_type": "code",
   "execution_count": null,
   "metadata": {},
   "outputs": [],
   "source": [
    "db[\"cleese.png\"]"
   ]
  },
  {
   "cell_type": "markdown",
   "metadata": {},
   "source": [
    "If you make another assignment to an existing key, GDBM replaces the old value:\n",
    "\n",
    "```Julia\n",
    "\tjulia> db[\"cleese.png\"] = \"Photo of John Cleese doing a silly walk.\"\n",
    "\t\t\"Photo of John Cleese doing a silly walk.\"\n",
    "\n",
    "\tjulia> db[\"cleese.png\"]\n",
    "\t\t\"Photo of John Cleese doing a silly walk.\"\n",
    "```\n",
    "\n",
    "Some functions having a dictionary as argument, like keys and values, do not work with database objects. But iteration with a for loop works:\n",
    "\n",
    "```Julia\n",
    "\tfor (key, value) in db\n",
    "\t\tprintln(key, \": \", value)\n",
    "\tend\n",
    "```\n"
   ]
  },
  {
   "cell_type": "code",
   "execution_count": null,
   "metadata": {},
   "outputs": [],
   "source": [
    "db[\"cleese.png\"] = \"Photo of John Cleese doing a silly walk.\"\n",
    "\n",
    "for (key, value) in db\n",
    "    println(key, \": \", value)\n",
    "end"
   ]
  },
  {
   "cell_type": "markdown",
   "metadata": {},
   "source": [
    "\n",
    "As with other files, you should **close** the database when you are done:"
   ]
  },
  {
   "cell_type": "code",
   "execution_count": null,
   "metadata": {},
   "outputs": [],
   "source": [
    "close(db)"
   ]
  },
  {
   "cell_type": "markdown",
   "metadata": {},
   "source": [
    "### Serialization\n",
    "\n",
    "A limitation of GDBM is that the keys and the values have to be **strings** or **byte arrays**. If you try to use any other type, you get an error. The functions **`serialize`** and **`deserialize`** can help. **They translate almost any type of object into a `byte array (an iobuffer)` suitable for storage in a database, and then translates byte arrays back into objects**:"
   ]
  },
  {
   "cell_type": "code",
   "execution_count": null,
   "metadata": {},
   "outputs": [],
   "source": [
    "using Serialization\n",
    "\n",
    "io = IOBuffer()\n",
    "\n",
    "t = [1, 2, 3]\n",
    "serialize(io, t)\n",
    "\n",
    "print(take!(io))"
   ]
  },
  {
   "cell_type": "markdown",
   "metadata": {},
   "source": [
    "The format is not obvious to human readers but is meant to be easy for Julia to interpret. "
   ]
  },
  {
   "cell_type": "markdown",
   "metadata": {},
   "source": [
    "**deserialize** reconstitutes the object:"
   ]
  },
  {
   "cell_type": "code",
   "execution_count": null,
   "metadata": {},
   "outputs": [],
   "source": [
    "io = IOBuffer()\n",
    "t1 = [1, 2, 3]\n",
    "serialize(io, t1)\n",
    "\n",
    "s = take!(io)\n",
    "t2 = deserialize(IOBuffer(s))"
   ]
  },
  {
   "cell_type": "markdown",
   "metadata": {},
   "source": [
    "`serialize` and `deserialize` write to and read from a **`iobuffer object`** which represents an **in-memory I/O stream**. The function **`take!` fetches** the contents of the iobuffer as a **`byte array`** and **resets the iobuffer to its initial state**. Although the new object has the same value as the old, it is not (in general) the same object:"
   ]
  },
  {
   "cell_type": "code",
   "execution_count": null,
   "metadata": {},
   "outputs": [],
   "source": [
    "t1 == t2, t1 ≡ t2"
   ]
  },
  {
   "cell_type": "markdown",
   "metadata": {},
   "source": [
    "**In other words, serialization and then deserialization has the same effect as copying the object.** You can use this to store non-strings in a database. In fact, the storage of non-string in a database is common and has been encapsulated in a package called **`JLD2`** (see https://github.com/JuliaIO/JLD2.jl)."
   ]
  },
  {
   "cell_type": "markdown",
   "metadata": {},
   "source": [
    "### Modules and File Inclusion\n",
    "\n",
    "Suppose you have a file named \"wc.jl\" with the following code:\n",
    "\n",
    "```Julia\n",
    "\tfunction linecount(filename)\n",
    "\t\tcount = 0\n",
    "\t\tfor line in eachline(filename)\n",
    "\t\t\tcount += 1\n",
    "\t\tend\n",
    "\t\tcount\n",
    "\tend\n",
    "\n",
    "\tprint(linecount(\"wc.jl\"))\n",
    "```\n",
    "\n",
    "If you run this program, it reads itself and prints the number of lines in the file, which is 9. \n",
    "\n",
    "You can also **`include`** it in the REPL like this:\n",
    "\n",
    "```Julia\n",
    "\tjulia> include(\"wc.jl\")\n",
    "\t\t9\n",
    "```\n",
    "\n",
    "Julia introduces **modules** to create **`separate variable workspaces`**, i.e., **`new global scopes`**. \n",
    "\n",
    "A module starts with the keyword **`module`** and ends with **`end`**. \n",
    "\n",
    "Naming conflicts are avoided between your own top-level definitions and those found in somebody else’s code. \n",
    "\n",
    "**`import`** allows to control which names from other modules are visible and **`export`** specifies which of your names are public, i.e., **can be used outside the module without being prefixed with the name of the module**.\n",
    "\n",
    "```Julia\n",
    "\tmodule LineCount\n",
    "\n",
    "\t\texport linecount\n",
    "\n",
    "\t\tfunction linecount(filename)\n",
    "\t\t   count = 0\n",
    "\t\t   for line in eachline(filename)\n",
    "\t\t\t\tcount += 1\n",
    "\t\t   end\n",
    "\t\t   return count\n",
    "\t\tend\n",
    "\n",
    "\tend\n",
    "```\n",
    "\n",
    "The module LineCount object provides linecount:\n",
    "\n",
    "```Julia\n",
    "\tjulia> using LineCount\n",
    "\n",
    "\tjulia> linecount(\"wc.jl\")\n",
    "\t\t11\n",
    "```\n",
    "\n",
    "### Exercise 14-1\n",
    "\n",
    "Type this example into a file named wc.jl, include it into the REPL and enter using LineCount. If you import a module that has already been imported, Julia does nothing. **It does not re-read the file, even if it has changed.** If you want to **reload a module**, you have to restart the REPL. A package Revise exists that can keep your sessions running longer (see https://github.com/timholy/Revise.jl).\n"
   ]
  },
  {
   "cell_type": "code",
   "execution_count": null,
   "metadata": {},
   "outputs": [],
   "source": [
    "include(\"wc.jl\")"
   ]
  },
  {
   "cell_type": "code",
   "execution_count": null,
   "metadata": {},
   "outputs": [],
   "source": [
    "using Main.LineCount\n",
    "\n",
    "linecount(\"wc.jl\")"
   ]
  },
  {
   "cell_type": "markdown",
   "metadata": {},
   "source": [
    "### Command Objects for UNIX/LINUX/MacOS systems\n",
    "\n",
    "For Windows users see https://docs.julialang.org/en/v1/manual/running-external-programs/#Running-External-Programs\n",
    "\n",
    "A **shell commands** can be accessed through **shell-mode** in Julia by entering ; at the Julia promt and exit by _exit_:\n",
    "\n",
    "```Julia\n",
    "\tjulia>; <ENTER>\n",
    "\n",
    "\tshell> powershell\n",
    "\t.\n",
    "\t.\n",
    "\t.\n",
    "\tE:\\Julia\\...\\code>exit\n",
    "\tjulia>\n",
    "```\n",
    "\n",
    "Most operating systems provide a command-line interface, also known as a **`shell`**. Shells usually provide commands to navigate the file system and launch applications. For example, in Unix you can change directories with `cd`, display the contents of a directory with `ls`, and launch a web browser by typing (for example) firefox. \n",
    "\n",
    "On a UNIX/Linux system, **any program that you can launch from the shell can also be launched from Julia using a command object:**\n",
    "\n",
    "```Julia\n",
    "\tjulia> cmd = `echo hello`\n",
    "\t\t`echo hello`\n",
    "```\n",
    "\n",
    "**Backticks ` ` are used to delimit the command.** The function **`run`** executes the command:\n",
    "\n",
    "```Julia\n",
    "\tjulia> run(cmd);\n",
    "\t\thello\n",
    "```\n",
    "\n",
    "The hello is the output of the echo command, sent to **`STDOUT`**. The **`run`** function itself returns a process object, and throws an ErrorException if the external command fails to run successfully. If you want to read the output of the **`external command`**, read can be used instead:\n",
    "\n",
    "```Julia\n",
    "\tjulia> a = read(cmd, String)\n",
    "\t    \"hello\\n\"\n",
    "```\n",
    "\n",
    "For example, most Unix systems provide a command called md5sum or md5 that reads the contents of a file and computes a **checksum**. You can read about MD5 at https://en.wikipedia.org/wiki/Md5. This command provides an efficient way to check whether two files have the same contents. The probability that different contents yield the same checksum is very small (that is, unlikely to happen before the universe collapses). You can use a command object to run md5 from Julia and get the result:\n",
    "\n",
    "```Julia\n",
    "\tjulia> filename = \"output.txt\"\n",
    "\t\t\"output.txt\"\n",
    "\n",
    "\tjulia> cmd = `md5 $filename`\n",
    "\t\t`md5 output.txt`\n",
    "\n",
    "\tjulia> res = read(cmd, String)\n",
    "\t\t\"MD5 (output.txt) = d41d8cd98f00b204e9800998ecf8427e\\n\"\n",
    "```"
   ]
  },
  {
   "cell_type": "markdown",
   "metadata": {},
   "source": [
    "### Debugging\n",
    "\n",
    "When you are reading and writing files, you might run into **problems with whitespace**. These errors can be hard to debug because spaces, tabs and newlines are normally invisible:\n",
    "\n",
    "```Julia\n",
    "\tjulia> s = \"1 2\\t 3\\n 4\";\n",
    "\n",
    "\tjulia> println(s)\n",
    "\t\t1 2     3\n",
    "\t\t 4\n",
    "```\n",
    "\n",
    "The built-in functions **repr** or **dump** can help. It takes any object as an argument and returns a string representation of the object.\n",
    "\n",
    "```Julia\n",
    "\tjulia> repr(s)\n",
    "\t\t\"\\\"1 2\\\\t 3\\\\n 4\\\"\"\n",
    "\n",
    "\tjulia> dump(s)\n",
    "\t\tString \"1 2\\t 3\\n 4\"\n",
    "```\n",
    "\n",
    "This can be helpful for debugging.\n",
    "\n",
    "One other problem you might run into is that different systems use different characters to indicate the **end of a line**. Some systems use a **newline**, represented **\\n**. Others use a **return character**, represented **\\r**. Some use both. If you move files between different systems, these inconsistencies can cause problems. For most systems, there are applications to convert from one format to another. \n",
    "\n",
    "You can find them (and read more about this issue) at https://en.wikipedia.org/wiki/Newline and https://en.wikipedia.org/wiki/Whitespace_character."
   ]
  },
  {
   "cell_type": "markdown",
   "metadata": {},
   "source": [
    "## Exercises -- for UNIX/LINUX/MacOS users\n",
    "\n",
    "### Exercise 14-2\n",
    "\n",
    "Write a function called sed that takes as arguments a pattern string, a replacement string, and two filenames; it should read the first file and write the contents into the second file (creating it if necessary). If the pattern string appears anywhere in the file, it should be replaced with the replacement string.\n",
    "\n",
    "If an error occurs while opening, reading, writing or closing files, your program should catch the exception, print an error message, and exit."
   ]
  },
  {
   "cell_type": "markdown",
   "metadata": {},
   "source": [
    "### Exercise 14-3\n",
    "\n",
    "If you have done Exercise 12-3, you will see that a dictionary is created that maps from a sorted string of letters to the array of words that can be spelled with those letters. For example, \"opst\" maps to the array [\"opts\", \"post\", \"pots\", \"spot\", \"stop\", \"tops\"].\n",
    "\n",
    "Write a module that imports anagramsets and provides two new functions: storeanagrams should store the anagram dictionary using JLD2; readanagrams should look up a word and return an array of its anagrams."
   ]
  },
  {
   "cell_type": "markdown",
   "metadata": {},
   "source": [
    "### Exercise 14-4\n",
    "\n",
    "In a large collection of MP3 files, there may be more than one copy of the same song, stored in different directories or with different file names. The goal of this exercise is to search for duplicates.\n",
    "\n",
    "Write a program that searches a directory and all of its subdirectories, recursively, and returns an array of complete paths for all files with a given suffix (like .mp3).\n",
    "\n",
    "To recognize duplicates, you can use md5sum or md5 to compute a “checksum” for each files. If two files have the same checksum, they probably have the same contents.\n",
    "\n",
    "To double-check, you can use the Unix command diff."
   ]
  }
 ],
 "metadata": {
  "kernelspec": {
   "display_name": "Julia 1.8.0",
   "language": "julia",
   "name": "julia-1.8"
  },
  "language_info": {
   "file_extension": ".jl",
   "mimetype": "application/julia",
   "name": "julia",
   "version": "1.8.0"
  },
  "orig_nbformat": 4,
  "vscode": {
   "interpreter": {
    "hash": "8e72a6ea8ae570bc9b562cd7a1d6883761b9cd7ac49ad6b17855b6c636bf0317"
   }
  }
 },
 "nbformat": 4,
 "nbformat_minor": 2
}
