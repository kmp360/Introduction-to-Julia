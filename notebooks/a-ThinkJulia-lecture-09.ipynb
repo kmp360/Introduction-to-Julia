{
 "cells": [
  {
   "cell_type": "markdown",
   "metadata": {},
   "source": [
    "kmp\n",
    "\n",
    "Closely based on \n",
    "\n",
    "**Ben Lauwens & Allen Downey \"Think Julia: How to Think Like a Computer Scientist\"**\n",
    "\n",
    "https://benlauwens.github.io/ThinkJulia.jl/latest/book.html\n",
    "\n",
    "Resources:\n",
    "\n",
    "Julia webpage https://julialang.org/ \n",
    "\n",
    "Julia documentation https://docs.julialang.org/en/v1/\n"
   ]
  },
  {
   "cell_type": "markdown",
   "metadata": {},
   "source": [
    "## Chapter 09 -- Word processing\n",
    "\n",
    "https://benlauwens.github.io/ThinkJulia.jl/latest/book.html#chap09\n",
    "\n",
    "### Reading word lists\n",
    "\n",
    "We need a list of English words. There are lots of word lists available on the Web, but the one most suitable for our purpose is one of the word lists collected and contributed to the public domain by Grady Ward as part of the Moby lexicon project (see https://wikipedia.org/wiki/Moby_Project). \n",
    "\n",
    "It is a list of 113809 official crosswords; that is, words that are considered valid in crosswords and other word games. In the Moby collection, the filename is 113809of.fic; you can download a copy, with the simpler name **words.txt**, from https://github.com/BenLauwens/ThinkJulia.jl/blob/master/data/words.txt.\n",
    "\n",
    "This file is in plain text, so you can open it with a text editor, but you can also read it from Julia. The built-in function **open** takes the name of the file as a parameter and returns a file stream you can use to read the file.\n",
    "\n",
    "```Julia\n",
    "\t# if the file is in the present working directory, pwd()\n",
    "\t# otherwise fullpath name\n",
    "\t\n",
    "\tjulia> fin = open(\"words.txt\") \n",
    "\t\tIOStream(<file words.txt>)\n",
    "```\n",
    "\n",
    "**fin** is a **`file stream object`** used for input. When it is no longer needed, it should be closed with **close(fin)**.\n",
    "\n",
    "Julia provides several functions for reading from the file stream, including **readline**, which reads characters from the file until it gets to a `NEWLINE` character **`'\\n'`** and returns the result as a string:\n",
    "\n",
    "```Julia\n",
    "\tjulia> readline(fin)\n",
    "\t\t\"aa\"\n",
    "```\n",
    "\n",
    "The first word in this particular list is “aa”, which is a kind of lava. \n",
    "\n",
    "**The file stream object keeps track of where it is in the file**, so if you call readline again, it will read the next line and you get the next word:\n",
    "\n",
    "```Julia\n",
    "\tjulia> readline(fin)\n",
    "\t\t\"aah\"\n",
    "```\n",
    "\n",
    "The next word is “aah”. You can also use a file as part of a **`for loop`**. This program reads **`words.txt`** and prints each word, one per line:\n",
    "\n",
    "```Julia\n",
    "\tfor line in eachline(\"words.txt\")\n",
    "\t\tprintln(line)\n",
    "\tend\n",
    "```"
   ]
  },
  {
   "cell_type": "markdown",
   "metadata": {},
   "source": [
    "## Exercises\n",
    "\n",
    "### Exercise 9-1\n",
    "\n",
    "Write a program that reads `words.txt` and prints only the words with more than 20 characters (not counting whitespace)."
   ]
  },
  {
   "cell_type": "code",
   "execution_count": 7,
   "metadata": {},
   "outputs": [
    {
     "name": "stdout",
     "output_type": "stream",
     "text": [
      "counterdemonstrations\n",
      "hyperaggressivenesses\n",
      "microminiaturizations\n"
     ]
    }
   ],
   "source": [
    "filename = \"E:\\\\aaa-Julia-course-2023\\\\lectures-1.9\\\\words.txt\"\n",
    "\n",
    "function longWords(fin, len=20)\n",
    "\t\n",
    "\tfor str in eachline(fin)\n",
    "\n",
    "        str_no_wspace = filter(chr -> !isspace(chr), str)\n",
    "\n",
    "\t\tif sizeof(str_no_wspace) > len\n",
    "\t\t    println(str)\n",
    "\t\tend\n",
    "\tend\n",
    "end\n",
    "\n",
    "\n",
    "fileIn = open(filename)\n",
    "longWords(fileIn)\n",
    "close(fileIn)"
   ]
  },
  {
   "cell_type": "markdown",
   "metadata": {},
   "source": [
    "### Exercise 9-2\n",
    "\n",
    "In 1939 Ernest Vincent Wright published a 50,000 word novel called Gadsby that does not contain the letter e. Since e is the most common letter in English, that’s not easy to do.\n",
    "\n",
    "Write a function called hasno_e that returns true if the given word does not have the letter e in it.\n",
    "\n",
    "Modify your program from the previous section to print only the words that have no e and compute the percentage of the words in the list that have no e."
   ]
  },
  {
   "cell_type": "code",
   "execution_count": 8,
   "metadata": {},
   "outputs": [
    {
     "data": {
      "text/plain": [
       "true"
      ]
     },
     "metadata": {},
     "output_type": "display_data"
    }
   ],
   "source": [
    "function hasno_e(word)\n",
    "    \n",
    "    return !('e' in word)\n",
    "\n",
    "end\n",
    "\n",
    "hasno_e(\"abcd\")\n"
   ]
  },
  {
   "cell_type": "code",
   "execution_count": 9,
   "metadata": {},
   "outputs": [
    {
     "data": {
      "text/plain": [
       "0.3307383423103621"
      ]
     },
     "metadata": {},
     "output_type": "display_data"
    }
   ],
   "source": [
    "function no_e(fin)\n",
    "    cnt = 0\n",
    "    cnttot = 0\n",
    "\n",
    "\tfor str in eachline(fin)\n",
    "        cnttot += 1\n",
    "\t\tif hasno_e(str)\n",
    "            cnt += 1\n",
    "\t\t    #println(str)\n",
    "\t\tend\n",
    "\tend\n",
    "    return cnt/cnttot\n",
    "end\n",
    "\n",
    "filename = \"E:\\\\aaa-Julia-course-2023\\\\lectures-1.9\\\\words.txt\"\n",
    "\n",
    "begin\n",
    "    fileIn = open(filename)\n",
    "    percentage = no_e(fileIn)\n",
    "    close(fileIn)\n",
    "end\n",
    "\n",
    "percentage"
   ]
  },
  {
   "cell_type": "markdown",
   "metadata": {},
   "source": [
    "### Exercise 9-3\n",
    "\n",
    "Write a function named avoids that takes a word and a string of forbidden letters, and that returns true if the word does not use any of the forbidden letters.\n",
    "\n",
    "Modify your program to prompt the user to enter a string of forbidden letters and then print the number of words that do not contain any of them. Can you find a combination of 5 forbidden letters that excludes the smallest number of words?"
   ]
  },
  {
   "cell_type": "markdown",
   "metadata": {},
   "source": [
    "### Exercise 9-4\n",
    "\n",
    "Write a function named usesonly that takes a word and a string of letters, and that returns true if the word contains only letters in the list. Can you make a sentence using only the letters acefhlo? Other than \"Hoe alfalfa?\""
   ]
  },
  {
   "cell_type": "code",
   "execution_count": 10,
   "metadata": {},
   "outputs": [
    {
     "data": {
      "text/plain": [
       "false"
      ]
     },
     "metadata": {},
     "output_type": "display_data"
    }
   ],
   "source": [
    "function usesonly(word, legal)\n",
    "    for letter in word\n",
    "        if letter ∉ legal\n",
    "            return false\n",
    "        end\n",
    "    end\n",
    "    return true\n",
    "end\n",
    "\n",
    "legal = \"acefhlo\"\n",
    "word = \"alfgalfa\"\n",
    "usesonly(word, legal)"
   ]
  },
  {
   "cell_type": "markdown",
   "metadata": {},
   "source": [
    "### Exercise 9-5\n",
    "\n",
    "Write a function named usesall that takes a word and a string of required letters, and that returns true if the word uses all the required letters at least once. How many words are there that use all the vowels aeiou? How about aeiouy?"
   ]
  },
  {
   "cell_type": "markdown",
   "metadata": {},
   "source": [
    "### Exercise 9-6\n",
    "\n",
    "Write a function called isabecedarian that returns true if the letters in a word appear in alphabetical order (double letters are ok). How many abecedarian words are there?"
   ]
  },
  {
   "cell_type": "code",
   "execution_count": 11,
   "metadata": {},
   "outputs": [
    {
     "data": {
      "text/plain": [
       "true"
      ]
     },
     "metadata": {},
     "output_type": "display_data"
    }
   ],
   "source": [
    "function isabecedarian(word)\n",
    "    i = firstindex(word)\n",
    "    j = nextind(word, i)\n",
    "    \n",
    "    while j <= sizeof(word)\n",
    "        if word[j] < word[i]\n",
    "            return false\n",
    "        end\n",
    "        i = j\n",
    "        j = nextind(word, i)\n",
    "\n",
    "    end\n",
    "    #@show j\n",
    "    #@show sizeof(word)\n",
    "    return  true\n",
    "end\n",
    "\n",
    "word = \"abcdefghij\"\n",
    "isabecedarian(word)"
   ]
  },
  {
   "cell_type": "code",
   "execution_count": 12,
   "metadata": {},
   "outputs": [
    {
     "data": {
      "text/plain": [
       "596"
      ]
     },
     "metadata": {},
     "output_type": "display_data"
    }
   ],
   "source": [
    "\n",
    "function abecedaria(fin)\n",
    "\t\n",
    "    cnt = 0\n",
    "\n",
    "\tfor word in eachline(fin)\n",
    "\t\tif isabecedarian(word)\n",
    "            cnt += 1\n",
    "\t\tend\n",
    "\tend\n",
    "    return cnt\n",
    "end\n",
    "\n",
    "filename = \"E:\\\\aaa-Julia-course-2023\\\\lectures-1.9\\\\words.txt\"\n",
    "\n",
    "begin\n",
    "    fileIn = open(filename)\n",
    "    nmbr = abecedaria(fileIn)\n",
    "    close(fileIn)\n",
    "end\n",
    "\n",
    "nmbr"
   ]
  },
  {
   "cell_type": "markdown",
   "metadata": {},
   "source": [
    "### Search\n",
    "\n",
    "All of the exercises in the previous section have something in common; they can be solved with the **search pattern**. The simplest example is:\n",
    "\n",
    "```Julia\n",
    "\tfunction hasno_e(word)\n",
    "\t\tfor letter in word\n",
    "\t\t\tif letter == 'e'\n",
    "\t\t\t\treturn false\n",
    "\t\t\tend\n",
    "\t\tend\n",
    "\t\treturn true\n",
    "\tend\n",
    "```\n",
    "\n",
    "The for loop traverses the characters in word. If we find the letter e, we can immediately return false; otherwise we have to go to the next letter. If we exit the loop normally, that means we did not find an e, so we return true.\n",
    "\n",
    "You could write this function more concisely using the **∉ (\\notin<tab>) operator**. `avoids` is a more general version of `hasno_e` but it has the same structure:\n",
    "\n",
    "```Julia\n",
    "\tfunction avoids(word, forbidden)\n",
    "\t\tfor letter in word\n",
    "\t\t\tif letter ∈ forbidden\n",
    "\t\t\t\treturn false\n",
    "\t\t\tend\n",
    "\t\tend\n",
    "\t\treturn true\n",
    "\tend\n",
    "```\n",
    "\n",
    "We can return false as soon as we find a forbidden letter; if we get to the end of the loop, we return true. `usesonly` is similar except that the sense of the condition is reversed:\n",
    "\n",
    "```Julia\n",
    "\tfunction usesonly(word, available)\n",
    "\t\tfor letter in word\n",
    "\t\t\tif letter ∉ available\n",
    "\t\t\t\treturn false\n",
    "\t\t\tend\n",
    "\t\tend\n",
    "\t\ttrue\n",
    "\tend\n",
    "```\n",
    "\n",
    "Instead of an array of forbidden letters, we have an array of available letters. If we find a letter in word that is not in available, we can return false. `usesall` is similar except that we reverse the role of the word and the string of letters:\n",
    "\n",
    "```Julia\n",
    "\tfunction usesall(word, required)\n",
    "\t\tfor letter in required\n",
    "\t\t\tif letter ∉ word\n",
    "\t\t\t\treturn false\n",
    "\t\t\tend\n",
    "\t\tend\n",
    "\t\ttrue\n",
    "\tend\n",
    "```\n",
    "\n",
    "Instead of traversing the letters in word, the loop traverses the required letters. If any of the required letters do not appear in the word, we can return false.\n",
    "\n",
    "If you were really thinking like a computer scientist, you would have recognized that `usesall` was an instance of a previously solved problem, and you would have written:\n",
    "\n",
    "```Julia\n",
    "\tfunction usesall(word, required)\n",
    "\t\tusesonly(required, word)\n",
    "\tend\n",
    "```\n",
    "\n",
    "This is an example of a program development plan called **reduction to a previously solved problem**, which means that you recognize the problem you are working on as an instance of a solved problem and apply an existing solution."
   ]
  },
  {
   "cell_type": "markdown",
   "metadata": {},
   "source": [
    "### Looping with indices\n",
    "\n",
    "For `isabecedarian` we have to compare adjacent letters, which is a little tricky with a for loop:\n",
    "\n",
    "```Julia\n",
    "\tfunction isabecedarian(word)\n",
    "\t\ti = firstindex(word)\n",
    "\t\tprevious = word[i]\n",
    "\t\tj = nextind(word, i)\n",
    "\t\tfor c in word[j:end]\n",
    "\t\t\tif c < previous\n",
    "\t\t\t\treturn false\n",
    "\t\t\tend\n",
    "\t\tprevious = c\n",
    "\t\tend\n",
    "\t\ttrue\n",
    "\tend\n",
    "```\n",
    "\n",
    "An alternative is to use recursion:\n",
    "\n",
    "```Julia\n",
    "\tfunction isabecedarian(word)\n",
    "\t\tif length(word) <= 1\n",
    "\t\t\treturn true\n",
    "\t\tend\n",
    "\t\ti = firstindex(word)\n",
    "\t\tj = nextind(word, i)\n",
    "\t\tif word[i] > word[j]\n",
    "\t\t\treturn false\n",
    "\t\tend\n",
    "\t\tisabecedarian(word[j:end])\n",
    "\tend\n",
    "```\n",
    "\n",
    "Another option is to use a while loop:\n",
    "\n",
    "```Julia\n",
    "\tfunction isabecedarian(word)\n",
    "\t\ti = firstindex(word)\n",
    "\t\tj = nextind(word, 1)\n",
    "\t\twhile j <= sizeof(word)\n",
    "\t\t\tif word[j] < word[i]\n",
    "\t\t\t\treturn false\n",
    "\t\t\tend\n",
    "\t\t\ti = j\n",
    "\t\t\tj = nextind(word, i)\n",
    "\t\tend\n",
    "\t\ttrue\n",
    "\tend\n",
    "```\n",
    "\n",
    "The loop starts at i = 1 and j = nextind(word, 1) and ends when j > sizeof(word). Each time through the loop, it compares the i:th character (which you can think of as the current character) to the j:th character (which you can think of as the next). If the next character is less than (alphabetically before) the current one, then we have discovered a break in the abecedarian trend, and we return false. If we get to the end of the loop without finding a fault, then the word passes the test. \n",
    "\n",
    "To convince yourself that the loop ends correctly, consider an example like \"flossy\"."
   ]
  },
  {
   "cell_type": "markdown",
   "metadata": {},
   "source": [
    "Another way to write a traversal is with a for loop and use the string as an **iterable** datatype:"
   ]
  },
  {
   "cell_type": "markdown",
   "metadata": {},
   "source": [
    "Here is a version of `ispalindrome` that uses two indices; one starts at the beginning and goes up; the other starts at the end and goes down.\n",
    "\n",
    "```Julia\n",
    "\t# this code does not cover all cases\n",
    "\tfunction ispalindrome(word)\n",
    "\t\ti = firstindex(word)\n",
    "\t\tj = lastindex(word)\n",
    "\t\twhile i<j\n",
    "\t\t\tif word[i] != word[j]\n",
    "\t\t\t\treturn false\n",
    "\t\t\tend\n",
    "\t\ti = nextind(word, i)\n",
    "\t\tj = prevind(word, j)\n",
    "\t\tend\n",
    "\t\treturn true\n",
    "\tend\n",
    "```\n",
    "\n",
    "Or we could reduce to a previously solved problem:"
   ]
  },
  {
   "cell_type": "code",
   "execution_count": 13,
   "metadata": {},
   "outputs": [
    {
     "data": {
      "text/plain": [
       "true"
      ]
     },
     "metadata": {},
     "output_type": "display_data"
    }
   ],
   "source": [
    "function ispalindrome_1(word)\n",
    "    lowercase(word) == lowercase(reverse(word))\n",
    "end\n",
    "\n",
    "word = \"abctCBA\"\n",
    "ispalindrome_1(word)"
   ]
  },
  {
   "cell_type": "code",
   "execution_count": 14,
   "metadata": {},
   "outputs": [
    {
     "data": {
      "text/plain": [
       "true"
      ]
     },
     "metadata": {},
     "output_type": "display_data"
    }
   ],
   "source": [
    "# this code does not cover all cases\n",
    "function ispalindrome_2(word)\n",
    "    i = firstindex(word)\n",
    "    j = lastindex(word)\n",
    "    while i<j\n",
    "        if word[i] != word[j]\n",
    "            return false\n",
    "        end\n",
    "    i = nextind(word, i)\n",
    "    j = prevind(word, j)\n",
    "    end\n",
    "    return true\n",
    "end\n",
    "\n",
    "ispalindrome_2(lowercase(word))"
   ]
  },
  {
   "cell_type": "markdown",
   "metadata": {},
   "source": [
    "### Debugging\n",
    "\n",
    "Testing programs is hard. The functions in this chapter are relatively easy to test because you can check the results by hand. Even so, it is somewhere between difficult and impossible to choose a set of words that test for all possible errors.\n",
    "\n",
    "Taking hasno_e as an example, there are two obvious cases to check: words that have an e should return false, and words that do not should return true. You should have no trouble coming up with one of each. Within each case, there are some less obvious subcases. \n",
    "\n",
    "Among the words that have an “e”, you should test words with an “e” at the beginning, the end, and somewhere in the middle. You should test long words, short words, and very short words, like the empty string. \n",
    "\n",
    "The empty string is an example of a **special case**, which is one of the non-obvious cases where errors often lurk. In addition to the test cases you generate, you can also test your program with a word list like words.txt. \n",
    "\n",
    "By scanning the output, you might be able to catch errors, but be careful: you might catch one kind of error (words that should not be included, but are) and not another (words that should be included, but are not).\n",
    "\n",
    "In general, **testing code** can help you find bugs, but it is not easy to generate a good set of test cases, and even if you do, you cannot be sure your program is correct. According to Edsger W. Dijkstra, a legendary computer scientist: **Program testing can be used to show the presence of bugs, but never to show their absence.**"
   ]
  }
 ],
 "metadata": {
  "kernelspec": {
   "display_name": "Julia 1.9.3",
   "language": "julia",
   "name": "julia-1.9"
  },
  "language_info": {
   "file_extension": ".jl",
   "mimetype": "application/julia",
   "name": "julia",
   "version": "1.9.3"
  },
  "orig_nbformat": 4,
  "vscode": {
   "interpreter": {
    "hash": "8e72a6ea8ae570bc9b562cd7a1d6883761b9cd7ac49ad6b17855b6c636bf0317"
   }
  }
 },
 "nbformat": 4,
 "nbformat_minor": 2
}
