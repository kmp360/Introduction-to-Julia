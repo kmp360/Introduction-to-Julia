{
 "cells": [
  {
   "cell_type": "markdown",
   "metadata": {},
   "source": [
    "kmp 2022\n",
    "\n",
    "Closely based on \n",
    "\n",
    "**Ben Lauwens & Allen Downey \"Think Julia: How to Think Like a Computer Scientist\" \n",
    "https://benlauwens.github.io/ThinkJulia.jl/latest/book.html**\n",
    "\n",
    "Resources:\n",
    "\n",
    "Julia webpage https://julialang.org/ \n",
    "\n",
    "Julia documentation https://docs.julialang.org/en/v1/\n"
   ]
  },
  {
   "cell_type": "markdown",
   "metadata": {},
   "source": [
    "## Chapter 10 - Arrays\n",
    "\n",
    "An **array** is a sequence. Like a string, an array is a sequence of values. In a string, the values are characters; **in an array, they can be any type**. The values in an array are called **elements**. There are several ways to create a new array; the simplest is to enclose the elements in square brackets ([ ]):\n",
    "\n",
    "```Julia\n",
    "\t[10, 20, 30, 40]\n",
    "\t[\"crunchy frog\", \"ram bladder\", \"lark vomit\"]\n",
    "```\n",
    "\n",
    "The first example is an array of four integers. The second is an array of three strings. **The elements of an array do not have to be the same type**. The following array contains a string, a float, an integer, and another array:\n",
    "\n",
    "```Julia\n",
    "\t[\"spam\", 2.0, 5, [10, 20]]\n",
    "```\n",
    "\n",
    "An array within another array is a **nested array**. An array that contains no elements is called an **empty array**; you can create one with empty brackets, []."
   ]
  },
  {
   "cell_type": "code",
   "execution_count": 1,
   "metadata": {},
   "outputs": [
    {
     "data": {
      "text/plain": [
       "Vector{Int64} (alias for Array{Int64, 1})"
      ]
     },
     "metadata": {},
     "output_type": "display_data"
    }
   ],
   "source": [
    "typeof([10, 20, 30, 40])"
   ]
  },
  {
   "cell_type": "code",
   "execution_count": 2,
   "metadata": {},
   "outputs": [
    {
     "data": {
      "text/plain": [
       "Vector{Any} (alias for Array{Any, 1})"
      ]
     },
     "metadata": {},
     "output_type": "display_data"
    }
   ],
   "source": [
    "typeof([\"spam\", 2.0, 5, [10, 20]])"
   ]
  },
  {
   "cell_type": "markdown",
   "metadata": {},
   "source": [
    "As you might expect, you can assign array values to variables:\n",
    "\n",
    "```Julia\n",
    "\tjulia> cheeses = [\"Cheddar\", \"Edam\", \"Gouda\"];\n",
    "\n",
    "\tjulia> numbers = [42, 123];\n",
    "\n",
    "\tjulia> empty = [];\n",
    "\n",
    "\tjulia> print(cheeses, \" \", numbers, \" \", empty)\n",
    "\t\t[\"Cheddar\", \"Edam\", \"Gouda\"] [42, 123] Any[]\n",
    "```\n",
    "\n",
    "The function **typeof** can be used to find out the kind of the array:\n",
    "```Julia\n",
    "\tjulia> typeof(cheeses)\n",
    "\t\tArray{String,1}\n",
    "\n",
    "\tjulia> typeof(numbers)\n",
    "\t\tArray{Int64,1}\n",
    "\n",
    "\tjulia> typeof(empty)\n",
    "\t\tArray{Any,1}\n",
    "```\n",
    "\n",
    "The kind of the array is specified between curly braces and is composed of a type and a number. The number indicates the **dimensions**. The array empty contains values of **type Any**., i.e. it can hold values of all types."
   ]
  },
  {
   "cell_type": "markdown",
   "metadata": {},
   "source": [
    "### Arrays are mutable\n",
    "\n",
    "The syntax for accessing the elements of an array is the same as for accessing the characters of a string — the `bracket operator`. The expression inside the brackets specifies the index that the indices start at 1:\n",
    "\n",
    "```Julia\n",
    "\tjulia> cheeses[1]\n",
    "\t\t\"Cheddar\"\n",
    "```\n",
    "\n",
    "**Unlike strings, arrays are mutable. When the bracket operator appears on the left side of an assignment, it identifies the element of the array that will be assigned:**\n",
    "\n",
    "```Julia\n",
    "\tjulia> numbers[2] = 5\n",
    "\t\t5\n",
    "\n",
    "\tjulia> print(numbers)\n",
    "\t\t[42, 5]\n",
    "```"
   ]
  },
  {
   "cell_type": "code",
   "execution_count": 4,
   "metadata": {},
   "outputs": [
    {
     "data": {
      "text/plain": [
       "2-element Vector{Int64}:\n",
       " 42\n",
       "  5"
      ]
     },
     "metadata": {},
     "output_type": "display_data"
    }
   ],
   "source": [
    "numbers = [42, 123]\n",
    "numbers[2] = 5\n",
    "numbers"
   ]
  },
  {
   "cell_type": "markdown",
   "metadata": {},
   "source": [
    "The second element of numbers, which used to be 123, is now 5. Array indices work the same way as string indices (but without UTF-8 complication):\n",
    "\n",
    "(1) Any integer expression can be used as an index.\n",
    "\n",
    "(2) If you try to read or write an element that does not exist, you get a BoundsError.\n",
    "\n",
    "(3) The keywords **begin** and **end** points to the first and last index of the array, respectively.\n",
    "\n",
    "The ** in or ∈ operator** also works on arrays:\n",
    "\n",
    "```Julia\n",
    "\t\tjulia> \"Edam\" ∈ cheeses\n",
    "\t\t\ttrue\n",
    "\n",
    "\t\tjulia> \"Brie\" in cheeses\n",
    "\t\t\tfalse\n",
    "```"
   ]
  },
  {
   "cell_type": "markdown",
   "metadata": {},
   "source": [
    "### Traversing an array\n",
    "\n",
    "The most common way to traverse the elements of an array is with a `for loop`. The syntax is the same as for strings:\n",
    "\n",
    "```Julia\n",
    "\tfor cheese in cheeses\n",
    "\t\tprintln(cheese)\n",
    "\tend\n",
    "```\n",
    "\n",
    "This works well if you only need to read the elements of the array. But if you want to write or update the elements, you need the indices. A common way to do that is to use the built-in function **eachindex**:\n",
    "\n",
    "```Julia\n",
    "\tfor i in eachindex(numbers)\n",
    "\t\tnumbers[i] = numbers[i] * 2\n",
    "\tend\n",
    "```\n",
    "\n",
    "This loop traverses the array and updates each element. Each time through the loop i gets the index of the next element. The assignment statement in the body uses i to read the old value of the element and to assign the new value.\n",
    "\n",
    "A for loop over an empty array never runs the body:\n",
    "\n",
    "```Julia\n",
    "\tfor x in []\n",
    "\t\tprintln(\"This can never happens.\")\n",
    "\tend\n",
    "```\n",
    "\n",
    "**length** returns the number of elements in the array. Although an array can contain another array, the nested array still counts as a single element. The length of this array is four:\n",
    "\n",
    "```Julia\n",
    "\t[\"spam\", 1, [\"Brie\", \"Roquefort\", \"Camembert\"], [1, 2, 3]]\n",
    "```"
   ]
  },
  {
   "cell_type": "code",
   "execution_count": 6,
   "metadata": {},
   "outputs": [
    {
     "data": {
      "text/plain": [
       "4"
      ]
     },
     "metadata": {},
     "output_type": "display_data"
    }
   ],
   "source": [
    "mixed = [\"spam\", 1, [\"Brie\", \"Roquefort\", \"Camembert\"], [1, 2, 3]]\n",
    "length(mixed)"
   ]
  },
  {
   "cell_type": "code",
   "execution_count": 7,
   "metadata": {},
   "outputs": [
    {
     "data": {
      "text/plain": [
       "3"
      ]
     },
     "metadata": {},
     "output_type": "display_data"
    }
   ],
   "source": [
    "length(mixed[3])"
   ]
  },
  {
   "cell_type": "markdown",
   "metadata": {},
   "source": [
    "### Array slices\n",
    "\n",
    "The **slice operator** also works on arrays:\n",
    "\n",
    "```Julia\n",
    "\tjulia> t = ['a', 'b', 'c', 'd', 'e', 'f'];\n",
    "\n",
    "\tjulia> print(t[1:3])\n",
    "\t\t['a', 'b', 'c']\n",
    "\n",
    "\tjulia> print(t[3:end])\n",
    "\t\t['c', 'd', 'e', 'f']\n",
    "```\n",
    "\n",
    "The slice operator **[:]**, makes a copy of the whole array:\n",
    "\n",
    "```Julia\n",
    "\tjulia> print(t[:])\n",
    "\t\t['a', 'b', 'c', 'd', 'e', 'f']\n",
    "```\n",
    "\n",
    "Since arrays are mutable, it is often useful to make a copy before performing operations that modify arrays. **A slice operator on the left side of an assignment can update multiple elements**:\n",
    "\n",
    "```Julia\n",
    "\t\tjulia> t[2:3] = ['x', 'y'];\n",
    "\n",
    "\t\tjulia> print(t)\n",
    "\t\t\t['a', 'x', 'y', 'd', 'e', 'f']\n",
    "```"
   ]
  },
  {
   "cell_type": "markdown",
   "metadata": {},
   "source": [
    "### Array library\n",
    "\n",
    "Julia provides functions that operate on arrays. For example, **push!** adds a new element to the end of an array:\n",
    "\n",
    "```Julia\n",
    "\tjulia> t = ['a', 'b', 'c'];\n",
    "\n",
    "\tjulia> push!(t, 'd');\n",
    "\n",
    "\tjulia> print(t)\n",
    "\t\t['a', 'b', 'c', 'd']\n",
    "```\n",
    "\n",
    "**append!** add the elements of the second array to the end of the first:\n",
    "\n",
    "```Julia\n",
    "\tjulia> t1 = ['a', 'b', 'c'];\n",
    "\n",
    "\tjulia> t2 = ['d', 'e'];\n",
    "\n",
    "\tjulia> append!(t1, t2);\n",
    "\n",
    "\tjulia> print(t1)\n",
    "\t\t['a', 'b', 'c', 'd', 'e']\n",
    "```\n",
    "\n",
    "This example leaves t2 unmodified. **sort!** arranges the elements of the array from low to high:\n",
    "\n",
    "```Julia\n",
    "\tjulia> t = ['d', 'c', 'e', 'b', 'a'];\n",
    "\n",
    "\tjulia> sort!(t);\n",
    "\n",
    "\tjulia> print(t)\n",
    "\t\t['a', 'b', 'c', 'd', 'e']\n",
    "```\n",
    "\n",
    "**sort** returns a copy of the elements of the array in order:\n",
    "\n",
    "```Julia\n",
    "\tjulia> t1 = ['d', 'c', 'e', 'b', 'a'];\n",
    "\n",
    "\tjulia> t2 = sort(t1);\n",
    "\n",
    "\tjulia> print(t1)\n",
    "\t\t['d', 'c', 'e', 'b', 'a']\n",
    "\tjulia> print(t2)\n",
    "\t\t['a', 'b', 'c', 'd', 'e']\n",
    "```\n",
    "\n",
    "Note the **style convention** in Julia, the bang **!** is appended to names of **functions that modify their arguments**."
   ]
  },
  {
   "cell_type": "markdown",
   "metadata": {},
   "source": [
    "### Map, filter and reduce\n",
    "\n",
    "To add up all the numbers in an array, you can use a loop like this:\n",
    "\n",
    "```Julia\n",
    "\tfunction addall(t)\n",
    "\t\ttotal = 0\n",
    "\t\tfor x in t\n",
    "\t\t\ttotal += x\n",
    "\t\tend\n",
    "\t\ttotal\n",
    "\tend\n",
    "```\n",
    "\n",
    "total is initialized to 0. Each time through the loop, += gets one element from the array. The **+= operator** provides a short way to update a variable. This augmented assignment statement,\n",
    "\n",
    "```Julia\n",
    "\ttotal += x\n",
    "```\n",
    "\n",
    "is equivalent to\n",
    "\n",
    "```Julia\n",
    "\ttotal = total + x\n",
    "```\n",
    "\n",
    "As the loop runs, total accumulates the sum of the elements; a variable used this way is called an **accumulator**.\n",
    "\n",
    "Adding up the elements of an array is such a common operation that Julia provides it as a built-in function, **sum**:\n",
    "\n",
    "```Julia\n",
    "\tjulia> t = [1, 2, 3, 4];\n",
    "\n",
    "\tjulia> sum(t)\n",
    "\t\t10\n",
    "```\n",
    "\n",
    "An operation like this that combines a sequence of elements into a single value is sometimes called a **reduce** operation.\n",
    "\n",
    "Often you want to traverse one array while building another. For example, the following function takes an array of strings and returns a new array that contains capitalized strings:\n",
    "\n",
    "```Julia\n",
    "\tfunction capitalizeall(t)\n",
    "\t\tres = []\n",
    "\t\tfor s in t\n",
    "\t\t\tpush!(res, uppercase(s))\n",
    "\t\tend\n",
    "\t\treturn res\n",
    "\tend\n",
    "```\n",
    "\n",
    "`res` is initialized with an empty array; each time through the loop, we append the next element. So `res` is another kind of accumulator. An operation like `capitalizeall` is sometimes called a **map** because it “maps” a function (in this case `uppercase`) onto each of the elements in a sequence.\n",
    "\n",
    "Another common operation is to select some of the elements from an array and return a **subarray**. For example, the following function takes an array of strings and returns an array that contains only the uppercase strings:\n",
    "\n",
    "```Julia\n",
    "\tfunction onlyupper(t)\n",
    "\t\tres = []\n",
    "\t\tfor s in t\n",
    "\t\t\tif s == uppercase(s)\n",
    "\t\t\t\tpush!(res, s)\n",
    "\t\t\tend\n",
    "\t\tend\n",
    "\t\treturn res\n",
    "\tend\n",
    "```\n",
    "\n",
    "An operation like onlyupper is called a **filter** because it selects some of the elements and filters out the others. Most common array operations can be expressed as a combination of map, filter and reduce."
   ]
  },
  {
   "cell_type": "markdown",
   "metadata": {},
   "source": [
    "### Dot syntax\n",
    "\n",
    "For every binary operator like ^, there is a corresponding dot operator .^ that is automatically defined to perform ^ **element-by-element on arrays**. For example, [1, 2, 3] ^ 3 is not defined, but [1, 2, 3] .^ 3 is defined as computing the elementwise result [1^3, 2^3, 3^3]:\n",
    "\n",
    "```Julia\n",
    "\tjulia> print([1, 2, 3] .^ 3)\n",
    "\t\t[1, 8, 27]\n",
    "```\n",
    "\n",
    "Any Julia function f can be applied elementwise to any array with the dot syntax. For example to capitalize an array of strings, we do not need an explicit loop:\n",
    "\n",
    "```Julia\n",
    "\tjulia> t = uppercase.([\"abc\", \"def\", \"ghi\"]);\n",
    "\n",
    "\tjulia> print(t)\n",
    "\t\t[\"ABC\", \"DEF\", \"GHI\"]\n",
    "```\n",
    "\n",
    "This is an elegant way to create a map. The function capitalizeall can be implemented by a one-liner:\n",
    "\n",
    "```Julia\n",
    "\tfunction capitalizeall(t)\n",
    "\t\tuppercase.(t)\n",
    "\tend\n",
    "```"
   ]
  },
  {
   "cell_type": "markdown",
   "metadata": {},
   "source": [
    "### Deleting/inserting elements\n",
    "\n",
    "There are several ways to delete elements from an array. If you know the index of the element you want, you can use **splice!**:\n",
    "\n",
    "```Julia\n",
    "\tjulia> t = ['a', 'b', 'c'];\n",
    "\n",
    "\tjulia> splice!(t, 2)\n",
    "\t\t'b': ASCII/Unicode U+0062 (category Ll: Letter, lowercase)\n",
    "\n",
    "\tjulia> print(t)\n",
    "\t\t['a', 'c']\n",
    "```\n",
    "\n",
    "splice! modifies the array and returns the element that was removed. **pop!** deletes and returns the last element:\n",
    "\n",
    "```Julia\n",
    "\tjulia> t = ['a', 'b', 'c'];\n",
    "\n",
    "\tjulia> pop!(t)\n",
    "\t\t'c': ASCII/Unicode U+0063 (category Ll: Letter, lowercase)\n",
    "\n",
    "\tjulia> print(t)\n",
    "\t\t['a', 'b']\n",
    "```\n",
    "\n",
    "**popfirst!** deletes and returns the first element:\n",
    "\n",
    "```Julia\n",
    "\tjulia> t = ['a', 'b', 'c'];\n",
    "\n",
    "\tjulia> popfirst!(t)\n",
    "\t\t'a': ASCII/Unicode U+0061 (category Ll: Letter, lowercase)\n",
    "\n",
    "\tjulia> print(t)\n",
    "\t\t['b', 'c']\n",
    "```\n",
    "\n",
    "The functions **pushfirst!** and **push!** insert an element at the beginning and at the end of the array, respectively. If you don’t need the removed value, you can use the function **deleteat!**:\n",
    "\n",
    "```Julia\n",
    "\tjulia> t = ['a', 'b', 'c'];\n",
    "\n",
    "\tjulia> print(deleteat!(t, 2))\n",
    "\t\t['a', 'c']\n",
    "```\n",
    "\n",
    "The function **insert!** inserts an element at a given index:\n",
    "\n",
    "```Julia\n",
    "\tjulia> t = ['a', 'b', 'c'];\n",
    "\n",
    "\tjulia> print(insert!(t, 2, 'x'))\n",
    "\t\t['a', 'x', 'b', 'c']\n",
    "```"
   ]
  },
  {
   "cell_type": "markdown",
   "metadata": {},
   "source": [
    "### Arrays and strings\n",
    "\n",
    "A string is a sequence of characters and an array is a sequence of values, but **an array of characters is not the same as a string**. \n",
    "\n",
    "To convert from a string to an array of characters, you can use the function **collect**:\n",
    "\n",
    "```Julia\n",
    "\tjulia> t = collect(\"spam\");\n",
    "\n",
    "\tjulia> print(t)\n",
    "\t\t['s', 'p', 'a', 'm']\n",
    "```\n",
    "\n",
    "**The collect function breaks a string or another sequence into individual elements.** If you want to break a string into words, you can use the **split** function:\n",
    "\n",
    "```Julia\n",
    "\tjulia> t = split(\"pining for the fjords\");\n",
    "\n",
    "\tjulia> print(t)\n",
    "\t\tSubString{String}[\"pining\", \"for\", \"the\", \"fjords\"]\n",
    "```\n",
    "\n",
    "An optional argument called a **delimiter** specifies which characters to use as word boundaries. The following example uses a hyphen as a delimiter:\n",
    "\n",
    "```Julia\n",
    "\tjulia> t = split(\"spam-spam-spam\", '-');\n",
    "\n",
    "\tjulia> print(t)\n",
    "\t\tSubString{String}[\"spam\", \"spam\", \"spam\"]\n",
    "```\n",
    "\n",
    "**join** is the inverse of split. It takes an `array of strings` and concatenates the elements:\n",
    "\n",
    "```Julia\n",
    "\tjulia> t = [\"pining\", \"for\", \"the\", \"fjords\"];\n",
    "\n",
    "\tjulia> s = join(t, ' ')\n",
    "\t\t\"pining for the fjords\"\n",
    "```\n",
    "In this case the delimiter is a space character. To concatenate strings without spaces, you do not specify a delimiter.\n"
   ]
  },
  {
   "cell_type": "markdown",
   "metadata": {},
   "source": [
    "### Objects and values\n",
    "\n",
    "**An object is something a variable can refer to.** Until now, you could use “object” and “value” interchangeably. If we run these assignment statements:\n",
    "\n",
    "```Julia\n",
    "\ta = \"banana\"\n",
    "\tb = \"banana\"\n",
    "```\n",
    "\n",
    "We know that a and b both refer to a string, but we do not know whether they refer to the same string. To check whether two variables refer to the same (**identical in the computer**) object, you can use the **`≡` (\\equiv<tab>)** or **`===` operator**.\n",
    "\n",
    "```Julia\n",
    "\tjulia> a = \"banana\"\n",
    "\t\t\"banana\"\n",
    "\n",
    "\tjulia> b = \"banana\"\n",
    "\t\t\"banana\"\n",
    "\n",
    "\tjulia> a ≡ b\n",
    "\t\ttrue\n",
    "```\n",
    "\n",
    "In this example, Julia only created one string object, and both a and b refer to it."
   ]
  },
  {
   "cell_type": "code",
   "execution_count": 11,
   "metadata": {},
   "outputs": [
    {
     "data": {
      "text/plain": [
       "(true, true)"
      ]
     },
     "metadata": {},
     "output_type": "display_data"
    }
   ],
   "source": [
    "a = \"banana\"; b = \"banana\"; a == b, a === b \n",
    "# evaluates as a comma-seperated list or tuple"
   ]
  },
  {
   "cell_type": "markdown",
   "metadata": {},
   "source": [
    "But when you create two arrays, you get two objects:\n",
    "\n",
    "```Julia\n",
    "\tjulia> a = [1, 2, 3];\n",
    "\n",
    "\tjulia> b = [1, 2, 3];\n",
    "\n",
    "\tjulia> a ≡ b\n",
    "\t\tfalse\n",
    "```"
   ]
  },
  {
   "cell_type": "code",
   "execution_count": 12,
   "metadata": {},
   "outputs": [
    {
     "data": {
      "text/plain": [
       "(true, false)"
      ]
     },
     "metadata": {},
     "output_type": "display_data"
    }
   ],
   "source": [
    "a = [1, 2, 3]; b = [1, 2, 3]; a == b, a === b "
   ]
  },
  {
   "cell_type": "markdown",
   "metadata": {},
   "source": [
    "In this case we would say that the two arrays are **equivalent**, because they have the same elements, but **not identical**, because they are not the same object. \n",
    "\n",
    "If two objects are identical, they are also equivalent, but if they are equivalent, they are not necessarily identical. \n",
    "\n",
    "To be precise an object has a value. If you evaluate `[1, 2, 3]`, you get an array object whose value is a sequence of integers. If another array has the same elements, we say it has the same value, but it is not the same object."
   ]
  },
  {
   "cell_type": "markdown",
   "metadata": {},
   "source": [
    "### Aliasing\n",
    "\n",
    "If a refers to an object and you assign b = a, then both variables refer to the same object:\n",
    "\n",
    "```Julia\n",
    "\tjulia> a = [1, 2, 3];\n",
    "\n",
    "\tjulia> b = a;\t\t# in many cases an unnecessary type of assignment\n",
    "\n",
    "\tjulia> b ≡ a\n",
    "\t\ttrue\n",
    "```\n",
    "\n",
    "The association of a variable with an object is called a **reference**. In this example, there are two references to the same object. An object with more than one reference has more than one name, so we say that the object is **aliased**.\n",
    "\n",
    "**If the aliased object is mutable, changes made with one alias affect the other:**\n",
    "\n",
    "```Julia\n",
    "\tjulia> b[1] = 42\n",
    "\t\t42\n",
    "\n",
    "\tjulia> print(a)\n",
    "\t\t[42, 2, 3]\n",
    "```\n",
    "\n",
    "Although this behavior can be useful, it is error-prone. In general, it is better to **avoid aliasing when you are working with mutable objects**. For immutable objects like strings, aliasing is not as much of a problem. In this example:\n",
    "\n",
    "```Julia\n",
    "\ta = \"banana\"\n",
    "\tb = \"banana\"\n",
    "```\n",
    "\n",
    "It almost never makes a difference whether a and b refer to the same string or not.\n"
   ]
  },
  {
   "cell_type": "markdown",
   "metadata": {},
   "source": [
    "### Array arguments\n",
    "\n",
    "**When you pass an array to a function, the function gets a reference to the array.** If the function modifies the array, the caller sees the change. For example, `deletehead!` removes the first element from an array:\n",
    "\n",
    "```Julia\n",
    "\tfunction deletehead!(t)\n",
    "\t\tpopfirst!(t)\n",
    "\tend\n",
    "```\n",
    "\n",
    "Here is how it is used:\n",
    "\n",
    "```Julia\n",
    "\tjulia> letters = ['a', 'b', 'c'];\n",
    "\n",
    "\tjulia> deletehead!(letters);\n",
    "\t\n",
    "\tjulia> print(letters)\n",
    "\t\t['b', 'c']\n",
    "```\n",
    "\n",
    "**The parameter `t` and the variable `letters` are aliases for the same object.**\n",
    "\n",
    "It is important to distinguish between operations that **modify arrays** and operations that **create new arrays**. For example, `push!` modifies an array, but `vcat` creates a new array. Here’s an example using push!:\n",
    "\n",
    "```Julia\n",
    "\tjulia> t1 = [1, 2];\n",
    "\n",
    "\tjulia> t2 = push!(t1, 3);\n",
    "\n",
    "\tjulia> print(t1)\n",
    "\t\t[1, 2, 3]\n",
    "```\n",
    "\n",
    "t2 is an alias of t1. A better way of coding is to make no new assignment and instead just use `push!(t1, 3)`."
   ]
  },
  {
   "cell_type": "code",
   "execution_count": 13,
   "metadata": {},
   "outputs": [
    {
     "name": "stdout",
     "output_type": "stream",
     "text": [
      "[1, 2, 3]"
     ]
    }
   ],
   "source": [
    "t1 = [1, 2];\n",
    "push!(t1, 3);\n",
    "print(t1)"
   ]
  },
  {
   "cell_type": "markdown",
   "metadata": {},
   "source": [
    "Here’s an example using `vcat` which creates a new array:\n",
    "\n",
    "```Julia\n",
    "\tjulia> t3 = vcat(t1, [4]);\n",
    "\n",
    "\tjulia> print(t1)\n",
    "\t\t[1, 2, 3]\n",
    "\n",
    "\tjulia> print(t3)\n",
    "\t\t[1, 2, 3, 4]\n",
    "```\n",
    "\n",
    "The result of vcat is a new array and the original array is unchanged.\n",
    "\n",
    "**This difference is important when you write functions that are supposed to modify arrays.**\n",
    "\n",
    "For example, this function does not delete the head of the calling array:"
   ]
  },
  {
   "cell_type": "code",
   "execution_count": 22,
   "metadata": {},
   "outputs": [
    {
     "name": "stdout",
     "output_type": "stream",
     "text": [
      "caller = [1, 2, 3, 4] and result = [2, 3, 4]"
     ]
    }
   ],
   "source": [
    "function deletehead(t)\n",
    "\tt = t[2:end]\n",
    "end\n",
    "\n",
    "caller = [1, 2, 3, 4]\n",
    "result = deletehead(caller)\n",
    "\n",
    "print(\"caller = $caller and result = $result\")"
   ]
  },
  {
   "cell_type": "markdown",
   "metadata": {},
   "source": [
    "After execution, the `result` refers to a new array, but `caller` still refers to the original, unmodified array. Therefore the assignment statement `t = t[2:end]` might be confusing because it only modifies the local variable `t` and not the `caller`. It is also unnecessary."
   ]
  },
  {
   "cell_type": "code",
   "execution_count": 23,
   "metadata": {},
   "outputs": [
    {
     "name": "stdout",
     "output_type": "stream",
     "text": [
      "caller = [1, 2, 3, 4] and result = [2, 3, 4]"
     ]
    }
   ],
   "source": [
    "function deletehead(t)\n",
    "\tt[2:end]\n",
    "end\n",
    "\n",
    "caller = [1, 2, 3, 4]\n",
    "result = deletehead(caller)\n",
    "\n",
    "print(\"caller = $caller and result = $result\")"
   ]
  },
  {
   "cell_type": "markdown",
   "metadata": {},
   "source": [
    "### Debugging\n",
    "\n",
    "Careless use of arrays (and other mutable objects) can lead to a lot of debugging. Here are some common pitfalls and ways to avoid them:\n",
    "\n",
    "- Most array functions modify the argument. This is the opposite of the string functions, which return a new string and leave the original alone.\n",
    "\n",
    "- If you are used to writing string code like this: `new_word = strip(word)`, it is tempting to write array code like this: `t2 = sort!(t1)`. Because sort! returns the modified original array, `t2` is an alias of `t1`.\n",
    "\n",
    "- Before using array functions and operators, read the documentation and test them in interactive mode or in VS Code.\n",
    "\n",
    "Learn an idiom and stick with it. Part of the challenge with arrays is that there are many ways of doing things. For example, to remove an element from an array, you can use `pop!`, `popfirst!`, `delete_at`, or even a `slice assignment`. To add an element, you can use `push!`, `pushfirst!`, `insert!` or `vcat`. Assuming that t is an array and x is an array element, these are correct:\n",
    "\n",
    "```Julia\n",
    "\tinsert!(t, 4, x)\n",
    "\tpush!(t, x)\n",
    "\tappend!(t, [x])\n",
    "```\n",
    "\n",
    "And these are wrong:\n",
    "\n",
    "```Julia\n",
    "\tinsert!(t, 4, [x])         # WRONG!\n",
    "\tpush!(t, [x])              # WRONG!\n",
    "\tvcat(t, [x])               # WRONG!\n",
    "```\n",
    "\n",
    "**Make copies to avoid aliasing.** If you want to use a function like `sort!` that modifies the argument, but you need to keep the original array as well, you can make a copy:\n",
    "\n",
    "```Julia\n",
    "    julia> t = [3, 1, 2];\n",
    "\n",
    "    julia> t2 = t[:];     # t2 = copy(t)\n",
    "\n",
    "    julia> sort!(t2);\n",
    "\n",
    "    julia> print(t)\n",
    "\t    [3, 1, 2]\n",
    "\n",
    "    julia> print(t2)\n",
    "\t    [1, 2, 3]\n",
    "```\n",
    "\n",
    "In this example you could also use the built-in function **sort**, which returns a new, sorted array and leaves the original alone:\n",
    "\n",
    "```Julia\n",
    "    julia> t2 = sort(t);\n",
    "\n",
    "    julia> println(t)\n",
    "\t    [3, 1, 2]\n",
    "\n",
    "    julia> println(t2)\n",
    "\t    [1, 2, 3]\n",
    "```"
   ]
  },
  {
   "cell_type": "markdown",
   "metadata": {},
   "source": [
    "## Exercises\n",
    "\n",
    "### Exercise 10-1\n",
    "\n",
    "Write a function called `nestedsum` that takes an array of arrays of integers and adds up the elements from all of the nested arrays. For example:\n",
    "\n",
    "```Julia\n",
    "\tjulia> t = [[1 2], [3], [4 5; 6 7]];\n",
    "\n",
    "\tjulia> nestedsum(t)\n",
    "\t\t28\n",
    "```"
   ]
  },
  {
   "cell_type": "markdown",
   "metadata": {},
   "source": [
    "### Exercise 10-2\n",
    "\n",
    "Write a function called `cumulsum` that takes an array of numbers and returns the cumulative sum; that is, a new array where the i:th element is the sum of the first i \n",
    "elements from the original array. For example:\n",
    "\n",
    "```Julia\n",
    "\tjulia> t = [1, 2, 3];\n",
    "\n",
    "\tjulia> print(cumulsum(t))\n",
    "\t\tAny[1, 3, 6]\n",
    "```"
   ]
  },
  {
   "cell_type": "markdown",
   "metadata": {},
   "source": [
    "### Exercise 10-3\n",
    "\n",
    "Write a function called interior that takes an array and returns a new array that contains all but the first and last elements. For example:\n",
    "\n",
    "```Julia\n",
    "\tjulia> t = [1, 2, 3, 4];\n",
    "\n",
    "\tjulia> print(interior(t))\n",
    "\t\t[2, 3]\n",
    "```"
   ]
  },
  {
   "cell_type": "markdown",
   "metadata": {},
   "source": [
    "### Exercise 10-4\n",
    "\n",
    "Write a function called `interior!` that takes an array, modifies it by removing the first and last elements, and returns nothing. For example:\n",
    "\n",
    "```Julia\n",
    "\tjulia> t = [1, 2, 3, 4];\n",
    "\n",
    "\tjulia> interior!(t)\n",
    "\n",
    "\tjulia> print(t)\n",
    "\t\t[2, 3]\n",
    "```"
   ]
  },
  {
   "cell_type": "markdown",
   "metadata": {},
   "source": [
    "### Exercise 10-5\n",
    "\n",
    "Write a function called `issort` that takes an array as a parameter and returns true if the array is sorted in ascending order and false otherwise. For example:\n",
    "\n",
    "```Julia\n",
    "\tjulia> issort([1, 2, 2])\n",
    "\t\ttrue\n",
    "\n",
    "\tjulia> issort(['b', 'a'])\n",
    "\t\tfalse\n",
    "```"
   ]
  },
  {
   "cell_type": "markdown",
   "metadata": {},
   "source": [
    "### Exercise 10-6\n",
    "\n",
    "Two words are anagrams if you can rearrange the letters from one to spell the other. Write a function called `isanagram` that takes two strings and returns true if they are anagrams."
   ]
  },
  {
   "cell_type": "markdown",
   "metadata": {},
   "source": [
    "### Exercise 10-7\n",
    "\n",
    "Write a function called `hasduplicates` that takes an array and returns true if there is any element that appears more than once. It should not modify the original array.\n",
    "\n",
    "Using **union** makes a one line function."
   ]
  },
  {
   "cell_type": "markdown",
   "metadata": {},
   "source": [
    "### Exercise 10-8\n",
    "\n",
    "This exercise pertains to the so-called Birthday Paradox (https://en.wikipedia.org/wiki/Birthday_paradox). If there are 23 students in your class, what are the chances that two of you have the same birthday? You can estimate this probability by generating random samples of 23 birthdays and checking for matches.\n",
    "\n",
    "You can generate random birthdays with **rand**."
   ]
  },
  {
   "cell_type": "markdown",
   "metadata": {},
   "source": [
    "### Exercise 10-9\n",
    "\n",
    "Write a function that reads the file `words.txt` and builds an array with one element per word. Write two versions of this function, one using `push!` and the other using the idiom `t = [t..., x]`. Which one takes longer to run? Why?"
   ]
  },
  {
   "cell_type": "markdown",
   "metadata": {},
   "source": [
    "### Exercise 10-10\n",
    "\n",
    "To check whether a word is in the word array, you could use the ∈ operator, but it would be slow because it searches through the words in order.\n",
    "\n",
    "Because the words are in alphabetical order, we can speed things up with a bisection search (also known as binary search), which is similar to what you do when you look a word up in the dictionary. You start in the middle and check to see whether the word you are looking for comes before the word in the middle of the array. If so, you search the first half of the array the same way. Otherwise you search the second half.\n",
    "\n",
    "Either way, you cut the remaining search space in half. If the word array has 113,809 words, it will take about 17 steps to find the word or conclude that it is not there.\n",
    "\n",
    "Write a function called `inbisect` that takes a sorted array and a target value and returns true if the word is in the array and false if it’s not."
   ]
  },
  {
   "cell_type": "markdown",
   "metadata": {},
   "source": [
    "### Exercise 10-11\n",
    "\n",
    "Two words are a “reverse pair” if each is the reverse of the other. Write a program `reversepairs` that finds all the reverse pairs in the word array."
   ]
  },
  {
   "cell_type": "markdown",
   "metadata": {},
   "source": [
    "### Exercise 10-12\n",
    "\n",
    "Two words “interlock” if taking alternating letters from each forms a new word. For example, “shoe” and “cold” interlock to form “schooled”. Write a program that finds all pairs of words that interlock. Don’t enumerate all pairs!"
   ]
  },
  {
   "cell_type": "markdown",
   "metadata": {},
   "source": []
  }
 ],
 "metadata": {
  "kernelspec": {
   "display_name": "Julia 1.7.2",
   "language": "julia",
   "name": "julia-1.7"
  },
  "language_info": {
   "file_extension": ".jl",
   "mimetype": "application/julia",
   "name": "julia",
   "version": "1.7.2"
  },
  "orig_nbformat": 4,
  "vscode": {
   "interpreter": {
    "hash": "8e72a6ea8ae570bc9b562cd7a1d6883761b9cd7ac49ad6b17855b6c636bf0317"
   }
  }
 },
 "nbformat": 4,
 "nbformat_minor": 2
}
