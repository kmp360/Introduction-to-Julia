{
 "cells": [
  {
   "cell_type": "markdown",
   "metadata": {},
   "source": [
    "kmp 2022\n",
    "\n",
    "Based on **Lauwens & Downey \"Think Julia: How to Think Like a Computer Scientist\" \n",
    "https://benlauwens.github.io/ThinkJulia.jl/latest/book.html**\n",
    "\n",
    "Resources:\n",
    "\n",
    "Julia webpage https://julialang.org/ \n",
    "\n",
    "Julia documentation https://docs.julialang.org/en/v1/\n"
   ]
  },
  {
   "cell_type": "markdown",
   "metadata": {},
   "source": [
    "## Chapter 06 -- Functions\n",
    "\n",
    "https://benlauwens.github.io/ThinkJulia.jl/latest/book.html#chap06\n",
    "\n",
    "Functions that do not return a result is called **void**: they might however have an **effect**, like printing a value or moving a turtle, but they return nothing. \n",
    "\n",
    "### Functions with Return Values\n",
    "\n",
    "Calling a function that generates a return value is usually assigned to a variable or used as part of an expression.\n",
    "\n",
    "```Julia\n",
    "\te = exp(1.0)\n",
    "\n",
    "\theight = radius * sin(radians)\n",
    "\n",
    "\tfunction area(radius)\n",
    "\t\ta = π * radius^2\n",
    "\t\treturn a\n",
    "\tend\n",
    "```\n",
    "\n",
    "The **return statement** is optional, and includes an expression, and means: “Return immediately from this function and use the following expression as a return value.” The expression can be arbitrarily complicated, so we can write this function more concisely:\n",
    "\n",
    "```Julia\n",
    "\tfunction area(radius)\n",
    "\t\treturn π * radius^2\n",
    "\tend\n",
    "```\n",
    "\n",
    "**The value returned by a function is the value of the last expression evaluated, which, by default, is the last expression in the body of the function definition.** On the other hand, using temporary variables like a and explicit return statements can make debugging easier.\n",
    "\n",
    "Sometimes it is useful to have multiple return statements, one in each branch of a conditional:\n",
    "\n",
    "```Julia\n",
    "\tfunction absvalue(x)\n",
    "\t\tif x < 0\n",
    "\t\t\treturn -x\n",
    "\t\telse\n",
    "\t\t\treturn x\n",
    "\t\tend\n",
    "\tend\n",
    "```\n",
    "\n",
    "Since these return statements are in an alternative conditional, only one runs. As soon as a return statement runs, the function terminates without executing any subsequent statements. \n",
    "\n",
    "Code that appears after a return statement, or any other place the flow of execution can never reach, is called **dead code**.\n",
    "\n",
    "In a function, it is a good idea to ensure that every possible path through the program hits a return statement. For example:\n",
    "\n",
    "```Julia\n",
    "\tfunction absvalue(x)   # incorrect\n",
    "\t\tif x < 0\n",
    "\t\t\treturn -x\n",
    "\t\telseif x > 0\n",
    "\t\t\treturn x\n",
    "\t\tend\n",
    "\tend\n",
    "```\n",
    "\n",
    "This function is incorrect because if x happens to be 0, neither condition is true, and the function ends without hitting a return statement. If the flow of execution gets to the end of a function, the return value is nothing, which is not the absolute value of 0.\n",
    "\n",
    "Julia provides a built-in function called **abs** that computes absolute values."
   ]
  },
  {
   "cell_type": "markdown",
   "metadata": {},
   "source": [
    "### Exercise 6-1\n",
    "\n",
    "Write a compare function takes two values, x and y, and returns 1 if x > y, 0 if x == y, and -1 if x < y."
   ]
  },
  {
   "cell_type": "markdown",
   "metadata": {},
   "source": [
    "### Incremental Development\n",
    "\n",
    "As you write larger functions, you might find yourself spending most of the time debugging.\n",
    "\n",
    "To deal with increasingly complex programs, you might want to try a process called **incremental development**. The goal of incremental development is to avoid long debugging sessions by adding and testing only small amounts of code at a time.\n",
    "\n",
    "As an example, suppose you want to find the distance between two points, given by the coordinates `(x1, y1)` and `(x2, y2)`. By the Pythagorean theorem, the distance is: \n",
    "`d = sqrt((x2−x1)^2 +(y2−y1)^2)`. \n",
    "\n",
    "The first step is to consider what a distance function should look like in Julia, what are the inputs (parameters) and what is the output (return value)? \n",
    "\n",
    "In this case, the inputs are two points, which you can represent using four numbers. The return value is the distance represented by a floating-point value. Immediately you can write an **outline** of the function:\n",
    "\n",
    "```Julia\n",
    "\tfunction distance(x₁, y₁, x₂, y₂)\n",
    "\t\t0.0\n",
    "\tend\n",
    "```\n",
    "\n",
    "Obviously, this version does not compute distances; it always returns zero. But it is syntactically correct, and it runs, which means that you can test it before you make it more complicated. The subscript numbers are available in the **Unicode character encoding** (\\_1<TAB>, \\_2<TAB>, etc.). To test the new function, call it with sample arguments:\n",
    "\n",
    "```Julia\n",
    "\tdistance(1, 2, 4, 6)\n",
    "```\n",
    "\n",
    "When testing a function, it is useful to know the right answer. At this point we have confirmed that the function is syntactically correct, and we can start adding code to the body. A reasonable next step is to find the differences x₂ - x₁ and y₂ - y₁. The next version stores those values in temporary variables and prints them with the **@show macro**."
   ]
  },
  {
   "cell_type": "code",
   "execution_count": 1,
   "metadata": {},
   "outputs": [
    {
     "data": {
      "text/plain": [
       "distance (generic function with 1 method)"
      ]
     },
     "metadata": {},
     "output_type": "display_data"
    }
   ],
   "source": [
    "function distance(x₁, y₁, x₂, y₂)\n",
    "    δx = x₂ - x₁\t# \\delta<TAB>\n",
    "    δy = y₂ - y₁\n",
    "    @show δx δy\n",
    "    0.0\n",
    "end"
   ]
  },
  {
   "cell_type": "code",
   "execution_count": 2,
   "metadata": {},
   "outputs": [
    {
     "name": "stdout",
     "output_type": "stream",
     "text": [
      "δx = -10\n",
      "δy = -10\n"
     ]
    },
    {
     "data": {
      "text/plain": [
       "0.0"
      ]
     },
     "metadata": {},
     "output_type": "display_data"
    }
   ],
   "source": [
    "distance(11, 12, 1, 2)"
   ]
  },
  {
   "cell_type": "markdown",
   "metadata": {},
   "source": [
    "If the function is working, it should display δx = 3 and δy = 4. If so, we know that the function is getting the right arguments and performing the first computation correctly. Next we compute the sum of squares of δx and δy:"
   ]
  },
  {
   "cell_type": "code",
   "execution_count": 3,
   "metadata": {},
   "outputs": [
    {
     "data": {
      "text/plain": [
       "distance (generic function with 1 method)"
      ]
     },
     "metadata": {},
     "output_type": "display_data"
    }
   ],
   "source": [
    "function distance(x₁, y₁, x₂, y₂)\n",
    "    δx = x₂ - x₁\n",
    "    δy = y₂ - y₁\n",
    "    d² = δx^2 + δy^2\n",
    "    @show d²\n",
    "    0.0\n",
    "end"
   ]
  },
  {
   "cell_type": "code",
   "execution_count": 7,
   "metadata": {},
   "outputs": [
    {
     "data": {
      "text/plain": [
       "10.0"
      ]
     },
     "metadata": {},
     "output_type": "display_data"
    }
   ],
   "source": [
    "distance(11, 12, 11, 2)"
   ]
  },
  {
   "cell_type": "markdown",
   "metadata": {},
   "source": [
    "Again, you would run the program at this stage and check the output (which should be 25). Superscript numbers are also available (\\^2<TAB>). Finally, you can use sqrt to compute and return the result:"
   ]
  },
  {
   "cell_type": "code",
   "execution_count": 5,
   "metadata": {},
   "outputs": [
    {
     "data": {
      "text/plain": [
       "distance (generic function with 1 method)"
      ]
     },
     "metadata": {},
     "output_type": "display_data"
    }
   ],
   "source": [
    "function distance(x₁, y₁, x₂, y₂)\n",
    "    δx = x₂ - x₁\n",
    "    δy = y₂ - y₁\n",
    "    return sqrt(δx^2 + δy^2)\n",
    "end"
   ]
  },
  {
   "cell_type": "code",
   "execution_count": 10,
   "metadata": {},
   "outputs": [
    {
     "data": {
      "text/plain": [
       "14.142135623730951"
      ]
     },
     "metadata": {},
     "output_type": "display_data"
    }
   ],
   "source": [
    "distance(11, 12, 1, 2)"
   ]
  },
  {
   "cell_type": "markdown",
   "metadata": {},
   "source": [
    "If that works correctly, you are done. Otherwise, you might want to print the value of sqrt(d²) before the return statement. The final version of the function does not display anything when it runs; it only returns a value. The print statements we wrote are useful for debugging, but once you get the function working, you should remove them. \n",
    "\n",
    "Code like that is called **scaffolding** because it is helpful for building the program but is not part of the final product. **Incremental development** can save you a lot of debugging time. The key aspects of the process are:\n",
    "\n",
    "- Start with a working program and make small incremental changes. At any point, if there is an error, you should have a good idea where it is.\n",
    "\n",
    "- Use variables to hold intermediate values so you can display and check them.\n",
    "\n",
    "- Once the program is working, you might want to remove some of the scaffolding or consolidate multiple statements into compound expressions, but only if it does not make the program difficult to read."
   ]
  },
  {
   "cell_type": "markdown",
   "metadata": {},
   "source": [
    "### Exercise 6-2\n",
    "\n",
    "Use incremental development to write a function called hypotenuse that returns the length of the hypotenuse of a right triangle given the lengths of the other two legs as arguments. Record each stage of the development process as you go."
   ]
  },
  {
   "cell_type": "markdown",
   "metadata": {},
   "source": [
    "### Composition\n",
    "\n",
    "**You can call one function from within a function.** \n",
    "\n",
    "As an example, write a function that takes two points, the center of the circle and a point on the perimeter, and computes the area of the circle. Assume that the center point is stored in the variables xc and yc, and the perimeter point is in xp and yp. The first step is to find the radius of the circle, which is the distance between the two points. We just wrote a function, distance, that does that:\n",
    "\n",
    "```Julia\n",
    "\tradius = distance(xc, yc, xp, yp)\n",
    "```\n",
    "\n",
    "The next step is to find the area of a circle with that radius; we  wrote that too:\n",
    "\n",
    "```Julia\n",
    "\tresult = area(radius)\n",
    "```\n",
    "\n",
    "**Encapsulating** these steps in a function, we get:\n",
    "\n",
    "```Julia\n",
    "\tfunction circlearea(xc, yc, xp, yp)\n",
    "\t\tradius = distance(xc, yc, xp, yp)\n",
    "\t\tresult = area(radius)\n",
    "\t\treturn result\n",
    "\tend\n",
    "```\n",
    "\n",
    "The temporary variables radius and result are useful for development and debugging, but once the program is working, we can make it more concise by composing the function calls:\n",
    "\n",
    "```Julia\n",
    "\tfunction circlearea(xc, yc, xp, yp)\n",
    "\t\tarea(distance(xc, yc, xp, yp))\n",
    "\tend\n",
    "```"
   ]
  },
  {
   "cell_type": "markdown",
   "metadata": {},
   "source": [
    "### Boolean Functions\n",
    "\n",
    "Functions that return booleans, called **predicates**, are often convenient for hiding complicated tests inside functions. For example:\n",
    "\n",
    "```Julia\n",
    "\tfunction isdivisible(x, y)\n",
    "\t\tif x % y == 0\n",
    "\t\t\treturn true\n",
    "\t\telse\n",
    "\t\t\treturn false\n",
    "\t\tend\n",
    "\tend\n",
    "```\n",
    "\n",
    "It is common to give boolean functions names that sound like yes/no questions; _`isdivisible`_ returns either true or false to indicate whether x is divisible by y. \n",
    "\n",
    "The result of the **`==`** operator is a boolean, so we can write the function more concisely by returning it directly:\n",
    "\n",
    "```Julia\n",
    "\tfunction isdivisible(x, y)\n",
    "\t\treturn x % y == 0\n",
    "\tend\n",
    "```\n",
    "\n",
    "Boolean functions are often used in conditional statements:\n",
    "\n",
    "```Julia\n",
    "\tif isdivisible(x, y)\n",
    "\t\tprintln(\"x is divisible by y\")\n",
    "\tend\n",
    "```\n",
    "\n",
    "It might be tempting to write something like:\n",
    "\n",
    "```Julia\n",
    "\tif isdivisible(x, y) == true \t# unnecessary\n",
    "\t\tprintln(\"x is divisible by y\")\n",
    "\tend\n",
    "```\n",
    "\n",
    "But the extra comparison with true is unnecessary."
   ]
  },
  {
   "cell_type": "markdown",
   "metadata": {},
   "source": [
    "### Exercise 6-3\n",
    "Write a function isbetween(x, y, z) that returns true if x ≤ y ≤ z or false otherwise."
   ]
  },
  {
   "cell_type": "markdown",
   "metadata": {},
   "source": [
    "### More Recursion\n",
    "\n",
    "We have only covered a small subset of Julia, but this subset is a **complete programming language**, which means that anything that can be computed can be expressed in this language. \n",
    "\n",
    "Any program ever written could be rewritten using only the language features you have learned so far (actually, you would need a few commands to control devices like the mouse, disks, etc., but that’s all).\n",
    "\n",
    "To give you an idea of what you can do with the tools you have learned so far, we will evaluate a few **recursively defined** mathematical functions. If you looked up the definition of the factorial function, denoted with the symbol **`!`**, you might get something like this:\n",
    "\n",
    "`n! = 1 if n = 0, and = n(n−1)! if n > 0`\n",
    "\n",
    "This definition says that the factorial of 0 is 1, and the factorial of any other value, n, is n multiplied by the factorial of n−1.\n",
    "\n",
    "If you can write a recursive definition of something, you can write a Julia program to evaluate it. The first step is to decide what the parameters should be. In this case it should be clear that factorial takes an integer:\n",
    "\n",
    "```Julia\n",
    "\tfunction fact(n) \n",
    "\tend\n",
    "```\n",
    "\n",
    "If the argument happens to be 0, all we have to do is return 1:\n",
    "\n",
    "```Julia\n",
    "\tfunction fact(n)\n",
    "\t\tif n == 0\n",
    "\t\t\treturn 1\n",
    "\t\tend\n",
    "\tend\n",
    "```\n",
    "\n",
    "Otherwise, and this is the interesting part, we have to make a **recursive call** to find the factorial of n-1 and then multiply it by n:\n",
    "\n",
    "```Julia\n",
    "\tfunction fact(n)\n",
    "\t\tif n == 0\n",
    "\t\t\treturn 1\n",
    "\t\telse\n",
    "\t\t\trecurse = fact(n-1)\n",
    "\t\t\tresult = n * recurse\n",
    "\t\t\treturn result\n",
    "\t\tend\n",
    "\tend\n",
    "```"
   ]
  },
  {
   "cell_type": "code",
   "execution_count": 9,
   "metadata": {},
   "outputs": [
    {
     "data": {
      "text/plain": [
       "1010632056840781493390822708129876451757582398324145411340420807357413802103697022989202806801491012040989802203557527039339704057130729302834542423840165856428740661530297972410682828699397176884342513509493787480774903493389255262878341761883261899426484944657161693131380311117619573051526423320389641805410816067607893067483259816815364609828668662748110385603657973284604842078094141556427708745345100598829488472505949071967727270911965060885209294340665506480226426083357901503097781140832497013738079112777615719116203317542199999489227144752667085796752482688850461263732284539176142365823973696764537603278769322286708855475069835681643710846140569769330065775414413083501043659572299454446517242824002140555140464296291001901438414675730552964914569269734038500764140551143642836128613304734147348086095123859660926788460671181469216252213374650499557831741950594827147225699896414088694251261045196672567495532228826719381606116974003112642111561332573503212960729711781993903877416394381718464765527575014252129040283236963922624344456975024058167368431809068544577258472983979437818072648213608650098749369761056961203791265363665664696802245199962040041544438210327210476982203348458596093079296569561267409473914124132102055811493736199668788534872321705360511305248710796441479213354542583576076596250213454667968837996023273163069094700429467106663925419581193136339860545658673623955231932399404809404108767232000000000000000000000000000000000000000000000000000000000000000000000000000000000000000000000000000000000000000000000000000000000000000000000000000000000000000000000"
      ]
     },
     "metadata": {},
     "output_type": "display_data"
    }
   ],
   "source": [
    "function fact(n)    \n",
    "    if n == 0\n",
    "        return 1\n",
    "    else\n",
    "        recurse = fact(n-1)\n",
    "        result = n * recurse\n",
    "        return result\n",
    "    end\n",
    "end\n",
    "\n",
    "\n",
    "m = BigInt(666)\n",
    "result = fact(m)"
   ]
  },
  {
   "cell_type": "code",
   "execution_count": 10,
   "metadata": {},
   "outputs": [
    {
     "data": {
      "text/plain": [
       "BigInt"
      ]
     },
     "metadata": {},
     "output_type": "display_data"
    }
   ],
   "source": [
    "typeof(result)"
   ]
  },
  {
   "cell_type": "markdown",
   "metadata": {},
   "source": [
    "### One More Example\n",
    "\n",
    "A famous recursively defined mathematical function is fibonacci, which has the following definition (see https://en.wikipedia.org/wiki/Fibonacci_number):\n",
    "\n",
    "`fib(n)= 0 if n = 0, = 1 if n = 1 and = fib(n−1)+ fib(n−2) if n > 1`\n",
    "\n",
    "Translated into Julia, it looks like this:\n",
    "\n",
    "```Julia\n",
    "\tfunction fib(n)\t\t# we will see more efficient implementations later on\n",
    "\t\tif n == 0\n",
    "\t\t\treturn 0\n",
    "\t\telseif n == 1\n",
    "\t\t\treturn 1\n",
    "\t\telse\n",
    "\t\t\treturn fib(n-1) + fib(n-2)\n",
    "\t\tend\n",
    "\tend\n",
    "```\n",
    "\n",
    "If you try to follow the flow of execution here, even for fairly small values of n, your head explodes. But according to the leap of faith, if you assume that the two recursive calls work correctly, then it is clear that you get the right result by adding them together."
   ]
  },
  {
   "cell_type": "code",
   "execution_count": 3,
   "metadata": {},
   "outputs": [
    {
     "ename": "StackOverflowError",
     "evalue": "StackOverflowError:",
     "output_type": "error",
     "traceback": [
      "StackOverflowError:\n",
      "\n",
      "Stacktrace:\n",
      " [1] fact(n::Float64) (repeats 79984 times)\n",
      "   @ Main e:\\aaa-Julia-course-2022\\lectures-1.8\\a-ThinkJulia-lecture-06.ipynb:6"
     ]
    }
   ],
   "source": [
    "function fact(n)\n",
    "\n",
    "    if n == 0\n",
    "        return 1\n",
    "    else\n",
    "        return n * fact(n-1)\n",
    "    end\n",
    "end\n",
    "\n",
    "fact(1.5)"
   ]
  },
  {
   "cell_type": "markdown",
   "metadata": {},
   "source": [
    "### Checking Types\n",
    "\n",
    "What happens if we call fact and give it 1.5 as an argument?\n",
    "\n",
    "```Julia\n",
    "\tjulia> fact(1.5)\n",
    "\t\tERROR: StackOverflowError:\n",
    "\t\tStacktrace:\n",
    " \t\t[1] fact(::Float64) at ./REPL[3]:2\n",
    "```\n",
    "\n",
    "It looks like an infinite recursion. How can that be? The function has a **base case** when n == 0. But if n is not an integer, we can miss the base case and recurse forever. In the first recursive call, the value of n is 0.5. In the next, it is -0.5. From there, it gets more negative, but it will never be 0.\n",
    "\n",
    "We have two choices. We can try to generalize the factorial function to work with floating-point numbers, or we can make fact check the type of its argument. The first option is called the **gamma function**. We will go for the second. We can use the built-in operator **isa** to verify the type of the argument. \n",
    "\n",
    "While we are at it, we can also make sure the argument is positive:\n",
    "\n",
    "```Julia\n",
    "\tfunction fact(n)\n",
    "\t\tif !(n isa Int64)\n",
    "\t\t\terror(\"Factorial is only defined for integers.\")\n",
    "\t\telseif n < 0\n",
    "\t\t\terror(\"Factorial is not defined for negative integers.\")\n",
    "\t\telseif n == 0\n",
    "\t\t\treturn 1\n",
    "\t\telse\n",
    "\t\t\treturn n * fact(n-1)\n",
    "\t\tend\n",
    "\tend\n",
    "```\n",
    "\n",
    "The first base case handles non-integers; the second handles negative integers. In both cases, the program prints an error message and returns nothing to indicate that something went wrong:\n",
    "\n",
    "```Julia\n",
    "\tjulia> fact(\"fred\")\n",
    "\t\tERROR: Factorial is only defined for integers.\n",
    "\n",
    "\tjulia> fact(-2)\n",
    "\t\tERROR: Factorial is not defined for negative integers.\n",
    "```\n",
    "\n",
    "If we get past both checks, we know that n is positive or zero, so we can prove that the recursion terminates. This program demonstrates a pattern sometimes called a **guardian**. The first two conditionals act as guardians, protecting the code that follows from values that might cause an error. In **Catching Exceptions** we will see a more flexible alternative to printing an error message: **raising an exception**."
   ]
  },
  {
   "cell_type": "markdown",
   "metadata": {},
   "source": [
    "### Debugging\n",
    "\n",
    "Breaking a large program into smaller functions creates natural checkpoints for debugging. If a function is not working, there are three possibilities to consider:\n",
    "\n",
    "- There is something wrong with the arguments the function is getting; a **precondition** is violated.\n",
    "\n",
    "- There is something wrong with the **function body**.\n",
    "\n",
    "- There is something wrong with the return value, a **postcondition** is violated, or the way it is being used.\n",
    "\n",
    "To rule out the first possibility, you can add a print statement at the beginning of the function and display the values of the parameters (and maybe their types). Or you can write code that checks the preconditions explicitly.\n",
    "\n",
    "If the parameters look good, add a print statement before each return statement and display the return value. If possible, check the result by hand. Consider calling the function with values that make it easy to check the result (as in **Incremental Development**).\n",
    "\n",
    "If the function seems to be working, look at the function call to make sure the return value is being used correctly (or used at all).\n",
    "\n",
    "Adding print statements at the beginning and end of a function can help make the flow of execution more visible. For example, here is a version of fact with print statements:\n",
    "\n",
    "```Julia\n",
    "\tfunction fact(n)\n",
    "\t\tspace = \" \" ^ (4 * n)\n",
    "\t\tprintln(space, \"factorial \", n)\n",
    "\n",
    "\t\tif n == 0\n",
    "\t\t\tprintln(space, \"returning 1\")\n",
    "\t\t\treturn 1\n",
    "\n",
    "\t\telse\n",
    "\t\t\trecurse = fact(n-1)\n",
    "\t\t\tresult = n * recurse\n",
    "\t\t\tprintln(space, \"returning \", result)\n",
    "\t\t\treturn result\n",
    "\t\tend\n",
    "\tend\n",
    "```\n",
    "\n",
    "space is a string of space characters that controls the indentation of the output:\n",
    "\n",
    "```Julia\n",
    "\tjulia> fact(4)\n",
    "\t                factorial 4\n",
    "\t            factorial 3\n",
    "\t        factorial 2\n",
    "\t    factorial 1\n",
    "\tfactorial 0\n",
    "\treturning 1\n",
    "\t    returning 1\n",
    "\t        returning 2\n",
    "\t            returning 6\n",
    "\t                returning 24\n",
    "\t24\n",
    "```\n",
    "If you are confused about the flow of execution, this kind of output can be helpful. \n",
    "\n",
    "It takes some time to develop effective scaffolding, but a little bit of scaffolding can save a lot of debugging."
   ]
  },
  {
   "cell_type": "markdown",
   "metadata": {},
   "source": [
    "## Exercises\n",
    "\n",
    "### Exercise 6-4\n",
    "\n",
    "Draw a stack diagram for the following program. What does the program print?\n",
    "\n",
    "```Julia\n",
    "\tfunction b(z)\n",
    "\t\tprod = a(z, z)\n",
    "\t\tprintln(z, \" \", prod)\n",
    "\t\tprod\n",
    "\tend\n",
    "\n",
    "\tfunction a(x, y)\n",
    "\t\tx = x + 1\n",
    "\t\tx * y\n",
    "\tend\n",
    "\n",
    "\tfunction c(x, y, z)\n",
    "\t\ttotal = x + y + z\n",
    "\t\tsquare = b(total)^2\n",
    "\t\tsquare\n",
    "\tend\n",
    "\n",
    "\tx = 1\n",
    "\ty = x + 1\n",
    "\tprintln(c(x, y+3, x+y))\n",
    "```\n",
    "\n",
    "### Exercise 6-5\n",
    "\n",
    "The Ackermann function, A(m,n), is defined as A(m,n) = n+1 if m = 0, = A(m−1,1) if m > 0 and n = 0, = A(m−1,A(m,n−1)) if m > 0 and n > 0. See https://en.wikipedia.org/wiki/Ackermann_function.\n",
    "\n",
    "Write a function named ack that evaluates the Ackermann function. Use your function to evaluate ack(3, 4), which should be 125. What happens for larger values of m and n?\n",
    "\n",
    "\n",
    "### Exercise 6-6\n",
    "\n",
    "A palindrome is a word that is spelled the same backward and forward, like “noon” and “redivider”. Recursively, a word is a palindrome if the first and last letters are the same and the middle is a palindrome.\n",
    "\n",
    "The following are functions that take a string argument and return the first, last, and middle letters:\n",
    "\n",
    "```Julia\n",
    "\tfunction first(word)\n",
    "\t\tfirst = firstindex(word)\n",
    "\t\tword[first]\n",
    "\tend\n",
    "\n",
    "\tfunction last(word)\n",
    "\t\tlast = lastindex(word)\n",
    "\t\tword[last]\n",
    "\tend\n",
    "\n",
    "\tfunction middle(word)\n",
    "\t\tfirst = firstindex(word)\n",
    "\t\tlast = lastindex(word)\n",
    "\t\tword[nextind(word, first) : prevind(word, last)]\n",
    "\tend\n",
    "```\n",
    "\n",
    "We will see how they work in Strings.\n",
    "\n",
    "Test these functions out. What happens if you call middle with a string with two letters? One letter? What about the empty string, which is written \"\" and contains no letters?\n",
    "\n",
    "Write a function called ispalindrome that takes a string argument and returns true if it is a palindrome and false otherwise. Remember that you can use the built-in function length to check the length of a string."
   ]
  }
 ],
 "metadata": {
  "kernelspec": {
   "display_name": "Julia 1.8.0",
   "language": "julia",
   "name": "julia-1.8"
  },
  "language_info": {
   "file_extension": ".jl",
   "mimetype": "application/julia",
   "name": "julia",
   "version": "1.8.0"
  },
  "orig_nbformat": 4,
  "vscode": {
   "interpreter": {
    "hash": "8e72a6ea8ae570bc9b562cd7a1d6883761b9cd7ac49ad6b17855b6c636bf0317"
   }
  }
 },
 "nbformat": 4,
 "nbformat_minor": 2
}
