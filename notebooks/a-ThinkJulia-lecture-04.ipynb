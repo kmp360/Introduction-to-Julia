{
 "cells": [
  {
   "cell_type": "markdown",
   "metadata": {},
   "source": [
    "kmp 2022\n",
    "\n",
    "Based on **Lauwens & Downey \"Think Julia: How to Think Like a Computer Scientist\" \n",
    "https://benlauwens.github.io/ThinkJulia.jl/latest/book.html**\n",
    "\n",
    "Resources:\n",
    "\n",
    "Julia webpage https://julialang.org/ \n",
    "\n",
    "Julia documentation https://docs.julialang.org/en/v1/\n"
   ]
  },
  {
   "cell_type": "code",
   "execution_count": 8,
   "metadata": {},
   "outputs": [
    {
     "data": {
      "text/plain": [
       "Float64"
      ]
     },
     "metadata": {},
     "output_type": "display_data"
    }
   ],
   "source": [
    "🐢 = 3.5  # \\:turtle:<TAB> \n",
    "\t\n",
    "#== \n",
    "cf. Appendix A in \n",
    "https://benlauwens.github.io/ThinkJulia.jl/latest/book.html#_unicode_input\n",
    "==#\n",
    "\n",
    "typeof(🐢)"
   ]
  },
  {
   "cell_type": "markdown",
   "metadata": {},
   "source": [
    "## Chapter 04 -- Interface Design -- Case Study\n",
    "\n",
    "https://benlauwens.github.io/ThinkJulia.jl/latest/book.html#chap04\n",
    "\n",
    "This part presents a case study to demonstrate one possible process for designing functions that work together, similar in a sense to **modules** or **packages**.\n",
    "\n",
    "It introduces **turtle graphics**, a way to create programmatic drawings. Turtle graphics are not included in the Standard Library, so the ThinkJulia module has to be added to your Julia setup.\n",
    "\n",
    "```Julia\n",
    "\tjulia> ]  \t\t# switching to package mode\n",
    "\t@v1.5) pkg> add https://github.com/BenLauwens/ThinkJulia.jl\n",
    "\t\t.\n",
    "\t\t.\n",
    "\t\t.\n",
    "\t@v1.5) pkg> <backspace>  # to exit package mode\n",
    "\tjulia>\n",
    "```\n",
    "\n",
    "A **module** or a **package** is a file that contains a collection of related functions and other types of definitions. Julia provides some modules in its **Standard Library**. Additional functionality can be added from a growing collection of Julia **packages** (https://juliahub.com/ui/Packages).\n",
    "\n",
    "Packages can be installed in the REPL by entering the **Pkg REPL-mode** using the key **`]`** at the Julia prompt.\n"
   ]
  },
  {
   "cell_type": "markdown",
   "metadata": {},
   "source": [
    "This can take some time. Before we can use the functions in a module, we have to **import the module in the current Julia session** with an using statement:\n",
    "\n",
    "```Julia\n",
    "\tjulia> using ThinkJulia\n",
    "```"
   ]
  },
  {
   "cell_type": "code",
   "execution_count": 3,
   "metadata": {},
   "outputs": [],
   "source": [
    "using Plots"
   ]
  },
  {
   "cell_type": "code",
   "execution_count": null,
   "metadata": {},
   "outputs": [],
   "source": [
    "Pkg.add(url = \"https://github.com/BenLauwens/ThinkJulia.jl\")\n",
    "\n",
    "using ThinkJulia"
   ]
  },
  {
   "cell_type": "markdown",
   "metadata": {},
   "source": [
    "The ThinkJulia module provides a function called Turtle that creates a Luxor.Turtle object, which we assign to a variable named 🐢 (\\:turtle: <TAB>).\n",
    "\n",
    "```Julia\n",
    "\tjulia> 🐢 = Turtle()\n",
    "\tLuxor.Turtle(0.0, 0.0, true, 0.0, (0.0, 0.0, 0.0))\n",
    "```"
   ]
  },
  {
   "cell_type": "code",
   "execution_count": 9,
   "metadata": {},
   "outputs": [
    {
     "data": {
      "text/plain": [
       "Turtle(0.0, 0.0, true, 0.0, (0.0, 0.0, 0.0))"
      ]
     },
     "metadata": {},
     "output_type": "display_data"
    }
   ],
   "source": [
    "🐢 = Turtle()   # \\:turtle:<tab>  =  Turtle()"
   ]
  },
  {
   "cell_type": "code",
   "execution_count": 10,
   "metadata": {},
   "outputs": [
    {
     "data": {
      "text/plain": [
       "Turtle"
      ]
     },
     "metadata": {},
     "output_type": "display_data"
    }
   ],
   "source": [
    "typeof(🐢) \n",
    "# this is an example of a user-defined type using struct\n",
    "# more about this in chapter 15"
   ]
  },
  {
   "cell_type": "code",
   "execution_count": 13,
   "metadata": {},
   "outputs": [
    {
     "data": {
      "text/plain": [
       "(:xpos, :ypos, :pendown, :orientation, :pencolor)"
      ]
     },
     "metadata": {},
     "output_type": "display_data"
    }
   ],
   "source": [
    "fieldnames(Turtle)   \n",
    "# a datatype is defined using struct has field attributes"
   ]
  },
  {
   "cell_type": "code",
   "execution_count": 12,
   "metadata": {},
   "outputs": [
    {
     "name": "stdout",
     "output_type": "stream",
     "text": [
      "Turtle\n",
      "  xpos: Float64 0.0\n",
      "  ypos: Float64 0.0\n",
      "  pendown: Bool true\n",
      "  orientation: Float64 0.0\n",
      "  pencolor: Tuple{Float64, Float64, Float64}\n",
      "    1: Float64 0.0\n",
      "    2: Float64 0.0\n",
      "    3: Float64 0.0\n"
     ]
    }
   ],
   "source": [
    "dump(🐢)    # a more comprehensive description of the Turtle struct"
   ]
  },
  {
   "cell_type": "markdown",
   "metadata": {},
   "source": [
    "Once you create a turtle, you can call a function to move it around a drawing. For example, to move the turtle forward:\n",
    "\n",
    "```Julia\n",
    "\t@svg begin\n",
    "\t\tforward(🐢, 100)\n",
    "\tend\n",
    "```\n",
    "The **@svg** keyword runs a **macro** that draws a SVG picture. Macros are an important but advanced feature of Julia, for more information see documentation.\n",
    "\n",
    "The arguments of **forward** are the turtle and a distance in pixels, so the actual size depends on your display. Another function you can call with a turtle as argument is **turn** for turning. The second argument for turn is an angle in degrees.\n",
    "\n",
    "Also, each turtle is holding a pen, which is either down or up; if the pen is down, the turtle leaves a trail when it moves. Moving the turtle forward shows the trail left behind by the turtle. The functions **penup** and **pendown** stand for “pen up” and “pen down”.\n",
    "\n",
    "To draw a right angle, modify the macro call:\n",
    "\n",
    "```Julia\n",
    "\t@svg begin\n",
    "\t\tforward(🐢, 100)\n",
    "\t\tturn(🐢, -90)\n",
    "\t\tforward(🐢, 100)\n",
    "\tend\n",
    "```"
   ]
  },
  {
   "cell_type": "markdown",
   "metadata": {},
   "source": [
    "## Exercises\n",
    "\n",
    "### Exercise 4-1\n",
    "\n",
    "Modify the **begin block** above to draw a square."
   ]
  },
  {
   "cell_type": "markdown",
   "metadata": {},
   "source": [
    "### Simple Repetition -- the **for** statement\n",
    "\n",
    "Chances are you wrote something like this:\n",
    "\n",
    "```Julia\n",
    "\t@svg begin\n",
    "\t    forward(🐢, 100)\n",
    "\t    turn(🐢, -90)\n",
    "\t    forward(🐢, 100)\n",
    "\t    turn(🐢, -90)\n",
    "\t    forward(🐢, 100)\n",
    "\t    turn(🐢, -90)\n",
    "\t    forward(🐢, 100)\n",
    "\tend\n",
    "```\n",
    "\n",
    "The following is the simplest use of the **for statement** that draws a square:\n",
    "\n",
    "```Julia\n",
    "🐢 = Turtle()\n",
    "@svg begin\n",
    "\n",
    "\tfor i in 1:4\n",
    "\t\tforward(🐢, 100)\n",
    "\t\tturn(🐢, -90)\n",
    "\tend\n",
    "\n",
    "end\n",
    "```\n",
    "\n",
    "The **syntax of a simple for statement** is similar to a function definition.\n",
    "\n",
    "```Julia\n",
    "\tfor i in iterator\n",
    "\t\tbody\n",
    "\tend\n",
    "```\n",
    "\n",
    "It has a **header** and a **body** that ends with the keyword **end**. The body can contain any number of statements. A for statement is also called a **loop** because the flow of execution runs through the body and then loops back to the top. In the turtle example, it runs the body four times.\n",
    "\n",
    "This version is actually a little different from the previous square-drawing code because it makes another turn after drawing the last side of the square. This simplifies the code if we do the same thing every time through the loop. This version also has the effect of leaving the turtle back in the starting position, facing in the starting direction."
   ]
  },
  {
   "cell_type": "code",
   "execution_count": 4,
   "metadata": {},
   "outputs": [
    {
     "data": {
      "text/plain": [
       "\"luxor-drawing-225222_253.svg\""
      ]
     },
     "metadata": {},
     "output_type": "display_data"
    }
   ],
   "source": [
    "🐢 = Turtle()\n",
    "@svg begin\n",
    "\n",
    "\tfor i in 1:4\n",
    "\t\tforward(🐢, 100)\n",
    "\t\tturn(🐢, -90)\n",
    "\tend\n",
    "\n",
    "end"
   ]
  },
  {
   "cell_type": "markdown",
   "metadata": {},
   "source": [
    "The following is a series of exercises using turtles have a point. While you are working on them, think about what the point is. The following sections have solutions to the exercises, so do not look until you have finished (or at least tried).\n",
    "\n",
    "## Exercise 4-2\n",
    "\n",
    "Write a function called square that takes a parameter named t, which is a turtle. It should use the turtle to draw a square.\n",
    "\n",
    "## Exercise 4-3\n",
    "\n",
    "Write a function call that passes t as an argument to square, and then run the macro again.\n",
    "\n",
    "## Exercise 4-4\n",
    "\n",
    "Add another parameter, named len, to square. Modify the body so length of the sides is len, and then modify the function call to provide a second argument. Run the macro again. Test with a range of values for len.\n",
    "\n",
    "## Exercise 4-5\n",
    "\n",
    "Make a copy of square and change the name to polygon. Add another parameter named n and modify the body so it draws an n-sided regular polygon. The exterior angles of an n-sided regular polygon are 360n degrees.\n",
    "\n",
    "## Exercise 4-6\n",
    "\n",
    "Write a function called circle that takes a turtle, t, and radius, r, as parameters and that draws an approximate circle by calling polygon with an appropriate length and number of sides. Test your function with a range of values of r. Figure out the circumference of the circle and make sure that len * n == circumference.\n",
    "\n",
    "## Exercise 4-7\n",
    "\n",
    "Make a more general version of circle called arc that takes an additional parameter angle, which determines what fraction of a circle to draw. angle is in units of degrees, so when angle = 360, arc should draw a complete circle.\n"
   ]
  },
  {
   "cell_type": "markdown",
   "metadata": {},
   "source": [
    "### Encapsulation\n",
    "\n",
    "The first exercise asks you to put your square-drawing code into a function definition and then call the function, passing the turtle as a parameter. Here is a solution:\n",
    "\n",
    "```Julia\n",
    "\tfunction square(t)\n",
    "\t\tfor i in 1:4\n",
    "\t\t\tforward(t, 100)\n",
    "\t\t\tturn(t, -90)\n",
    "\t\tend\n",
    "\tend\n",
    "\n",
    "\t🐢 = Turtle()\t\t# at the Julia prompt or in an IDE \n",
    "\n",
    "\t@svg begin\n",
    "\t\tsquare(🐢)\n",
    "\tend\n",
    "```\n",
    "\n",
    "The idea is that t can be any turtle, not just 🐢, so you could create a second turtle 🐫 ( \\:camel: <TAB> ) and pass it as an argument to square:\n",
    "\n",
    "```Julia\n",
    "\t🐫 = Turtle()\n",
    "\t@svg begin\n",
    "\t\tsquare(🐫)\n",
    "\tend\n",
    "```\n",
    "\n",
    "Wrapping a piece of code up in a function is called **encapsulation**. Benefits of encapsulation:\n",
    "\n",
    "- it attaches a name to the code, which serves as a kind of documentation;\n",
    "\n",
    "- if you re-use the code, it is more concise to call a function twice than to copy and paste the body.\n",
    "\n",
    "\n",
    "### Generalization\n",
    "\n",
    "The next step is to add a _len_ parameter to square. Here is a solution:\n",
    "\n",
    "```Julia\n",
    "\tfunction square(t, len)\n",
    "\t\tfor i in 1:4\n",
    "\t\t\tforward(t, len)\n",
    "\t\t\tturn(t, -90)\n",
    "\t\tend\n",
    "\tend\n",
    "```\n",
    "Adding a **argument** to a function is called **generalization** because it makes the function more general: in the previous version, the square is always the same size; in this version it can be any size.\n",
    "\n",
    "The next step is also a generalization. Instead of drawing squares, polygon draws regular polygons with any number of sides. Here is a solution:\n",
    "\n",
    "```Julia\n",
    "\tfunction polygon(t, n, len)\n",
    "\t\tangle = 360 / n\n",
    "\t\tfor i in 1:n\n",
    "\t\t\tforward(t, len)\n",
    "\t\t\tturn(t, -angle)\n",
    "\t\tend\n",
    "\tend\n",
    "```\n",
    "\n",
    "The following example draws a 5-sided polygon with side length 50.\n",
    "\n",
    "```Julia\n",
    "\t@svg begin\n",
    "\t\tpolygon(🐢, 5, 50)\n",
    "\tend\n",
    "```"
   ]
  },
  {
   "cell_type": "markdown",
   "metadata": {},
   "source": [
    "### Interface Design\n",
    "\n",
    "The next step is to write circle, which takes a radius, r, as a parameter. Here is a simple solution that uses polygon to draw a 50-sided polygon that approximates a circle:\n",
    "\n",
    "```Julia\n",
    "\tfunction circle(t, r)\n",
    "\t\tcircumference = 2 * π * r\n",
    "\t\tn = 50\n",
    "\t\tlen = circumference / n\n",
    "\t\tpolygon(t, n, len)\n",
    "\tend\n",
    "```\n",
    "\n",
    "The first line computes the circumference of a circle with radius r using the formula 2πr. n is the number of line segments in our approximation of a circle, so len is the length of each segment. Thus, polygon draws a 50-sided polygon that approximates a circle with radius r.\n",
    "\n",
    "Try:\n",
    "\n",
    "```Julia\n",
    "\t@svg begin\n",
    "\t\tcircle(🐢, 50)\n",
    "\tend\n",
    "```\n",
    "\n",
    "One limitation of this solution is that n is a constant, which means that for very big circles, the line segments are too long, and for small circles, we waste time drawing very small segments. One solution would be to generalize the function by taking n as a parameter. This would give the user (whoever calls circle) more control, but the interface would be less clean. \n",
    "\n",
    "The **interface of a function** is a summary of how it is used: what are the parameters? What does the function do? And what is the return value? \n",
    "\n",
    "An interface is **clean** if it allows the caller to do what they want without dealing with unnecessary details. In this example, r belongs in the interface because it specifies the circle to be drawn. n is less appropriate because it pertains to the details of how the circle should be rendered. Rather than clutter up the interface, it is better to choose an appropriate value of n depending on circumference:\n",
    "\n",
    "```Julia\n",
    "\tfunction circle(t, r)\n",
    "\t    circumference = 2 * π * r\n",
    "\t    n = trunc(circumference / 3) + 3\n",
    "\t    len = circumference / n\n",
    "\t    polygon(t, n, len)\n",
    "\tend\n",
    "```\n",
    "\n",
    "Now the number of segments is an integer near circumference/3, so the length of each segment is approximately 3, which is small enough that the circles look good, but big enough to be efficient, and acceptable for any size circle. Adding 3 to n guarantees that the polygon has at least 3 sides.\n",
    "\n",
    "Try:\n",
    "\n",
    "```Julia\n",
    "\t@svg begin\n",
    "\t\tcircle2(🐢, 50)\n",
    "\tend\n",
    "```"
   ]
  },
  {
   "cell_type": "markdown",
   "metadata": {},
   "source": [
    "### Refactoring\n",
    "\n",
    "But **arc** is not as cooperative; we cannot use polygon or circle to draw an arc. One alternative is to start with a copy of polygon and transform it into arc. The result might look like this:\n",
    "\n",
    "```Julia\n",
    "\tfunction arc(t, r, angle)\n",
    "\n",
    "\t\tarc_len = 2 * π * r * angle / 360\n",
    "\t\tn = trunc(arc_len / 3) + 1\n",
    "\t\tstep_len = arc_len / n\n",
    "\t\tstep_angle = angle / n\n",
    "\n",
    "\t\tfor i in 1:n\n",
    "\t\t\tforward(t, step_len)\n",
    "\t\t\tturn(t, -step_angle)\n",
    "\t\tend\n",
    "\tend\n",
    "```\n",
    "\n",
    "The second half of this function looks like polygon, but we cannot re-use polygon without changing the interface. We could generalize polygon to take an angle as a third argument, but then polygon would no longer be an appropriate name. Instead, let us call the more general function polyline:\n",
    "\n",
    "```Julia\n",
    "\tfunction polyline(t, n, len, angle)\n",
    "\t\tfor i in 1:n\n",
    "\t\t   forward(t, len)\n",
    "\t\t   turn(t, -angle)\n",
    "\t\tend\n",
    "\tend\n",
    "```\n",
    "\n",
    "Now we can rewrite polygon and arc to use polyline:\n",
    "\n",
    "```Julia\n",
    "\tfunction polygon(t, n, len)\n",
    "\t\tangle = 360 / n\n",
    "\t\tpolyline(t, n, len, angle)\n",
    "\tend\n",
    "\n",
    "\tfunction arc(t, r, angle)\n",
    "\t\tarc_len = 2 * π * r * angle / 360\n",
    "\t\tn = trunc(arc_len / 3) + 1\n",
    "\t\tstep_len = arc_len / n\n",
    "\t\tstep_angle = angle / n\n",
    "\t\tpolyline(t, n, step_len, step_angle)\n",
    "\tend\n",
    "```\n",
    "\n",
    "Finally, we can rewrite circle to use arc:\n",
    "\n",
    "```Julia\n",
    "\tfunction circle(t, r)\n",
    "\t\tarc(t, r, 360)\n",
    "\tend\n",
    "```\n",
    "\n",
    "This process—rearranging a program to improve interfaces and facilitate code re-use is called **refactoring**. In this case, we noticed that there was similar code in arc and polygon, so we **factored it out** into polyline.\n",
    "\n",
    "If we had planned ahead, we might have written polyline first and avoided refactoring, but often you do not know enough at the beginning of a project to design all the interfaces. Once you start coding, you understand the problem better. Sometimes refactoring is a sign that you have learned something."
   ]
  },
  {
   "cell_type": "markdown",
   "metadata": {},
   "source": [
    "### Development Plan\n",
    "\n",
    "A development plan is a process for writing programs. The process we used in this case study is **encapsulation and generalization**. The steps of this process are:\n",
    "\n",
    "- Start by writing a small program (perhaps with no function definitions).\n",
    "\n",
    "- Once you get the program working, identify a coherent piece of it, **encapsulate** the piece in a function and give it a name.\n",
    "\n",
    "- **Generalize** the function by adding appropriate parameters.\n",
    "\n",
    "Repeat these steps until you have a set of working functions. Copy and paste working code to avoid retyping (and re-debugging).\n",
    "\n",
    "Look for opportunities to improve the program by **refactoring**. For example, if you have similar code in several places, consider factoring it into an appropriately general function. This process has some drawbacks—we will see alternatives later—but it can be useful if you do not know ahead of time how to divide the program into functions. This approach thus lets you design as you go along."
   ]
  },
  {
   "cell_type": "markdown",
   "metadata": {},
   "source": [
    "### Docstring\n",
    "\n",
    "**A docstring is a string before a function that explains the interface** (“doc” is short for documentation). Here is an example:\n",
    "\n",
    "```Julia\n",
    "\t\"\"\"\n",
    "\tpolyline(t, n, len, angle)\n",
    "\n",
    "\tdraws n line segments with the given length and\n",
    "\tangle (in degrees) between them\n",
    "\n",
    "\tt : turtle\n",
    "\t\"\"\"\n",
    "\n",
    "\tfunction polyline(t, n, len, angle)\n",
    "\t\tfor i in 1:n\n",
    "\t\t\tforward(t, len)\n",
    "\t\t\tturn(t, -angle)\n",
    "\t\tend\n",
    "\tend\n",
    "```\n",
    "\n",
    "Documentation can be accessed in the REPL or in a notebook by typing **`?`** followed by the name of a function or macro, and pressing ENTER:\n",
    "\n",
    "```Julia\n",
    "\thelp?> polyline\n",
    "\tsearch:\n",
    "\n",
    "\t\tpolyline(t, n, len, angle)\n",
    "\t\tdraws n line segments with the given length and\n",
    "\t\tangle (in degrees) between them\n",
    "\t\tt : turtle\n",
    "```\n",
    "\n",
    "Docstrings are often **triple-quoted strings**, also known as **multiline strings** because the triple quotes allow the string to span more than one line.\n",
    "\n",
    "**A docstring contains the essential information someone would need to use this function.** It explains concisely what the function does (without getting into the details of how it does it). It explains what effect each parameter has on the behavior of the function and what type each parameter should be (if it is not obvious).\n",
    "\n",
    "Writing this kind of documentation is an important part of interface design. A well-designed interface should be simple to explain; if you have a hard time explaining one of your functions, maybe the interface could be improved."
   ]
  },
  {
   "cell_type": "markdown",
   "metadata": {},
   "source": [
    "### Debugging\n",
    "\n",
    "An interface is like a contract between a function and a caller. The caller agrees to provide certain parameters and the function agrees to do certain work. For example, polyline requires four arguments: t has to be a turtle; n has to be an integer; len should be a positive number; and angle has to be a number, which is understood to be in degrees.\n",
    "\n",
    "These requirements are called **preconditions** because they are supposed to be true before the function starts executing. Conversely, conditions at the end of the function are **postconditions**. \n",
    "\n",
    "Postconditions include the intended effect of the function (like drawing line segments) and any **side effects** (like moving the turtle or making other changes).\n",
    "\n",
    "**Preconditions are the responsibility of the caller.** If the caller violates a properly documented precondition and the function does not work correctly, the bug is in the caller, not the function.\n",
    "\n",
    "If the preconditions are satisfied and the postconditions are not, the bug is in the function. If your pre- and post-conditions are clear, they can help with debugging."
   ]
  },
  {
   "cell_type": "markdown",
   "metadata": {},
   "source": [
    "### Exercise 4-8\n",
    "\n",
    "The version of arc in Refactoring is not very accurate because the linear approximation of the circle is always outside the true circle. As a result, the turtle ends up a few pixels away from the correct destination. To reduce the effect of this error one proposal is written below. Read the code and see if it makes sense to you. \n",
    "\n",
    "```Julia\n",
    "\t\"\"\"\n",
    "\tarc(t, r, angle)\n",
    "\n",
    "\tDraws an arc with the given radius and angle:\n",
    "\n",
    "\t\tt: turtle\n",
    "\t\tr: radius\n",
    "\t\tangle: angle subtended by the arc, in degrees\n",
    "\t\"\"\"\n",
    "\n",
    "\tfunction arc(t, r, angle)\n",
    "\t\tarc_len = 2 * π * r * abs(angle) / 360\n",
    "\t\tn = trunc(arc_len / 4) + 3\n",
    "\t\tstep_len = arc_len / n\n",
    "\t\tstep_angle = angle / n\n",
    "\n",
    "\t\t# making a slight left turn before starting reduces\n",
    "\t\t# the error caused by the linear approximation of the arc\n",
    "\t\tturn(t, -step_angle/2)\n",
    "\t\tpolyline(t, n, step_len, step_angle)\n",
    "\t\tturn(t, step_angle/2)\n",
    "\tend\n",
    "```\n",
    "\n",
    "### Exercise 4-12\n",
    "\n",
    "Read about spirals at https://en.wikipedia.org/wiki/Spiral; then write a program that draws an Archimedan spiral as in Archimedan spiral."
   ]
  },
  {
   "cell_type": "markdown",
   "metadata": {},
   "source": []
  }
 ],
 "metadata": {
  "kernelspec": {
   "display_name": "Julia 1.8.0",
   "language": "julia",
   "name": "julia-1.8"
  },
  "language_info": {
   "file_extension": ".jl",
   "mimetype": "application/julia",
   "name": "julia",
   "version": "1.8.0"
  },
  "orig_nbformat": 4,
  "vscode": {
   "interpreter": {
    "hash": "8e72a6ea8ae570bc9b562cd7a1d6883761b9cd7ac49ad6b17855b6c636bf0317"
   }
  }
 },
 "nbformat": 4,
 "nbformat_minor": 2
}
