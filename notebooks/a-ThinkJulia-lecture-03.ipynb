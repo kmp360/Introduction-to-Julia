{
 "cells": [
  {
   "cell_type": "markdown",
   "metadata": {},
   "source": [
    "kmp 2023\n",
    "\n",
    "Based on **Lauwens & Downey \"Think Julia: How to Think Like a Computer Scientist\"** \n",
    "https://benlauwens.github.io/ThinkJulia.jl/latest/book.html**\n",
    "\n",
    "Resources:\n",
    "\n",
    "Julia webpage https://julialang.org/ \n",
    "\n",
    "Julia documentation https://docs.julialang.org/en/v1/\n"
   ]
  },
  {
   "cell_type": "code",
   "execution_count": 1,
   "metadata": {},
   "outputs": [],
   "source": [
    "using ImageIO, ImageShow, FileIO"
   ]
  },
  {
   "cell_type": "markdown",
   "metadata": {},
   "source": [
    "## Chapter 03 -- Functions\n",
    "\n",
    "https://benlauwens.github.io/ThinkJulia.jl/latest/book.html#chap03\n",
    "\n",
    "A function is a **named sequence of statements** that performs a computation. When you **define a function**, you specify the name and the sequence of statements. Later, you can **call** the function by its name."
   ]
  },
  {
   "cell_type": "markdown",
   "metadata": {},
   "source": [
    "### Function Calls\n",
    "\n",
    "```Julia\n",
    "\tjulia> println(\"Hello, World!\")\n",
    "```\n",
    "\n",
    "The name of the function is `println`. The expression in parentheses is called the **argument** of the function. It is common to say that a function takes an argument and returns a **result**. The result is also called the **return value**. In this case the function call prints the string to screen and returns the value **nothing** which is of the Julia type **Nothing**."
   ]
  },
  {
   "cell_type": "code",
   "execution_count": 2,
   "metadata": {},
   "outputs": [
    {
     "name": "stdout",
     "output_type": "stream",
     "text": [
      "Hello, World!\n",
      "nothing\n"
     ]
    },
    {
     "data": {
      "text/plain": [
       "Nothing"
      ]
     },
     "metadata": {},
     "output_type": "display_data"
    }
   ],
   "source": [
    "str = println(\"Hello, World!\")\n",
    "#println()\n",
    "println(str)\n",
    "typeof(str)"
   ]
  },
  {
   "cell_type": "markdown",
   "metadata": {},
   "source": [
    "### Math Functions\n",
    "\n",
    "In Julia, most of the familiar mathematical functions are directly available:\n",
    "\n",
    "```Julia\n",
    "\tratio = signal_power / noise_power\n",
    "\tdecibels = 10 * log10(ratio)\n",
    "```\n",
    "\n",
    "This first example uses **log10** to compute a signal-to-noise ratio in decibels (assuming that signal\\_power and noise_power are defined); **log** computes the natural logarithm. "
   ]
  },
  {
   "cell_type": "code",
   "execution_count": 3,
   "metadata": {},
   "outputs": [
    {
     "data": {
      "text/plain": [
       "0.12837224705172218"
      ]
     },
     "metadata": {},
     "output_type": "display_data"
    }
   ],
   "source": [
    "signal_power = 103\n",
    "noise_power = 100\n",
    "ratio = signal_power / noise_power\n",
    "decibels = 10 * log10(ratio)"
   ]
  },
  {
   "cell_type": "markdown",
   "metadata": {},
   "source": [
    "The second example finds the sine of radians. \n",
    "\n",
    "```Julia\n",
    "\tradians = 0.7\n",
    "\theight = sin(radians)\n",
    "```\n",
    "\n",
    "The name of the variable is a hint that **sin** and the other trigonometric functions (**cos, tan**, etc.) take arguments in **radians**. To convert from degrees to radians, divide by 180 and multiply by π.\n",
    "\n",
    "The value of the **constant π** is a **floating-point approximation** of π, accurate to about 16 digits."
   ]
  },
  {
   "cell_type": "code",
   "execution_count": 4,
   "metadata": {},
   "outputs": [
    {
     "data": {
      "text/plain": [
       "0.7648421872844885"
      ]
     },
     "metadata": {},
     "output_type": "display_data"
    }
   ],
   "source": [
    "radians = 0.7\n",
    "width = cos(radians)"
   ]
  },
  {
   "cell_type": "code",
   "execution_count": 5,
   "metadata": {},
   "outputs": [
    {
     "data": {
      "text/plain": [
       "0.7853981633974483"
      ]
     },
     "metadata": {},
     "output_type": "display_data"
    }
   ],
   "source": [
    "degrees = 45\n",
    "radians = degrees / 180 * π"
   ]
  },
  {
   "cell_type": "markdown",
   "metadata": {},
   "source": [
    "If you know trigonometry, you can check the previous result by comparing it to the arcsine **asin** of the square root of two divided by two:"
   ]
  },
  {
   "cell_type": "code",
   "execution_count": 6,
   "metadata": {},
   "outputs": [
    {
     "data": {
      "text/plain": [
       "0.7853981633974484"
      ]
     },
     "metadata": {},
     "output_type": "display_data"
    }
   ],
   "source": [
    "asin( sqrt(2)/ 2 )"
   ]
  },
  {
   "cell_type": "markdown",
   "metadata": {},
   "source": [
    "### Function Composition\n",
    "\n",
    "The most useful feature of programming languages is their ability to take small building blocks and **compose** them. For example, **the argument of a function can be any kind of expression**, including arithmetic operators:\n",
    "\n",
    "```Julia\n",
    "\tx = sin(degrees / 360 * 2 * π)\n",
    "```\n",
    "\n",
    "Note the evaluation of the expression from left-to-right because of equal precedence (PEMDAS). So `x = sin(degrees / 360 * 2 * π)` is evaluated as\n",
    "\n",
    "```Julia\n",
    "\tx = sin( ( (degrees / 360) * 2 ) * π)\n",
    "```"
   ]
  },
  {
   "cell_type": "code",
   "execution_count": 12,
   "metadata": {},
   "outputs": [
    {
     "data": {
      "text/plain": [
       "4.0"
      ]
     },
     "metadata": {},
     "output_type": "display_data"
    }
   ],
   "source": [
    "z = 3\n",
    "y = exp(log(z+1))       # a function call expression as argument"
   ]
  },
  {
   "cell_type": "markdown",
   "metadata": {},
   "source": [
    "Almost anywhere you can put a value, you can put an arbitrary expression, with one exception: the **left side of an assignment statement** has to be a variable name. Any other expression on the left side is a syntax error (we will see exceptions to this rule later)."
   ]
  },
  {
   "cell_type": "markdown",
   "metadata": {},
   "source": [
    "### Add New Functions to Julia\n",
    "\n",
    "A **function definition** specifies the name of a new function and the sequence of statements that run when the function is called. \n",
    "\n",
    "Syntax:\n",
    "\n",
    "```Julia\n",
    "\tfunction name(argument::type)::type #  type specification is optional\n",
    "\t\tbody of statements and expressions\n",
    "\t\treturn values  \t\t\t#  return is optional here\n",
    "\tend\n",
    "```\n",
    "\n",
    "The first line of the function definition is called the **header**; the rest is called the **body**. The body is terminated with the keyword **end** and it can contain any number of statements. For readability the body of the function is preferably indented.\n",
    "\n",
    "Here is a particular example of a function definition which takes no input arguments and returns `nothing` when called:\n"
   ]
  },
  {
   "cell_type": "code",
   "execution_count": 8,
   "metadata": {},
   "outputs": [
    {
     "name": "stdout",
     "output_type": "stream",
     "text": [
      "I'm a lumberjack, and I'm okay."
     ]
    },
    {
     "name": "stdout",
     "output_type": "stream",
     "text": [
      "\n",
      "I sleep all night and I work all day.\n"
     ]
    }
   ],
   "source": [
    "function printlyrics() # the function definition creates a function-object \n",
    "    println(\"I'm a lumberjack, and I'm okay.\")\n",
    "    println(\"I sleep all night and I work all day.\")\n",
    "end\n",
    "\n",
    "printlyrics() # the function call tells Julia to execute the function"
   ]
  },
  {
   "cell_type": "code",
   "execution_count": 19,
   "metadata": {},
   "outputs": [
    {
     "name": "stdout",
     "output_type": "stream",
     "text": [
      "I'm a lumberjack, and I'm okay.\n",
      "I sleep all night and I work all day.\n"
     ]
    },
    {
     "data": {
      "text/plain": [
       "Nothing"
      ]
     },
     "metadata": {},
     "output_type": "display_data"
    }
   ],
   "source": [
    "output = printlyrics()\n",
    "\n",
    "typeof(output)"
   ]
  },
  {
   "cell_type": "code",
   "execution_count": 22,
   "metadata": {},
   "outputs": [
    {
     "name": "stdout",
     "output_type": "stream",
     "text": [
      "I'm a lumberjack, and I'm okay.\n",
      "I sleep all night and I work all day.\n",
      "nothing"
     ]
    },
    {
     "name": "stdout",
     "output_type": "stream",
     "text": [
      "\n"
     ]
    }
   ],
   "source": [
    "println(\"$(printlyrics())\")"
   ]
  },
  {
   "cell_type": "markdown",
   "metadata": {},
   "source": [
    "**function** is a keyword that indicates that this is a **`function definition`**. The rules for **function names** are the same as for variable names: \n",
    "- they can contain almost all Unicode characters, **but the first character cannot be a number**. \n",
    "- you **cannot use a keyword** as the name of a function\n",
    "- you should **avoid having a variable and a function with the same name**.\n",
    "\n",
    "The empty parentheses after the name printlyrics() indicate that this function does not take any arguments.\n",
    "\n",
    "If you type a function definition in **interactive mode**, the REPL indents to let you know that the definition is not complete:\n",
    "\n",
    "```Julia\n",
    "\tjulia> function printlyrics()\n",
    "\t\tprintln(\"I'm a lumberjack, and I'm okay.\")\n",
    "```\n",
    "\n",
    "To end the function definition, you have to enter **end**.\n",
    "\n",
    "In order to execute the function, the function has to be called (the same syntax as for calling built-in functions):\n",
    "\n",
    "```Julia\n",
    "\tjulia> printlyrics()\n",
    "\t\tI'm a lumberjack, and I'm okay.\n",
    "\t\tI sleep all night and I work all day.\n",
    "```\n",
    "\n",
    "Once you have defined a function, you can use it inside another function definition. For example, to repeat the previous refrain, we could write a function called repeatlyrics:\n",
    "\n",
    "```Julia\n",
    "\tfunction repeatlyrics()\n",
    "\t\tprintlyrics()\n",
    "\t\tprintlyrics()\n",
    "\tend\n",
    "```\n",
    "\n",
    "And then call repeatlyrics:\n",
    "\n",
    "```Julia\n",
    "\tjulia> repeatlyrics()\n",
    "\t\tI'm a lumberjack, and I'm okay.\n",
    "\t\tI sleep all night and I work all day.\n",
    "\t\tI'm a lumberjack, and I'm okay.\n",
    "\t\tI sleep all night and I work all day.\n",
    "```"
   ]
  },
  {
   "cell_type": "code",
   "execution_count": 9,
   "metadata": {},
   "outputs": [
    {
     "name": "stdout",
     "output_type": "stream",
     "text": [
      "I'm a lumberjack, and I'm okay.\n",
      "I sleep all night and I work all day.\n",
      "\n",
      "I'm a lumberjack, and I'm okay.\n",
      "I sleep all night and I work all day.\n"
     ]
    }
   ],
   "source": [
    "function printlyrics() # function definition\n",
    "\tprintln(\"I'm a lumberjack, and I'm okay.\")\n",
    "\tprintln(\"I sleep all night and I work all day.\")\n",
    "end\n",
    "\n",
    "function repeatlyrics() # function definition\n",
    "\tprintlyrics()\n",
    "\tprintln()\n",
    "\tprintlyrics()\n",
    "end\n",
    "\n",
    "repeatlyrics() # function call"
   ]
  },
  {
   "cell_type": "markdown",
   "metadata": {},
   "source": [
    "### Definition and Use\n",
    "\n",
    "The above program contains two **function definitions**: `printlyrics` and `repeatlyrics`. \n",
    "\n",
    "Function definitions get executed just like other statements and the effect is to create **function objects**. The statements inside the function do not run until the function is **called**. As you might expect, you have to create a function before you can use it. In other words, **the function definition has to run before the function can be called**."
   ]
  },
  {
   "cell_type": "markdown",
   "metadata": {},
   "source": [
    "### Exercise 3-1\n",
    "\n",
    "Move the last line of this program to the top, so the function call appears before the definitions. Run the program and see what error message you get.\n",
    "\n",
    "Now move the function call back to the bottom and move the definition of printlyrics after the definition of repeatlyrics. What happens when you run this program?"
   ]
  },
  {
   "cell_type": "code",
   "execution_count": 10,
   "metadata": {},
   "outputs": [
    {
     "name": "stdout",
     "output_type": "stream",
     "text": [
      "I'm a lumberjack, and I'm okay.\n",
      "I sleep all night and I work all day.\n",
      "\n",
      "I'm a lumberjack, and I'm okay.\n",
      "I sleep all night and I work all day.\n"
     ]
    }
   ],
   "source": [
    "function repeatlyrics() # function definition\n",
    "\tprintlyrics()\n",
    "\tprintln()\n",
    "\tprintlyrics()\n",
    "end\n",
    "\n",
    "function printlyrics() # function definition\n",
    "\tprintln(\"I'm a lumberjack, and I'm okay.\")\n",
    "\tprintln(\"I sleep all night and I work all day.\")\n",
    "end\n",
    "\n",
    "repeatlyrics() # function call"
   ]
  },
  {
   "cell_type": "markdown",
   "metadata": {},
   "source": [
    "### Execution Flow\n",
    "\n",
    "To ensure that a function is defined before its first use, you have to know the order statements are run, the **flow of execution**. Execution always begins at the first statement of the program. Statements are run one at a time, in order from top to bottom. \n",
    "\n",
    "**Function definitions do not alter the flow of execution of the program, and statements inside the function do not run until the function is called in the program.**\n",
    "\n",
    "A **function call**, which is different from a **function definition**, is like a detour in the flow of execution. Instead of going to the next statement, the **execution flow jumps** or **branches** to the body of the function, runs the statements there, and then jumps back to pick up where it left off. \n",
    "\n",
    "**Note that one function can call another, so-called function composition.** While in the middle of one function, the program might have to run the statements in another function. Then, while running that new function, the program might have to run yet another function etc. \n",
    "\n",
    "In summary, when you read a program, you do not always want to read from top to bottom. Sometimes it makes more sense to follow the flow of execution."
   ]
  },
  {
   "cell_type": "markdown",
   "metadata": {},
   "source": [
    "### Parameters and Arguments\n",
    "\n",
    "Some functions take zero input arguments and other require one or several arguments in their function call. For example: `parse` takes two, a number type and a string, see https://docs.julialang.org/en/v1/base/numbers/#Base.parse.\n",
    "\n",
    "Here is a definition for a function that takes one argument:\n",
    "\n",
    "```Julia\n",
    "\tfunction printtwice(bruce)\n",
    "\t\tprintln(bruce)\n",
    "\t\tprintln(bruce)\n",
    "\tend\n",
    "```\n",
    "\n",
    "Inside the function, the **arguments** are assigned to **variables called parameters**. In a function call, e.g., printtwice(\"eva\"), this function **assigns** the argument \"eva\" to a **parameter** named bruce. \n",
    "\n",
    "When the function is called, it prints the parameter value (\"eva\") twice. This function works with any value that can be printed.\n",
    "\n",
    "```Julia\n",
    "\tjulia> printtwice(\"Spam\")\n",
    "\t\tSpam\n",
    "\t\tSpam\n",
    "\n",
    "\tjulia> printtwice(42)\n",
    "\t\t42\n",
    "\t\t42\n",
    "\n",
    "\tjulia> printtwice(π)\n",
    "\t\tπ = 3.1415926535897...\n",
    "\t\tπ = 3.1415926535897...\n",
    "```\n",
    "\n",
    "The same **rules of composition** that apply to built-in functions also apply to programmer-defined functions, so we can use any kind of expression as an argument for printtwice:\n",
    "\n",
    "```Julia\n",
    "\tjulia> printtwice(\"Spam \"^4)\n",
    "\t\tSpam Spam Spam Spam\n",
    "\t\tSpam Spam Spam Spam\n",
    "\n",
    "\tjulia> printtwice(cos(π))\n",
    "\t\t-1.0\n",
    "\t\t-1.0\n",
    "```\n",
    "\n",
    "**The argument is evaluated before the function is called**, so the expressions \"Spam \"^4 and cos(π) are only evaluated once, and then assigned to the function internal parameter(s).\n",
    "\n",
    "You can also use a variable as an argument:\n",
    "\n",
    "```Julia\n",
    "\tjulia> michael = \"Eric, the half a bee.\"\n",
    "\t\t\"Eric, the half a bee.\"\n",
    "\n",
    "\tjulia> printtwice(michael)\n",
    "\t\tEric, the half a bee.\n",
    "\t\tEric, the half a bee.\n",
    "```\n",
    "\n",
    "The name of the variable we pass as an argument (michael) has nothing to do with the name of the parameter (bruce), instead its value becomes assigned to the parameter in the function call."
   ]
  },
  {
   "cell_type": "markdown",
   "metadata": {},
   "source": [
    "### Function Variables and Parameters Are Local\n",
    "\n",
    "When you create a variable inside a function, it is a **local variable**, which means that it only **exists inside the function**.\n",
    "\n",
    "For example:\n",
    "\n",
    "```Julia\n",
    "\tfunction cattwice(part1, part2)\n",
    "\t\t# local variable in an assignment statement\n",
    "\t\tconcat = part1 * part2  \n",
    "\t\tprinttwice(concat)\n",
    "\tend\n",
    "```\n",
    "\n",
    "This function takes two input arguments, concatenates them, and assign the value to the local variable concat and finally prints the result twice. Here is an example that uses it:\n",
    "\n",
    "```Julia\n",
    "\tjulia> line1 = \"Bing tiddle \"\n",
    "\t\t\"Bing tiddle \"\n",
    "\n",
    "\tjulia> line2 = \"tiddle bang.\"\n",
    "\t\t\"tiddle bang.\"\n",
    "\n",
    "\tjulia> cattwice(line1, line2)\n",
    "\t\tBing tiddle tiddle bang.\n",
    "\t\tBing tiddle tiddle bang.\n",
    "```\n",
    "\n",
    "When `cattwice` terminates, the variable concat is destroyed. If we try to print it, we get an exception:\n",
    "\n",
    "```Julia\n",
    "\tjulia> println(concat)\n",
    "\t\tERROR: UndefVarError: concat not defined\n",
    "```\n",
    "\n",
    "Parameters are also local. For example, outside printtwice, there is no such thing as bruce."
   ]
  },
  {
   "cell_type": "markdown",
   "metadata": {},
   "source": [
    "### Stack Diagrams\n",
    "\n",
    "To keep track of which variables can be used where, it is sometimes useful to draw a stack diagram. Like state diagrams, stack diagrams show the value of each variable, but they also show the function each variable belongs to. \n",
    "\n",
    "Each function is represented by a **frame**. A frame is a box with the name of a function beside it and the parameters and variables of the function inside it.\n",
    "\n",
    "The frames are arranged in a **stack** that indicates which function called which, and so on. **Main** is a special name for the topmost frame. When you create a variable outside of any function, it belongs to Main."
   ]
  },
  {
   "cell_type": "code",
   "execution_count": 11,
   "metadata": {},
   "outputs": [
    {
     "data": {
      "image/png": "[encoded data removed]",
      "text/html": [
       "<img src=\"data:image/png;base64,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\">"
      ],
      "text/plain": [
       "253×636 Array{RGBA{N0f8},2} with eltype ColorTypes.RGBA{FixedPointNumbers.N0f8}:\n",
       " RGBA{N0f8}(1.0,1.0,1.0,1.0)  …  RGBA{N0f8}(1.0,1.0,1.0,1.0)\n",
       " RGBA{N0f8}(1.0,1.0,1.0,1.0)     RGBA{N0f8}(1.0,1.0,1.0,1.0)\n",
       " RGBA{N0f8}(1.0,1.0,1.0,1.0)     RGBA{N0f8}(1.0,1.0,1.0,1.0)\n",
       " RGBA{N0f8}(1.0,1.0,1.0,1.0)     RGBA{N0f8}(1.0,1.0,1.0,1.0)\n",
       " RGBA{N0f8}(1.0,1.0,1.0,1.0)     RGBA{N0f8}(1.0,1.0,1.0,1.0)\n",
       " RGBA{N0f8}(1.0,1.0,1.0,1.0)  …  RGBA{N0f8}(1.0,1.0,1.0,1.0)\n",
       " RGBA{N0f8}(1.0,1.0,1.0,1.0)     RGBA{N0f8}(1.0,1.0,1.0,1.0)\n",
       " RGBA{N0f8}(1.0,1.0,1.0,1.0)     RGBA{N0f8}(1.0,1.0,1.0,1.0)\n",
       " RGBA{N0f8}(1.0,1.0,1.0,1.0)     RGBA{N0f8}(1.0,1.0,1.0,1.0)\n",
       " RGBA{N0f8}(1.0,1.0,1.0,1.0)     RGBA{N0f8}(1.0,1.0,1.0,1.0)\n",
       " ⋮                            ⋱  ⋮\n",
       " RGBA{N0f8}(1.0,1.0,1.0,1.0)     RGBA{N0f8}(1.0,1.0,1.0,1.0)\n",
       " RGBA{N0f8}(1.0,1.0,1.0,1.0)  …  RGBA{N0f8}(1.0,1.0,1.0,1.0)\n",
       " RGBA{N0f8}(1.0,1.0,1.0,1.0)     RGBA{N0f8}(1.0,1.0,1.0,1.0)\n",
       " RGBA{N0f8}(1.0,1.0,1.0,1.0)     RGBA{N0f8}(1.0,1.0,1.0,1.0)\n",
       " RGBA{N0f8}(1.0,1.0,1.0,1.0)     RGBA{N0f8}(1.0,1.0,1.0,1.0)\n",
       " RGBA{N0f8}(1.0,1.0,1.0,1.0)     RGBA{N0f8}(1.0,1.0,1.0,1.0)\n",
       " RGBA{N0f8}(1.0,1.0,1.0,1.0)  …  RGBA{N0f8}(1.0,1.0,1.0,1.0)\n",
       " RGBA{N0f8}(1.0,1.0,1.0,1.0)     RGBA{N0f8}(1.0,1.0,1.0,1.0)\n",
       " RGBA{N0f8}(1.0,1.0,1.0,1.0)     RGBA{N0f8}(1.0,1.0,1.0,1.0)"
      ]
     },
     "metadata": {},
     "output_type": "display_data"
    }
   ],
   "source": [
    "load(\"stack-diagram.png\")"
   ]
  },
  {
   "cell_type": "markdown",
   "metadata": {},
   "source": [
    "**If an error occurs during a function call, Julia prints the name of the function, the name of the function that called it, and the name of the function that called that, all the way back to Main.**\n",
    "\n",
    "For example, if you try to access concat from within printtwice:\n",
    "\n",
    "```Julia\n",
    "\n",
    "\tfunction printtwice(bruce)\n",
    "\t\tprintln(bruce)\n",
    "\t\tprintln(bruce)\n",
    "\t\tconcat\n",
    "\tend\n",
    "\n",
    "\tfunction cattwice(part1, part2)\n",
    "\t\tconcat = part1 * part2\n",
    "\t\tprinttwice(concat)\n",
    "\tend\n",
    "```\n",
    "\n",
    "you get a **UndefVarError**\n",
    "\n",
    "```Julia\n",
    "\tERROR: UndefVarError: concat not defined\n",
    "\tStacktrace:\n",
    "\t[1] printtwice at ./REPL[1]:2 [inlined]\n",
    "\t[2] cattwice(::String, ::String) at ./REPL[2]:3\n",
    "```\n",
    "\n",
    "This list is called a **stacktrace**. It tells you what program file the error occurred in, and what line, and what functions were executing at the time. It also shows the line of code that caused the error. **The order of the functions in the stacktrace is the inverse of the order of the frames in the stack diagram. The function that is currently running is at the top.**"
   ]
  },
  {
   "cell_type": "code",
   "execution_count": 23,
   "metadata": {},
   "outputs": [
    {
     "name": "stdout",
     "output_type": "stream",
     "text": [
      "blabla\n",
      "blabla"
     ]
    },
    {
     "name": "stdout",
     "output_type": "stream",
     "text": [
      "\n"
     ]
    },
    {
     "ename": "UndefVarError",
     "evalue": "UndefVarError: `concat` not defined",
     "output_type": "error",
     "traceback": [
      "UndefVarError: `concat` not defined\n",
      "\n",
      "Stacktrace:\n",
      " [1] printtwice\n",
      "   @ e:\\aaa-Julia-course-2023\\lectures-1.9\\a-ThinkJulia-lecture-03.ipynb:4 [inlined]\n",
      " [2] cattwice(part1::String, part2::String)\n",
      "   @ Main e:\\aaa-Julia-course-2023\\lectures-1.9\\a-ThinkJulia-lecture-03.ipynb:9\n",
      " [3] top-level scope\n",
      "   @ e:\\aaa-Julia-course-2023\\lectures-1.9\\a-ThinkJulia-lecture-03.ipynb:12"
     ]
    }
   ],
   "source": [
    "function printtwice(bruce)\n",
    "    println(bruce)\n",
    "    println(bruce)\n",
    "    concat\n",
    "end\n",
    "\n",
    "function cattwice(part1, part2)\n",
    "    concat = part1 * part2\n",
    "    printtwice(concat)\n",
    "end\n",
    "\n",
    "cattwice(\"bla\", \"bla\")"
   ]
  },
  {
   "cell_type": "code",
   "execution_count": 25,
   "metadata": {},
   "outputs": [
    {
     "data": {
      "text/plain": [
       "1.618033988749895"
      ]
     },
     "metadata": {},
     "output_type": "display_data"
    }
   ],
   "source": [
    "golden(y) = (sqrt(y) + 1) / 2\n",
    "\n",
    "golden(5)"
   ]
  },
  {
   "cell_type": "markdown",
   "metadata": {},
   "source": [
    "Some functions, such as the math functions, return results, are sometimes called **non-void or fruitful** functions. Other functions, like printtwice, perform an action but do not return a value. They are called **void functions**.\n",
    "\n",
    "When you call a fruitful function, you almost always want to do something with the result; for example, you might assign it to a variable or use it as part of an expression:\n",
    "\n",
    "```Julia\n",
    "\tx = cos(radians)\t\t\t\t# built-in function\n",
    "\n",
    "\tgolden(y) = (sqrt(y) + 1) / 2\t# short-form function definition\n",
    "```\n",
    "\n",
    "When you call a function in interactive mode, Julia displays the result:\n",
    "\n",
    "```Julia\n",
    "\tjulia> sqrt(5)\t\n",
    "\t\t2.23606797749979\n",
    "\t# the return value is assigned to the variable ans (not shown)\n",
    "```\n",
    "\n",
    "**In a script, if you call a fruitful function all by itself, the return value is lost. You need to use the function call in an assignment statement or another function call.**\n",
    "\n",
    "Void functions might display something on the screen or have some other effect, but it is not quite true that they do not have a return value. If you assign the result of a void function to a variable, you get a special value called **nothing** of type **Nothing**.\n",
    "\n",
    "```Julia\n",
    "\tjulia> result = printtwice(\"Bing\")\n",
    "\t\tBing\n",
    "\t\tBing\n",
    "\n",
    "\tjulia> show(result)\n",
    "\t\tNothing\n",
    "```\n",
    "\n",
    "**To print the value Nothing, you have to use the function show which is like print but can handle the value nothing.**\n",
    "\n",
    "The value **nothing** is not the same as the string \"nothing\". It is a special value that has its own type:\n",
    "\n",
    "```Julia\n",
    "\tjulia> typeof(nothing)\n",
    "\t\tNothing\n",
    "```"
   ]
  },
  {
   "cell_type": "markdown",
   "metadata": {},
   "source": [
    "### Why Functions?\n",
    "\n",
    "A function definition names a group of statements, which can be refered to in function calls and makes the program easier to read and debug. \n",
    "\n",
    "Functions eliminate repetitive code and later, if you make a change, you only have to make it in one place.\n",
    "\n",
    "Dividing a long program into functions allows you to debug the parts one at a time and then assemble them into a working whole. Well-designed functions are often useful for many programs. Once you write and debug one, you can reuse it.\n",
    "\n",
    "### Debugging\n",
    "\n",
    "**One of the most important skills you will acquire is debugging skills.** \n",
    "\n",
    "Although it can be frustrating, debugging is one of the most challenging and interesting parts of programming. In some ways debugging is detective work. You are confronted with clues and you have to infer the processes and events that led to the results you see.\n",
    "\n",
    "For some people, **programming and debugging are the same thing**. That is, programming is the process of gradually debugging a program until it does what you want. The idea is that you should start with a working program and make small modifications, debugging them as you go. "
   ]
  },
  {
   "cell_type": "markdown",
   "metadata": {},
   "source": [
    "## Exercises\n",
    "\n",
    "### Exercise 3-2\n",
    "\n",
    "Write a function named rightjustify that takes a string named s as a parameter and prints the string with enough leading spaces so that the last letter of the string is in column 70 of the display.\n",
    "\n",
    "```Julia\n",
    "\tjulia> rightjustify(\"monty\")\n",
    "                                                                 monty\n",
    "```\n",
    "Tip: Use string concatenation and repetition. Also, Julia provides a built-in function called **length** that returns the length of a string, so the value of length(\"monty\") is 5.\n",
    "\n",
    "### Exercise 3-3\n",
    "\n",
    "**A function object is a value you can assign to a variable or pass as an argument**. For example, _dotwice_ is a function that takes a function object as an argument and calls it twice:\n",
    "\n",
    "```Julia\n",
    "\tfunction dotwice(f)\n",
    "\t\tf()\n",
    "\t\tf()\n",
    "\tend\n",
    "```\n",
    "\n",
    "Here’s an example that uses dotwice to call a function named _printspam_ twice.\n",
    "\n",
    "```Julia\n",
    "\tfunction printspam()\n",
    "\t\tprintln(\"spam\")\n",
    "\tend\n",
    "\n",
    "\tdotwice(printspam)\n",
    "```\n",
    "\n",
    "Type this example into a script and test it.\n",
    "\n",
    "Modify dotwice so that it takes two arguments, a function object and a value, and calls the function twice, passing the value as an argument.\n",
    "\n",
    "Copy the definition of printtwice from earlier in this chapter to your script. Use the modified version of dotwice to call printtwice twice, passing \"spam\" as an argument.\n",
    "\n",
    "Define a new function called dofour that takes a function object and a value and calls the function four times, passing the value as a parameter. There should be only two statements in the body of this function, not four."
   ]
  },
  {
   "cell_type": "markdown",
   "metadata": {},
   "source": [
    "### Exercise 3-4\n",
    "\n",
    "Write a function printgrid that draws a grid like the following:\n",
    "\n",
    "```Julia\n",
    "    julia> printgrid()\n",
    "    + - - - - + - - - - +\n",
    "    |         |         |\n",
    "    |         |         |\n",
    "    |         |         |\n",
    "    |         |         |\n",
    "    + - - - - + - - - - +\n",
    "    |         |         |\n",
    "    |         |         |\n",
    "    |         |         |\n",
    "    |         |         |\n",
    "    + - - - - + - - - - +\n",
    "```\n",
    "\n",
    "Write a function that draws a similar grid with four rows and four columns.\n",
    "\n",
    "Credit: This exercise is based on an exercise in Oualline, Practical C Programming, Third Edition, O’Reilly Media, 1997.\n",
    "\n",
    "To print more than one value on a line, you can print a **comma-separated sequence of values** or a **list**:\n",
    "\n",
    "```Julia\n",
    "\t\tprintln(\"+\", \"-\")\n",
    "```\n",
    "\n",
    "The function **print** does not advance to the next line:\n",
    "\n",
    "```Julia\n",
    "\t\tprint(\"+ \")\n",
    "\t\tprintln(\"-\")\n",
    "```\n",
    "\n",
    "The output of these statements is \"+ -\" on the same line. The output from the next print statement would begin on the next line.\n"
   ]
  },
  {
   "cell_type": "markdown",
   "metadata": {},
   "source": []
  }
 ],
 "metadata": {
  "kernelspec": {
   "display_name": "Julia 1.9.3",
   "language": "julia",
   "name": "julia-1.9"
  },
  "language_info": {
   "file_extension": ".jl",
   "mimetype": "application/julia",
   "name": "julia",
   "version": "1.9.3"
  },
  "orig_nbformat": 4,
  "vscode": {
   "interpreter": {
    "hash": "8e72a6ea8ae570bc9b562cd7a1d6883761b9cd7ac49ad6b17855b6c636bf0317"
   }
  }
 },
 "nbformat": 4,
 "nbformat_minor": 2
}
