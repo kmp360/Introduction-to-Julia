{
 "cells": [
  {
   "cell_type": "markdown",
   "metadata": {},
   "source": [
    "kmp 2022\n",
    "\n",
    "Closely based on \n",
    "\n",
    "**Ben Lauwens & Allen Downey \"Think Julia: How to Think Like a Computer Scientist\" \n",
    "https://benlauwens.github.io/ThinkJulia.jl/latest/book.html**\n",
    "\n",
    "Resources:\n",
    "\n",
    "Julia webpage https://julialang.org/ \n",
    "\n",
    "Julia documentation https://docs.julialang.org/en/v1/\n"
   ]
  },
  {
   "cell_type": "code",
   "execution_count": 1,
   "metadata": {},
   "outputs": [
    {
     "name": "stderr",
     "output_type": "stream",
     "text": [
      "\u001b[32m\u001b[1m    Updating\u001b[22m\u001b[39m registry at `C:\\Users\\kmpetersson\\.julia\\registries\\General.toml`\n",
      "\u001b[32m\u001b[1m   Resolving\u001b[22m\u001b[39m package versions...\n",
      "\u001b[32m\u001b[1m    Updating\u001b[22m\u001b[39m `C:\\Users\\kmpetersson\\.julia\\environments\\v1.7\\Project.toml`\n",
      " \u001b[90m [4ec0a83e] \u001b[39m\u001b[92m+ Unicode\u001b[39m\n",
      "\u001b[32m\u001b[1m  No Changes\u001b[22m\u001b[39m to `C:\\Users\\kmpetersson\\.julia\\environments\\v1.7\\Manifest.toml`\n"
     ]
    }
   ],
   "source": [
    "using Pkg\n",
    "Pkg.add(\"Unicode\")\n",
    "using Unicode"
   ]
  },
  {
   "cell_type": "markdown",
   "metadata": {},
   "source": [
    "## Chapter 08 -- Strings\n",
    "\n",
    "A **string** is a sequence of characters, or Chars, which means it is an **ordered collection of other character values** and therefore a so-called *iterable**. Char is a datatype of its own.\n",
    "\n",
    "### Characters\n",
    "\n",
    "English language speakers are familiar with **characters** such as the letters of the alphabet (A, B, C,…), numerals, and common punctuation symbols. \n",
    "\n",
    "These characters are standardized and mapped to integer values between 0 and 127 by the **ASCII standard** (American Standard Code for Information Interchange)."
   ]
  },
  {
   "cell_type": "code",
   "execution_count": 3,
   "metadata": {},
   "outputs": [
    {
     "data": {
      "text/plain": [
       "65:90"
      ]
     },
     "metadata": {},
     "output_type": "display_data"
    }
   ],
   "source": [
    "Int('A'):Int('Z')"
   ]
  },
  {
   "cell_type": "code",
   "execution_count": 4,
   "metadata": {},
   "outputs": [
    {
     "data": {
      "text/plain": [
       "97:122"
      ]
     },
     "metadata": {},
     "output_type": "display_data"
    }
   ],
   "source": [
    "Int('a'):Int('z')"
   ]
  },
  {
   "cell_type": "code",
   "execution_count": 5,
   "metadata": {},
   "outputs": [
    {
     "data": {
      "text/plain": [
       "']': ASCII/Unicode U+005D (category Pe: Punctuation, close)"
      ]
     },
     "metadata": {},
     "output_type": "display_data"
    }
   ],
   "source": [
    "Char(93)"
   ]
  },
  {
   "cell_type": "markdown",
   "metadata": {},
   "source": [
    "There are many other characters used in non-English languages, including variants of the ASCII characters with accents and other modifications, related scripts such as Cyrillic and Greek, and scripts completely unrelated to ASCII and English, including Arabic, Chinese, Hebrew, Hindi, Japanese, and Korean.\n",
    "\n",
    "The **Unicode standard** (https://en.wikipedia.org/wiki/Unicode) tackles the complexities of what exactly a character is, and is generally accepted as the definitive standard addressing this problem. It provides a unique number for every character on a world-wide scale.\n",
    "\n",
    "A **Char** represents a single character and is surrounded by single quotes:\n",
    "\n",
    "```Julia\n",
    "\tjulia> 'x'\n",
    "\t\t'x': ASCII/Unicode U+0078 (category Ll: Letter, lowercase)\n",
    "\tjulia> '🍌'\n",
    "\t\t'🍌': Unicode U+01f34c (category So: Symbol, other)\n",
    "\tjulia> typeof('x')\n",
    "\t\tChar\n",
    "```\n",
    "\n",
    "Also emojis are part of the Unicode standard."
   ]
  },
  {
   "cell_type": "code",
   "execution_count": 7,
   "metadata": {},
   "outputs": [
    {
     "data": {
      "text/plain": [
       "'x': ASCII/Unicode U+0078 (category Ll: Letter, lowercase)"
      ]
     },
     "metadata": {},
     "output_type": "display_data"
    }
   ],
   "source": [
    "'x'"
   ]
  },
  {
   "cell_type": "code",
   "execution_count": 8,
   "metadata": {},
   "outputs": [
    {
     "data": {
      "text/plain": [
       "'🍌': Unicode U+1F34C (category So: Symbol, other)"
      ]
     },
     "metadata": {},
     "output_type": "display_data"
    }
   ],
   "source": [
    "'🍌'    # ' \\:banana:<TAB> '"
   ]
  },
  {
   "cell_type": "code",
   "execution_count": 9,
   "metadata": {},
   "outputs": [
    {
     "data": {
      "text/plain": [
       "Char"
      ]
     },
     "metadata": {},
     "output_type": "display_data"
    }
   ],
   "source": [
    "typeof('🍌')"
   ]
  },
  {
   "cell_type": "code",
   "execution_count": 12,
   "metadata": {},
   "outputs": [
    {
     "data": {
      "text/plain": [
       "3.5"
      ]
     },
     "metadata": {},
     "output_type": "display_data"
    }
   ],
   "source": [
    "🐫 = 3.5"
   ]
  },
  {
   "cell_type": "code",
   "execution_count": 13,
   "metadata": {},
   "outputs": [
    {
     "data": {
      "text/plain": [
       "Float64"
      ]
     },
     "metadata": {},
     "output_type": "display_data"
    }
   ],
   "source": [
    "typeof(🐫)"
   ]
  },
  {
   "cell_type": "markdown",
   "metadata": {},
   "source": [
    "### A string is a sequence of characters\n",
    "\n",
    "A _`string`_ is a sequence of characters, indicated by **\"string\"**, and you can access these characters one at a time with the **bracket operator**:\n",
    "\n",
    "```Julia\n",
    "\tjulia> fruit = \"banana\"\n",
    "\t\t\"banana\"\n",
    "\tjulia> letter = fruit[1]\n",
    "\t\t'b': ASCII/Unicode U+0062 (category Ll: Letter, lowercase)\n",
    "```\n",
    "\n",
    "The second statement selects character number 1 from fruit and assigns it to letter. The expression in brackets is called an **index**. The index indicates which character in the sequence you want.\n",
    "\n",
    "All indexing in Julia is 1-based: the first element of any integer-indexed object is found at index 1 and the last element at **index end**:"
   ]
  },
  {
   "cell_type": "code",
   "execution_count": 14,
   "metadata": {},
   "outputs": [
    {
     "data": {
      "text/plain": [
       "'b': ASCII/Unicode U+0062 (category Ll: Letter, lowercase)"
      ]
     },
     "metadata": {},
     "output_type": "display_data"
    }
   ],
   "source": [
    "fruit = \"banana\"\n",
    "fruit[begin]"
   ]
  },
  {
   "cell_type": "markdown",
   "metadata": {},
   "source": [
    "### Index expressions\n",
    "\n",
    "You can use any expression that contains variables and operators and evaluates to a natural number as an index:"
   ]
  },
  {
   "cell_type": "code",
   "execution_count": 15,
   "metadata": {},
   "outputs": [
    {
     "data": {
      "text/plain": [
       "'a': ASCII/Unicode U+0061 (category Ll: Letter, lowercase)"
      ]
     },
     "metadata": {},
     "output_type": "display_data"
    }
   ],
   "source": [
    "i = 3; fruit[i+1]"
   ]
  },
  {
   "cell_type": "code",
   "execution_count": 16,
   "metadata": {},
   "outputs": [
    {
     "data": {
      "text/plain": [
       "'n': ASCII/Unicode U+006E (category Ll: Letter, lowercase)"
      ]
     },
     "metadata": {},
     "output_type": "display_data"
    }
   ],
   "source": [
    "fruit[end - 1]"
   ]
  },
  {
   "cell_type": "code",
   "execution_count": 17,
   "metadata": {},
   "outputs": [
    {
     "data": {
      "text/plain": [
       "6"
      ]
     },
     "metadata": {},
     "output_type": "display_data"
    }
   ],
   "source": [
    "length(fruit)"
   ]
  },
  {
   "cell_type": "markdown",
   "metadata": {},
   "source": [
    "**length** is a built-in function that returns the number of characters in a string:\n",
    "\n",
    "```Julia\n",
    "\tjulia> fruits = \"🍌 🍎 🍐\"\n",
    "\t\t\"🍌 🍎 🍐\"\n",
    "\n",
    "\tjulia> len = length(fruits)\n",
    "\t\t5\n",
    "```\n",
    "\n",
    "However, to get the last letter of a string, you might be tempted to try something like this:\n",
    "\n",
    "```Julia\n",
    "\tjulia> last = fruits[len]\n",
    "\t\t' ': ASCII/Unicode U+0020 (category Zs: Separator, space)\n",
    "```\n",
    "\n",
    "But you might not get what you expect."
   ]
  },
  {
   "cell_type": "code",
   "execution_count": 18,
   "metadata": {},
   "outputs": [
    {
     "data": {
      "text/plain": [
       "14"
      ]
     },
     "metadata": {},
     "output_type": "display_data"
    }
   ],
   "source": [
    "fruits = \"🍌 🍎 🍐\"\n",
    "sizeof(fruits)"
   ]
  },
  {
   "cell_type": "markdown",
   "metadata": {},
   "source": [
    "### String indexing is byte based\n",
    "\n",
    "UTF-8 is a **variable-width encoding**, meaning that not all characters are encoded in the same **number of bytes**.\n",
    "\n",
    "The function **sizeof** gives the number of bytes in a string:\n",
    "\n",
    "```Julia\n",
    "\tjulia> sizeof(\"🍌\")\n",
    "\t\t4\n",
    "```\n",
    "\n",
    "Because an emoji is encoded in 4 bytes and **string indexing is byte based**.\n",
    "\n",
    "This means that not every byte index into a UTF-8 string is necessarily a valid index for a character. If you index into a string at such an invalid byte index, an error is thrown:\n",
    "\n",
    "```Julia\n",
    "\tjulia> fruits[2]\n",
    "\t\tERROR: StringIndexError(\"🍌 🍎 🍐\", 2)\n",
    "```\n",
    "\n",
    "In the case of fruits, the character 🍌 is a 4-byte character, so the indices 2, 3 and 4 are invalid and the next character’s index is 5; this next valid index can be computed with **nextind**, i.e., nextind(fruits, 1), and the next index after that by nextind(fruits, 5) and so on."
   ]
  },
  {
   "cell_type": "markdown",
   "metadata": {},
   "source": [
    "### String traversal\n",
    "\n",
    "A lot of computations involve processing a string one character at a time. Often they start at the beginning, select each character in turn, do something with it, and continue until the end. This pattern of processing is called a **string traversal**. \n",
    "\n",
    "One way to write a traversal is with a while loop:\n",
    "\n",
    "```Julia\n",
    "\tindex = firstindex(fruits)\n",
    "\twhile index <= sizeof(fruits)\n",
    "\t\tletter = fruits[index]\n",
    "\t\tprintln(letter)\n",
    "\t\tindex = nextind(fruits, index)\n",
    "\tend\n",
    "```\n",
    "\n",
    "This loop traverses the string and displays each letter on a line by itself. The loop condition is index <= sizeof(fruit), so when index is larger than the number of bytes in the string, the condition is false, and the body of the loop does not run. The function **firstindex** returns the first valid byte index. "
   ]
  },
  {
   "cell_type": "code",
   "execution_count": 23,
   "metadata": {},
   "outputs": [
    {
     "name": "stdout",
     "output_type": "stream",
     "text": [
      "🍌\n",
      " \n",
      "🍎\n",
      " \n",
      "🍐\n",
      " \n",
      "🍎\n",
      " \n",
      "🍎\n",
      " \n",
      "🍌\n"
     ]
    }
   ],
   "source": [
    "function traverse(str)      # function definition\n",
    "    index = firstindex(str)\n",
    "    while index <= sizeof(str) \n",
    "        letter = str[index]\n",
    "        print(letter, '\\n')\n",
    "        index = nextind(str, index)\n",
    "    end\n",
    "end\n",
    "\n",
    "\n",
    "#---\n",
    "\n",
    "fruits = \"🍌 🍎 🍐 🍎 🍎 🍌\"  # variable assignment or initialization\n",
    "\n",
    "traverse(fruits)        # function call"
   ]
  },
  {
   "cell_type": "markdown",
   "metadata": {},
   "source": [
    "### Exercise 8-1\n",
    "\n",
    "Write a function that takes a string as an argument and displays the letters backward, one per line."
   ]
  },
  {
   "cell_type": "markdown",
   "metadata": {},
   "source": [
    "Another way to write a traversal is with a for loop and use the string as an **iterable** datatype:"
   ]
  },
  {
   "cell_type": "code",
   "execution_count": 24,
   "metadata": {},
   "outputs": [
    {
     "name": "stdout",
     "output_type": "stream",
     "text": [
      "🍌\n",
      " \n",
      "🍎\n",
      " \n",
      "🍐\n",
      " \n",
      "🍎\n",
      " \n",
      "🍎\n",
      " \n",
      "🍌\n"
     ]
    }
   ],
   "source": [
    "for letter in fruits\n",
    "    println(letter)\n",
    "end"
   ]
  },
  {
   "cell_type": "markdown",
   "metadata": {},
   "source": [
    "Each time through the loop, the next character in the string is assigned to the variable letter. The loop continues until no characters are left.\n",
    "\n",
    "The following example shows how to use **concatenation (string multiplication)** and a for-loop to generate an abecedarian series (that is, in alphabetical order). \n",
    "\n",
    "In Robert McCloskey’s book **Make Way for Ducklings**, the names of the ducklings are Jack, Kack, Lack, Mack, Nack, Ouack, Pack, and Quack. This loop outputs these names in order:\n",
    "\n",
    "```Julia\n",
    "\tprefixes = \"JKLMNOPQ\"\n",
    "\tsuffix = \"ack\"\n",
    "\n",
    "\tfor letter in prefixes\n",
    "\t\tprintln(letter * suffix)\n",
    "\tend\n",
    "\n",
    "\tOutput:\n",
    "\n",
    "\tJack\n",
    "\tKack\n",
    "\tLack\n",
    "\tMack\n",
    "\tNack\n",
    "\tOack\n",
    "\tPack\n",
    "\tQack\n",
    "```\n",
    "Of course, that is not quite right because “Ouack” and “Quack” are misspelled.\n",
    "\n",
    "### Exercise 8-2\n",
    "\n",
    "Modify the program to fix this error."
   ]
  },
  {
   "cell_type": "markdown",
   "metadata": {},
   "source": [
    "### String slices\n",
    "\n",
    "A segment of a sequence or a string is called a **slice**. Selecting a slice is similar to selecting a character:\n",
    "\n",
    "```Julia\n",
    "\tjulia> str = \"Julius Caesar\";\n",
    "\n",
    "\tjulia> str[1:6]\n",
    "\t\t\"Julius\"\n",
    "```\n",
    "\n",
    "The **operator [n:m]** returns the part of the string **from the n-th byte to the m-th byte**. So the same caution is needed as for simple indexing. The **end** keyword can be used to indicate the last byte of the string:\n",
    "\n",
    "```Julia\n",
    "\tjulia> str[8:end]\n",
    "\t\t\"Caesar\"\n",
    "```\n",
    "\n",
    "If the first index is greater than the second the result is an **empty string**, represented by two quotation marks:\n",
    "\n",
    "```Julia\n",
    "\tjulia> str[8:7]\n",
    "\t\t\"\"\n",
    "```\n",
    "\n",
    "An empty string contains no characters and has length 0, but other than that, it is the same as any other string."
   ]
  },
  {
   "cell_type": "markdown",
   "metadata": {},
   "source": [
    "### Exercise 8-3\n",
    "\n",
    "Continuing this example, what do you think str[:] means? Try it and see."
   ]
  },
  {
   "cell_type": "markdown",
   "metadata": {},
   "source": [
    "### Strings are immutable\n",
    "\n",
    "It is tempting to use the [ ] operator on the left side of an assignment, with the intention of changing a character in a string. For example:"
   ]
  },
  {
   "cell_type": "code",
   "execution_count": 25,
   "metadata": {},
   "outputs": [
    {
     "ename": "MethodError",
     "evalue": "MethodError: no method matching setindex!(::String, ::Char, ::Int64)",
     "output_type": "error",
     "traceback": [
      "MethodError: no method matching setindex!(::String, ::Char, ::Int64)\n",
      "\n",
      "Stacktrace:\n",
      " [1] top-level scope\n",
      "   @ e:\\aaa-Julia-course-2022\\lectures\\a-ThinkJulia-lecture-08.ipynb:2"
     ]
    }
   ],
   "source": [
    "greeting = \"Hello, world!\"\n",
    "greeting[1] = 'J'"
   ]
  },
  {
   "cell_type": "markdown",
   "metadata": {},
   "source": [
    "The reason for the error is that strings are **immutable**, which means you cannot change an existing string. **The best you can do is create a new string that is a variation on the original**:"
   ]
  },
  {
   "cell_type": "code",
   "execution_count": 26,
   "metadata": {},
   "outputs": [
    {
     "data": {
      "text/plain": [
       "\"Jello, world!\""
      ]
     },
     "metadata": {},
     "output_type": "display_data"
    }
   ],
   "source": [
    "greetingJ = \"J\" * greeting[2:end]"
   ]
  },
  {
   "cell_type": "markdown",
   "metadata": {},
   "source": [
    "This example concatenates a new first letter onto a slice of greeting. It has no effect on the original string.\n",
    "\n",
    "### String interpolation\n",
    "\n",
    "Constructing strings using concatenation can become a bit cumbersome. To reduce the need for these verbose calls to strings or repeated multiplications, Julia allows **string interpolation using $**:\n",
    "\n",
    "```Julia\n",
    "\tjulia> greet = \"Hello\"\n",
    "\t\t\"Hello\"\n",
    "\n",
    "\tjulia> whom = \"World\"\n",
    "\t\t\"World\"\n",
    "\n",
    "\tjulia> \"$greet, $(whom)!\"\n",
    "\t\t\"Hello, World!\"\n",
    "```\n",
    "\n",
    "This is more readable and convenient than string concatenation: \n",
    "\n",
    "```Julia\n",
    "\tjulia> greet * \", \" * whom * \"!\"\n",
    "```\n",
    "\n",
    "The **shortest complete expression after the $** is taken as the expression whose value is to be interpolated into the string. Thus, you can interpolate any expression into a string using parentheses:\n",
    "\n",
    "```Julia\n",
    "\tjulia> \"1 + 2 = $(1 + 2)\"\n",
    "\t\t\"1 + 2 = 3\"\n",
    "```"
   ]
  },
  {
   "cell_type": "markdown",
   "metadata": {},
   "source": [
    "### String search\n",
    "\n",
    "What does the following function do?\n",
    "\n",
    "```Julia\n",
    "\tfunction find(word::String, letter::Char)\n",
    "\t\tindex = firstindex(word)\n",
    "\t\twhile index <= sizeof(word)\n",
    "\t\t\tif word[index] == letter\n",
    "\t\t\t\treturn index\n",
    "\t\t\tend\n",
    "\t\t\tindex = nextind(word, index)\n",
    "\t\tend\n",
    "\t\treturn -1\n",
    "\tend\n",
    "```\n",
    "\n",
    "In a sense, `find` is the inverse of the `bracket [] operator`. Instead of taking an index and extracting the corresponding character, it takes a character and finds the first index where that character appears in the string word. If the character is not found, the function returns -1.\n",
    "\n",
    "This is the first example we have seen of a return statement inside a loop. \n",
    "\n",
    "If word[index] == letter, the function breaks out of the loop and returns immediately. If the character does not appear in the string, the program exits the loop normally and returns -1.\n",
    "\n",
    "This pattern of computation—traversing a sequence and returning when we find what we are looking for—is called a **search**.\n",
    "\n",
    "### Exercise 8-4\n",
    "\n",
    "Modify find so that it has a third parameter, the index in word where it should start looking."
   ]
  },
  {
   "cell_type": "markdown",
   "metadata": {},
   "source": [
    "### Looping and counting\n",
    "\n",
    "The following program counts the number of times the letter a appears in a string:\n",
    "\n",
    "```Julia\n",
    "\tword = \"banana\"\n",
    "\tcounter = 0\n",
    "\n",
    "\tfor letter in word\n",
    "\t\tif letter == 'a'\n",
    "\t\t\tcounter += 1\n",
    "\t\tend\n",
    "\tend\n",
    "\n",
    "\tprintln(counter)\n",
    "```\n",
    "\n",
    "This program demonstrates another pattern of computation called a **counter**. \n",
    "\n",
    "The variable counter is initialized to 0 and then incremented each time an `'a'` is found. When the loop exits, counter contains the result—the total number of a’s in the string.\n",
    "\n",
    "### Exercise 8-5\n",
    "\n",
    "Encapsulate this code in a function named count, and generalize it so that it accepts the string and the letter as arguments. Then rewrite the function so that instead of traversing the string, it uses the three-parameter version of find from the previous section."
   ]
  },
  {
   "cell_type": "markdown",
   "metadata": {},
   "source": [
    "### String library\n",
    "\n",
    "Julia provides functions that perform a variety of useful operations on strings. For example, the function **uppercase** takes a string and returns a new string with all uppercase letters.\n",
    "\n",
    "```Julia\n",
    "\tjulia> uppercase(\"Hello, World!\")\n",
    "\t\t\"HELLO, WORLD!\"\n",
    "```\n",
    "\n",
    "As it turns out, there is a function named **findfirst** that is remarkably similar to the function find we wrote:\n",
    "\n",
    "```Julia\n",
    "\tjulia> findfirst(\"a\", \"banana\")\n",
    "\t\t2:2\n",
    "```\n",
    "\n",
    "Actually, the findfirst function is more general than our function; it can find **substrings**, not just characters:\n",
    "\n",
    "```Julia\n",
    "\tjulia> findfirst(\"na\", \"banana\")\n",
    "\t\t3:4\n",
    "```\n",
    "\n",
    "By default, findfirst starts at the beginning of the string, but the function **findnext** takes a third argument, the index where it should start:\n",
    "\n",
    "```Julia\n",
    "\tjulia> findnext(\"na\", \"banana\", 4)\n",
    "\t\t5:6\n",
    "```\n",
    "\n",
    "### The _in_ or _∈_ Operator\n",
    "\n",
    "The operator **∈** (\\in<TAB>) is a boolean operator that takes a character and a string and returns true if the first appears in the second:\n",
    "\n",
    "```Julia\n",
    "\tjulia> 'a' ∈ \"banana\"    # 'a' in \"banana\"\n",
    "\t\ttrue\n",
    "```\n",
    "\n",
    "For example, the following function prints all the letters from word1 that also appear in word2:"
   ]
  },
  {
   "cell_type": "code",
   "execution_count": 27,
   "metadata": {},
   "outputs": [
    {
     "name": "stdout",
     "output_type": "stream",
     "text": [
      "l e s     o e s "
     ]
    }
   ],
   "source": [
    "function inboth(word1, word2)\t\n",
    "    for letter in word1\n",
    "        if letter in word2\n",
    "            print(letter, \" \")\n",
    "        end\n",
    "    end\n",
    "end\n",
    "\n",
    "#---\n",
    "\n",
    "inboth(\"apples and oranges\", \"see below\")"
   ]
  },
  {
   "cell_type": "markdown",
   "metadata": {},
   "source": [
    "### String comparison\n",
    "\n",
    "The relational operators work on strings. To see if two strings are equal:\n",
    "\n",
    "```Julia\n",
    "\tword = \"Pineapple\"\n",
    "\tif word == \"banana\"\n",
    "\t\tprintln(\"All right, bananas.\")\n",
    "\tend\n",
    "```\n",
    "\n",
    "Other relational operations are useful for putting words in alphabetical order:"
   ]
  },
  {
   "cell_type": "code",
   "execution_count": 28,
   "metadata": {},
   "outputs": [
    {
     "name": "stdout",
     "output_type": "stream",
     "text": [
      "Your word, banAna, comes before banana.\n"
     ]
    }
   ],
   "source": [
    "function word_comparison(word)\n",
    "    if word < \"banana\"\n",
    "        println(\"Your word, $word, comes before banana.\")\n",
    "    elseif word > \"banana\"\n",
    "        println(\"Your word, $word, comes after banana.\")\n",
    "    else\n",
    "        println(\"All right, bananas.\")\n",
    "    end\n",
    "end\n",
    "\n",
    "word_comparison(\"banAna\")"
   ]
  },
  {
   "cell_type": "markdown",
   "metadata": {},
   "source": [
    "Julia does not handle uppercase and lowercase letters the same way people do. All the uppercase letters come before all the lowercase letters, so: Your word, Pineapple, comes before banana. A common way to address this problem is to convert strings to a standard format, such as all lowercase, before performing the comparison."
   ]
  },
  {
   "cell_type": "markdown",
   "metadata": {},
   "source": [
    "### Debugging\n",
    "\n",
    "When you use indices to traverse the values in a sequence, it is tricky to get the beginning and end of the traversal right. Here is a function that is supposed to compare two words and return true if one of the words is the reverse of the other, but it contains two errors:\n",
    "\n",
    "```Julia\n",
    "\tfunction isreverse(word1::String, word2::String)\n",
    "\t\tif length(word1) != length(word2)\n",
    "\t\t\treturn false\n",
    "\t\tend\n",
    "\n",
    "\t\ti = firstindex(word1)\n",
    "\t\tj = lastindex(word2)\n",
    "\t\twhile j >= 0\n",
    "\t\t\tj = prevind(word2, j)\n",
    "\t\t\tif word1[i] != word2[j]\n",
    "\t\t\t\treturn false\n",
    "\t\t\tend\n",
    "\t\t\ti = nextind(word1, i)\n",
    "\t\tend\n",
    "\t\treturn true\n",
    "\tend\n",
    "```\n",
    "\n",
    "The first if statement checks whether the words are the same length. If not, we can return false immediately. Otherwise, for the rest of the function, we can assume that the words are the same length. This is an example of the **guardian pattern**.\n",
    "\n",
    "i and j are indices: i traverses word1 forward while j traverses word2 backward. If we find two letters that do not match, we can return false immediately. If we get through the whole loop and all the letters match, we return true.\n",
    "\n",
    "The function **lastindex** returns the last valid byte index of a string and **prevind** the previous valid index of a character.\n",
    "\n",
    "If we test this function with the words \"pots\" and \"stop\", we expect the return value true, but we get false:\n",
    "\n",
    "```Julia\n",
    "\tjulia> isreverse(\"pots\", \"stop\")\n",
    "\t\tfalse\n",
    "```\n",
    "\n",
    "For debugging this kind of error, my first move is to print the values of the indices:\n",
    "\n",
    "```Julia\n",
    "\twhile j >= 0\n",
    "\t\tj = prevind(word2, j)\n",
    "\t\t@show i j\n",
    "\t\tif word1[i] != word2[j]\n",
    "```\n",
    "\n",
    "Now when I run the program again, I get more information:\n",
    "\n",
    "```Julia\n",
    "\tjulia> isreverse(\"pots\", \"stop\")\n",
    "\t\ti = 1\n",
    "\t\tj = 3\n",
    "\t\tfalse\n",
    "```\n",
    "\n",
    "The first time through the loop, the value of j is 3 but it should be 4. This can be fixed by moving j = prevind(word2, j) to the end of the while loop.\n",
    "\n",
    "```Julia\n",
    "\tfunction isreverse(word1::String, word2::String)\n",
    "\t\tif length(word1) != length(word2)\n",
    "\t\t\treturn false\n",
    "\t\tend\n",
    "\n",
    "\t\ti = firstindex(word1)\n",
    "\t\tj = lastindex(word2)\n",
    "\t\twhile j >= 0\n",
    "\t\t\t@show i j\n",
    "\t\t\tif word1[i] != word2[j]\n",
    "\t\t\t\treturn false\n",
    "\t\t\tend\n",
    "\t\t\ti = nextind(word1, i)\n",
    "\t\t\tj = prevind(word2, j)\t#  moving j = prevind(word2, j) here\n",
    "\t\tend\n",
    "\t\treturn true\n",
    "\tend\n",
    "```\n",
    "\n",
    "If I fix that error and run the program again, I get:\n",
    "\n",
    "```Julia\n",
    "\tjulia> isreverse(\"pots\", \"stop\")\n",
    "\t\ti = 1\n",
    "\t\tj = 4\n",
    "\t\ti = 2\n",
    "\t\tj = 3\n",
    "\t\ti = 3\n",
    "\t\tj = 2\n",
    "\t\ti = 4\n",
    "\t\tj = 1\n",
    "\t\ti = 5\n",
    "\t\tj = 0\n",
    "\tERROR: BoundsError: attempt to access \"pots\"\n",
    "\t\tat index [5]\n",
    "```\n",
    "\n",
    "### Exercise 8-6\n",
    "\n",
    "Find and fix the second error in this function."
   ]
  },
  {
   "cell_type": "markdown",
   "metadata": {},
   "source": [
    "## Exercises\n",
    "\n",
    "### Exercise 8-7\n",
    "\n",
    "Read the documentation of the string functions at https://docs.julialang.org/en/v1/manual/strings/. \n",
    "\n",
    "You might want to experiment with some of them to make sure you understand how they work. **strip** and **replace** are particularly useful. The documentation uses a syntax that might be confusing. For example, in \n",
    "\n",
    "```Julia\n",
    "\tsearch(string::AbstractString, chars::Chars, [start::Integer])\n",
    "```\n",
    "\n",
    "the brackets indicate **optional arguments** and **::** represent a type specification. So string and chars are required, but start is optional."
   ]
  },
  {
   "cell_type": "markdown",
   "metadata": {},
   "source": [
    "### Exercise 8-8\n",
    "\n",
    "There is a built-in function called `count` that is similar to the function in Looping and Counting. Read the documentation of this function and use it to count the number of a’s in \"banana\"."
   ]
  },
  {
   "cell_type": "markdown",
   "metadata": {},
   "source": [
    "### Exercise 8-9\n",
    "\n",
    "A string slice can take a third index. The first specifies the start, the third the end and the second the **step size**; that is, the number of spaces between successive characters. A step size of 2 means every other character; 3 means every third, etc.\n",
    "\n",
    "```Julia\n",
    "\tjulia> fruit = \"banana\"\n",
    "\t\"banana\"\n",
    "\n",
    "\tjulia> fruit[1:2:6]\n",
    "\t\"bnn\"\n",
    "```\n",
    "\n",
    "A step size of -1 goes through the word backwards, so the slice **[end:-1:1]** generates a reversed string. Use this idiom to write a one-line version of ispalindrome from Exercise 6-6.\n"
   ]
  },
  {
   "cell_type": "code",
   "execution_count": 29,
   "metadata": {},
   "outputs": [
    {
     "data": {
      "text/plain": [
       "true"
      ]
     },
     "metadata": {},
     "output_type": "display_data"
    }
   ],
   "source": [
    "function ispalindrome(str)\n",
    "\treturn str[end:-1:1] == str\n",
    "end\n",
    "\n",
    "ispalindrome(\"apa\")"
   ]
  },
  {
   "cell_type": "markdown",
   "metadata": {},
   "source": [
    "### Exercise 8-10\n",
    "\n",
    "The following functions are all intended to check whether a string contains any lowercase letters, but at least some of them are wrong. For each function, describe what the function actually does (assuming that the parameter is a string).\n",
    "\n",
    "```Julia\n",
    "\tfunction anylowercase1(s)\n",
    "\t\tfor c in s\n",
    "\t\t\tif islowercase(c)\n",
    "\t\t\t\treturn true\n",
    "\t\t\telse\n",
    "\t\t\t\treturn false\n",
    "\t\t\tend\n",
    "\t\tend\n",
    "\tend\n",
    "```\n",
    "\n",
    "```Julia\n",
    "\tfunction anylowercase2(s)\n",
    "\t\tfor c in s\n",
    "\t\t\tif islowercase('c')\n",
    "\t\t\t\treturn \"true\"\n",
    "\t\t\telse\n",
    "\t\t\t\treturn \"false\"\n",
    "\t\t\tend\n",
    "\t\tend\n",
    "\tend\n",
    "```\n",
    "\n",
    "```Julia\n",
    "\tfunction anylowercase3(s)\n",
    "\t\tfor c in s\n",
    "\t\t\tflag = islowercase(c)\n",
    "\t\tend\n",
    "\t\tflag\n",
    "\tend\n",
    "```\n",
    "\n",
    "```Julia\n",
    "\tfunction anylowercase4(s)\n",
    "\t\tflag = false\n",
    "\t\tfor c in s\n",
    "\t\t\tflag = flag || islowercase(c)\n",
    "\t\tend\n",
    "\t\tflag\n",
    "\tend\n",
    "```\n",
    "\n",
    "```Julia\n",
    "\tfunction anylowercase5(s)\n",
    "\t\tfor c in s\n",
    "\t\t\tif !islowercase(c)\n",
    "\t\t\t\treturn false\n",
    "\t\t\tend\n",
    "\t\tend\n",
    "\t\ttrue\n",
    "\tend\n",
    "```"
   ]
  },
  {
   "cell_type": "markdown",
   "metadata": {},
   "source": [
    "### Exercise 8-11\n",
    "\n",
    "A Caesar cypher is a weak form of encryption that involves “rotating” each letter by a fixed number of places. To rotate a letter means to shift it through the alphabet, wrapping around to the beginning if necessary, so ’A’ rotated by 3 is ’D’ and ’Z’ rotated by 1 is ’A’. To rotate a word, rotate each letter by the same amount. For example, \"cheer\" rotated by 7 is \"jolly\".\n",
    "\n",
    "Write a function called rotateword that takes a string and an integer as parameters, and returns a new string that contains the letters from the original string rotated by the given amount.\n",
    "\n",
    "You might want to use the built-in function **Int**, which converts a character to a numeric code, and Char, which converts numeric codes to characters. Letters of the alphabet are encoded in alphabetical order, so for example:\n",
    "\n",
    "```Julia\n",
    "\tjulia> Int('c') - Int('a')\n",
    "\t\t2\n",
    "```\n",
    "\n",
    "Because c is the third letter of the alphabet. But beware: the numeric codes for uppercase letters are different.\n",
    "\n",
    "```Julia\n",
    "\tjulia> Char(Int('A') + 32)\n",
    "\t\t'a': ASCII/Unicode U+0061 (category Ll: Letter, lowercase)\n",
    "```"
   ]
  },
  {
   "cell_type": "code",
   "execution_count": null,
   "metadata": {},
   "outputs": [],
   "source": []
  }
 ],
 "metadata": {
  "kernelspec": {
   "display_name": "Julia 1.7.2",
   "language": "julia",
   "name": "julia-1.7"
  },
  "language_info": {
   "file_extension": ".jl",
   "mimetype": "application/julia",
   "name": "julia",
   "version": "1.7.2"
  },
  "orig_nbformat": 4,
  "vscode": {
   "interpreter": {
    "hash": "8e72a6ea8ae570bc9b562cd7a1d6883761b9cd7ac49ad6b17855b6c636bf0317"
   }
  }
 },
 "nbformat": 4,
 "nbformat_minor": 2
}
