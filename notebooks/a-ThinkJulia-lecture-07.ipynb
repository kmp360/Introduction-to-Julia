{
 "cells": [
  {
   "cell_type": "markdown",
   "metadata": {},
   "source": [
    "kmp\n",
    "\n",
    "Based on **Ben Lauwens & Allen Downey \"Think Julia: How to Think Like a Computer Scientist\"** \n",
    "\n",
    "https://benlauwens.github.io/ThinkJulia.jl/latest/book.html\n",
    "\n",
    "Resources:\n",
    "\n",
    "Julia webpage https://julialang.org/ \n",
    "\n",
    "Julia documentation https://docs.julialang.org/en/v1/\n"
   ]
  },
  {
   "cell_type": "markdown",
   "metadata": {},
   "source": [
    "## Chapter 07 -- Iteration\n",
    "\n",
    "https://benlauwens.github.io/ThinkJulia.jl/latest/book.html#chap07\n",
    "\n",
    "**Iteration is the ability to run a block of statements repeatedly**. Examples of are `recursion` and `for-loops`.\n",
    "\n",
    "### Variable assignment and reassignment\n",
    "\n",
    "As you may have discovered, it is legal to make more than one assignment to the same variable. A new assignment makes an existing variable refer to a new value (and stop referring to the old value).\n",
    "\n",
    "```Julia\n",
    "\tjulia> x = 5\n",
    "\t\t5\n",
    "\n",
    "\tjulia> x = 7\n",
    "\t\t7\n",
    "```\n",
    "\n",
    "The first time we display x, its value is 5; the second time, its value is 7. A common source of confusion. Because Julia uses the **equal sign (=) for assignment**, it is tempting to interpret a statement like a = b as a mathematical proposition of equality; that is, the claim that a and b are equal. But this interpretation is wrong. First, equality is a symmetric relationship and assignment is not. For example, in mathematics, if a = 7 then 7 = a. But in Julia, the statement a = 7 is legal and 7 = a is not. Also, in mathematics, a proposition of equality is either true or false for all time. If a = b now, then a will always equal b. In Julia, an assignment statement can make two variables equal, but they don’t have to stay that way:\n",
    "\n",
    "```Julia\n",
    "\tjulia> a = 5\n",
    "\t\t5\n",
    "\n",
    "\tjulia> b = a    # a and b are now equal\n",
    "\t\t5\n",
    "\n",
    "\tjulia> a = 3    # a and b are no longer equal\n",
    "\t\t3\n",
    "\n",
    "\tjulia> b\n",
    "\t\t5\n",
    "```\n",
    "\n",
    "The third line changes the value of a but does not change the value of b, so they are no longer equal. **Reassigning variables** is often useful, but you should use it with care. If the values of variables change frequently, it can make the code difficult to read and debug. It is illegal to define a function that has the same name as a previously defined variable.\n",
    "\n",
    "### Updating variables\n",
    "\n",
    "A common kind of reassignment is an **update**, where the new value of the variable depends on the old.\n",
    "\n",
    "```Julia\n",
    "\tjulia> x = x + 1\n",
    "\t\t8\n",
    "```\n",
    "\n",
    "This means “get the current value of x, add one, and then update x with the new value.”\n",
    "\n",
    "If you try to update a variable that does not exist, you get an error, because Julia evaluates the right side before it assigns a value to y:"
   ]
  },
  {
   "cell_type": "code",
   "execution_count": 1,
   "metadata": {},
   "outputs": [
    {
     "ename": "UndefVarError",
     "evalue": "UndefVarError: `y` not defined",
     "output_type": "error",
     "traceback": [
      "UndefVarError: `y` not defined\n",
      "\n",
      "Stacktrace:\n",
      " [1] top-level scope\n",
      "   @ e:\\aaa-Julia-course-2023\\lectures-1.9\\a-ThinkJulia-lecture-07.ipynb:1"
     ]
    }
   ],
   "source": [
    "y = y + 1"
   ]
  },
  {
   "cell_type": "markdown",
   "metadata": {},
   "source": [
    "Updating a variable by adding `n` is called an **n-increment**; subtracting `n` is called a **n-decrement**."
   ]
  },
  {
   "cell_type": "code",
   "execution_count": 2,
   "metadata": {},
   "outputs": [
    {
     "data": {
      "text/plain": [
       "11"
      ]
     },
     "metadata": {},
     "output_type": "display_data"
    }
   ],
   "source": [
    "x = 10\n",
    "x += 1     # x = x + 1"
   ]
  },
  {
   "cell_type": "markdown",
   "metadata": {},
   "source": [
    "### The while statement\n",
    "\n",
    "Computers are often used to automate repetitive tasks. In a computer program, repetition is also called **iteration**. We have already seen two functions, `countdown` and `printn`, that iterate using recursion. Because iteration is so common, Julia provides language features to make it easier. One is the _`for statement`_ we saw in Simple Repetition.\n",
    "\n",
    "Another is the **while statement**. Here is a version of countdown that uses a while statement:\n",
    "\n",
    "```Julia\n",
    "\tfunction countdown(n)\n",
    "\t\twhile n > 0\n",
    "\t\t\tprint(n, \" \")\n",
    "\t\t\tn = n - 1\n",
    "\t\tend\n",
    "\t\tprintln(\"Blastoff!\")\n",
    "\tend\n",
    "```\n",
    "\n",
    "The **while statement** means, “While n is greater than 0, display the value of n and then decrement n. When you get to 0, display the word Blastoff!”. More formally, here is the **flow of execution** for a while statement:\n",
    "\n",
    "(1) Determine whether the condition is true or false.\n",
    "\n",
    "(2) If false, exit the while statement and continue execution at the next statement.\n",
    "\n",
    "(3) If the condition is true, run the body and then go back to step 1.\n",
    "\n",
    "This type of flow is called a **loop** because the third step loops back around to the top. The body of the loop should change the value of one or more variables so that the condition becomes false eventually and the loop terminates. Otherwise the loop will repeat forever, which is called an **infinite loop**.\n",
    "\n",
    "In the case of countdown, we can prove that the loop terminates: if n is zero or negative, the loop never runs. Otherwise, if n is a positive integer, n gets smaller each time through the loop, so eventually we have to get to 0.\n",
    "\n",
    "For some other loops, it is not so easy to tell. For example:\n",
    "\n",
    "```Julia\n",
    "\tfunction seq(n)\n",
    "\n",
    "\t\twhile n != 1\n",
    "\n",
    "\t\t\tprintln(n)\n",
    "\n",
    "\t\t\tif n % 2 == 0        # n is even\n",
    "\t\t\t\tn = n / 2\n",
    "\t\t\telse                 # n is odd\n",
    "\t\t\t\tn = n*3 + 1\n",
    "\t\t\tend\n",
    "\t\tend\n",
    "\tend\n",
    "```\n",
    "\n",
    "The condition for this loop is n != 1, so the loop will continue until n is 1, which makes the condition false. Each time through the loop, the program outputs the value of n and then checks whether it is even or odd. If it is even, n is divided by 2. If it is odd, the value of n is replaced with n*3 + 1. For example, if the argument passed to sequence is 3, the resulting values of n are 3, 10, 5, 16, 8, 4, 2, 1.\n",
    "\n",
    "Since n sometimes increases and sometimes decreases, there is no obvious way to tell whether n will ever reach 1, or that the program terminates, in general. For some particular values of n, we can prove termination. For example, if the starting value is a power of two, n will be even every time through the loop until it reaches 1. The previous example ends with such a sequence, starting with 16.\n",
    "\n",
    "The hard question is whether we can prove that this program terminates for all positive values of n. So far, no one has been able to prove it or disprove it. (See https://en.wikipedia.org/wiki/Collatz_conjecture.)"
   ]
  },
  {
   "cell_type": "code",
   "execution_count": 3,
   "metadata": {},
   "outputs": [
    {
     "name": "stdout",
     "output_type": "stream",
     "text": [
      "64.0\n",
      "32.0\n",
      "16.0\n",
      "8.0\n",
      "4.0\n",
      "2.0\n",
      "1.0\n"
     ]
    }
   ],
   "source": [
    "function seq(n)\n",
    "\n",
    "    while n != 1\n",
    "\n",
    "        if n % 2 == 0        # n is even\n",
    "            n = n / 2\n",
    "        else                 # n is odd\n",
    "            n = n*3 + 1\n",
    "        end\n",
    "        \n",
    "        println(n)\n",
    "    end\n",
    "end\n",
    "\n",
    "\n",
    "#---\n",
    "\n",
    "k = 7\n",
    "n = 2^k\n",
    "\n",
    "seq(n)"
   ]
  },
  {
   "cell_type": "markdown",
   "metadata": {},
   "source": [
    "### Exercise 7-1\n",
    "\n",
    "Rewrite the function `printn` from Recursion using iteration instead of recursion."
   ]
  },
  {
   "cell_type": "markdown",
   "metadata": {},
   "source": [
    "### The break statement\n",
    "\n",
    "Sometimes you do not know it is time to end a loop until you get half way through the body. In that case you can use the **break statement** to jump out of the loop.\n",
    "\n",
    "For example, suppose you want to take input from the user until they type done. You could write:\n",
    "\n",
    "```Julia\n",
    "\twhile true\n",
    "\n",
    "\t\tprint(\"> \")\n",
    "\t\tline = readline()\n",
    "\t\t\n",
    "\t\tif line == \"done\" || \"Done\"\n",
    "\t\t\tbreak\n",
    "\t\tend\n",
    "\t\t\n",
    "\t\tprintln(line)\n",
    "\tend\n",
    "\tprintln(\"Done!\")\n",
    "```\n",
    "\n",
    "The loop condition is true, which is always true, so the loop runs until it hits the break statement. Each time through, it prompts the user with an angle bracket. If the user types done or Done, the break statement exits the loop. Otherwise the program echoes whatever the user types and goes back to the top of the loop. Here is a sample run:\n",
    "\n",
    "```Julia\n",
    "\tjulia> not done\n",
    "\t\tnot done\n",
    "\n",
    "\tjulia> done\n",
    "\t\tDone!\n",
    "```\n",
    "\n",
    "This way of writing while loops is common because you can check the condition anywhere in the loop (not just at the top) and you can express the stop condition affirmatively (“stop when this happens”) rather than negatively (“keep going until that happens”)."
   ]
  },
  {
   "cell_type": "markdown",
   "metadata": {},
   "source": [
    "### The continue statement\n",
    "\n",
    "The break statement exits the loop. When a **continue statement** is encountered inside a loop, control jumps to the beginning of the loop for the next iteration, skipping the execution of statements inside the body of the loop for the current iteration. For example:\n",
    "\n",
    "```Julia\n",
    "\tfor i in 1:10\n",
    "\t\tif i % 3 == 0\n",
    "\t\t\tcontinue\n",
    "\t\tend\n",
    "\t\tprint(i, \" \")\n",
    "\tend\n",
    "\n",
    "\tOutput: 1 2 4 5 7 8 10\n",
    "```\n",
    "\n",
    "If i is divisible by 3, the continue statement stops the current iteration and the next iteration starts. Only the numbers in the range 1 to 10 not divisible by 3 are printed."
   ]
  },
  {
   "cell_type": "markdown",
   "metadata": {},
   "source": [
    "### Square roots\n",
    "\n",
    "Loops are often used in programs that compute numerical results by starting with an approximate answer and iteratively improving it. For example, one way of computing square roots is Newton’s method. Suppose that you want to know the square root of a. If you start with almost any estimate, x, you can compute a better estimate of the square root with the following formula:\n",
    "\n",
    "\ty = (x+a/x)/2\n",
    "\n",
    "In general we do not know ahead of time how many steps it takes to get to the right answer, but we know when we get there because the estimate stops changing. Here is a loop that starts with an initial estimate, x, and improves it until it stops changing:\n",
    "\n",
    "```Julia\n",
    "\twhile true\n",
    "\t\tprintln(x)\n",
    "\t\ty = (x + a/x) / 2\n",
    "\t\tif y == x\n",
    "\t\t\tbreak\n",
    "\t\tend\n",
    "\t\tx = y\n",
    "\tend\n",
    "```\n",
    "\n",
    "For most values of a this works fine, but **in general it is not robust to test float equality**. Floating-point values are only approximately right: most numbers cannot be represented exactly with a Float64. Rather than checking whether x and y are exactly equal, it is safer to use the built-in function abs to compute the absolute value, or magnitude, of the difference between them:\n",
    "\n",
    "```Julia\n",
    "\tif abs(y-x) < ε\n",
    "\t\tbreak\n",
    "\tend\n",
    "```\n",
    "\n",
    "Where ε (\\varepsilon<TAB>) has a small value like 0.0000001 that determines how close is close enough or you could use **isapprox(x, y)** or **≈** (\\approx TAB):\n",
    "\n",
    "\t\tif y ≈ x       # \\approx<TAB>\n",
    "\t\t\tbreak\n",
    "\t\tend\n",
    "\n",
    "### Exercise\n",
    "\n",
    "Try the above algorithm with x = -7."
   ]
  },
  {
   "cell_type": "code",
   "execution_count": 4,
   "metadata": {},
   "outputs": [
    {
     "name": "stdout",
     "output_type": "stream",
     "text": [
      "5\n",
      "\n",
      "3.4\n",
      "\n",
      "3.023529411764706\n",
      "\n",
      "3.00009155413138\n",
      "\n",
      "3.000000001396984\n",
      "\n"
     ]
    }
   ],
   "source": [
    "function my_sqrt(a, x, ε=1.0e-6)\n",
    "    while true\n",
    "        println(x)\n",
    "        println()\n",
    "        y = (x + a/x) / 2\n",
    "        if abs(y-x) < ε\n",
    "            break\n",
    "        end\n",
    "        x = y\n",
    "    end\n",
    "end\n",
    "\n",
    "my_sqrt(9, 5)"
   ]
  },
  {
   "cell_type": "code",
   "execution_count": 5,
   "metadata": {},
   "outputs": [
    {
     "name": "stdout",
     "output_type": "stream",
     "text": [
      "y = (x + a / x) / 2 = 3.4\n",
      "5\n",
      "\n",
      "3.4\n",
      "\n",
      "3.023529411764706\n",
      "\n",
      "3.00009155413138\n",
      "\n"
     ]
    }
   ],
   "source": [
    "function my_sqrt(a, x, ε=1.0e-6)\n",
    "\n",
    "    @show y = (x + a/x) / 2\n",
    "\n",
    "    while !(abs(y-x) < ε)\n",
    "        println(x)\n",
    "        println()\n",
    "        x = y\n",
    "        y = (x + a/x) / 2        \n",
    "    end\n",
    "end\n",
    "\n",
    "my_sqrt(9, 5)"
   ]
  },
  {
   "cell_type": "markdown",
   "metadata": {},
   "source": [
    "### Algorithms\n",
    "\n",
    "Newton’s method is an example of an **algorithm**: it is a mechanical process for solving a category of problems (in this case, computing square roots). Designing algorithms is interesting, intellectually challenging, and a central part of computer science."
   ]
  },
  {
   "cell_type": "markdown",
   "metadata": {},
   "source": [
    "## Exercises\n",
    "\n",
    "### Exercise 7-2\n",
    "\n",
    "Copy the loop from Square Roots and encapsulate it in a function called mysqrt that takes a as a parameter, chooses a reasonable value of x, and returns an estimate of the square root of a.\n",
    "\n",
    "To test it, write a function named testsquareroot that prints a table like this:\n",
    "\n",
    "```Julia\n",
    "\ta   mysqrt             sqrt               diff\n",
    "\t-   ------             ----               ----\n",
    "\t1.0 1.0                1.0                0.0\n",
    "\t2.0 1.414213562373095  1.4142135623730951 2.220446049250313e-16\n",
    "\t3.0 1.7320508075688772 1.7320508075688772 0.0\n",
    "\t4.0 2.0                2.0                0.0\n",
    "\t5.0 2.23606797749979   2.23606797749979   0.0\n",
    "\t6.0 2.449489742783178  2.449489742783178  0.0\n",
    "\t7.0 2.6457513110645907 2.6457513110645907 0.0\n",
    "\t8.0 2.82842712474619   2.8284271247461903 4.440892098500626e-16\n",
    "\t9.0 3.0                3.0                0.0\n",
    "```\n",
    "\n",
    "The first column is a number, a; the second column is the square root of a computed with mysqrt; the third column is the square root computed by sqrt; the fourth column is the absolute value of the difference between the two estimates."
   ]
  },
  {
   "cell_type": "markdown",
   "metadata": {},
   "source": [
    "### Exercise 7-3\n",
    "\n",
    "The built-in function **Meta.parse** takes a string and transforms it into an expression. This expression can be evaluated in Julia with the function **Core.eval**. \n",
    "\n",
    "For example:\n",
    "\n",
    "```Julia\n",
    "\tjulia> expr = Meta.parse(\"1+2*3\")\n",
    "\t\t:(1 + 2 * 3)\n",
    "\n",
    "\tjulia> eval(expr)\n",
    "\t\t7\n",
    "\n",
    "\tjulia> expr = Meta.parse(\"sqrt(π)\")\n",
    "\t\t:(sqrt(π))\n",
    "\n",
    "\tjulia> eval(expr)\n",
    "\t\t1.7724538509055159\n",
    "```\n",
    "\n",
    "Write a function called evalloop that iteratively prompts the user, takes the resulting input and evaluates it using eval, and prints the result. It should continue until the user enters done, and then return the value of the last expression it evaluated."
   ]
  },
  {
   "cell_type": "markdown",
   "metadata": {},
   "source": [
    "### Exercise 7-4\n",
    "\n",
    "The mathematician Srinivasa Ramanujan found an infinite series that can be used to generate a numerical approximation of 1π\n",
    "\n",
    "\t\t1/π = (2√2/9801)*∑ₖ(4k)!*(1103+26390k)/((k!)⁴396⁴ᵏ)\n",
    "\n",
    "Write a function called estimate pi that uses this formula to compute and return an estimate of π. It should use a while loop to compute terms of the summation until the last term is smaller than 1e-15 (which is Julia notation for 10−15). You can check the result by comparing it to π."
   ]
  },
  {
   "cell_type": "markdown",
   "metadata": {},
   "source": []
  }
 ],
 "metadata": {
  "kernelspec": {
   "display_name": "Julia 1.9.3",
   "language": "julia",
   "name": "julia-1.9"
  },
  "language_info": {
   "file_extension": ".jl",
   "mimetype": "application/julia",
   "name": "julia",
   "version": "1.9.3"
  },
  "orig_nbformat": 4,
  "vscode": {
   "interpreter": {
    "hash": "8e72a6ea8ae570bc9b562cd7a1d6883761b9cd7ac49ad6b17855b6c636bf0317"
   }
  }
 },
 "nbformat": 4,
 "nbformat_minor": 2
}
