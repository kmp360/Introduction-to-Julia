{
 "cells": [
  {
   "cell_type": "markdown",
   "metadata": {},
   "source": [
    "kmp\n",
    "\n",
    "Based on **Lauwens & Downey \"Think Julia: How to Think Like a Computer Scientist\"**\n",
    " \n",
    "https://benlauwens.github.io/ThinkJulia.jl/latest/book.html**\n",
    "\n",
    "Resources:\n",
    "\n",
    "Julia webpage https://julialang.org/ \n",
    "\n",
    "Julia documentation https://docs.julialang.org/en/v1/\n"
   ]
  },
  {
   "cell_type": "markdown",
   "metadata": {},
   "source": [
    "## Chapter 11-- Dictionaries\n",
    "\n",
    "https://benlauwens.github.io/ThinkJulia.jl/latest/book.html#chap11\n",
    "\n",
    "A dictionary is like an indexed array but more general. In an array, the indices have to be integers; in a dictionary they can be (almost) any type. \n",
    "\n",
    "A dictionary contains a collection of indices, which are called **`keys`**, and a collection of **`values`**. Each key is associated with a single value. The association of a key and a value is called a **key-value pair** or an **item**. \n",
    "\n",
    "A dictionary represents a **mapping from keys to values**, each key maps to a value. \n",
    "\n",
    "The function **`Dict`** creates a new dictionary with no items. Because **`Dict`** is the name of a built-in function, you should avoid using it as a variable name.\n",
    "\n",
    "```Julia\n",
    "\teng2sp = Dict()\n",
    "\t\tDict{Any,Any} with 0 entries\n",
    "```\n",
    "\n",
    "The kind of dictionary is surrounded by **curly braces**: the keys are of type `Any` and also the values are of type `Any` and the dictionary is empty. To add items to the dictionary, you can use square brackets:\n",
    "\n",
    "```Julia\n",
    "\teng2sp[\"one\"] = \"uno\";\n",
    "```\n",
    "\n",
    "This line creates an item that maps from the key \"one\" to the value \"uno\". If we print the dictionary again, we see a key-value pair with an arrow => between the key and value:\n",
    "\n",
    "```Julia\n",
    "\tjulia> eng2sp\n",
    "\t\tDict{Any,Any} with 1 entry:\n",
    "\t\t  \"one\" => \"uno\"\n",
    "```\n",
    "\n",
    "For example, you can create a new dictionary with three items:"
   ]
  },
  {
   "cell_type": "code",
   "execution_count": 31,
   "metadata": {},
   "outputs": [
    {
     "data": {
      "text/plain": [
       "\"uno\""
      ]
     },
     "metadata": {},
     "output_type": "display_data"
    }
   ],
   "source": [
    "eng2sp = Dict{String, String}()\n",
    "eng2sp[\"one\"] = \"uno\""
   ]
  },
  {
   "cell_type": "code",
   "execution_count": 2,
   "metadata": {},
   "outputs": [
    {
     "data": {
      "text/plain": [
       "Dict{String, String} with 3 entries:\n",
       "  \"two\"   => \"dos\"\n",
       "  \"one\"   => \"uno\"\n",
       "  \"three\" => \"tres\""
      ]
     },
     "metadata": {},
     "output_type": "display_data"
    }
   ],
   "source": [
    "eng2sp = Dict(\"one\" => \"uno\", \"two\" => \"dos\", \"three\" => \"tres\")"
   ]
  },
  {
   "cell_type": "markdown",
   "metadata": {},
   "source": [
    "All the initial keys and values are strings, so a `Dict{String,String}` is created.\n",
    "\n",
    "The order of the key-value pairs might not be the same. If you type the same example on your computer, you might get a different result. **In general, the order of items in a dictionary is unpredictable.** That is not a problem because the elements of a dictionary are not indexed with integer indices, but generally with un-ordered keys to look up the corresponding values:"
   ]
  },
  {
   "cell_type": "code",
   "execution_count": 3,
   "metadata": {},
   "outputs": [
    {
     "data": {
      "text/plain": [
       "\"dos\""
      ]
     },
     "metadata": {},
     "output_type": "display_data"
    }
   ],
   "source": [
    "eng2sp[\"two\"]"
   ]
  },
  {
   "cell_type": "markdown",
   "metadata": {},
   "source": [
    "The key \"two\" always maps to the value \"dos\" so the order of the items does not matter. If the key is not in the dictionary, you get an **exception**:\n",
    "\n",
    "```Julia\n",
    "\tjulia> eng2sp[\"four\"]\n",
    "\t\tERROR: KeyError: key \"four\" not found\n",
    "```\n",
    "\n",
    "The **length** function works on dictionaries; it returns the number of key-value pairs:\n",
    "\n",
    "```Julia\n",
    "\tjulia> length(eng2sp)\n",
    "\t\t3\n",
    "```\n",
    "The function **`keys`** returns a collection with the keys of the dictionary:"
   ]
  },
  {
   "cell_type": "code",
   "execution_count": 4,
   "metadata": {},
   "outputs": [
    {
     "data": {
      "text/plain": [
       "KeySet for a Dict{String, String} with 3 entries. Keys:\n",
       "  \"two\"\n",
       "  \"one\"\n",
       "  \"three\""
      ]
     },
     "metadata": {},
     "output_type": "display_data"
    }
   ],
   "source": [
    "ks = keys(eng2sp)"
   ]
  },
  {
   "cell_type": "code",
   "execution_count": 5,
   "metadata": {},
   "outputs": [
    {
     "data": {
      "text/plain": [
       "(false, true)"
      ]
     },
     "metadata": {},
     "output_type": "display_data"
    }
   ],
   "source": [
    "\"four\" in ks, \"two\" in ks"
   ]
  },
  {
   "cell_type": "code",
   "execution_count": 6,
   "metadata": {},
   "outputs": [
    {
     "data": {
      "text/plain": [
       "Dict{String, String} with 3 entries:\n",
       "  \"two\"   => \"dos\"\n",
       "  \"one\"   => \"dos\"\n",
       "  \"three\" => \"tres\""
      ]
     },
     "metadata": {},
     "output_type": "display_data"
    }
   ],
   "source": [
    "eng2sp[\"one\"] = \"dos\"\n",
    "eng2sp"
   ]
  },
  {
   "cell_type": "code",
   "execution_count": 7,
   "metadata": {},
   "outputs": [
    {
     "data": {
      "text/plain": [
       "Dict{Any, Any} with 2 entries:\n",
       "  \"str\" => 45\n",
       "  1     => [2 3]"
      ]
     },
     "metadata": {},
     "output_type": "display_data"
    }
   ],
   "source": [
    "d = Dict( 1 => [2 3], \"str\" => 45)"
   ]
  },
  {
   "cell_type": "code",
   "execution_count": 8,
   "metadata": {},
   "outputs": [
    {
     "data": {
      "text/plain": [
       "45"
      ]
     },
     "metadata": {},
     "output_type": "display_data"
    }
   ],
   "source": [
    "d[\"str\"]"
   ]
  },
  {
   "cell_type": "markdown",
   "metadata": {},
   "source": [
    "Now you can use the **`in operator`** to see whether something appears as a key in the dictionary:\n",
    "\n",
    "```Julia\n",
    "\tjulia> ks = keys(eng2sp)\n",
    "\n",
    "\tjulia> \"one\" in ks\n",
    "\t\t\ttrue\n",
    "\n",
    "\tjulia> \"uno\" in ks\n",
    "\t\t\tfalse\n",
    "```\n",
    "\n",
    "To see whether something appears as a value in a dictionary, you can use the function **values**, which returns a collection of values, and then use the ∈ operator:"
   ]
  },
  {
   "cell_type": "markdown",
   "metadata": {},
   "source": [
    "```Julia\n",
    "\tjulia> vs = values(eng2sp);\n",
    "\n",
    "\tjulia> \"uno\" in vs\n",
    "\t\ttrue\n",
    "```\n",
    "\n",
    "The **`in operator`** uses different algorithms for arrays and dictionaries. \n",
    "\n",
    "For arrays, it searches the elements of the array in order. As the array gets longer, the search time gets longer in direct proportion. \n",
    "\n",
    "For dictionaries, Julia uses an algorithm to construct a **hash table** that has a remarkable property: the **`in operator`** takes about the same amount of time no matter how many items are in the dictionary."
   ]
  },
  {
   "cell_type": "markdown",
   "metadata": {},
   "source": [
    "### Histograms - collections of counters\n",
    "\n",
    "Suppose you are given a string and you want to count how many times each letter appears. There are several ways you could do it:\n",
    "- You could create 26 variables, one for each letter of the alphabet. Then you could traverse the string and, for each character, increment the corresponding counter, probably using a chained conditional.\n",
    "- You could create an array with 26 elements. Then you could convert each character to a number (using e.g. the built-in function **Int**), use the number as an index into the array, and increment the appropriate counter.\n",
    "- You could create a dictionary with characters as keys and counters as the corresponding values. The first time you see a character, you would add an item to the dictionary. After that you would increment the value of an existing item.\n",
    "\n",
    "Each of these options performs the same computation, but each of them implements that computation in a different way. \n",
    "\n",
    "An **`implementation`** is a particular way of performing a computation; some implementations are better than others. For example, an advantage of the dictionary implementation is that we do not have to know ahead of time which letters appear in the string and we only have to make room for the letters that do appear. Here is what the code might look like:"
   ]
  },
  {
   "cell_type": "code",
   "execution_count": 34,
   "metadata": {},
   "outputs": [
    {
     "data": {
      "text/plain": [
       "histogram (generic function with 1 method)"
      ]
     },
     "metadata": {},
     "output_type": "display_data"
    }
   ],
   "source": [
    "function histogram(str::String)::Dict\n",
    "\n",
    "    dct = Dict{Char, Int}()\n",
    "\n",
    "    for chr in str\n",
    "\n",
    "        if !(chr in keys(dct))\n",
    "\n",
    "            dct[chr] = 1\n",
    "        else\n",
    "            dct[chr] += 1\n",
    "        end\n",
    "    end\n",
    "\n",
    "    return dct\n",
    "end"
   ]
  },
  {
   "cell_type": "markdown",
   "metadata": {},
   "source": [
    "The name of the function is **histogram**, which is a statistical term for a collection of counters (or frequencies). The first line of the function creates an empty dictionary. \n",
    "The for loop traverses the string. Each time through the loop, if the character `c` is not in the dictionary, we create a new item with key `c` and the initial value 1. If `c` is already in the dictionary we increment `d[c] += 1`."
   ]
  },
  {
   "cell_type": "code",
   "execution_count": 35,
   "metadata": {},
   "outputs": [
    {
     "name": "stdout",
     "output_type": "stream",
     "text": [
      "Dict('n' => 1, 's' => 2, 'a' => 1, 'r' => 2, 't' => 1, 'o' => 2, 'u' => 2, 'b' => 1)\n",
      "['n', 's', 'a', 'r', 't', 'o', 'u', 'b']\n",
      "[1, 2, 1, 2, 1, 2, 2, 1]\n"
     ]
    }
   ],
   "source": [
    "h = histogram(\"brontosaurus\")\n",
    "ks = keys(h)\n",
    "vs = values(h)\n",
    "\n",
    "println(h)\n",
    "println(ks)\n",
    "println(vs)"
   ]
  },
  {
   "cell_type": "markdown",
   "metadata": {},
   "source": [
    "The histogram indicates that the letters `a` and `b` appear once; `o` appears twice, and so on. \n",
    "\n",
    "**It is important to note that Julia lists `keys` and `values` in the corresponding order.**\n",
    "\n",
    "Dictionaries have a useful function called **`get`** that takes a key and a default value. If the key appears in the dictionary, get returns the corresponding value; otherwise it returns the default value. For example:"
   ]
  },
  {
   "cell_type": "code",
   "execution_count": 37,
   "metadata": {},
   "outputs": [
    {
     "data": {
      "text/plain": [
       "(1, 0, Dict('a' => 1))"
      ]
     },
     "metadata": {},
     "output_type": "display_data"
    }
   ],
   "source": [
    "h = histogram(\"a\")\n",
    "\n",
    "get(h, 'a', 0), get(h, 'b', 0), h"
   ]
  },
  {
   "cell_type": "markdown",
   "metadata": {},
   "source": [
    "### Exercise 11-1\n",
    "\n",
    "Use get to write histogram more concisely. You should be able to eliminate the if statement."
   ]
  },
  {
   "cell_type": "code",
   "execution_count": 38,
   "metadata": {},
   "outputs": [
    {
     "data": {
      "text/plain": [
       "Dict{Char, Int64} with 8 entries:\n",
       "  'n' => 1\n",
       "  's' => 2\n",
       "  'a' => 1\n",
       "  'r' => 2\n",
       "  't' => 1\n",
       "  'o' => 2\n",
       "  'u' => 2\n",
       "  'b' => 1"
      ]
     },
     "metadata": {},
     "output_type": "display_data"
    }
   ],
   "source": [
    "function histogram2(s::String)::Dict{Char, Int64}\n",
    "    d = Dict{Char, Int64}()\n",
    "    for c in s, d[c] = get(d, c, 0) + 1 end\n",
    "    return d\n",
    "end\n",
    "\n",
    "str = \"brontosaurus\"\n",
    "histogram2(str)"
   ]
  },
  {
   "cell_type": "markdown",
   "metadata": {},
   "source": [
    "### Looping and dictionaries\n",
    "\n",
    "You can traverse the keys of the dictionary in a for statement. For example, `printhist` prints each key and the corresponding value:\n",
    "\n",
    "```Julia\n",
    "\tfunction printhist(h)\n",
    "\t\tfor c in keys(h)\n",
    "\t\t\tprintln(c, \" \", h[c])\n",
    "\t\tend\n",
    "\tend\n",
    "```\n",
    "\n",
    "Again, the keys are in no particular order. To traverse the keys in sorted order, you can combine **sort** and **collect**:"
   ]
  },
  {
   "cell_type": "code",
   "execution_count": 42,
   "metadata": {},
   "outputs": [
    {
     "name": "stdout",
     "output_type": "stream",
     "text": [
      "a => 1\n",
      "b => 1\n",
      "n => 1\n",
      "o => 2\n",
      "r => 2\n",
      "s => 2\n",
      "t => 1\n",
      "u => 2\n"
     ]
    }
   ],
   "source": [
    "function printhist(h)\n",
    "    for c in sort(collect(keys(h)))\n",
    "        println(c, \" => \", h[c])\n",
    "    end\n",
    "end\n",
    "    \n",
    "h = histogram(\"brontosaurus\")\n",
    "printhist(h)"
   ]
  },
  {
   "cell_type": "markdown",
   "metadata": {},
   "source": [
    "### Reverse lookup\n",
    "\n",
    "Given a dictionary d and a key k, it is easy to find the corresponding value v = d[k]. This operation is called a **lookup**. **But what if you have v and you want to find k?** \n",
    "\n",
    "You have two problems: first, there might be more than one key that maps to the value v. Depending on the application, you might be able to pick one, or you might have to make an array that contains all of them. Second, **there is no simple syntax to do a reverse lookup; you have to search**. \n",
    "\n",
    "Here is a function that takes a value and returns the first key that maps to that value:\n",
    "\n",
    "```Julia\n",
    "\tfunction reverselookup(d, v)\n",
    "\t\tfor k in keys(d)\n",
    "\t\t\tif d[k] == v\n",
    "\t\t\t\treturn k\n",
    "\t\t\tend\n",
    "\t\tend\n",
    "\t\terror(\"LookupError: the value $v is not in $d\")\n",
    "\tend\n",
    "```\n",
    "\n",
    "This function is yet another example of the search pattern, but it uses a function we have not seen before, **`error`**. \n",
    "\n",
    "The error function is used to produce an **ErrorException** that interrupts the normal flow of control. In this case it has the message \"LookupError ...\", indicating that a value does not exist. If we get to the end of the loop, that means v does not appear in the dictionary as a value, so we throw an exception. Here is an example of a successful reverse lookup:\n",
    "\n",
    "```Julia\n",
    "\tjulia> h = histogram(\"parrot\");\n",
    "\n",
    "\tjulia> key = reverselookup(h, 2)\n",
    "\t\t'r': ASCII/Unicode U+0072 (category Ll: Letter, lowercase)\n",
    "```\n",
    "\n",
    "And an unsuccessful one:\n",
    "\n",
    "```Julia\n",
    "\tjulia> key = reverselookup(h, 3)\n",
    "\t\tERROR: LookupError: the value 3 is not in h\n",
    "```\n",
    "\n",
    "The effect when you generate an exception is the same as when Julia throws one: it prints a stacktrace and an error message. \n",
    "\n",
    "Julia provides an optimized way to do a reverse lookup: **`findall(isequal(2), h)`**.\n",
    "\n",
    "A reverse lookup is much slower than a forward lookup; if you have to do it often, or if the dictionary gets big, performance will suffer."
   ]
  },
  {
   "cell_type": "code",
   "execution_count": 15,
   "metadata": {},
   "outputs": [
    {
     "data": {
      "text/plain": [
       "(['r'], ['r'])"
      ]
     },
     "metadata": {},
     "output_type": "display_data"
    }
   ],
   "source": [
    "h2 = histogram(\"parrot\")\n",
    "findall(isequal(2), h2), findall(x -> x == 2, h2)"
   ]
  },
  {
   "cell_type": "code",
   "execution_count": 16,
   "metadata": {},
   "outputs": [
    {
     "data": {
      "text/plain": [
       "Vector{Char}\u001b[90m (alias for \u001b[39m\u001b[90mArray{Char, 1}\u001b[39m\u001b[90m)\u001b[39m"
      ]
     },
     "metadata": {},
     "output_type": "display_data"
    }
   ],
   "source": [
    "typeof(Char[])"
   ]
  },
  {
   "cell_type": "markdown",
   "metadata": {},
   "source": [
    "### Dictionaries and arrays\n",
    "\n",
    "Arrays can appear as values in a dictionary. \n",
    "\n",
    "For example, if you are given a dictionary that maps from letters to frequencies, you might want to invert it; that is, create a dictionary that maps from frequencies to letters. Since there might be several letters with the same frequency, each value in the inverted dictionary should be an array of letters. Here is a function that inverts a dictionary:\n",
    "\n",
    "```Julia\n",
    "\tfunction invertdict(dct)\n",
    "\n",
    "\t\tinverseD = Dict{Int, Array{Char, 1}}()\n",
    "\n",
    "\t\tfor key in keys(dct)\n",
    "\n",
    "\t\t\tval = dct[key]\n",
    "\n",
    "\t\t\tif !(val in keys(inverse))\n",
    "\t\t\t\tinverseD[val] = [key]\n",
    "\t\t\telse\n",
    "\t\t\t\tpush!(inverseD[val], key)\n",
    "\t\t\tend\n",
    "\t\tend\n",
    "\n",
    "\t\treturn inverseD\n",
    "\tend\n",
    "```\n",
    "\n",
    "Each time through the loop, key gets a key from d and val gets the corresponding value. If val is not in inverse, that means we have not seen it before, so we create a new item and initialize it with a **singleton** (an array that contains a single element). Otherwise we have seen this value before, so we append the corresponding key to the array. Here is an example:\n",
    "\n",
    "```Julia\n",
    "\tjulia> hist = histogram(\"parrot\");\n",
    "\n",
    "\tjulia> inverse = invertdict(hist)\n",
    "\t\tDict{Any,Any} with 2 entries:\n",
    "\t\t\t2 => ['r']\n",
    "\t\t\t1 => ['a', 'p', 'o', 't']\n",
    "```\n",
    "\n",
    "A dictionary is implemented using a **hash table** and that means that the keys have to be **hashable**. A **hash** is a function that takes a value (of any kind) and returns an integer. Dictionaries use these integers, called **hash values**, to store and look up key-value pairs."
   ]
  },
  {
   "cell_type": "markdown",
   "metadata": {},
   "source": [
    "### Memos\n",
    "\n",
    "If you played with the fibonacci function, you might have noticed that the bigger the argument you provide, the longer the function takes to run. Furthermore, the run time increases quickly. One solution is to keep track of values that have already been computed by storing them in a dictionary. A previously computed value that is stored for later use is called a **memo**. \n",
    "\n",
    "Here is a **memoized version of fibonacci**:"
   ]
  },
  {
   "cell_type": "code",
   "execution_count": 17,
   "metadata": {},
   "outputs": [
    {
     "data": {
      "text/plain": [
       "fibonacci (generic function with 1 method)"
      ]
     },
     "metadata": {},
     "output_type": "display_data"
    }
   ],
   "source": [
    "known = Dict(0 => 0, 1 => 1)\n",
    "\t\n",
    "function fibonacci(n)\n",
    "\n",
    "    if n in keys(known)\n",
    "        return known[n]\n",
    "    end\n",
    "\n",
    "    res = fibonacci(n - 1) + fibonacci(n - 2)\n",
    "\n",
    "    known[n] = res\n",
    "\n",
    "    return res\n",
    "end"
   ]
  },
  {
   "cell_type": "code",
   "execution_count": 43,
   "metadata": {},
   "outputs": [
    {
     "name": "stdout",
     "output_type": "stream",
     "text": [
      "  0.000318 seconds (5.93 k allocations: 183.938 KiB)\n"
     ]
    },
    {
     "data": {
      "text/plain": [
       "817770325994397771"
      ]
     },
     "metadata": {},
     "output_type": "display_data"
    }
   ],
   "source": [
    "@time fibonacci(1000)"
   ]
  },
  {
   "cell_type": "code",
   "execution_count": 19,
   "metadata": {},
   "outputs": [
    {
     "data": {
      "text/plain": [
       "1001"
      ]
     },
     "metadata": {},
     "output_type": "display_data"
    }
   ],
   "source": [
    "length(known)"
   ]
  },
  {
   "cell_type": "code",
   "execution_count": 47,
   "metadata": {},
   "outputs": [
    {
     "data": {
      "text/plain": [
       "-2872092127636481573"
      ]
     },
     "metadata": {},
     "output_type": "display_data"
    }
   ],
   "source": [
    "fibonacci(10000)\t#  negative? what happand?"
   ]
  },
  {
   "cell_type": "markdown",
   "metadata": {},
   "source": [
    "The variable **`known`** is a dictionary that keeps track of the Fibonacci numbers we already have computed. It starts with two items: 0 maps to 0 and 1 maps to 1. Whenever fibonacci is called, it checks known. If the result is already there, it can return immediately. Otherwise it has to compute the new value, add it to the dictionary, and return it. If you run this version of fibonacci and compare it with the original, you will find that it is much faster."
   ]
  },
  {
   "cell_type": "markdown",
   "metadata": {},
   "source": [
    "### Global and local variables\n",
    "\n",
    "In the previous example, **`known` is created outside the function**, so it belongs to the special frame called **`Main`**. Variables in Main are sometimes called **`global`** because they **can be accessed from any function**. Unlike **local variables** inside functions, which disappear when their function call ends, **global variables persist from one function call to the next**.\n",
    "\n",
    "It is common to use global variables for **`flags`**; that is, boolean variables that indicate, flag, whether a condition is true. For example, some programs use a flag named **`verbose`** to control the level of detail in the output:\n",
    "\n",
    "```Julia\n",
    "\tverbose = true\n",
    "\n",
    "\tfunction example1()\n",
    "\n",
    "\t\tif verbose\n",
    "\t\t\tprintln(\"Running example1\")\n",
    "\t\tend\n",
    "\n",
    "\tend\n",
    "```\n"
   ]
  },
  {
   "cell_type": "code",
   "execution_count": 49,
   "metadata": {},
   "outputs": [
    {
     "name": "stdout",
     "output_type": "stream",
     "text": [
      "Running example1\n"
     ]
    }
   ],
   "source": [
    "verbose = true\n",
    "\n",
    "function example1()\n",
    "\n",
    "    if verbose\n",
    "        println(\"Running example1\")\n",
    "    end\n",
    "\n",
    "end\n",
    "\n",
    "example1()"
   ]
  },
  {
   "cell_type": "markdown",
   "metadata": {},
   "source": [
    "\n",
    "If you try to reassign a global variable, you might be surprised. This example is supposed to keep track of whether the function has been called:\n",
    "\n",
    "```Julia\n",
    "\tbeen_called = false\n",
    "\n",
    "\tfunction example2()\n",
    "\t\tbeen_called = true\n",
    "\tend\n",
    "```\n"
   ]
  },
  {
   "cell_type": "code",
   "execution_count": 50,
   "metadata": {},
   "outputs": [
    {
     "data": {
      "text/plain": [
       "false"
      ]
     },
     "metadata": {},
     "output_type": "display_data"
    }
   ],
   "source": [
    "been_called = false\n",
    "\n",
    "function example2()\n",
    "    been_called = true\n",
    "end\n",
    "\n",
    "example2(); been_called"
   ]
  },
  {
   "cell_type": "markdown",
   "metadata": {},
   "source": [
    "\n",
    "But if you run it you will see that the value of **been_called** does not change. The problem is that `example2` creates a new local variable named **been_called**. The local variable is erased when the function call ends and returns control to `Main`, and thus has no effect on the global variable."
   ]
  },
  {
   "cell_type": "markdown",
   "metadata": {},
   "source": [
    "**To reassign a global variable inside a function you have to declare the variable global before you use it:**"
   ]
  },
  {
   "cell_type": "code",
   "execution_count": 51,
   "metadata": {},
   "outputs": [
    {
     "data": {
      "text/plain": [
       "true"
      ]
     },
     "metadata": {},
     "output_type": "display_data"
    }
   ],
   "source": [
    "been_called = false\n",
    "\n",
    "function example2()\n",
    "    global been_called \n",
    "    been_called = true\n",
    "end\n",
    "\n",
    "example2(); been_called"
   ]
  },
  {
   "cell_type": "markdown",
   "metadata": {},
   "source": [
    "\n",
    "The global statement tells the interpreter something like, “In this function, when I say been_called, I mean the global variable; do not create a local one.” Here is an example that tries to update a global variable:\n",
    "\n",
    "```Julia\n",
    "\tcount = 0\n",
    "\n",
    "\tfunction example3()\n",
    "\t   count = count + 1          # WRONG\n",
    "\tend\n",
    "```\n"
   ]
  },
  {
   "cell_type": "code",
   "execution_count": 26,
   "metadata": {},
   "outputs": [
    {
     "data": {
      "text/plain": [
       "(1, 0)"
      ]
     },
     "metadata": {},
     "output_type": "display_data"
    }
   ],
   "source": [
    "count = 0\n",
    "\n",
    "function example3(count)\n",
    "   count = count + 1          # WRONG\n",
    "end\n",
    "\n",
    "example3(count), count"
   ]
  },
  {
   "cell_type": "markdown",
   "metadata": {},
   "source": [
    "Here `count` in the function definition is a local variable and not the same as the global variable `count` in `Main`. If you run `example3()` you get:\n",
    "\n",
    "```Julia\n",
    "\tjulia> example3()\n",
    "\t\tERROR: UndefVarError: count not defined\n",
    "```\n",
    "\n",
    "The solution is to declare `count` global.\n",
    "\n",
    "```Julia\n",
    "\tcount = 0\n",
    "\tfunction example3()\n",
    "\t\tglobal count\n",
    "\t\tcount += 1\n",
    "\tend\n",
    "```"
   ]
  },
  {
   "cell_type": "code",
   "execution_count": 52,
   "metadata": {},
   "outputs": [
    {
     "data": {
      "text/plain": [
       "1"
      ]
     },
     "metadata": {},
     "output_type": "display_data"
    }
   ],
   "source": [
    "count = 0\n",
    "\n",
    "function example3()\n",
    "    global count += 1\n",
    "end\n",
    "\n",
    "example3(); count"
   ]
  },
  {
   "cell_type": "markdown",
   "metadata": {},
   "source": [
    "\n",
    "**If a global variable refers to a `mutable value`, you can modify the value without declaring the variable global:**\n",
    "\n",
    "```Julia\n",
    "\tknown = Dict(0=>0, 1=>1)\n",
    "\n",
    "\tfunction example4()\n",
    "\t\tknown[2] = 1\n",
    "\tend\n",
    "```\n",
    "\n",
    "So you can add, remove and replace elements of a global array or dictionary."
   ]
  },
  {
   "cell_type": "code",
   "execution_count": 54,
   "metadata": {},
   "outputs": [
    {
     "data": {
      "text/plain": [
       "Dict{Int64, Int64} with 3 entries:\n",
       "  0 => 2\n",
       "  2 => 3\n",
       "  1 => 1"
      ]
     },
     "metadata": {},
     "output_type": "display_data"
    }
   ],
   "source": [
    "known = Dict(0=>0, 1=>1)\n",
    "\n",
    "function example4()\n",
    "    known[2] = 3\n",
    "    known[0] = 2\n",
    "end\n",
    "\n",
    "example4(); known"
   ]
  },
  {
   "cell_type": "code",
   "execution_count": 29,
   "metadata": {},
   "outputs": [
    {
     "data": {
      "text/plain": [
       "(Dict(0 => 1, 1 => 0), Dict(0 => 0, 1 => 1))"
      ]
     },
     "metadata": {},
     "output_type": "display_data"
    }
   ],
   "source": [
    "known = Dict(0=>0, 1=>1)\n",
    "\n",
    "function example4()\n",
    "    known = Dict()\n",
    "    known = Dict(0=>1, 1=>0)\n",
    "end\n",
    "\n",
    "example4(), known"
   ]
  },
  {
   "cell_type": "markdown",
   "metadata": {},
   "source": [
    "But if you want to reassign the variable, you have to declare it global:\n",
    "\n",
    "```Julia\n",
    "\tknown = Dict(0=>0, 1=>1)\n",
    "\n",
    "\tfunction example5()\n",
    "\t\tglobal known\n",
    "\t\tknown = Dict()\n",
    "\tend\n",
    "```\n",
    "\n",
    "or\n",
    "\n",
    "```Julia\n",
    "\tfunction example5()\n",
    "\t\tglobal known = Dict()\n",
    "\tend\n",
    "```\n",
    "\n",
    "**For performance reasons, it is a good idea to declare a global variable constant. You can no longer reassign the variable but if it refers to a mutable value, you can modify the value**.\n",
    "\n",
    "```Julia\n",
    "\tconst known = Dict(0=>0, 1=>1)\n",
    "\n",
    "\tfunction example6()\n",
    "\t\tknown[2] = 1\n",
    "\tend\n",
    "```\n",
    "\n",
    "Global variables can be useful, but if you have a lot of them, and you modify them frequently, they can make programs hard to debug and perform badly."
   ]
  },
  {
   "cell_type": "code",
   "execution_count": 56,
   "metadata": {},
   "outputs": [
    {
     "data": {
      "text/plain": [
       "(Dict(0 => 1, 1 => 0), Dict(0 => 1, 1 => 0))"
      ]
     },
     "metadata": {},
     "output_type": "display_data"
    }
   ],
   "source": [
    "known = Dict(0=>0, 1=>1)\n",
    "\n",
    "function example5()\n",
    "    global known = Dict()\n",
    "    known = Dict(0=>1, 1=>0)\n",
    "end\n",
    "\n",
    "example5(), known"
   ]
  },
  {
   "cell_type": "markdown",
   "metadata": {},
   "source": [
    "### Debugging\n",
    "\n",
    "As you work with bigger datasets it can become unwieldy to debug by printing and checking the output by hand. Here are some suggestions for debugging large datasets:\n",
    "\n",
    "### Scale down the input\n",
    "\n",
    "If possible, reduce the size of the dataset. For example if the program reads a text file, start with just the first 10 lines, or with the smallest example you can find which errors. You sould not edit the files themselves, but rather modify the program so it reads only the first n lines. If there is an error, you can reduce n to the smallest value that manifests the error, and then increase it gradually as you find and correct errors.\n",
    "\n",
    "### Check summaries and types\n",
    "\n",
    "Instead of printing and checking the entire dataset, consider printing summaries of the data: for example, the number of items in a dictionary or the total of an array of numbers. A common cause of runtime errors is a value that is not of the right type. For debugging this kind of error, it is often enough to print the type of a value.\n",
    "\n",
    "### Write self-checks\n",
    "\n",
    "Sometimes you can write code to check for errors automatically. For example, if you are computing the average of an array of numbers, you could check that the result is not greater than the largest element in the array or less than the smallest. This is called a **sanity check**. Another kind of check compares the results of two different computations to see if they are consistent. This is called a “consistency check”.\n",
    "\n",
    "### Format the output\n",
    "\n",
    "Formatting debugging output can make it easier to spot an error. We saw an example in Debugging. Again, time you spend building scaffolding can reduce the time you spend debugging."
   ]
  },
  {
   "cell_type": "markdown",
   "metadata": {},
   "source": [
    "## Exercises\n",
    "\n",
    "### Exercise 11-2\n",
    "\n",
    "Write a function that reads the words in `words.txt` and stores them as keys in a dictionary. It does not matter what the values are. Then you can use the ∈ operator as a fast way to check whether a string is in the dictionary.\n",
    "\n",
    "If you did Exercise 10-10, you can compare the speed of this implementation with the array ∈ operator and the bisection search."
   ]
  },
  {
   "cell_type": "markdown",
   "metadata": {},
   "source": [
    "### Exercise 11-3\n",
    "\n",
    "Read the documentation of the dictionary function **get!** and use it to write a more concise version of `invertdict`."
   ]
  },
  {
   "cell_type": "markdown",
   "metadata": {},
   "source": [
    "### Exercise 11-4\n",
    "\n",
    "Memoize the Ackermann function from Exercise 6-5 and see if `memoization` makes it possible to evaluate the function with bigger arguments."
   ]
  },
  {
   "cell_type": "markdown",
   "metadata": {},
   "source": [
    "### Exercise 11-5\n",
    "\n",
    "If you did Exercise 10-7, you already have a function named `hasduplicates` that takes an array as a parameter and returns true if there is any object that appears more than once in the array.\n",
    "\n",
    "Use a dictionary to write a faster, simpler version of `hasduplicates`."
   ]
  },
  {
   "cell_type": "markdown",
   "metadata": {},
   "source": [
    "### Exercise 11-6\n",
    "\n",
    "Two words are “rotate pairs” if you can rotate one of them and get the other (see rotateword in Exercise 8-11). Write a program that reads a word array and finds all the rotate pairs."
   ]
  }
 ],
 "metadata": {
  "kernelspec": {
   "display_name": "Julia 1.9.3",
   "language": "julia",
   "name": "julia-1.9"
  },
  "language_info": {
   "file_extension": ".jl",
   "mimetype": "application/julia",
   "name": "julia",
   "version": "1.9.3"
  },
  "orig_nbformat": 4,
  "vscode": {
   "interpreter": {
    "hash": "8e72a6ea8ae570bc9b562cd7a1d6883761b9cd7ac49ad6b17855b6c636bf0317"
   }
  }
 },
 "nbformat": 4,
 "nbformat_minor": 2
}
