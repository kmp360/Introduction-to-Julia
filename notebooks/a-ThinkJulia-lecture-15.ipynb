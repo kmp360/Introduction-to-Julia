{
 "cells": [
  {
   "cell_type": "markdown",
   "metadata": {},
   "source": [
    "kmp 2022\n",
    "\n",
    "Based on \n",
    "\n",
    "**Ben Lauwens & Allen Downey \"Think Julia: How to Think Like a Computer Scientist\" \n",
    "\n",
    "https://benlauwens.github.io/ThinkJulia.jl/latest/book.html**\n",
    "\n",
    "Resources:\n",
    "\n",
    "Julia webpage https://julialang.org/ \n",
    "\n",
    "Julia documentation https://docs.julialang.org/en/v1/\n"
   ]
  },
  {
   "cell_type": "code",
   "execution_count": 1,
   "metadata": {},
   "outputs": [],
   "source": [
    "using ImageCore, ImageIO, ImageShow, FileIO"
   ]
  },
  {
   "cell_type": "code",
   "execution_count": 2,
   "metadata": {},
   "outputs": [
    {
     "name": "stderr",
     "output_type": "stream",
     "text": [
      "\u001b[91m\u001b[1mERROR: \u001b[22m\u001b[39mLoadError: UndefVarError: AbstractARGB not defined\n",
      "Stacktrace:\n",
      "  [1] top-level scope\n",
      "\u001b[90m    @ \u001b[39m\u001b[90mC:\\Users\\kmpetersson\\.julia\\packages\\PNGFiles\\Ee6Hz\\src\\\u001b[39m\u001b[90m\u001b[4mio.jl:603\u001b[24m\u001b[39m\n",
      "  [2] \u001b[0m\u001b[1minclude\u001b[22m\u001b[0m\u001b[1m(\u001b[22m\u001b[90mmod\u001b[39m::\u001b[0mModule, \u001b[90m_path\u001b[39m::\u001b[0mString\u001b[0m\u001b[1m)\u001b[22m\n",
      "\u001b[90m    @ \u001b[39m\u001b[90mBase\u001b[39m \u001b[90m.\\\u001b[39m\u001b[90m\u001b[4mBase.jl:418\u001b[24m\u001b[39m\n",
      "  [3] \u001b[0m\u001b[1minclude\u001b[22m\u001b[0m\u001b[1m(\u001b[22m\u001b[90mx\u001b[39m::\u001b[0mString\u001b[0m\u001b[1m)\u001b[22m\n",
      "\u001b[90m    @ \u001b[39m\u001b[35mPNGFiles\u001b[39m \u001b[90mC:\\Users\\kmpetersson\\.julia\\packages\\PNGFiles\\Ee6Hz\\src\\\u001b[39m\u001b[90m\u001b[4mPNGFiles.jl:1\u001b[24m\u001b[39m\n",
      "  [4] top-level scope\n",
      "\u001b[90m    @ \u001b[39m\u001b[90mC:\\Users\\kmpetersson\\.julia\\packages\\PNGFiles\\Ee6Hz\\src\\\u001b[39m\u001b[90m\u001b[4mPNGFiles.jl:22\u001b[24m\u001b[39m\n",
      "  [5] \u001b[0m\u001b[1minclude\u001b[22m\n",
      "\u001b[90m    @ \u001b[39m\u001b[90m.\\\u001b[39m\u001b[90m\u001b[4mBase.jl:418\u001b[24m\u001b[39m\u001b[90m [inlined]\u001b[39m\n",
      "  [6] \u001b[0m\u001b[1minclude_package_for_output\u001b[22m\u001b[0m\u001b[1m(\u001b[22m\u001b[90mpkg\u001b[39m::\u001b[0mBase.PkgId, \u001b[90minput\u001b[39m::\u001b[0mString, \u001b[90mdepot_path\u001b[39m::\u001b[0mVector\u001b[90m{String}\u001b[39m, \u001b[90mdl_load_path\u001b[39m::\u001b[0mVector\u001b[90m{String}\u001b[39m, \u001b[90mload_path\u001b[39m::\u001b[0mVector\u001b[90m{String}\u001b[39m, \u001b[90mconcrete_deps\u001b[39m::\u001b[0mVector\u001b[90m{Pair{Base.PkgId, UInt64}}\u001b[39m, \u001b[90msource\u001b[39m::\u001b[0mString\u001b[0m\u001b[1m)\u001b[22m\n",
      "\u001b[90m    @ \u001b[39m\u001b[90mBase\u001b[39m \u001b[90m.\\\u001b[39m\u001b[90m\u001b[4mloading.jl:1318\u001b[24m\u001b[39m\n",
      "  [7] top-level scope\n",
      "\u001b[90m    @ \u001b[39m\u001b[90m\u001b[4mnone:1\u001b[24m\u001b[39m\n",
      "  [8] \u001b[0m\u001b[1meval\u001b[22m\n",
      "\u001b[90m    @ \u001b[39m\u001b[90m.\\\u001b[39m\u001b[90m\u001b[4mboot.jl:373\u001b[24m\u001b[39m\u001b[90m [inlined]\u001b[39m\n",
      "  [9] \u001b[0m\u001b[1meval\u001b[22m\u001b[0m\u001b[1m(\u001b[22m\u001b[90mx\u001b[39m::\u001b[0mExpr\u001b[0m\u001b[1m)\u001b[22m\n",
      "\u001b[90m    @ \u001b[39m\u001b[90mBase.MainInclude\u001b[39m \u001b[90m.\\\u001b[39m\u001b[90m\u001b[4mclient.jl:453\u001b[24m\u001b[39m\n",
      " [10] top-level scope\n",
      "\u001b[90m    @ \u001b[39m\u001b[90m\u001b[4mnone:1\u001b[24m\u001b[39m\n",
      "in expression starting at C:\\Users\\kmpetersson\\.julia\\packages\\PNGFiles\\Ee6Hz\\src\\io.jl:603\n",
      "in expression starting at C:\\Users\\kmpetersson\\.julia\\packages\\PNGFiles\\Ee6Hz\\src\\PNGFiles.jl:1\n"
     ]
    },
    {
     "ename": "ErrorException",
     "evalue": "Failed to precompile PNGFiles [f57f5aa1-a3ce-4bc8-8ab9-96f992907883] to C:\\Users\\kmpetersson\\.julia\\compiled\\v1.7\\PNGFiles\\jl_3852.tmp.",
     "output_type": "error",
     "traceback": [
      "Failed to precompile PNGFiles [f57f5aa1-a3ce-4bc8-8ab9-96f992907883] to C:\\Users\\kmpetersson\\.julia\\compiled\\v1.7\\PNGFiles\\jl_3852.tmp.\n",
      "\n",
      "Stacktrace:\n",
      "  [1] error(s::String)\n",
      "    @ Base .\\error.jl:33\n",
      "  [2] compilecache(pkg::Base.PkgId, path::String, internal_stderr::IO, internal_stdout::IO, ignore_loaded_modules::Bool)\n",
      "    @ Base .\\loading.jl:1466\n",
      "  [3] compilecache(pkg::Base.PkgId, path::String)\n",
      "    @ Base .\\loading.jl:1410\n",
      "  [4] _require(pkg::Base.PkgId)\n",
      "    @ Base .\\loading.jl:1120\n",
      "  [5] require(uuidkey::Base.PkgId)\n",
      "    @ Base .\\loading.jl:1013\n",
      "  [6] require(into::Module, mod::Symbol)\n",
      "    @ Base .\\loading.jl:997\n",
      "  [7] eval\n",
      "    @ .\\boot.jl:373 [inlined]\n",
      "  [8] include_string(mapexpr::typeof(REPL.softscope), mod::Module, code::String, filename::String)\n",
      "    @ Base .\\loading.jl:1196\n",
      "  [9] #invokelatest#2\n",
      "    @ .\\essentials.jl:716 [inlined]\n",
      " [10] invokelatest\n",
      "    @ .\\essentials.jl:714 [inlined]\n",
      " [11] (::VSCodeServer.var\"#198#199\"{VSCodeServer.NotebookRunCellArguments, String})()\n",
      "    @ VSCodeServer c:\\Users\\kmpetersson\\.vscode\\extensions\\julialang.language-julia-1.6.31\\scripts\\packages\\VSCodeServer\\src\\serve_notebook.jl:19\n",
      " [12] withpath(f::VSCodeServer.var\"#198#199\"{VSCodeServer.NotebookRunCellArguments, String}, path::String)\n",
      "    @ VSCodeServer c:\\Users\\kmpetersson\\.vscode\\extensions\\julialang.language-julia-1.6.31\\scripts\\packages\\VSCodeServer\\src\\repl.jl:249\n",
      " [13] notebook_runcell_request(conn::VSCodeServer.JSONRPC.JSONRPCEndpoint{Base.PipeEndpoint, Base.PipeEndpoint}, params::VSCodeServer.NotebookRunCellArguments)\n",
      "    @ VSCodeServer c:\\Users\\kmpetersson\\.vscode\\extensions\\julialang.language-julia-1.6.31\\scripts\\packages\\VSCodeServer\\src\\serve_notebook.jl:13\n",
      " [14] dispatch_msg(x::VSCodeServer.JSONRPC.JSONRPCEndpoint{Base.PipeEndpoint, Base.PipeEndpoint}, dispatcher::VSCodeServer.JSONRPC.MsgDispatcher, msg::Dict{String, Any})\n",
      "    @ VSCodeServer.JSONRPC c:\\Users\\kmpetersson\\.vscode\\extensions\\julialang.language-julia-1.6.31\\scripts\\packages\\JSONRPC\\src\\typed.jl:67\n",
      " [15] serve_notebook(pipename::String, outputchannel_logger::Base.CoreLogging.SimpleLogger; crashreporting_pipename::String)\n",
      "    @ VSCodeServer c:\\Users\\kmpetersson\\.vscode\\extensions\\julialang.language-julia-1.6.31\\scripts\\packages\\VSCodeServer\\src\\serve_notebook.jl:139\n",
      " [16] top-level scope\n",
      "    @ c:\\Users\\kmpetersson\\.vscode\\extensions\\julialang.language-julia-1.6.31\\scripts\\notebook\\notebook.jl:32"
     ]
    }
   ],
   "source": [
    "using PNGFiles"
   ]
  },
  {
   "cell_type": "markdown",
   "metadata": {},
   "source": [
    "## Chapter 15 -- Structs and Objects\n",
    "\n",
    "https://benlauwens.github.io/ThinkJulia.jl/latest/book.html#chap15\n",
    "\n",
    "At this point you know how to use functions to organize code and built-in types to organize data. The next step is to learn how to build your own types or **data structures to organize both code and data**. This is a big topic; it will take a few chapters to get there.\n",
    "\n",
    "### Composite Types\n",
    "\n",
    "We have used many of Julia’s built-in types; now we are going to define a new type. As an example, we will create a type called Point that represents a point in two-dimensional space.\n",
    "\n",
    "In mathematical notation, points are often written in parentheses with a comma separating the coordinates. For example, (0,0) represents the origin, and (x,y) represents the point x units to the right and y units up from the origin.\n",
    "\n",
    "There are several ways we might represent points in Julia:\n",
    "\n",
    "- We could store the coordinates separately in two variables, x and y.\n",
    "\n",
    "- We could store the coordinates as elements in an array or tuple.\n",
    "\n",
    "- We could create a new type to represent points as objects.\n",
    "\n",
    "Creating a new type is more complicated than the other options, but it has advantages that will be apparent soon.\n",
    "\n",
    "A programmer-defined composite type is also called a **struct**. \n",
    "\n",
    "The struct definition for a point looks like this:\n",
    "\n",
    "```Julia\n",
    "    struct Point\n",
    "        x\n",
    "        y\n",
    "    end\n",
    "```\n",
    "The header indicates that the new struct is called Point. The body defines the attributes or **fields of the struct**. The Point struct has two fields: x and y.\n",
    "\n",
    "A struct is like a factory for creating objects. To create a point, you call Point as if it were a function having as arguments the values of the fields. When Point is used as a function, it is called a **constructor**.\n",
    "\n",
    "```Julia\n",
    "    julia> p = Point(3.0, 4.0)\n",
    "    Point(3.0, 4.0)\n",
    "```\n",
    "\n",
    "**The return value is a reference to a Point object**, which we assign to p.\n",
    "\n",
    "Creating a new object is called **instantiation**, and the object is an instance of the type. When you print an instance, Julia tells you what type it belongs to and what the values of the atributes are.\n",
    "\n",
    "Every object is an instance of some type, so “object” and “instance” are interchangeable. But in this chapter “instance” indicates a programmer-defined type.\n",
    "\n",
    "A state diagram that shows an object and its fields is called an object diagram; see Object diagram:"
   ]
  },
  {
   "cell_type": "code",
   "execution_count": 3,
   "metadata": {},
   "outputs": [
    {
     "name": "stderr",
     "output_type": "stream",
     "text": [
      "\u001b[91m\u001b[1mERROR: \u001b[22m\u001b[39mLoadError: UndefVarError: AbstractARGB not defined\n",
      "Stacktrace:\n",
      "  [1] top-level scope\n",
      "\u001b[90m    @ \u001b[39m\u001b[90mC:\\Users\\kmpetersson\\.julia\\packages\\PNGFiles\\Ee6Hz\\src\\\u001b[39m\u001b[90m\u001b[4mio.jl:603\u001b[24m\u001b[39m\n",
      "  [2] \u001b[0m\u001b[1minclude\u001b[22m\u001b[0m\u001b[1m(\u001b[22m\u001b[90mmod\u001b[39m::\u001b[0mModule, \u001b[90m_path\u001b[39m::\u001b[0mString\u001b[0m\u001b[1m)\u001b[22m\n",
      "\u001b[90m    @ \u001b[39m\u001b[90mBase\u001b[39m \u001b[90m.\\\u001b[39m\u001b[90m\u001b[4mBase.jl:418\u001b[24m\u001b[39m\n",
      "  [3] \u001b[0m\u001b[1minclude\u001b[22m\u001b[0m\u001b[1m(\u001b[22m\u001b[90mx\u001b[39m::\u001b[0mString\u001b[0m\u001b[1m)\u001b[22m\n",
      "\u001b[90m    @ \u001b[39m\u001b[35mPNGFiles\u001b[39m \u001b[90mC:\\Users\\kmpetersson\\.julia\\packages\\PNGFiles\\Ee6Hz\\src\\\u001b[39m\u001b[90m\u001b[4mPNGFiles.jl:1\u001b[24m\u001b[39m\n",
      "  [4] top-level scope\n",
      "\u001b[90m    @ \u001b[39m\u001b[90mC:\\Users\\kmpetersson\\.julia\\packages\\PNGFiles\\Ee6Hz\\src\\\u001b[39m\u001b[90m\u001b[4mPNGFiles.jl:22\u001b[24m\u001b[39m\n",
      "  [5] \u001b[0m\u001b[1minclude\u001b[22m\n",
      "\u001b[90m    @ \u001b[39m\u001b[90m.\\\u001b[39m\u001b[90m\u001b[4mBase.jl:418\u001b[24m\u001b[39m\u001b[90m [inlined]\u001b[39m\n",
      "  [6] \u001b[0m\u001b[1minclude_package_for_output\u001b[22m\u001b[0m\u001b[1m(\u001b[22m\u001b[90mpkg\u001b[39m::\u001b[0mBase.PkgId, \u001b[90minput\u001b[39m::\u001b[0mString, \u001b[90mdepot_path\u001b[39m::\u001b[0mVector\u001b[90m{String}\u001b[39m, \u001b[90mdl_load_path\u001b[39m::\u001b[0mVector\u001b[90m{String}\u001b[39m, \u001b[90mload_path\u001b[39m::\u001b[0mVector\u001b[90m{String}\u001b[39m, \u001b[90mconcrete_deps\u001b[39m::\u001b[0mVector\u001b[90m{Pair{Base.PkgId, UInt64}}\u001b[39m, \u001b[90msource\u001b[39m::\u001b[0mString\u001b[0m\u001b[1m)\u001b[22m\n",
      "\u001b[90m    @ \u001b[39m\u001b[90mBase\u001b[39m \u001b[90m.\\\u001b[39m\u001b[90m\u001b[4mloading.jl:1318\u001b[24m\u001b[39m\n",
      "  [7] top-level scope\n",
      "\u001b[90m    @ \u001b[39m\u001b[90m\u001b[4mnone:1\u001b[24m\u001b[39m\n",
      "  [8] \u001b[0m\u001b[1meval\u001b[22m\n",
      "\u001b[90m    @ \u001b[39m\u001b[90m.\\\u001b[39m\u001b[90m\u001b[4mboot.jl:373\u001b[24m\u001b[39m\u001b[90m [inlined]\u001b[39m\n",
      "  [9] \u001b[0m\u001b[1meval\u001b[22m\u001b[0m\u001b[1m(\u001b[22m\u001b[90mx\u001b[39m::\u001b[0mExpr\u001b[0m\u001b[1m)\u001b[22m\n",
      "\u001b[90m    @ \u001b[39m\u001b[90mBase.MainInclude\u001b[39m \u001b[90m.\\\u001b[39m\u001b[90m\u001b[4mclient.jl:453\u001b[24m\u001b[39m\n",
      " [10] top-level scope\n",
      "\u001b[90m    @ \u001b[39m\u001b[90m\u001b[4mnone:1\u001b[24m\u001b[39m\n",
      "in expression starting at C:\\Users\\kmpetersson\\.julia\\packages\\PNGFiles\\Ee6Hz\\src\\io.jl:603\n",
      "in expression starting at C:\\Users\\kmpetersson\\.julia\\packages\\PNGFiles\\Ee6Hz\\src\\PNGFiles.jl:1\n"
     ]
    },
    {
     "data": {
      "image/png": "[encoded data removed]",
      "text/plain": [
       "123×332 Array{RGBA{N0f8},2} with eltype RGBA{N0f8}:\n",
       " RGBA{N0f8}(1.0,1.0,1.0,1.0)  …  RGBA{N0f8}(1.0,1.0,1.0,1.0)\n",
       " RGBA{N0f8}(1.0,1.0,1.0,1.0)     RGBA{N0f8}(1.0,1.0,1.0,1.0)\n",
       " RGBA{N0f8}(1.0,1.0,1.0,1.0)     RGBA{N0f8}(1.0,1.0,1.0,1.0)\n",
       " RGBA{N0f8}(1.0,1.0,1.0,1.0)     RGBA{N0f8}(1.0,1.0,1.0,1.0)\n",
       " RGBA{N0f8}(1.0,1.0,1.0,1.0)     RGBA{N0f8}(1.0,1.0,1.0,1.0)\n",
       " RGBA{N0f8}(1.0,1.0,1.0,1.0)  …  RGBA{N0f8}(1.0,1.0,1.0,1.0)\n",
       " RGBA{N0f8}(1.0,1.0,1.0,1.0)     RGBA{N0f8}(1.0,1.0,1.0,1.0)\n",
       " RGBA{N0f8}(1.0,1.0,1.0,1.0)     RGBA{N0f8}(1.0,1.0,1.0,1.0)\n",
       " RGBA{N0f8}(1.0,1.0,1.0,1.0)     RGBA{N0f8}(1.0,1.0,1.0,1.0)\n",
       " RGBA{N0f8}(1.0,1.0,1.0,1.0)     RGBA{N0f8}(1.0,1.0,1.0,1.0)\n",
       " ⋮                            ⋱  \n",
       " RGBA{N0f8}(1.0,1.0,1.0,1.0)     RGBA{N0f8}(1.0,1.0,1.0,1.0)\n",
       " RGBA{N0f8}(1.0,1.0,1.0,1.0)  …  RGBA{N0f8}(1.0,1.0,1.0,1.0)\n",
       " RGBA{N0f8}(1.0,1.0,1.0,1.0)     RGBA{N0f8}(1.0,1.0,1.0,1.0)\n",
       " RGBA{N0f8}(1.0,1.0,1.0,1.0)     RGBA{N0f8}(1.0,1.0,1.0,1.0)\n",
       " RGBA{N0f8}(1.0,1.0,1.0,1.0)     RGBA{N0f8}(1.0,1.0,1.0,1.0)\n",
       " RGBA{N0f8}(1.0,1.0,1.0,1.0)     RGBA{N0f8}(1.0,1.0,1.0,1.0)\n",
       " RGBA{N0f8}(1.0,1.0,1.0,1.0)  …  RGBA{N0f8}(1.0,1.0,1.0,1.0)\n",
       " RGBA{N0f8}(1.0,1.0,1.0,1.0)     RGBA{N0f8}(1.0,1.0,1.0,1.0)\n",
       " RGBA{N0f8}(1.0,1.0,1.0,1.0)     RGBA{N0f8}(1.0,1.0,1.0,1.0)"
      ]
     },
     "metadata": {},
     "output_type": "display_data"
    },
    {
     "name": "stderr",
     "output_type": "stream",
     "text": [
      "\u001b[91m\u001b[1mERROR: \u001b[22m\u001b[39mLoadError: UndefVarError: AbstractARGB not defined\n",
      "Stacktrace:\n",
      "  [1] top-level scope\n",
      "\u001b[90m    @ \u001b[39m\u001b[90mC:\\Users\\kmpetersson\\.julia\\packages\\PNGFiles\\Ee6Hz\\src\\\u001b[39m\u001b[90m\u001b[4mio.jl:603\u001b[24m\u001b[39m\n",
      "  [2] \u001b[0m\u001b[1minclude\u001b[22m\u001b[0m\u001b[1m(\u001b[22m\u001b[90mmod\u001b[39m::\u001b[0mModule, \u001b[90m_path\u001b[39m::\u001b[0mString\u001b[0m\u001b[1m)\u001b[22m\n",
      "\u001b[90m    @ \u001b[39m\u001b[90mBase\u001b[39m \u001b[90m.\\\u001b[39m\u001b[90m\u001b[4mBase.jl:418\u001b[24m\u001b[39m\n",
      "  [3] \u001b[0m\u001b[1minclude\u001b[22m\u001b[0m\u001b[1m(\u001b[22m\u001b[90mx\u001b[39m::\u001b[0mString\u001b[0m\u001b[1m)\u001b[22m\n",
      "\u001b[90m    @ \u001b[39m\u001b[35mPNGFiles\u001b[39m \u001b[90mC:\\Users\\kmpetersson\\.julia\\packages\\PNGFiles\\Ee6Hz\\src\\\u001b[39m\u001b[90m\u001b[4mPNGFiles.jl:1\u001b[24m\u001b[39m\n",
      "  [4] top-level scope\n",
      "\u001b[90m    @ \u001b[39m\u001b[90mC:\\Users\\kmpetersson\\.julia\\packages\\PNGFiles\\Ee6Hz\\src\\\u001b[39m\u001b[90m\u001b[4mPNGFiles.jl:22\u001b[24m\u001b[39m\n",
      "  [5] \u001b[0m\u001b[1minclude\u001b[22m\n",
      "\u001b[90m    @ \u001b[39m\u001b[90m.\\\u001b[39m\u001b[90m\u001b[4mBase.jl:418\u001b[24m\u001b[39m\u001b[90m [inlined]\u001b[39m\n",
      "  [6] \u001b[0m\u001b[1minclude_package_for_output\u001b[22m\u001b[0m\u001b[1m(\u001b[22m\u001b[90mpkg\u001b[39m::\u001b[0mBase.PkgId, \u001b[90minput\u001b[39m::\u001b[0mString, \u001b[90mdepot_path\u001b[39m::\u001b[0mVector\u001b[90m{String}\u001b[39m, \u001b[90mdl_load_path\u001b[39m::\u001b[0mVector\u001b[90m{String}\u001b[39m, \u001b[90mload_path\u001b[39m::\u001b[0mVector\u001b[90m{String}\u001b[39m, \u001b[90mconcrete_deps\u001b[39m::\u001b[0mVector\u001b[90m{Pair{Base.PkgId, UInt64}}\u001b[39m, \u001b[90msource\u001b[39m::\u001b[0mString\u001b[0m\u001b[1m)\u001b[22m\n",
      "\u001b[90m    @ \u001b[39m\u001b[90mBase\u001b[39m \u001b[90m.\\\u001b[39m\u001b[90m\u001b[4mloading.jl:1318\u001b[24m\u001b[39m\n",
      "  [7] top-level scope\n",
      "\u001b[90m    @ \u001b[39m\u001b[90m\u001b[4mnone:1\u001b[24m\u001b[39m\n",
      "  [8] \u001b[0m\u001b[1meval\u001b[22m\n",
      "\u001b[90m    @ \u001b[39m\u001b[90m.\\\u001b[39m\u001b[90m\u001b[4mboot.jl:373\u001b[24m\u001b[39m\u001b[90m [inlined]\u001b[39m\n",
      "  [9] \u001b[0m\u001b[1meval\u001b[22m\u001b[0m\u001b[1m(\u001b[22m\u001b[90mx\u001b[39m::\u001b[0mExpr\u001b[0m\u001b[1m)\u001b[22m\n",
      "\u001b[90m    @ \u001b[39m\u001b[90mBase.MainInclude\u001b[39m \u001b[90m.\\\u001b[39m\u001b[90m\u001b[4mclient.jl:453\u001b[24m\u001b[39m\n",
      " [10] top-level scope\n",
      "\u001b[90m    @ \u001b[39m\u001b[90m\u001b[4mnone:1\u001b[24m\u001b[39m\n",
      "in expression starting at C:\\Users\\kmpetersson\\.julia\\packages\\PNGFiles\\Ee6Hz\\src\\io.jl:603\n",
      "in expression starting at C:\\Users\\kmpetersson\\.julia\\packages\\PNGFiles\\Ee6Hz\\src\\PNGFiles.jl:1\n"
     ]
    }
   ],
   "source": [
    "load(\"object-diagram.png\")"
   ]
  },
  {
   "cell_type": "code",
   "execution_count": 4,
   "metadata": {},
   "outputs": [
    {
     "data": {
      "text/plain": [
       "Point(3.0, 4.0)"
      ]
     },
     "metadata": {},
     "output_type": "display_data"
    }
   ],
   "source": [
    "struct Point\n",
    "    x::Float64\n",
    "    y::Float64\n",
    "end\n",
    "\n",
    "p = Point(3.0, 4.0)"
   ]
  },
  {
   "cell_type": "code",
   "execution_count": 5,
   "metadata": {},
   "outputs": [
    {
     "data": {
      "text/plain": [
       "4.0"
      ]
     },
     "metadata": {},
     "output_type": "display_data"
    }
   ],
   "source": [
    "p.y"
   ]
  },
  {
   "cell_type": "code",
   "execution_count": 6,
   "metadata": {},
   "outputs": [
    {
     "data": {
      "text/plain": [
       "3.0"
      ]
     },
     "metadata": {},
     "output_type": "display_data"
    }
   ],
   "source": [
    "x = p.x"
   ]
  },
  {
   "cell_type": "markdown",
   "metadata": {},
   "source": [
    "### Structs are Immutable\n",
    "\n",
    "You can get the values of the fields using . notation:\n",
    "\n",
    "```Julia\n",
    "\tjulia> x = p.x\n",
    "\t3.0\n",
    "\tjulia> p.y\n",
    "\t4.0\n",
    "```\n",
    "\n",
    "The expression p.x means, “Go to the object p refers to and get the value of x.” In the example, we assign that value to a variable named x. \n",
    "\n",
    "There is no conflict between the variable x and the field x. You can use **dot notation** as part of any expression. For example:\n",
    "\n",
    "```Julia\n",
    "    julia> distance = sqrt(p.x^2 + p.y^2)\n",
    "    5.0\n",
    "```\n",
    "\n",
    "Structs are however by default immutable, after construction the fields can not change value:\n",
    "\n",
    "```Julia\n",
    "    julia> p.y = 1.0\n",
    "    ERROR: setfield! immutable struct of type Point cannot be changed\n",
    "```\n",
    "\n",
    "This may seem odd at first, but it has several advantages:\n",
    "\n",
    "- It can be more efficient.\n",
    "\n",
    "- It is not possible to violate the invariants provided by the type’s constructors (see Constructors https://docs.julialang.org/en/v1/manual/constructors/).\n",
    "\n",
    "- Code using immutable objects can be easier to reason about.\n",
    "\n",
    "### Mutable Structs\n",
    "\n",
    "Where required, mutable composite types can be declared with the keyword mutable struct. Here is the definition of a mutable point:\n",
    "\n",
    "```Julia\n",
    "    mutable struct MPoint\n",
    "        x\n",
    "        y\n",
    "    end\n",
    "```\n",
    "\n",
    "You can assign values to an instance of a mutable struct using dot notation:"
   ]
  },
  {
   "cell_type": "code",
   "execution_count": 7,
   "metadata": {},
   "outputs": [
    {
     "name": "stdout",
     "output_type": "stream",
     "text": [
      "MPoint\n",
      "  x: Float64 3.0\n",
      "  y: Float64 0.0\n"
     ]
    }
   ],
   "source": [
    "mutable struct MPoint\n",
    "    x::Float64\n",
    "    y::Float64\n",
    "end\n",
    "blank = MPoint(0.0, 0.0)\n",
    "blank.x = 3.0\n",
    "\n",
    "dump(blank)"
   ]
  },
  {
   "cell_type": "markdown",
   "metadata": {},
   "source": [
    "### Rectangles\n",
    "\n",
    "Sometimes it is obvious what the fields of an object should be, but other times you have to make decisions. For example, imagine you are designing a type to represent rectangles. What fields would you use to specify the location and size of a rectangle? You can ignore angle; to keep things simple, assume that the rectangle is either vertical or horizontal.\n",
    "\n",
    "There are at least two possibilities:\n",
    "\n",
    "- You could specify one corner of the rectangle (or the center), the width, and the height.\n",
    "\n",
    "- You could specify two opposing corners.\n",
    "\n",
    "At this point it is hard to say whether either is better than the other, so we’ll implement the first one, just as an example.\n",
    "\n",
    "```Julia\n",
    "    \"\"\"\n",
    "    Represents a rectangle.\n",
    "\n",
    "    fields: width, height, corner.\n",
    "    \"\"\"\n",
    "    struct Rectangle\n",
    "        width\n",
    "        height\n",
    "        corner\n",
    "    end\n",
    "```\n",
    "\n",
    "The docstring lists the fields: width and height are numbers; corner is a Point object that specifies the lower-left corner. To represent a rectangle, you have to instantiate a Rectangle object:\n",
    "\n",
    "```Julia\n",
    "    julia> origin = MPoint(0.0, 0.0)\n",
    "        MPoint(0.0, 0.0)\n",
    "    julia> box = Rectangle(100.0, 200.0, origin)\n",
    "        Rectangle(100.0, 200.0, MPoint(0.0, 0.0))\n",
    "```\n",
    "\n",
    "Object diagram shows the state of this object. An object that is a field of another object is embedded. Because the corner attribute refers to a mutable object, the latter is drawn outside the Rectangle object.\n"
   ]
  },
  {
   "cell_type": "code",
   "execution_count": 8,
   "metadata": {},
   "outputs": [
    {
     "name": "stderr",
     "output_type": "stream",
     "text": [
      "\u001b[91m\u001b[1mERROR: \u001b[22m\u001b[39mLoadError: UndefVarError: AbstractARGB not defined\n",
      "Stacktrace:\n",
      "  [1] top-level scope\n",
      "\u001b[90m    @ \u001b[39m\u001b[90mC:\\Users\\kmpetersson\\.julia\\packages\\PNGFiles\\Ee6Hz\\src\\\u001b[39m\u001b[90m\u001b[4mio.jl:603\u001b[24m\u001b[39m\n",
      "  [2] \u001b[0m\u001b[1minclude\u001b[22m\u001b[0m\u001b[1m(\u001b[22m\u001b[90mmod\u001b[39m::\u001b[0mModule, \u001b[90m_path\u001b[39m::\u001b[0mString\u001b[0m\u001b[1m)\u001b[22m\n",
      "\u001b[90m    @ \u001b[39m\u001b[90mBase\u001b[39m \u001b[90m.\\\u001b[39m\u001b[90m\u001b[4mBase.jl:418\u001b[24m\u001b[39m\n",
      "  [3] \u001b[0m\u001b[1minclude\u001b[22m\u001b[0m\u001b[1m(\u001b[22m\u001b[90mx\u001b[39m::\u001b[0mString\u001b[0m\u001b[1m)\u001b[22m\n",
      "\u001b[90m    @ \u001b[39m\u001b[35mPNGFiles\u001b[39m \u001b[90mC:\\Users\\kmpetersson\\.julia\\packages\\PNGFiles\\Ee6Hz\\src\\\u001b[39m\u001b[90m\u001b[4mPNGFiles.jl:1\u001b[24m\u001b[39m\n",
      "  [4] top-level scope\n",
      "\u001b[90m    @ \u001b[39m\u001b[90mC:\\Users\\kmpetersson\\.julia\\packages\\PNGFiles\\Ee6Hz\\src\\\u001b[39m\u001b[90m\u001b[4mPNGFiles.jl:22\u001b[24m\u001b[39m\n",
      "  [5] \u001b[0m\u001b[1minclude\u001b[22m\n",
      "\u001b[90m    @ \u001b[39m\u001b[90m.\\\u001b[39m\u001b[90m\u001b[4mBase.jl:418\u001b[24m\u001b[39m\u001b[90m [inlined]\u001b[39m\n",
      "  [6] \u001b[0m\u001b[1minclude_package_for_output\u001b[22m\u001b[0m\u001b[1m(\u001b[22m\u001b[90mpkg\u001b[39m::\u001b[0mBase.PkgId, \u001b[90minput\u001b[39m::\u001b[0mString, \u001b[90mdepot_path\u001b[39m::\u001b[0mVector\u001b[90m{String}\u001b[39m, \u001b[90mdl_load_path\u001b[39m::\u001b[0mVector\u001b[90m{String}\u001b[39m, \u001b[90mload_path\u001b[39m::\u001b[0mVector\u001b[90m{String}\u001b[39m, \u001b[90mconcrete_deps\u001b[39m::\u001b[0mVector\u001b[90m{Pair{Base.PkgId, UInt64}}\u001b[39m, \u001b[90msource\u001b[39m::\u001b[0mString\u001b[0m\u001b[1m)\u001b[22m\n",
      "\u001b[90m    @ \u001b[39m\u001b[90mBase\u001b[39m \u001b[90m.\\\u001b[39m\u001b[90m\u001b[4mloading.jl:1318\u001b[24m\u001b[39m\n",
      "  [7] top-level scope\n",
      "\u001b[90m    @ \u001b[39m\u001b[90m\u001b[4mnone:1\u001b[24m\u001b[39m\n",
      "  [8] \u001b[0m\u001b[1meval\u001b[22m\n",
      "\u001b[90m    @ \u001b[39m\u001b[90m.\\\u001b[39m\u001b[90m\u001b[4mboot.jl:373\u001b[24m\u001b[39m\u001b[90m [inlined]\u001b[39m\n",
      "  [9] \u001b[0m\u001b[1meval\u001b[22m\u001b[0m\u001b[1m(\u001b[22m\u001b[90mx\u001b[39m::\u001b[0mExpr\u001b[0m\u001b[1m)\u001b[22m\n",
      "\u001b[90m    @ \u001b[39m\u001b[90mBase.MainInclude\u001b[39m \u001b[90m.\\\u001b[39m\u001b[90m\u001b[4mclient.jl:453\u001b[24m\u001b[39m\n",
      " [10] top-level scope\n",
      "\u001b[90m    @ \u001b[39m\u001b[90m\u001b[4mnone:1\u001b[24m\u001b[39m\n",
      "in expression starting at C:\\Users\\kmpetersson\\.julia\\packages\\PNGFiles\\Ee6Hz\\src\\io.jl:603\n",
      "in expression starting at C:\\Users\\kmpetersson\\.julia\\packages\\PNGFiles\\Ee6Hz\\src\\PNGFiles.jl:1\n"
     ]
    },
    {
     "data": {
      "image/png": "[encoded data removed]",
      "text/plain": [
       "169×558 Array{RGBA{N0f8},2} with eltype RGBA{N0f8}:\n",
       " RGBA{N0f8}(1.0,1.0,1.0,1.0)  …  RGBA{N0f8}(1.0,1.0,1.0,1.0)\n",
       " RGBA{N0f8}(1.0,1.0,1.0,1.0)     RGBA{N0f8}(1.0,1.0,1.0,1.0)\n",
       " RGBA{N0f8}(1.0,1.0,1.0,1.0)     RGBA{N0f8}(1.0,1.0,1.0,1.0)\n",
       " RGBA{N0f8}(1.0,1.0,1.0,1.0)     RGBA{N0f8}(1.0,1.0,1.0,1.0)\n",
       " RGBA{N0f8}(1.0,1.0,1.0,1.0)     RGBA{N0f8}(1.0,1.0,1.0,1.0)\n",
       " RGBA{N0f8}(1.0,1.0,1.0,1.0)  …  RGBA{N0f8}(1.0,1.0,1.0,1.0)\n",
       " RGBA{N0f8}(1.0,1.0,1.0,1.0)     RGBA{N0f8}(1.0,1.0,1.0,1.0)\n",
       " RGBA{N0f8}(1.0,1.0,1.0,1.0)     RGBA{N0f8}(1.0,1.0,1.0,1.0)\n",
       " RGBA{N0f8}(1.0,1.0,1.0,1.0)     RGBA{N0f8}(1.0,1.0,1.0,1.0)\n",
       " RGBA{N0f8}(1.0,1.0,1.0,1.0)     RGBA{N0f8}(1.0,1.0,1.0,1.0)\n",
       " ⋮                            ⋱  \n",
       " RGBA{N0f8}(1.0,1.0,1.0,1.0)  …  RGBA{N0f8}(1.0,1.0,1.0,1.0)\n",
       " RGBA{N0f8}(1.0,1.0,1.0,1.0)     RGBA{N0f8}(1.0,1.0,1.0,1.0)\n",
       " RGBA{N0f8}(1.0,1.0,1.0,1.0)     RGBA{N0f8}(1.0,1.0,1.0,1.0)\n",
       " RGBA{N0f8}(1.0,1.0,1.0,1.0)     RGBA{N0f8}(1.0,1.0,1.0,1.0)\n",
       " RGBA{N0f8}(1.0,1.0,1.0,1.0)     RGBA{N0f8}(1.0,1.0,1.0,1.0)\n",
       " RGBA{N0f8}(1.0,1.0,1.0,1.0)  …  RGBA{N0f8}(1.0,1.0,1.0,1.0)\n",
       " RGBA{N0f8}(1.0,1.0,1.0,1.0)     RGBA{N0f8}(1.0,1.0,1.0,1.0)\n",
       " RGBA{N0f8}(1.0,1.0,1.0,1.0)     RGBA{N0f8}(1.0,1.0,1.0,1.0)\n",
       " RGBA{N0f8}(1.0,1.0,1.0,1.0)     RGBA{N0f8}(1.0,1.0,1.0,1.0)"
      ]
     },
     "metadata": {},
     "output_type": "display_data"
    },
    {
     "name": "stderr",
     "output_type": "stream",
     "text": [
      "\u001b[91m\u001b[1mERROR: \u001b[22m\u001b[39mLoadError: UndefVarError: AbstractARGB not defined\n",
      "Stacktrace:\n",
      "  [1] top-level scope\n",
      "\u001b[90m    @ \u001b[39m\u001b[90mC:\\Users\\kmpetersson\\.julia\\packages\\PNGFiles\\Ee6Hz\\src\\\u001b[39m\u001b[90m\u001b[4mio.jl:603\u001b[24m\u001b[39m\n",
      "  [2] \u001b[0m\u001b[1minclude\u001b[22m\u001b[0m\u001b[1m(\u001b[22m\u001b[90mmod\u001b[39m::\u001b[0mModule, \u001b[90m_path\u001b[39m::\u001b[0mString\u001b[0m\u001b[1m)\u001b[22m\n",
      "\u001b[90m    @ \u001b[39m\u001b[90mBase\u001b[39m \u001b[90m.\\\u001b[39m\u001b[90m\u001b[4mBase.jl:418\u001b[24m\u001b[39m\n",
      "  [3] \u001b[0m\u001b[1minclude\u001b[22m\u001b[0m\u001b[1m(\u001b[22m\u001b[90mx\u001b[39m::\u001b[0mString\u001b[0m\u001b[1m)\u001b[22m\n",
      "\u001b[90m    @ \u001b[39m\u001b[35mPNGFiles\u001b[39m \u001b[90mC:\\Users\\kmpetersson\\.julia\\packages\\PNGFiles\\Ee6Hz\\src\\\u001b[39m\u001b[90m\u001b[4mPNGFiles.jl:1\u001b[24m\u001b[39m\n",
      "  [4] top-level scope\n",
      "\u001b[90m    @ \u001b[39m\u001b[90mC:\\Users\\kmpetersson\\.julia\\packages\\PNGFiles\\Ee6Hz\\src\\\u001b[39m\u001b[90m\u001b[4mPNGFiles.jl:22\u001b[24m\u001b[39m\n",
      "  [5] \u001b[0m\u001b[1minclude\u001b[22m\n",
      "\u001b[90m    @ \u001b[39m\u001b[90m.\\\u001b[39m\u001b[90m\u001b[4mBase.jl:418\u001b[24m\u001b[39m\u001b[90m [inlined]\u001b[39m\n",
      "  [6] \u001b[0m\u001b[1minclude_package_for_output\u001b[22m\u001b[0m\u001b[1m(\u001b[22m\u001b[90mpkg\u001b[39m::\u001b[0mBase.PkgId, \u001b[90minput\u001b[39m::\u001b[0mString, \u001b[90mdepot_path\u001b[39m::\u001b[0mVector\u001b[90m{String}\u001b[39m, \u001b[90mdl_load_path\u001b[39m::\u001b[0mVector\u001b[90m{String}\u001b[39m, \u001b[90mload_path\u001b[39m::\u001b[0mVector\u001b[90m{String}\u001b[39m, \u001b[90mconcrete_deps\u001b[39m::\u001b[0mVector\u001b[90m{Pair{Base.PkgId, UInt64}}\u001b[39m, \u001b[90msource\u001b[39m::\u001b[0mString\u001b[0m\u001b[1m)\u001b[22m\n",
      "\u001b[90m    @ \u001b[39m\u001b[90mBase\u001b[39m \u001b[90m.\\\u001b[39m\u001b[90m\u001b[4mloading.jl:1318\u001b[24m\u001b[39m\n",
      "  [7] top-level scope\n",
      "\u001b[90m    @ \u001b[39m\u001b[90m\u001b[4mnone:1\u001b[24m\u001b[39m\n",
      "  [8] \u001b[0m\u001b[1meval\u001b[22m\n",
      "\u001b[90m    @ \u001b[39m\u001b[90m.\\\u001b[39m\u001b[90m\u001b[4mboot.jl:373\u001b[24m\u001b[39m\u001b[90m [inlined]\u001b[39m\n",
      "  [9] \u001b[0m\u001b[1meval\u001b[22m\u001b[0m\u001b[1m(\u001b[22m\u001b[90mx\u001b[39m::\u001b[0mExpr\u001b[0m\u001b[1m)\u001b[22m\n",
      "\u001b[90m    @ \u001b[39m\u001b[90mBase.MainInclude\u001b[39m \u001b[90m.\\\u001b[39m\u001b[90m\u001b[4mclient.jl:453\u001b[24m\u001b[39m\n",
      " [10] top-level scope\n",
      "\u001b[90m    @ \u001b[39m\u001b[90m\u001b[4mnone:1\u001b[24m\u001b[39m\n",
      "in expression starting at C:\\Users\\kmpetersson\\.julia\\packages\\PNGFiles\\Ee6Hz\\src\\io.jl:603\n",
      "in expression starting at C:\\Users\\kmpetersson\\.julia\\packages\\PNGFiles\\Ee6Hz\\src\\PNGFiles.jl:1\n"
     ]
    }
   ],
   "source": [
    "load(\"object-diagram-2.png\")"
   ]
  },
  {
   "cell_type": "markdown",
   "metadata": {},
   "source": [
    "### Instances as Arguments\n",
    "\n",
    "You can pass an instance as an argument in the usual way. For example:\n",
    "\n",
    "```Julia\n",
    "\tfunction printpoint(p)\n",
    "\t\tprintln(\"($(p.x), $(p.y))\")\n",
    "\tend\n",
    "```\n",
    "\n",
    "`printpoint` takes a Point as an argument and displays it in mathematical notation. To invoke it, you can pass p as an argument:\n",
    "\n",
    "```Julia\n",
    "\tjulia> printpoint(blank)\n",
    "\t(3.0, 4.0)\n",
    "```"
   ]
  },
  {
   "cell_type": "markdown",
   "metadata": {},
   "source": [
    "### Exercise 15-1\n",
    "\n",
    "Write a function called `distancebetweenpoints` that takes two points as arguments and returns the distance between them."
   ]
  },
  {
   "cell_type": "markdown",
   "metadata": {},
   "source": [
    "If a mutable struct object is passed to a function as an argument, the function can modify the fields of the object. For example, movepoint! takes a mutable Point object and two numbers, dx and dy, and adds the numbers to respectively the x and the y attribute of the Point:\n",
    "\n",
    "```Julia\n",
    "  function movepoint!(p, dx, dy)\n",
    "      p.x += dx\n",
    "      p.y += dy\n",
    "      nothing\n",
    "  end\n",
    "```\n",
    "\n",
    "Here is an example that demonstrates the effect:\n",
    "\n",
    "```Julia\n",
    "  julia> origin = MPoint(0.0, 0.0)\n",
    "    MPoint(0.0, 0.0)\n",
    "\n",
    "  julia> movepoint!(origin, 1.0, 2.0)\n",
    "\n",
    "  julia> origin\n",
    "    MPoint(1.0, 2.0)\n",
    "```\n",
    "\n",
    "Inside the function, p is an alias for origin, so when the function modifies p, origin changes. Passing an immutable Point object to movepoint! causes an error:\n",
    "\n",
    "```Julia\n",
    "  julia> movepoint!(p, 1.0, 2.0)\n",
    "      ERROR: setfield! immutable struct of type Point cannot be changed\n",
    "```\n",
    "\n",
    "**You can however modify a mutable attribute of an immutable object.** \n",
    "\n",
    "For example, moverectangle! has as arguments a Rectangle object and two numbers, dx and dy, and uses movepoint! to move the corner of the rectangle:\n",
    "\n",
    "```Julia\n",
    "  function moverectangle!(rect, dx, dy)\n",
    "    movepoint!(rect.corner, dx, dy)\n",
    "  end\n",
    "```\n",
    "\n",
    "Now p in movepoint! is an alias for rect.corner, so when p is modified, rect.corner changes also:\n",
    "\n",
    "```Julia\n",
    "  julia> box\n",
    "      Rectangle(100.0, 200.0, MPoint(0.0, 0.0))\n",
    "\n",
    "  julia> moverectangle!(box, 1.0, 2.0)\n",
    "\n",
    "  julia> box\n",
    "      Rectangle(100.0, 200.0, MPoint(1.0, 2.0))\n",
    "```"
   ]
  },
  {
   "cell_type": "markdown",
   "metadata": {},
   "source": [
    "### Warning\n",
    "\n",
    "You cannot reassign a mutable attribute of an immutable object:\n",
    "\n",
    "```Julia\n",
    "  julia> box.corner = MPoint(1.0, 2.0)\n",
    "    ERROR: setfield! immutable struct of type Rectangle cannot be changed\n",
    "```"
   ]
  },
  {
   "cell_type": "markdown",
   "metadata": {},
   "source": [
    "### Instances as Return Values\n",
    "\n",
    "**Functions can return instances.** For example, findcenter takes a Rectangle as an argument and returns a Point that contains the coordinates of the center of the rectangle:\n",
    "\n",
    "```Julia\n",
    "    function findcenter(rect)\n",
    "        Point(rect.corner.x + rect.width / 2, rect.corner.y + rect.height / 2)\n",
    "    end\n",
    "```\n",
    "\n",
    "The expression rect.corner.x means, “Go to the object rect refers to and select the field named corner; then go to that object and select the field named x.” Here is an example that passes box as an argument and assigns the resulting Point to center:\n",
    "\n",
    "```Julia\n",
    "    julia> center = findcenter(box)\n",
    "    Point(51.0, 102.0)\n",
    "```\n",
    "\n",
    "### Copying\n",
    "\n",
    "Aliasing can make a program difficult to read because changes in one place might have unexpected effects in another place. It is hard to keep track of all the variables that might refer to a given object. **Copying** an object is often an alternative to aliasing. Julia provides a function called **deepcopy** that can duplicate any object:\n",
    "\n",
    "```Julia\n",
    "    julia> p1 = MPoint(3.0, 4.0)\n",
    "        MPoint(3.0, 4.0)\n",
    "\n",
    "    julia> p2 = deepcopy(p1)\n",
    "        MPoint(3.0, 4.0)\n",
    "\n",
    "    julia> p1 ≡ p2\n",
    "        false\n",
    "    julia> p1 == p2\n",
    "        false\n",
    "```\n",
    "\n",
    "The `≡ operator` indicates that p1 and p2 are not the same object, which is what we expected. But you might have expected == to yield true because these points contain the same data. In that case, you will be disappointed to learn that for mutable objects, the default behavior of the == operator is the same as the === operator; it checks object identity, not object equivalence. That is because for mutable composite types, Julia does not know what should be considered equivalent. At least, not yet."
   ]
  },
  {
   "cell_type": "markdown",
   "metadata": {},
   "source": [
    "### Exercise 15-2\n",
    "\n",
    "Create a Point instance, make a copy of it and check the equivalence and the egality of both. The result can surprise you but it explains why aliasing is a non issue for an immutable object."
   ]
  },
  {
   "cell_type": "markdown",
   "metadata": {},
   "source": [
    "### Debugging\n",
    "\n",
    "When you start working with objects, you are likely to encounter some new exceptions. If you try to access a field that does not exist, you get:\n",
    "\n",
    "```Julia\n",
    "    julia> p = Point(3.0, 4.0)\n",
    "        Point(3.0, 4.0)\n",
    "\n",
    "    julia> p.z = 1.0\n",
    "        ERROR: type Point has no field z\n",
    "        Stacktrace:\n",
    "        [1] setproperty!(::Point, ::Symbol, ::Float64) at ./sysimg.jl:19\n",
    "        [2] top-level scope at none:0\n",
    "```\n",
    "If you are not sure what type an object is, you can ask:\n",
    "\n",
    "```Julia\n",
    "    julia> typeof(p)\n",
    "        Point\n",
    "```\n",
    "\n",
    "You can also use **isa** to check whether an object is an instance of a type:\n",
    "\n",
    "```Julia\n",
    "    julia> p isa Point\n",
    "        true\n",
    "```\n",
    "If you are not sure whether an object has a particular attribute, you can use the built-in function **fieldnames**:\n",
    "\n",
    "```Julia\n",
    "    julia> fieldnames(Point)\n",
    "        (:x, :y)\n",
    "```\n",
    "\n",
    "or the function **isdefined**:\n",
    "\n",
    "```Julia\n",
    "    julia> isdefined(p, :x)\n",
    "        true\n",
    "    julia> isdefined(p, :z)\n",
    "        false\n",
    "```\n",
    "\n",
    "The first argument can be any object; the second argument is a **symbol**, **`:`** followed by the name of the field."
   ]
  },
  {
   "cell_type": "code",
   "execution_count": 9,
   "metadata": {},
   "outputs": [
    {
     "name": "stdout",
     "output_type": "stream",
     "text": [
      "Point\n",
      "  x: Float64 3.0\n",
      "  y: Float64 4.0\n"
     ]
    }
   ],
   "source": [
    "dump(p) # dump outputs a summary of the object"
   ]
  },
  {
   "cell_type": "markdown",
   "metadata": {},
   "source": [
    "## Exercises\n",
    "\n",
    "### Exercise 15-3\n",
    "\n",
    "Write a definition for a type named `Circle` with fields `center` and `radius`, where center is a Point object and radius is a number.\n",
    "\n",
    "Instantiate a circle object that represents a circle with its center at (150,100 and radius 75.\n",
    "\n",
    "Write a function named `pointincircle` that takes a Circle object and a Point object and returns true if the point lies in or on the boundary of the circle.\n",
    "\n",
    "Write a function named `rectincircle` that takes a Circle object and a Rectangle object and returns true if the rectangle lies entirely in or on the boundary of the circle.\n",
    "\n",
    "Write a function named `rectcircleoverlap` that takes a Circle object and a Rectangle object and returns true if any of the corners of the rectangle fall inside the circle. Or as a more challenging version, return true if any part of the rectangle falls inside the circle."
   ]
  },
  {
   "cell_type": "markdown",
   "metadata": {},
   "source": []
  }
 ],
 "metadata": {
  "kernelspec": {
   "display_name": "Julia 1.7.2",
   "language": "julia",
   "name": "julia-1.7"
  },
  "language_info": {
   "file_extension": ".jl",
   "mimetype": "application/julia",
   "name": "julia",
   "version": "1.7.2"
  },
  "orig_nbformat": 4,
  "vscode": {
   "interpreter": {
    "hash": "8e72a6ea8ae570bc9b562cd7a1d6883761b9cd7ac49ad6b17855b6c636bf0317"
   }
  }
 },
 "nbformat": 4,
 "nbformat_minor": 2
}
