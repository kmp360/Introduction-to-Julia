{
 "cells": [
  {
   "cell_type": "markdown",
   "metadata": {},
   "source": [
    "kmp 2022\n",
    "\n",
    "Based on **Lauwens & Downey \"Think Julia: How to Think Like a Computer Scientist\" \n",
    "https://benlauwens.github.io/ThinkJulia.jl/latest/book.html**\n",
    "\n",
    "Resources:\n",
    "\n",
    "Julia webpage https://julialang.org/ \n",
    "\n",
    "Julia documentation https://docs.julialang.org/en/v1/\n"
   ]
  },
  {
   "cell_type": "code",
   "execution_count": 12,
   "metadata": {},
   "outputs": [],
   "source": [
    "#==\n",
    "\n",
    "import Pkg\n",
    "Pkg.add(\"ImageIO\")\n",
    "Pkg.add(\"ImageShow\")\n",
    "Pkg.add(\"FileIO\")\n",
    "# Pkg.add(\"PNGFiles\")\n",
    "\n",
    "==#"
   ]
  },
  {
   "cell_type": "code",
   "execution_count": 16,
   "metadata": {},
   "outputs": [],
   "source": [
    "using ImageIO, ImageShow, FileIO"
   ]
  },
  {
   "cell_type": "markdown",
   "metadata": {},
   "source": [
    "## Chapter 05 -- Conditionals and Recursion\n",
    "\n",
    "https://benlauwens.github.io/ThinkJulia.jl/latest/book.html#chap05\n",
    "\n",
    "### Integer division, modulus operator and remainder\n",
    "\n",
    "The **floor division operator**, ÷ (\\div <tab>), divides two numbers and rounds down to an integer. Conventional division returns a **floating-point number**:\n",
    "\n",
    "```Julia\n",
    "\tjulia> minutes = 105\n",
    "\t\t105\n",
    "\n",
    "\tjulia> minutes / 60\n",
    "\t\t1.75\n",
    "```\n",
    "\n",
    "But we do not normally write hours with decimal points. Floor division returns the **integer** number of hours, rounding towards zero:\n",
    "\n",
    "```Julia\n",
    "\tjulia> hours = minutes ÷ 60\n",
    "\t\t1\n",
    "\n",
    "\tjulia> -119 ÷ 2\n",
    "\t\t-59\n",
    "```\n",
    "\n",
    "To get the **remainder**, you could subtract off one hour in minutes:\n",
    "\n",
    "```Julia\n",
    "\tjulia> remainder = minutes - hours * 60\n",
    "\t\t45\n",
    "```\n",
    "\n",
    "An alternative is to use the **modulus operator**, **%**, which divides two numbers and **returns the remainder**.\n",
    "\n",
    "```Julia\n",
    "\tjulia> remainder = minutes % 60\n",
    "\t\t45\n",
    "```\n",
    "\n",
    "The modulus operator is more useful than it seems. For example, you can check whether one number is divisible by another—if x % y is zero, then x is divisible by y. Also, you can extract the right-most digit or digits from a number. For example, x % 10 yields the right-most digit of an integer x (in base 10). Similarly x % 100 yields the last two digits.\n",
    "\n",
    "And do not forget:"
   ]
  },
  {
   "cell_type": "code",
   "execution_count": 4,
   "metadata": {},
   "outputs": [
    {
     "data": {
      "text/plain": [
       "(1, 45)"
      ]
     },
     "metadata": {},
     "output_type": "display_data"
    }
   ],
   "source": [
    "minutes = 105\n",
    "k, r = divrem(minutes, 60)   # note the tuple assignment k, r = ..."
   ]
  },
  {
   "cell_type": "markdown",
   "metadata": {},
   "source": [
    "### Boolean Expressions\n",
    "\n",
    "A boolean expression is an expression that is either true or false (evaluates to the **type Bool**, **true** or **false**). The following examples use the operator **`==`**, which compares two operands and produces true if they are equal and false otherwise:\n",
    "\n",
    "```Julia\n",
    "\tjulia> 5 == 5\n",
    "\t\ttrue\n",
    "\n",
    "\tjulia> 5 == 6\n",
    "\t\tfalse\n",
    "```\n",
    "\n",
    "true and false are special values that belong to the type **Bool**; they are not strings:\n",
    "\n",
    "```Julia\n",
    "\tjulia> typeof(true)\n",
    "\t\tBool\n",
    "\n",
    "\tjulia> typeof(false)\n",
    "\t\tBool\n",
    "```\n",
    "\n",
    "### Relational Operators\n",
    "\n",
    "The **`==` operator** is one of several **relational operators**; the others are:\n",
    "\n",
    "```Julia\n",
    "      `x != y`               # x is not equal to y\n",
    "      `x ≠ y`                # (\\ne <tab>)\n",
    "      `x > y`                # x is greater than y\n",
    "      `x < y`                # x is less than y\n",
    "      `x >= y`               # x is greater than or equal to y\n",
    "      `x ≥ y`                # (\\ge <tab>)\n",
    "      `x <= y`               # x is less than or equal to y\n",
    "      `x ≤ y`                # (\\le <tab>)\n",
    "```\n",
    "\n",
    "A common error is to use a single equal sign `=` instead of a double equal sign `==`, **`=` is an assignment operator and `==` is a relational operator.** \n"
   ]
  },
  {
   "cell_type": "markdown",
   "metadata": {},
   "source": [
    "### Logical Operators\n",
    "\n",
    "There are three logical operators in Julia: **`&&`** (and), **`||`** (or), and **`!`** (not).\n",
    "\n",
    "The semantics (meaning) of these operators is similar to their meaning in English. For example, `x > 0 && x < 10` is true only if x is greater than 0 and less than 10. `n % 2 == 0 || n % 3 == 0` is true if either or both of the conditions is true, that is, if the number is divisible by 2 or 3.\n",
    "\n",
    "Both **`&&` and `||` associate to the right**, but && has higher **precedence** than **`||`** does.\n",
    "\n",
    "Finally, the **`!`** operator negates a boolean expression, so **`!(x > y)`** is true if x > y is false, that is, if x is less than or equal to y."
   ]
  },
  {
   "cell_type": "markdown",
   "metadata": {},
   "source": [
    "### Conditional Execution\n",
    "\n",
    "In order to write useful programs, we need the ability to check conditions and change the behavior of the program accordingly. **Conditional statements** give us this ability. The simplest form is the **if statement**:\n",
    "\n",
    "```Julia\n",
    "\tif x > 0\n",
    "\t\tprintln(\"x is positive\")\n",
    "\tend\n",
    "```\n",
    "\n",
    "The **boolean expression** after if is called the **condition**. If it is true, the indented statement runs. If not, nothing happens.\n",
    "\n",
    "**`if`** statements have the same structure as function definitions: a header followed by body terminated with the keyword end. Statements like this are called **compound statements**.\n",
    "\n",
    "There is no limit on the number of statements that can appear in the body. Occasionally, it is useful to have a body with no statements (usually as a place keeper for code you have not written yet).\n",
    "\n",
    "```Julia\n",
    "\tif x < 0\n",
    "\t\t# TODO: need to handle negative values!\n",
    "\tend\n",
    "```\n",
    "\n",
    "### Alternative Execution\n",
    "\n",
    "A second form of the if statement allows **alternative execution** or **conditional branching**, in which there are two possibilities and the condition determines which one runs. The syntax looks like this:\n",
    "\n",
    "```Julia\n",
    "\tif x % 2 == 0\n",
    "\t\tprintln(\"x is even\")\n",
    "\telse\n",
    "\t\tprintln(\"x is odd\")\n",
    "\tend\n",
    "```\n",
    "\n",
    "If the remainder when x is divided by 2 is 0, then we know that x is even, and the program displays an appropriate message. If the condition is false, the second set of statements runs. Since the condition must be true or false, exactly one of the alternatives will run. The alternatives are called **branches**, because they are branches in the flow of execution."
   ]
  },
  {
   "cell_type": "markdown",
   "metadata": {},
   "source": [
    "### Chained Conditionals\n",
    "\n",
    "Sometimes there are more than two possibilities and we need more than two branches. One way to express a computation like that is a chained conditional:\n",
    "\n",
    "```Julia\n",
    "\tif x < y\n",
    "\t\tprintln(\"x is less than y\")\n",
    "\telseif x > y\n",
    "\t\tprintln(\"x is greater than y\")\n",
    "\telse\n",
    "\t\tprintln(\"x and y are equal\")\n",
    "\tend\n",
    "```\n",
    "\n",
    "Again, exactly one branch will run. There is no limit on the number of elseif statements. If there is an **`else clause`**, it has to be at the end, but there does not have to be one.\n",
    "\n",
    "```Julia\n",
    "\tif choice == \"a\"\n",
    "\t\tdraw_a()\n",
    "\telseif choice == \"b\"\n",
    "\t\tdraw_b()\n",
    "\telseif choice == \"c\"\n",
    "\t\tdraw_c()\n",
    "\tend\n",
    "```\n",
    "\n",
    "Each condition is checked in order. If one of them is true, the corresponding branch runs and the statement ends. **Even if more than one condition is true, only the first true branch runs.**"
   ]
  },
  {
   "cell_type": "markdown",
   "metadata": {},
   "source": [
    "### Nested Conditionals\n",
    "\n",
    "One conditional can also be nested within another. We could have written the example in the previous section like this:\n",
    "\n",
    "```Julia\n",
    "\tif x == y\n",
    "\t\tprintln(\"x and y are equal\")\n",
    "\telse\n",
    "\n",
    "\t\tif x < y\n",
    "\t\t\tprintln(\"x is less than y\")\n",
    "\t\telse\n",
    "\t\t\tprintln(\"x is greater than y\")\n",
    "\t\tend\n",
    "\n",
    "\tend\n",
    "```\n",
    "\n",
    "The outer conditional contains two branches. The first branch contains a simple statement. The second branch contains another if statement, which has two branches of its own.\n",
    "\n",
    "Logical operators often provide a way to simplify nested conditional statements. For example, we can rewrite the following code using a single conditional:\n",
    "\n",
    "```Julia\n",
    "\tif 0 < x\n",
    "\t\tif x < 10\n",
    "\t\t\tprintln(\"x is a positive single-digit number.\")\n",
    "\t\tend\n",
    "\tend\n",
    "```\n",
    "\n",
    "The print statement runs only if we make it past both conditionals, so we can get the same effect with the && operator:\n",
    "\n",
    "```Julia\n",
    "\tif 0 < x && x < 10\n",
    "\t\tprintln(\"x is a positive single-digit number.\")\n",
    "\tend\n",
    "```\n",
    "\n",
    "For this kind of condition, Julia provides a more concise syntax:\n",
    "\n",
    "```Julia\n",
    "\tif 0 < x < 10\n",
    "\t\tprintln(\"x is a positive single-digit number.\")\n",
    "\tend\n",
    "```"
   ]
  },
  {
   "cell_type": "markdown",
   "metadata": {},
   "source": [
    "### Recursion\n",
    "\n",
    "It is legal for one function to call another; **it is also legal for a function to call itself**. It may not be obvious why that is a good thing, but it turns out to be effective in certain circumstances. \n",
    "\n",
    "For example, look at the following function:"
   ]
  },
  {
   "cell_type": "code",
   "execution_count": 5,
   "metadata": {},
   "outputs": [
    {
     "name": "stdout",
     "output_type": "stream",
     "text": [
      "3 2 1 Blastoff!\n"
     ]
    }
   ],
   "source": [
    "function countdown(n)\n",
    "    if n ≤ 0\n",
    "        println(\"Blastoff!\")\n",
    "    else\n",
    "        print(n, \" \")\n",
    "        countdown(n-1)\n",
    "    end\n",
    "end\n",
    "\n",
    "countdown(3)"
   ]
  },
  {
   "cell_type": "markdown",
   "metadata": {},
   "source": [
    "If n is 0 or negative, it outputs the word, \"Blastoff!\" Otherwise, it outputs n and then calls a function named countdown—itself—passing n-1 as an argument. What happens if we call this function like this?\n",
    "\n",
    "The execution of countdown begins with n = 3, and since n is greater than 0, it outputs the value 3, and then calls itself … the execution of countdown begins with n = 2, and since n is greater than 0, it outputs the value 2, and then calls itself … the execution of countdown begins with n = 1, and since n is greater than 0, it outputs the value 1, and then calls itself … the execution of countdown begins with n = 0, and since n is not greater than 0, it outputs the word, \"Blastoff!\" and then returns. The countdown that got n = 1 returns. The countdown that got n = 2 returns. The countdown that got n = 3 returns. And then you are back in Main.\n",
    "\n",
    "A function that calls itself is **recursive**; the process of executing it is called **recursion**.\n",
    "\n",
    "As another example, we can write a function that prints a string n times:"
   ]
  },
  {
   "cell_type": "code",
   "execution_count": 6,
   "metadata": {},
   "outputs": [
    {
     "name": "stdout",
     "output_type": "stream",
     "text": [
      "11\n",
      "11\n",
      "11\n"
     ]
    }
   ],
   "source": [
    "function printn(s, n)\n",
    "    if n ≤ 0\n",
    "        return\n",
    "    end\n",
    "    \n",
    "    println(s)\n",
    "    printn(s, n-1)\t\t# recursive call\n",
    "end\n",
    "    \n",
    "printn(11, 3)"
   ]
  },
  {
   "cell_type": "markdown",
   "metadata": {},
   "source": [
    "If n ≤ 0 the return statement exits the function. The flow of execution immediately returns to the caller, and the remaining lines of the function do not run. The rest of the function is similar to countdown: it displays s and then calls itself to display s n−1 additional times. So the number of lines of output is 1+(n−1), which is n. \n",
    "\n",
    "For simple examples like this, it is probably easier to use a for loop. But we will see examples later that are hard to write with a for loop and easy to write with recursion, so it is good to start early."
   ]
  },
  {
   "cell_type": "markdown",
   "metadata": {},
   "source": [
    "### Stack Diagrams for Recursive Functions\n",
    "\n",
    "In **Stack Diagrams**, we used a stack diagram to represent the state of a program during a function call. The same kind of diagram can help interpret a recursive function.\n",
    "\n",
    "Every time a function gets called, Julia creates a frame to contain the function’s local variables and parameters. For a recursive function, there might be more than one frame on the stack at the same time.\n"
   ]
  },
  {
   "cell_type": "code",
   "execution_count": 20,
   "metadata": {},
   "outputs": [],
   "source": [
    "# load(\"stack-diagram.png\")"
   ]
  },
  {
   "cell_type": "markdown",
   "metadata": {},
   "source": [
    "### Infinite Recursion\n",
    "\n",
    "If a recursion never reaches a **base case**, it goes on making recursive calls forever, and the program never terminates. This is known as **infinite recursion**, and it is generally not a good idea. Here is a minimal program with an infinite recursion:\n",
    "\n",
    "```Julia\n",
    "\tfunction recurse()\n",
    "\t\trecurse()\n",
    "\tend\n",
    "```\n",
    "\n",
    "In most programming environments, a program with infinite recursion does not really run forever. Julia reports an error message when the maximum recursion depth is reached:\n",
    "\n",
    "```Julia\n",
    "\tjulia> recurse()\n",
    "\t\tERROR: StackOverflowError:\n",
    "\t\tStacktrace:\n",
    "\t\t [1] recurse() at ./REPL[1]:2 (repeats 80000 times)\n",
    "```\n",
    "\n",
    "This stacktrace is a little bigger than the one we saw in the previous chapter. When the error occurs, there are 80000 recurse frames on the stack. If you encounter an infinite recursion by accident, review your function to confirm that there is a base case that does not make a recursive call. And if there is a base case, check whether you are guaranteed to reach it."
   ]
  },
  {
   "cell_type": "markdown",
   "metadata": {},
   "source": [
    "### Keyboard Input\n",
    "\n",
    "The programs we have written so far accept no input from the user. They just do the same thing every time. Julia provides a built-in function called **readline** that stops the program and waits for the user to type something. When the user presses RETURN or ENTER, the program resumes and readline returns what the user typed as a string -- echoing the input.\n",
    "\n",
    "```Julia\n",
    "\tjulia> text = readline()\n",
    "\t\tWhat are you waiting for?\n",
    "\t\t\"What are you waiting for?\"\n",
    "```\n",
    "\n",
    "Before getting input from the user, it is a good idea to print a prompt telling the user what to type:\n",
    "\n",
    "```Julia\n",
    "\tjulia> print(\"What...is your name? \"); readline()\n",
    "\t\tWhat...is your name? Arthur, King of the Britons!\n",
    "\t\t\"Arthur, King of the Britons!\"\n",
    "```\n",
    "\n",
    "A **semi-colon `;`** allows to put multiple statements on the same line. In the REPL only the last statement returns its value.\n",
    "\n",
    "If you expect the user to type an integer, you can try to convert the return value to Int64 with **parse** to achieve the desired type conversion:\n",
    "\n",
    "```Julia\n",
    "\tjulia> println(\"What is the velocity of an unladen swallow?\"); \n",
    "\t\t\tspeed = readline()\n",
    "\t\tWhat is the airspeed velocity of an unladen swallow?\n",
    "\t\t42\n",
    "\t\t\"42\"\n",
    "\n",
    "\tjulia> parse(Int64, speed)\n",
    "\t\t42\n",
    "```\n",
    "\n",
    "But if the user types something other than a **string of digits**, you get an error:\n",
    "\n",
    "```Julia\n",
    "\tjulia> println(\"What is the velocity of an unladen swallow? \"); \n",
    "\t\t\tspeed = readline()\n",
    "\t\tWhat is the airspeed velocity of an unladen swallow?\n",
    "\t\tWhat do you mean, an African or a European swallow?\n",
    "\t\t\"What do you mean, an African or a European swallow?\"\n",
    "\n",
    "\tjulia> parse(Int64, speed)\n",
    "\t\tERROR: ArgumentError: invalid base 10 digit 'W' in \n",
    "\t\t\t\"What do you mean, an African or a European swallow?\"\n",
    "\t\t[...]\n",
    "```\n",
    "\n",
    "Read error messages carefully, but do not assume that everything stated is correct."
   ]
  },
  {
   "cell_type": "markdown",
   "metadata": {},
   "source": [
    "### Debugging\n",
    "\n",
    "When a syntax or runtime error occurs, the error message contains a lot of information that can be overwhelming. The most useful parts are usually:\n",
    "\n",
    "- what kind of error it was\n",
    "- where it occurred\n",
    "\n",
    "Syntax errors are usually easy to find. In general, error messages indicate where the problem was discovered, but the actual error might be earlier in the code, sometimes on a previous line. The same is true of runtime errors. \n",
    "\n",
    "Suppose you are trying to compute a signal-to-noise ratio in decibels. The formula is SNRdb = 10*log10(signal-power / noise-power). In Julia, you might write something like this:"
   ]
  },
  {
   "cell_type": "code",
   "execution_count": 21,
   "metadata": {},
   "outputs": [
    {
     "name": "stdout",
     "output_type": "stream",
     "text": [
      "-Inf"
     ]
    }
   ],
   "source": [
    "signal_power = 9\n",
    "noise_power = 10\n",
    "\n",
    "ratio = signal_power ÷ noise_power\n",
    "decibels = 10 * log10(ratio)\n",
    "print(decibels)"
   ]
  },
  {
   "cell_type": "markdown",
   "metadata": {},
   "source": [
    "This is not the result you expected. **To find the error, it might be useful to print the value of ratio**.\n",
    "\n",
    "**`ratio`** turns out to be 0. The problem is in line 3, which uses integer division instead of floating-point division. "
   ]
  },
  {
   "cell_type": "markdown",
   "metadata": {},
   "source": [
    "## Exercises\n",
    "\n",
    "### Exercise 5-2\n",
    "\n",
    "The function **time** returns the current Greenwich Mean Time in seconds since “the epoch”, which is an arbitrary time used as a reference point. On UNIX systems, the epoch is 1 January 1970.\n",
    "\n",
    "```Julia\n",
    "    julia> time()\n",
    "        1.554236060271472e9\n",
    "```\n",
    "\n",
    "Write a script that reads the current time and converts it to a time of day in hours, minutes, and seconds, plus the number of days since the epoch."
   ]
  },
  {
   "cell_type": "markdown",
   "metadata": {},
   "source": [
    "### Exercise 5-3\n",
    "\n",
    "Fermat’s Last Theorem says that there are no positive integers a, b, and c such that\n",
    "a^n + b^n = c^n for any value of n greater than 2.\n",
    "\n",
    "Write a function named checkfermat that takes four parameters — a, b, c and n — and checks to see if Fermat’s theorem holds. If n is greater than 2 and a^n + b^n == c^n the program should print, “Holy smokes, Fermat was wrong!” Otherwise the program should print, “No, that doesn’t work.”\n",
    "\n",
    "Write a function that prompts the user to input values for a, b, c and n, converts them to integers, and uses checkfermat to check whether they violate Fermat’s theorem."
   ]
  },
  {
   "cell_type": "markdown",
   "metadata": {},
   "source": [
    "### Exercise 5-5\n",
    "\n",
    "What is the output of the following program? Draw a stack diagram that shows the state of the program when it prints the result.\n",
    "\n",
    "```Julia\n",
    "\tfunction recurse(n, s)\n",
    "\t\tif n == 0\n",
    "\t\t\tprintln(s)\n",
    "\t\telse\n",
    "\t\t\trecurse(n-1, n+s)\n",
    "\t\tend\n",
    "\tend\n",
    "\n",
    "\trecurse(3, 0)\n",
    "```\n",
    "\n",
    "What would happen if you called this function like this: recurse(-1, 0)?\n",
    "\n",
    "Write a docstring that explains everything someone would need to know in order to use this function (and nothing else)."
   ]
  },
  {
   "cell_type": "markdown",
   "metadata": {},
   "source": []
  }
 ],
 "metadata": {
  "kernelspec": {
   "display_name": "Julia 1.8.0",
   "language": "julia",
   "name": "julia-1.8"
  },
  "language_info": {
   "file_extension": ".jl",
   "mimetype": "application/julia",
   "name": "julia",
   "version": "1.8.0"
  },
  "orig_nbformat": 4
 },
 "nbformat": 4,
 "nbformat_minor": 2
}
