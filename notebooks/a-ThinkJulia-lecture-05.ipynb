{
 "cells": [
  {
   "cell_type": "markdown",
   "metadata": {},
   "source": [
    "kmp 2023\n",
    "\n",
    "Based on **Lauwens & Downey \"Think Julia: How to Think Like a Computer Scientist\"** \n",
    "https://benlauwens.github.io/ThinkJulia.jl/latest/book.html\n",
    "\n",
    "Resources:\n",
    "\n",
    "Julia webpage https://julialang.org/ \n",
    "\n",
    "Julia documentation https://docs.julialang.org/en/v1/\n"
   ]
  },
  {
   "cell_type": "code",
   "execution_count": 1,
   "metadata": {},
   "outputs": [],
   "source": [
    "#==\n",
    "\n",
    "import Pkg\n",
    "Pkg.add(\"ImageIO\")\n",
    "Pkg.add(\"ImageShow\")\n",
    "Pkg.add(\"FileIO\")\n",
    "# Pkg.add(\"PNGFiles\")\n",
    "\n",
    "==#"
   ]
  },
  {
   "cell_type": "code",
   "execution_count": 2,
   "metadata": {},
   "outputs": [],
   "source": [
    "using ImageIO, ImageShow, FileIO"
   ]
  },
  {
   "cell_type": "markdown",
   "metadata": {},
   "source": [
    "## Chapter 05 -- Conditionals and Recursion\n",
    "\n",
    "https://benlauwens.github.io/ThinkJulia.jl/latest/book.html#chap05\n",
    "\n",
    "### Integer division, modulus operator and remainder\n",
    "\n",
    "The **floor division operator, ÷ (\\div <tab>)**, divides two numbers and rounds down to an integer. Conventional division returns a **floating-point number**:\n",
    "\n",
    "```Julia\n",
    "\tjulia> minutes = 105\n",
    "\t\t105\n",
    "\n",
    "\tjulia> minutes / 60\n",
    "\t\t1.75\n",
    "```\n",
    "\n",
    "But we do not normally write hours with decimal points. Floor division returns the **integer** number of hours, rounding towards zero:\n",
    "\n",
    "```Julia\n",
    "\tjulia> hours = minutes ÷ 60\n",
    "\t\t1\n",
    "\n",
    "\tjulia> -119 ÷ 2\n",
    "\t\t-59\n",
    "```\n",
    "\n",
    "To get the **remainder**, you could subtract off one hour in minutes:\n",
    "\n",
    "```Julia\n",
    "\tjulia> remainder = minutes - hours * 60\n",
    "\t\t45\n",
    "```\n",
    "\n",
    "An alternative is to use the **modulus operator**, **%**, which divides two numbers and **returns the remainder**.\n",
    "\n",
    "```Julia\n",
    "\tjulia> remainder = minutes % 60\n",
    "\t\t45\n",
    "```\n",
    "\n",
    "The modulus operator is more useful than it seems. For example, you can check whether one number is divisible by another—if x % y is zero, then x is divisible by y. Also, you can extract the right-most digit or digits from a number. For example, x % 10 yields the right-most digit of an integer x (in base 10). Similarly x % 100 yields the last two digits.\n",
    "\n",
    "And do not forget:"
   ]
  },
  {
   "cell_type": "code",
   "execution_count": 3,
   "metadata": {},
   "outputs": [
    {
     "data": {
      "text/plain": [
       "(1, 45)"
      ]
     },
     "metadata": {},
     "output_type": "display_data"
    }
   ],
   "source": [
    "minutes = 105\n",
    "k, r = divrem(minutes, 60)   # tuple assignment k, r = ..."
   ]
  },
  {
   "cell_type": "markdown",
   "metadata": {},
   "source": [
    "### Boolean Expressions\n",
    "\n",
    "A boolean expression is an expression that is either true or false (evaluates to the **type Bool**, **true** or **false**). The following examples use the operator **`==`**, which compares two operands and produces true if they are equal and false otherwise:\n",
    "\n",
    "```Julia\n",
    "\tjulia> 5 == 5\n",
    "\t\ttrue\n",
    "\n",
    "\tjulia> 5 == 6\n",
    "\t\tfalse\n",
    "```\n",
    "\n",
    "true and false are special values that belong to the type **Bool**; they are not strings:\n",
    "\n",
    "```Julia\n",
    "\tjulia> typeof(true)\n",
    "\t\tBool\n",
    "\n",
    "\tjulia> typeof(false)\n",
    "\t\tBool\n",
    "```\n",
    "\n",
    "### Relational Operators\n",
    "\n",
    "The **`==` operator** is one of several **relational operators**:\n",
    "\n",
    "```Julia\n",
    "      `x != y`               # x is not equal to y\n",
    "      `x ≠ y`                # (\\ne<TAB>)\n",
    "      `x > y`                # x is greater than y\n",
    "      `x < y`                # x is less than y\n",
    "      `x >= y`               # x is greater than or equal to y\n",
    "      `x ≥ y`                # (\\ge<TAB>)\n",
    "      `x <= y`               # x is less than or equal to y\n",
    "      `x ≤ y`                # (\\le<TAB>)\n",
    "```\n",
    "\n",
    "A common error is to use a single equal sign **`=`** instead of a double equal sign **`==`**, **`=` is the assignment operator and `==` is the relational operator `isequal`.** \n"
   ]
  },
  {
   "cell_type": "markdown",
   "metadata": {},
   "source": [
    "### Logical Operators\n",
    "\n",
    "There are three logical operators in Julia: **`&&`** (and), **`||`** (or), and **`!`** (not).\n",
    "\n",
    "The semantics (meaning) of these operators is similar to their meaning in English. For example, `x > 0 && x < 10` is true if and only if x is greater than 0 and less than 10. \n",
    "\n",
    "`n % 2 == 0 || n % 3 == 0` is true if either or both of the conditions is true, that is, if the number is divisible by 2 or 3.\n",
    "\n",
    "Both **`&&` and `||` associate to the right**, but **`&&`** has higher **precedence** than **`||`** does.\n",
    "\n",
    "Finally, the **`!`** operator negates a boolean expression, so **`!(x > y)`** is true iff x > y is false, that is, iff x is less than or equal to y."
   ]
  },
  {
   "cell_type": "markdown",
   "metadata": {},
   "source": [
    "### Conditional Execution\n",
    "\n",
    "In order to write useful programs, we need the ability to check conditions and change the behavior of the program accordingly. **Conditional statements** give us this ability. The simplest form is the **if statement**:\n",
    "\n",
    "```Julia\n",
    "\tif x > 0\n",
    "\t\tprintln(\"x is positive\")\n",
    "\tend\n",
    "```\n",
    "\n",
    "The **boolean expression** after if is called the **condition**. If it is true, the indented statement runs. If not, nothing happens.\n",
    "\n",
    "**`if statements`** have the same structure as function definitions: **a header followed by body terminated with the keyword end**. Statements like this are called **compound statements**.\n",
    "\n",
    "There is no limit on the number of statements that can appear in the body. Occasionally, it is useful to have a body with no statements, for example, as a place keeper for code you have not written yet.\n",
    "\n",
    "```Julia\n",
    "\tif x < 0\n",
    "\t\t# TODO: need to handle negative values!\n",
    "\tend\n",
    "```\n",
    "\n",
    "### Alternative Execution\n",
    "\n",
    "A second form of the if statement allows **alternative execution** or **conditional branching**, in which there are two possibilities and the condition determines which one runs. The syntax looks like this:\n",
    "\n",
    "```Julia\n",
    "\tif x % 2 == 0\n",
    "\t\tprintln(\"x is even\")\n",
    "\telse\n",
    "\t\tprintln(\"x is odd\")\n",
    "\tend\n",
    "```\n",
    "\n",
    "If the remainder when x is divided by 2 is 0, then we know that x is even, and the program displays an appropriate message. If the condition is false, the second set of statements runs. Since the condition must be true or false, exactly one of the alternatives will run. The alternatives are called **branches**, because they are **branches in the flow of execution**."
   ]
  },
  {
   "cell_type": "markdown",
   "metadata": {},
   "source": [
    "### Chained Conditionals\n",
    "\n",
    "Sometimes there are more than two possibilities and we need more than two branches. One way to express a computation like that is a chained conditional:\n",
    "\n",
    "```Julia\n",
    "\tif x < y\n",
    "\t\tprintln(\"x is less than y\")\n",
    "\telseif x > y\n",
    "\t\tprintln(\"x is greater than y\")\n",
    "\telse\n",
    "\t\tprintln(\"x and y are equal\")\n",
    "\tend\n",
    "```\n",
    "\n",
    "Again, exactly one branch will run. There is no limit on the number of **`elseif statements`**. If there is an **`else clause`** (optional), it has to be at the end, but there does not have to be one.\n",
    "\n",
    "```Julia\n",
    "\tif choice == \"a\"\n",
    "\t\tdraw_a()\n",
    "\telseif choice == \"b\"\n",
    "\t\tdraw_b()\n",
    "\telseif choice == \"c\"\n",
    "\t\tdraw_c()\n",
    "\tend\n",
    "```\n",
    "\n",
    "**Each condition is checked in order.** If one of them is true, the corresponding branch runs and the statement ends. **Even if more than one condition is true, only the first true branch runs.**"
   ]
  },
  {
   "cell_type": "markdown",
   "metadata": {},
   "source": [
    "### Nested Conditionals\n",
    "\n",
    "One conditional can also be nested within another. We could have written the example in the previous section like this:\n",
    "\n",
    "```Julia\n",
    "\tif x == y\n",
    "\t\tprintln(\"x and y are equal\")\n",
    "\telse\n",
    "\n",
    "\t\tif x < y\n",
    "\t\t\tprintln(\"x is less than y\")\n",
    "\t\telse\n",
    "\t\t\tprintln(\"x is greater than y\")\n",
    "\t\tend\n",
    "\n",
    "\tend\n",
    "```\n",
    "\n",
    "The outer conditional contains two branches. The first branch contains a simple statement. The second branch contains another if statement, which has two branches of its own.\n",
    "\n",
    "Logical operators often provide a way to simplify nested conditional statements. For example, we can rewrite the following code using a single conditional:\n",
    "\n",
    "```Julia\n",
    "\tif 0 < x\n",
    "\t\tif x < 10\n",
    "\t\t\tprintln(\"x is a positive single-digit number.\")\n",
    "\t\tend\n",
    "\tend\n",
    "```\n",
    "\n",
    "The print statement runs only if we make it past both conditionals, so we can get the same effect with the && operator:\n",
    "\n",
    "```Julia\n",
    "\tif 0 < x && x < 10\n",
    "\t\tprintln(\"x is a positive single-digit number.\")\n",
    "\tend\n",
    "```\n",
    "\n",
    "For this kind of condition, Julia provides a more concise syntax:\n",
    "\n",
    "```Julia\n",
    "\tif 0 < x < 10\n",
    "\t\tprintln(\"x is a positive single-digit number.\")\n",
    "\tend\n",
    "```"
   ]
  },
  {
   "cell_type": "markdown",
   "metadata": {},
   "source": [
    "### Recursion\n",
    "\n",
    "It is legal for one function to call another; **it is also legal for a function to call itself**. It may not be obvious why that is a good thing, but it turns out to be effective in certain circumstances. \n",
    "\n",
    "For example, look at the following function:"
   ]
  },
  {
   "cell_type": "code",
   "execution_count": 4,
   "metadata": {},
   "outputs": [
    {
     "name": "stdout",
     "output_type": "stream",
     "text": [
      "3 2 1 Blastoff!\n"
     ]
    }
   ],
   "source": [
    "function countdown(n)\n",
    "    if n ≤ 0\n",
    "        println(\"Blastoff!\")\n",
    "    else\n",
    "        print(n, \" \")\n",
    "        countdown(n-1)\n",
    "    end\n",
    "end\n",
    "\n",
    "countdown(3)"
   ]
  },
  {
   "cell_type": "markdown",
   "metadata": {},
   "source": [
    "If n is 0 or negative, it outputs the word, \"Blastoff!\" Otherwise, it outputs n and then calls a function named countdown—itself—passing n-1 as an argument. What happens if we call this function like this?\n",
    "\n",
    "The execution of countdown begins with n = 3, and since n is greater than 0, it outputs the value 3, and then calls itself … the execution of countdown begins with n = 2, and since n is greater than 0, it outputs the value 2, and then calls itself … the execution of countdown begins with n = 1, and since n is greater than 0, it outputs the value 1, and then calls itself … the execution of countdown begins with n = 0, and since n is not greater than 0, it outputs the word, \"Blastoff!\" and then returns. The countdown that got n = 1 returns. The countdown that got n = 2 returns. The countdown that got n = 3 returns. And then you are back in Main.\n",
    "\n",
    "A function that calls itself is **recursive**; the process of executing it is called **recursion**.\n",
    "\n",
    "As another example, we can write a function that prints a string n times:"
   ]
  },
  {
   "cell_type": "code",
   "execution_count": 5,
   "metadata": {},
   "outputs": [
    {
     "name": "stdout",
     "output_type": "stream",
     "text": [
      "11\n",
      "11\n",
      "11\n"
     ]
    }
   ],
   "source": [
    "function printn(s, n)\n",
    "    if n ≤ 0\n",
    "        return\n",
    "    end\n",
    "    \n",
    "    println(s)\n",
    "    printn(s, n-1)\t\t# recursive call\n",
    "end\n",
    "    \n",
    "printn(11, 3)"
   ]
  },
  {
   "cell_type": "markdown",
   "metadata": {},
   "source": [
    "If n ≤ 0 the return statement exits the function. The flow of execution immediately returns to the caller, and the remaining lines of the function do not run. The rest of the function is similar to countdown: it displays s and then calls itself to display s n−1 additional times. So the number of lines of output is 1+(n−1), which is n. \n",
    "\n",
    "For simple examples like this, it is probably easier to use a for loop. But we will see examples later that are hard to write with a for loop and easy to write with recursion, so it is good to start early."
   ]
  },
  {
   "cell_type": "markdown",
   "metadata": {},
   "source": [
    "### Stack Diagrams for Recursive Functions\n",
    "\n",
    "In **Stack Diagrams**, we used a stack diagram to represent the state of a program during a function call. The same kind of diagram can help interpret a recursive function.\n",
    "\n",
    "Every time a function gets called, Julia creates a frame to contain the function’s local variables and parameters. For a recursive function, there might be more than one frame on the stack at the same time.\n"
   ]
  },
  {
   "cell_type": "code",
   "execution_count": 8,
   "metadata": {},
   "outputs": [
    {
     "data": {
      "image/png": "[encoded data removed]",
      "text/html": [
       "<img src=\"data:image/png;base64,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\">"
      ],
      "text/plain": [
       "253×636 Array{RGBA{N0f8},2} with eltype ColorTypes.RGBA{FixedPointNumbers.N0f8}:\n",
       " RGBA{N0f8}(1.0,1.0,1.0,1.0)  …  RGBA{N0f8}(1.0,1.0,1.0,1.0)\n",
       " RGBA{N0f8}(1.0,1.0,1.0,1.0)     RGBA{N0f8}(1.0,1.0,1.0,1.0)\n",
       " RGBA{N0f8}(1.0,1.0,1.0,1.0)     RGBA{N0f8}(1.0,1.0,1.0,1.0)\n",
       " RGBA{N0f8}(1.0,1.0,1.0,1.0)     RGBA{N0f8}(1.0,1.0,1.0,1.0)\n",
       " RGBA{N0f8}(1.0,1.0,1.0,1.0)     RGBA{N0f8}(1.0,1.0,1.0,1.0)\n",
       " RGBA{N0f8}(1.0,1.0,1.0,1.0)  …  RGBA{N0f8}(1.0,1.0,1.0,1.0)\n",
       " RGBA{N0f8}(1.0,1.0,1.0,1.0)     RGBA{N0f8}(1.0,1.0,1.0,1.0)\n",
       " RGBA{N0f8}(1.0,1.0,1.0,1.0)     RGBA{N0f8}(1.0,1.0,1.0,1.0)\n",
       " RGBA{N0f8}(1.0,1.0,1.0,1.0)     RGBA{N0f8}(1.0,1.0,1.0,1.0)\n",
       " RGBA{N0f8}(1.0,1.0,1.0,1.0)     RGBA{N0f8}(1.0,1.0,1.0,1.0)\n",
       " ⋮                            ⋱  ⋮\n",
       " RGBA{N0f8}(1.0,1.0,1.0,1.0)     RGBA{N0f8}(1.0,1.0,1.0,1.0)\n",
       " RGBA{N0f8}(1.0,1.0,1.0,1.0)  …  RGBA{N0f8}(1.0,1.0,1.0,1.0)\n",
       " RGBA{N0f8}(1.0,1.0,1.0,1.0)     RGBA{N0f8}(1.0,1.0,1.0,1.0)\n",
       " RGBA{N0f8}(1.0,1.0,1.0,1.0)     RGBA{N0f8}(1.0,1.0,1.0,1.0)\n",
       " RGBA{N0f8}(1.0,1.0,1.0,1.0)     RGBA{N0f8}(1.0,1.0,1.0,1.0)\n",
       " RGBA{N0f8}(1.0,1.0,1.0,1.0)     RGBA{N0f8}(1.0,1.0,1.0,1.0)\n",
       " RGBA{N0f8}(1.0,1.0,1.0,1.0)  …  RGBA{N0f8}(1.0,1.0,1.0,1.0)\n",
       " RGBA{N0f8}(1.0,1.0,1.0,1.0)     RGBA{N0f8}(1.0,1.0,1.0,1.0)\n",
       " RGBA{N0f8}(1.0,1.0,1.0,1.0)     RGBA{N0f8}(1.0,1.0,1.0,1.0)"
      ]
     },
     "metadata": {},
     "output_type": "display_data"
    }
   ],
   "source": [
    "load(\"stack-diagram.png\")"
   ]
  },
  {
   "cell_type": "markdown",
   "metadata": {},
   "source": [
    "### Infinite Recursion\n",
    "\n",
    "If a recursion never reaches a **base case**, it goes on making recursive calls forever, and the program never terminates. This is known as **infinite recursion**, and it is generally not a good idea. Here is a minimal program with an infinite recursion:\n",
    "\n",
    "```Julia\n",
    "\tfunction recurse()\n",
    "\t\trecurse()\n",
    "\tend\n",
    "```\n",
    "\n",
    "In most programming environments, a program with infinite recursion does not really run forever. Julia reports an error message when the maximum recursion depth is reached:\n",
    "\n",
    "```Julia\n",
    "\tjulia> recurse()\n",
    "\t\tERROR: StackOverflowError:\n",
    "\t\tStacktrace:\n",
    "\t\t [1] recurse() at ./REPL[1]:2 (repeats 80000 times)\n",
    "```\n",
    "\n",
    "This stacktrace is a little bigger than the one we saw in the previous chapter. When the error occurs, there are 80000 recurse frames on the stack. If you encounter an infinite recursion by accident, review your function to confirm that there is a base case that does not make a recursive call. And if there is a base case, check whether you are guaranteed to reach it."
   ]
  },
  {
   "cell_type": "markdown",
   "metadata": {},
   "source": [
    "### Keyboard Input\n",
    "\n",
    "The programs we have written so far accept no input from the user. They just do the same thing every time. Julia provides a built-in function called **readline** that stops the program and waits for the user to type something. When the user presses RETURN or ENTER, the program resumes and readline returns what the user typed as a string -- echoing the input.\n",
    "\n",
    "```Julia\n",
    "\tjulia> text = readline()\n",
    "\t\tWhat are you waiting for?\n",
    "\t\t\"What are you waiting for?\"\n",
    "```\n",
    "\n",
    "Before getting input from the user, it is a good idea to print a prompt telling the user what to type:\n",
    "\n",
    "```Julia\n",
    "\tjulia> print(\"What...is your name? \"); readline()\n",
    "\t\tWhat...is your name? Arthur, King of the Britons!\n",
    "\t\t\"Arthur, King of the Britons!\"\n",
    "```\n",
    "\n",
    "A **semi-colon `;`** allows to put multiple statements on the same line. In the REPL only the last statement returns its value.\n",
    "\n",
    "If you expect the user to type an integer, you can try to convert the return value to Int64 with **parse** to achieve the desired type conversion:\n",
    "\n",
    "```Julia\n",
    "\tjulia> println(\"What is the velocity of an unladen swallow?\"); \n",
    "\t\t\tspeed = readline()\n",
    "\t\tWhat is the airspeed velocity of an unladen swallow?\n",
    "\t\t42\n",
    "\t\t\"42\"\n",
    "\n",
    "\tjulia> parse(Int64, speed)\n",
    "\t\t42\n",
    "```\n",
    "\n",
    "But if the user types something other than a **string of digits**, you get an error:\n",
    "\n",
    "```Julia\n",
    "\tjulia> println(\"What is the velocity of an unladen swallow? \"); \n",
    "\t\t\tspeed = readline()\n",
    "\t\tWhat is the airspeed velocity of an unladen swallow?\n",
    "\t\tWhat do you mean, an African or a European swallow?\n",
    "\t\t\"What do you mean, an African or a European swallow?\"\n",
    "\n",
    "\tjulia> parse(Int64, speed)\n",
    "\t\tERROR: ArgumentError: invalid base 10 digit 'W' in \n",
    "\t\t\t\"What do you mean, an African or a European swallow?\"\n",
    "\t\t[...]\n",
    "```\n",
    "\n",
    "Read error messages carefully, but do not assume that everything stated is correct."
   ]
  },
  {
   "cell_type": "markdown",
   "metadata": {},
   "source": [
    "### Debugging\n",
    "\n",
    "When a syntax or runtime error occurs, the error message contains a lot of information that can be overwhelming. The most useful parts are usually:\n",
    "\n",
    "- what kind of error it was\n",
    "- where it occurred\n",
    "\n",
    "Syntax errors are usually easy to find. In general, error messages indicate where the problem was discovered, but the actual error might be earlier in the code, sometimes on a previous line. The same is true of runtime errors. \n",
    "\n",
    "Suppose you are trying to compute a signal-to-noise ratio in decibels. The formula is SNRdb = 10*log10(signal-power / noise-power). In Julia, you might write something like this:"
   ]
  },
  {
   "cell_type": "code",
   "execution_count": 7,
   "metadata": {},
   "outputs": [
    {
     "name": "stdout",
     "output_type": "stream",
     "text": [
      "-Inf"
     ]
    }
   ],
   "source": [
    "signal_power = 9\n",
    "noise_power = 10\n",
    "\n",
    "ratio = signal_power ÷ noise_power\n",
    "decibels = 10 * log10(ratio)\n",
    "print(decibels)"
   ]
  },
  {
   "cell_type": "markdown",
   "metadata": {},
   "source": [
    "This is not the result you expected. **To find the error, it might be useful to print the value of ratio**.\n",
    "\n",
    "**`ratio`** turns out to be 0. The problem is in line 3, which uses integer division instead of floating-point division. "
   ]
  },
  {
   "cell_type": "markdown",
   "metadata": {},
   "source": [
    "## Exercises\n",
    "\n",
    "### Exercise 5-2\n",
    "\n",
    "The function **time** returns the current Greenwich Mean Time in seconds since “the epoch”, which is an arbitrary time used as a reference point. On UNIX systems, the epoch is 1 January 1970.\n",
    "\n",
    "```Julia\n",
    "    julia> time()\n",
    "        1.554236060271472e9\n",
    "```\n",
    "\n",
    "Write a script that reads the current time and converts it to a time of day in hours, minutes, and seconds, plus the number of days since the epoch."
   ]
  },
  {
   "cell_type": "markdown",
   "metadata": {},
   "source": [
    "### Exercise 5-3\n",
    "\n",
    "Fermat’s Last Theorem says that there are no positive integers a, b, and c such that\n",
    "a^n + b^n = c^n for any value of n greater than 2.\n",
    "\n",
    "Write a function named checkfermat that takes four parameters — a, b, c and n — and checks to see if Fermat’s theorem holds. If n is greater than 2 and a^n + b^n == c^n the program should print, “Holy smokes, Fermat was wrong!” Otherwise the program should print, “No, that doesn’t work.”\n",
    "\n",
    "Write a function that prompts the user to input values for a, b, c and n, converts them to integers, and uses checkfermat to check whether they violate Fermat’s theorem."
   ]
  },
  {
   "cell_type": "markdown",
   "metadata": {},
   "source": [
    "### Exercise 5-5\n",
    "\n",
    "What is the output of the following program? Draw a stack diagram that shows the state of the program when it prints the result.\n",
    "\n",
    "```Julia\n",
    "\tfunction recurse(n, s)\n",
    "\t\tif n == 0\n",
    "\t\t\tprintln(s)\n",
    "\t\telse\n",
    "\t\t\trecurse(n-1, n+s)\n",
    "\t\tend\n",
    "\tend\n",
    "\n",
    "\trecurse(3, 0)\n",
    "```\n",
    "\n",
    "What would happen if you called this function like this: recurse(-1, 0)?\n",
    "\n",
    "Write a docstring that explains everything someone would need to know in order to use this function (and nothing else)."
   ]
  },
  {
   "cell_type": "markdown",
   "metadata": {},
   "source": []
  }
 ],
 "metadata": {
  "kernelspec": {
   "display_name": "Julia 1.9.3",
   "language": "julia",
   "name": "julia-1.9"
  },
  "language_info": {
   "file_extension": ".jl",
   "mimetype": "application/julia",
   "name": "julia",
   "version": "1.9.3"
  },
  "orig_nbformat": 4
 },
 "nbformat": 4,
 "nbformat_minor": 2
}
