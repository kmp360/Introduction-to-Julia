{
 "cells": [
  {
   "cell_type": "markdown",
   "metadata": {},
   "source": [
    "kmp\n",
    "\n",
    "Based on **Lauwens & Downey \"Think Julia: How to Think Like a Computer Scientist\"**\n",
    "\n",
    "https://benlauwens.github.io/ThinkJulia.jl/latest/book.html\n",
    "\n",
    "Resources:\n",
    "\n",
    "Julia webpage https://julialang.org/ \n",
    "\n",
    "Julia documentation https://docs.julialang.org/en/v1/\n"
   ]
  },
  {
   "cell_type": "code",
   "execution_count": 1,
   "metadata": {},
   "outputs": [
    {
     "data": {
      "text/plain": [
       "\"e:\\\\aaa-Julia-course-2023\\\\lectures-1.9\""
      ]
     },
     "metadata": {},
     "output_type": "display_data"
    }
   ],
   "source": [
    "pwd()"
   ]
  },
  {
   "cell_type": "code",
   "execution_count": 42,
   "metadata": {},
   "outputs": [
    {
     "data": {
      "text/plain": [
       "2×2 Matrix{String}:\n",
       " \"act\"   \"ace\"\n",
       " \"bait\"  \"bail\""
      ]
     },
     "metadata": {},
     "output_type": "display_data"
    }
   ],
   "source": [
    "words = [\"act\" \"ace\"; \"bait\" \"bail\"]"
   ]
  },
  {
   "cell_type": "code",
   "execution_count": 43,
   "metadata": {},
   "outputs": [
    {
     "data": {
      "text/plain": [
       "2×2 Matrix{String}:\n",
       " \"ace\"   \"act\"\n",
       " \"bail\"  \"bait\""
      ]
     },
     "metadata": {},
     "output_type": "display_data"
    }
   ],
   "source": [
    "sort(words, dims=2)"
   ]
  },
  {
   "cell_type": "code",
   "execution_count": 3,
   "metadata": {},
   "outputs": [
    {
     "data": {
      "text/plain": [
       "pairs(::Matrix{String})(...):\n",
       "  CartesianIndex(1, 1) => \"ace\"\n",
       "  CartesianIndex(2, 1) => \"bail\"\n",
       "  CartesianIndex(1, 2) => \"act\"\n",
       "  CartesianIndex(2, 2) => \"bait\""
      ]
     },
     "metadata": {},
     "output_type": "display_data"
    }
   ],
   "source": [
    "ps = pairs(sort(words, dims=2))"
   ]
  },
  {
   "cell_type": "code",
   "execution_count": 47,
   "metadata": {},
   "outputs": [
    {
     "data": {
      "text/plain": [
       "Dict{CartesianIndex{2}, String} with 4 entries:\n",
       "  CartesianIndex(2, 1) => \"bail\"\n",
       "  CartesianIndex(1, 1) => \"ace\"\n",
       "  CartesianIndex(2, 2) => \"bait\"\n",
       "  CartesianIndex(1, 2) => \"act\""
      ]
     },
     "metadata": {},
     "output_type": "display_data"
    }
   ],
   "source": [
    "d = Dict(pairs(sort(words, dims=2)))"
   ]
  },
  {
   "cell_type": "code",
   "execution_count": 48,
   "metadata": {},
   "outputs": [
    {
     "data": {
      "text/plain": [
       "\"act\""
      ]
     },
     "metadata": {},
     "output_type": "display_data"
    }
   ],
   "source": [
    "key = CartesianIndex(1,2)\n",
    "d[key]"
   ]
  },
  {
   "cell_type": "code",
   "execution_count": 7,
   "metadata": {},
   "outputs": [
    {
     "data": {
      "text/plain": [
       "enumerate(Dict{CartesianIndex{2}, String}(CartesianIndex(2, 1) => \"bail\", CartesianIndex(1, 1) => \"ace\", CartesianIndex(2, 2) => \"bait\", CartesianIndex(1, 2) => \"act\"))"
      ]
     },
     "metadata": {},
     "output_type": "display_data"
    }
   ],
   "source": [
    "enumerate(d)"
   ]
  },
  {
   "cell_type": "code",
   "execution_count": 8,
   "metadata": {},
   "outputs": [
    {
     "data": {
      "text/plain": [
       "Base.Iterators.Enumerate{Dict{CartesianIndex{2}, String}}"
      ]
     },
     "metadata": {},
     "output_type": "display_data"
    }
   ],
   "source": [
    "typeof(enumerate(d))"
   ]
  },
  {
   "cell_type": "code",
   "execution_count": 9,
   "metadata": {},
   "outputs": [
    {
     "data": {
      "text/plain": [
       "Pair{Int64, String}"
      ]
     },
     "metadata": {},
     "output_type": "display_data"
    }
   ],
   "source": [
    "typeof(3 => \"bail\")"
   ]
  },
  {
   "cell_type": "markdown",
   "metadata": {},
   "source": [
    "## Chapter 12 -- Tuples\n",
    "\n",
    "https://benlauwens.github.io/ThinkJulia.jl/latest/book.html#chap12\n",
    "\n",
    "This chapter presents one more built-in object type, the **`tuple`**, and then shows how arrays, dictionaries, and tuples work together as well as the useful feature of variable-length argument arrays, the **`gather`** and **`scatter`** operators.\n",
    "\n",
    "### Tuples are immutable\n",
    "\n",
    "**A tuple is a sequence of values.** The values can be of any type, each element can have its own type, and they are indexed by integers, so in that respect tuples are similar to arrays. The important difference is that tuples are **`immutable`**.\n",
    "\n",
    "Syntactically, a tuple is a **comma-separated list of values**:\n",
    "\n",
    "```Julia\n",
    "\tjulia> t = 'a', 'b', 'c', 'd', 'e'\n",
    "\t\t('a', 'b', 'c', 'd', 'e')\n",
    "\n",
    "```\n",
    "**Although it is not necessary, it is common to enclose tuples in parentheses**:\n",
    "\n",
    "```Julia\n",
    "\tjulia> t = ('a', 'b', 'c', 'd', 'e')\n",
    "\t\t('a', 'b', 'c', 'd', 'e')\n",
    "```\n",
    "\n",
    "To create a **tuple with a single element**, you have to include a **final comma**:\n",
    "\n",
    "```Julia\n",
    "\tjulia> t1 = ('a',)\n",
    "\t\t('a',)\n",
    "\n",
    "\tjulia> typeof(t1)\n",
    "\t\tTuple{Char}\n",
    "```\n",
    "\n",
    "A value in parentheses without comma is not a tuple:\n",
    "\n",
    "```Julia\n",
    "\tjulia> t2 = ('a')\n",
    "\t\t'a': ASCII/Unicode U+0061 (category Ll: Letter, lowercase)\n",
    "\n",
    "\tjulia> typeof(t2)\n",
    "\t\tChar\n",
    "```"
   ]
  },
  {
   "cell_type": "markdown",
   "metadata": {},
   "source": [
    "Another way to create a tuple is the built-in function **`tuple`**. With no argument, it creates an empty tuple:\n",
    "\n",
    "```Julia\n",
    "\tjulia> tuple()\n",
    "\t\t()\n",
    "```\n",
    "\n",
    "If multiple arguments are provided, the result is a tuple with the given arguments:\n",
    "\n",
    "```Julia\n",
    "\tjulia> t3 = tuple(1, 'a', pi)\n",
    "\t\t(1, 'a', π)\n",
    "```\n",
    "\n",
    "Because `tuple` is the name of a built-in function, you should avoid using it as a variable name. Most array operators also work on tuples. The **`bracket operator`** indexes an element:\n",
    "\n",
    "```Julia\n",
    "\tjulia> t = ('a', 'b', 'c', 'd', 'e');\n",
    "\n",
    "\tjulia> t[1]\n",
    "\t\t'a': ASCII/Unicode U+0061 (category Ll: Letter, lowercase)\n",
    "```\n",
    "\n",
    "And the **`slice operator`** selects a range of elements:\n",
    "\n",
    "```Julia\n",
    "\tjulia> t[2:4]\n",
    "\t\t('b', 'c', 'd')\n",
    "```"
   ]
  },
  {
   "cell_type": "code",
   "execution_count": 10,
   "metadata": {},
   "outputs": [
    {
     "data": {
      "text/plain": [
       "('a',)"
      ]
     },
     "metadata": {},
     "output_type": "display_data"
    }
   ],
   "source": [
    "tpl = ('a',)"
   ]
  },
  {
   "cell_type": "code",
   "execution_count": 11,
   "metadata": {},
   "outputs": [
    {
     "data": {
      "text/plain": [
       "('a', 'c', 'e')"
      ]
     },
     "metadata": {},
     "output_type": "display_data"
    }
   ],
   "source": [
    "t = ('a', 'b', 'c', 'd', 'e')\n",
    "\n",
    "t[begin:2:end]"
   ]
  },
  {
   "cell_type": "markdown",
   "metadata": {},
   "source": [
    "If you try to modify one of the elements of the tuple, you get an error. Because **tuples are immutable**, you cannot modify its elements:"
   ]
  },
  {
   "cell_type": "code",
   "execution_count": 12,
   "metadata": {},
   "outputs": [
    {
     "ename": "MethodError",
     "evalue": "MethodError: no method matching setindex!(::NTuple{5, Char}, ::Char, ::Int64)",
     "output_type": "error",
     "traceback": [
      "MethodError: no method matching setindex!(::NTuple{5, Char}, ::Char, ::Int64)\n",
      "\n",
      "Stacktrace:\n",
      " [1] top-level scope\n",
      "   @ e:\\aaa-Julia-course-2023\\lectures-1.9\\a-ThinkJulia-lecture-12.ipynb:1"
     ]
    }
   ],
   "source": [
    "t[1] = 'A'"
   ]
  },
  {
   "cell_type": "markdown",
   "metadata": {},
   "source": [
    "An important subtlety is that although the tuple **`tpl`** is immutable itself, **the comma-separated list might contain objects or components that are mutable**:"
   ]
  },
  {
   "cell_type": "code",
   "execution_count": 13,
   "metadata": {},
   "outputs": [
    {
     "data": {
      "text/plain": [
       "(\"a\", 'b', [9, 99, 7])"
      ]
     },
     "metadata": {},
     "output_type": "display_data"
    }
   ],
   "source": [
    "tpl = \"a\", 'b', [9, 8, 7]\n",
    "tpl[3][2] = 'c' \t\t        # for clarity (tpl[3])[2] = 3\n",
    "\t\n",
    "tpl          # not the type conversion, so-called promotion, Int('c') = 99"
   ]
  },
  {
   "cell_type": "code",
   "execution_count": 14,
   "metadata": {},
   "outputs": [
    {
     "data": {
      "text/plain": [
       "Vector{Int64}\u001b[90m (alias for \u001b[39m\u001b[90mArray{Int64, 1}\u001b[39m\u001b[90m)\u001b[39m"
      ]
     },
     "metadata": {},
     "output_type": "display_data"
    }
   ],
   "source": [
    "typeof([9, 8, 7])"
   ]
  },
  {
   "cell_type": "code",
   "execution_count": 15,
   "metadata": {},
   "outputs": [
    {
     "ename": "MethodError",
     "evalue": "MethodError: no method matching setindex!(::Tuple{String, Char, Vector{Int64}}, ::Char, ::Int64)",
     "output_type": "error",
     "traceback": [
      "MethodError: no method matching setindex!(::Tuple{String, Char, Vector{Int64}}, ::Char, ::Int64)\n",
      "\n",
      "Stacktrace:\n",
      " [1] top-level scope\n",
      "   @ e:\\aaa-Julia-course-2023\\lectures-1.9\\a-ThinkJulia-lecture-12.ipynb:1"
     ]
    }
   ],
   "source": [
    "tpl[2] = 'c'"
   ]
  },
  {
   "cell_type": "markdown",
   "metadata": {},
   "source": [
    "The **`relational operators`** work with tuples as well as other sequences. Julia starts by comparing the first element from each sequence. If they are equal, it goes on to the next elements, and so on, until it finds elements that differ. Subsequent elements are not considered, just as for a **lexicographic order**.\n",
    "\n",
    "```Julia\n",
    "\tjulia> (0, 1, 2) < (0, 3, 4)\n",
    "\t\ttrue\n",
    "```"
   ]
  },
  {
   "cell_type": "code",
   "execution_count": 16,
   "metadata": {},
   "outputs": [
    {
     "data": {
      "text/plain": [
       "true"
      ]
     },
     "metadata": {},
     "output_type": "display_data"
    }
   ],
   "source": [
    "(0, 1) < (0, 1, 200)"
   ]
  },
  {
   "cell_type": "code",
   "execution_count": 17,
   "metadata": {},
   "outputs": [
    {
     "data": {
      "text/plain": [
       "(true, false, true)"
      ]
     },
     "metadata": {},
     "output_type": "display_data"
    }
   ],
   "source": [
    "(0, 1, 2000000) < (0, 3, 4), (0, 4) < (0, 3, 4), (0, 2, 4) < (0, 4)"
   ]
  },
  {
   "cell_type": "markdown",
   "metadata": {},
   "source": [
    "### Tuple assignment\n",
    "\n",
    "It is often useful to **swap values** of two variables. With conventional assignments, you have to use a **`temporary variable`**. For example, to swap a and b:\n",
    "\n",
    "```Julia\n",
    "\ttmp = a\n",
    "\ta = b\n",
    "\tb = tmp\n",
    "```\n",
    "\n",
    "A **`tuple assignment`** is simpler:\n",
    "\n",
    "```Julia\n",
    "\ta, b = b, a\n",
    "```\n",
    "\n",
    "The left side is a **`tuple of variables`**; the right side is a **`tuple of expressions`**. Each value is assigned to its respective variable. All the expressions on the right side are evaluated before any of the assignments which are assigned in the given order. **The number of variables on the left has to be fewer or equal than the number of values on the right**.\n"
   ]
  },
  {
   "cell_type": "code",
   "execution_count": 18,
   "metadata": {},
   "outputs": [
    {
     "data": {
      "text/plain": [
       "(1, 2)"
      ]
     },
     "metadata": {},
     "output_type": "display_data"
    }
   ],
   "source": [
    "(a, b) = (1, 2, 3)\n",
    "a, b"
   ]
  },
  {
   "cell_type": "code",
   "execution_count": 19,
   "metadata": {},
   "outputs": [
    {
     "ename": "BoundsError",
     "evalue": "BoundsError: attempt to access Tuple{Int64, Int64} at index [3]",
     "output_type": "error",
     "traceback": [
      "BoundsError: attempt to access Tuple{Int64, Int64} at index [3]\n",
      "\n",
      "Stacktrace:\n",
      " [1] indexed_iterate(t::Tuple{Int64, Int64}, i::Int64, state::Int64)\n",
      "   @ Base .\\tuple.jl:88\n",
      " [2] top-level scope\n",
      "   @ e:\\aaa-Julia-course-2023\\lectures-1.9\\a-ThinkJulia-lecture-12.ipynb:1"
     ]
    }
   ],
   "source": [
    "a, b, c = 1, 2"
   ]
  },
  {
   "cell_type": "markdown",
   "metadata": {},
   "source": [
    "More generally, the right side can be any kind of sequence (string, array or tuple)."
   ]
  },
  {
   "cell_type": "code",
   "execution_count": 20,
   "metadata": {},
   "outputs": [
    {
     "data": {
      "text/plain": [
       "([1, 2, 3], \"string\", ('t', 'u', 'p', 'l', 'e'))"
      ]
     },
     "metadata": {},
     "output_type": "display_data"
    }
   ],
   "source": [
    "a, b, c = [1, 2, 3], \"string\", ('t', 'u', 'p', 'l', 'e')"
   ]
  },
  {
   "cell_type": "code",
   "execution_count": 21,
   "metadata": {},
   "outputs": [
    {
     "data": {
      "text/plain": [
       "('t', 'u', 'p', 'l', 'e')"
      ]
     },
     "metadata": {},
     "output_type": "display_data"
    }
   ],
   "source": [
    "c"
   ]
  },
  {
   "cell_type": "code",
   "execution_count": 22,
   "metadata": {},
   "outputs": [
    {
     "data": {
      "text/plain": [
       "([1, 2, 3], \"string\", ('t', 'u', 'p', 'l', 'e'))"
      ]
     },
     "metadata": {},
     "output_type": "display_data"
    }
   ],
   "source": [
    "d = a, b, c"
   ]
  },
  {
   "cell_type": "code",
   "execution_count": 23,
   "metadata": {},
   "outputs": [
    {
     "data": {
      "text/plain": [
       "3-element Vector{Int64}:\n",
       " 1\n",
       " 2\n",
       " 3"
      ]
     },
     "metadata": {},
     "output_type": "display_data"
    }
   ],
   "source": [
    "d[1]"
   ]
  },
  {
   "cell_type": "markdown",
   "metadata": {},
   "source": [
    "Another example is to use **`split`** in a tuple assignment to split, for instance, an email address into a user name and a domain:"
   ]
  },
  {
   "cell_type": "code",
   "execution_count": 24,
   "metadata": {},
   "outputs": [
    {
     "data": {
      "text/plain": [
       "2-element Vector{SubString{String}}:\n",
       " \"julius.caesar\"\n",
       " \"rome\""
      ]
     },
     "metadata": {},
     "output_type": "display_data"
    }
   ],
   "source": [
    "addr = \"julius.caesar@rome\"\n",
    "uname, domain = split(addr, '@')"
   ]
  },
  {
   "cell_type": "markdown",
   "metadata": {},
   "source": [
    "### Tuples as return values\n",
    "\n",
    "Strictly speaking, a function can only return one value, but if the value is a tuple, the effect is the same as returning multiple values. \n",
    "\n",
    "For example, if you want to divide two integers and compute the quotient and remainder, it is inefficient to compute x ÷ y and then x % y. It is better to compute them both at the same time. The built-in function **divrem** takes two arguments and returns a tuple of two values, the quotient and remainder. You can store the result as a tuple:\n",
    "\n",
    "```Julia\n",
    "\tjulia> t = divrem(7, 3)\n",
    "\t\t(2, 1)\n",
    "```\n",
    "\n",
    "Or use tuple assignment to store the elements separately:\n",
    "\n",
    "```Julia\n",
    "\tjulia> q, r = divrem(7, 3);\n",
    "```\n",
    "\n",
    "Here is a function that returns a tuple:\n",
    "\n",
    "```Julia\n",
    "\tfunction minmax(t)\n",
    "\t\treturn minimum(t), maximum(t)\n",
    "\tend\n",
    "```\n",
    "\n",
    "**`maximum`** and **`minimum`** are built-in functions that find the largest and smallest elements of a sequence and `minmax` in the example computes both and returns a tuple of two values. The built-in function **`extrema`** is more efficient."
   ]
  },
  {
   "cell_type": "code",
   "execution_count": 25,
   "metadata": {},
   "outputs": [
    {
     "data": {
      "text/plain": [
       "(2, 364)"
      ]
     },
     "metadata": {},
     "output_type": "display_data"
    }
   ],
   "source": [
    "t = rand(1:365, 100)\n",
    "mi, ma = extrema(t)"
   ]
  },
  {
   "cell_type": "markdown",
   "metadata": {},
   "source": [
    "### Variable-length argument tuples\n",
    "\n",
    "Functions can take a variable number of arguments. **A parameter name that ends with `...` gathers, slurps, the arguments into a tuple.** For example, **`printall`** takes any number of arguments and prints them:\n",
    "\n",
    "```Julia\n",
    "\tfunction printall(args...)\n",
    "\t\tprintln(args)\n",
    "\tend\n",
    "```\n",
    "\n",
    "The **gather parameter** can have any name you like, but args is conventional. Here is how the function works:"
   ]
  },
  {
   "cell_type": "code",
   "execution_count": 27,
   "metadata": {},
   "outputs": [
    {
     "data": {
      "text/plain": [
       "(1, 2.0, '3', \"banana\", (1, 2))"
      ]
     },
     "metadata": {},
     "output_type": "display_data"
    }
   ],
   "source": [
    "function printall(args...)  # slurp \n",
    "   args\t    # note args is a tuple after slurp has acted\n",
    "end\n",
    "\n",
    "printall(1, 2.0, '3', \"banana\", (1, 2))"
   ]
  },
  {
   "cell_type": "code",
   "execution_count": 28,
   "metadata": {},
   "outputs": [
    {
     "data": {
      "text/plain": [
       "((1, 2.0, '3', \"banana\"), \"banana\")"
      ]
     },
     "metadata": {},
     "output_type": "display_data"
    }
   ],
   "source": [
    "function printall(args...)\n",
    "    args, args[4]\n",
    " end\n",
    " \n",
    " printall(1, 2.0, '3', \"banana\")"
   ]
  },
  {
   "cell_type": "markdown",
   "metadata": {},
   "source": [
    "The complement of gather is **`scatter` or `splatter`**. If you have a sequence of values, a tuple, and you want to pass it to a function as multiple arguments, you can use the **`...` operator**. \n",
    "\n",
    "For example, divrem takes exactly two arguments; it does not work with a tuple:"
   ]
  },
  {
   "cell_type": "code",
   "execution_count": 29,
   "metadata": {},
   "outputs": [
    {
     "ename": "MethodError",
     "evalue": "MethodError: no method matching divrem(::Tuple{Int64, Int64})\n\nClosest candidates are:\n  divrem(::T, !Matched::Base.MultiplicativeInverses.MultiplicativeInverse{T}) where T\n   @ Base multinverses.jl:152\n  divrem(::Any, !Matched::Any)\n   @ Base div.jl:179\n  divrem(::Any, !Matched::Any, !Matched::RoundingMode{:FromZero})\n   @ Base div.jl:262\n  ...\n",
     "output_type": "error",
     "traceback": [
      "MethodError: no method matching divrem(::Tuple{Int64, Int64})\n",
      "\n",
      "Closest candidates are:\n",
      "  divrem(::T, !Matched::Base.MultiplicativeInverses.MultiplicativeInverse{T}) where T\n",
      "   @ Base multinverses.jl:152\n",
      "  divrem(::Any, !Matched::Any)\n",
      "   @ Base div.jl:179\n",
      "  divrem(::Any, !Matched::Any, !Matched::RoundingMode{:FromZero})\n",
      "   @ Base div.jl:262\n",
      "  ...\n",
      "\n",
      "\n",
      "Stacktrace:\n",
      " [1] top-level scope\n",
      "   @ e:\\aaa-Julia-course-2023\\lectures-1.9\\a-ThinkJulia-lecture-12.ipynb:2"
     ]
    }
   ],
   "source": [
    "t = (7, 3)\n",
    "divrem(t)"
   ]
  },
  {
   "cell_type": "markdown",
   "metadata": {},
   "source": [
    "But if you **`scatter`** the tuple, it works:"
   ]
  },
  {
   "cell_type": "code",
   "execution_count": 30,
   "metadata": {},
   "outputs": [
    {
     "data": {
      "text/plain": [
       "(2, 1)"
      ]
     },
     "metadata": {},
     "output_type": "display_data"
    }
   ],
   "source": [
    "divrem(t...)"
   ]
  },
  {
   "cell_type": "markdown",
   "metadata": {},
   "source": [
    "\n",
    "Many of the built-in functions use variable-length argument tuples. For example, `max` and `min` can take any number of arguments:\n",
    "\n",
    "```Julia\n",
    "\tjulia> max(1, 2, 3)\n",
    "\t\t3\n",
    "```\n",
    "\n",
    "But sum does not:\n",
    "\n",
    "```Julia\n",
    "\tjulia> sum(1, 2, 3)\n",
    "\tERROR: MethodError: no method matching sum(::Int64, ::Int64, ::Int64)\n",
    "```"
   ]
  },
  {
   "cell_type": "code",
   "execution_count": 31,
   "metadata": {},
   "outputs": [
    {
     "data": {
      "text/plain": [
       "(6, 6)"
      ]
     },
     "metadata": {},
     "output_type": "display_data"
    }
   ],
   "source": [
    "t = 1, 2, 3\n",
    "sum( (1, 2, 3) ), sum(t)"
   ]
  },
  {
   "cell_type": "markdown",
   "metadata": {},
   "source": [
    "In the Julia world, `gather` is often called **slurp** and `scatter` **splatter**."
   ]
  },
  {
   "cell_type": "markdown",
   "metadata": {},
   "source": [
    "### Arrays and Tuples\n",
    "\n",
    "The built in function **`zip`** takes two or more sequences and **returns a collection of tuples** where each tuple contains one element from each sequence. This example zips a string and an array:\n",
    "\n",
    "```Julia\n",
    "\tjulia> s = \"abc\"; t = [1, 2, 3];\n",
    "\n",
    "\tjulia> zip(s, t)\n",
    "\tBase.Iterators.Zip{Tuple{String,Array{Int64,1}}}((\"abc\", [1, 2, 3]))\n",
    "```\n",
    "\n",
    "The result is a **`zip object`**, an **iterator**, that knows how to **iterate through the pairs**. The most common use of zip is in a for loop:"
   ]
  },
  {
   "cell_type": "code",
   "execution_count": 32,
   "metadata": {},
   "outputs": [
    {
     "name": "stdout",
     "output_type": "stream",
     "text": [
      "a\n",
      "1\n",
      "b\n",
      "2\n",
      "c\n",
      "3\n"
     ]
    }
   ],
   "source": [
    "s = \"abc\"; t = [1, 2, 3];\n",
    "zip(s, t)\n",
    "for (chr, num) in zip(s, t)\n",
    "    println(chr)\n",
    "    println(num)\n",
    "end"
   ]
  },
  {
   "cell_type": "code",
   "execution_count": 33,
   "metadata": {},
   "outputs": [
    {
     "name": "stdout",
     "output_type": "stream",
     "text": [
      "a\n",
      "1\n",
      "b\n",
      "2\n",
      "c\n",
      "3\n"
     ]
    }
   ],
   "source": [
    "s = \"abc\"; t = [1, 2, 3];\n",
    "zip(s, t)\n",
    "for pair in zip(s, t)\n",
    "    println(pair[1])\n",
    "    println(pair[2])\n",
    "end"
   ]
  },
  {
   "cell_type": "markdown",
   "metadata": {},
   "source": [
    "A `zip object` is a type of **`iterator`**, which is any object that can be used to iterate through a sequence. Iterators are similar to arrays in some ways, but unlike arrays, you cannot use an index to select an element from a plain iterator. If you want to use array operators and functions, you can use a zip object to make an array by using **`collect`**:\n",
    "\n",
    "```Julia\n",
    "\tjulia> collect(zip(s, t))\n",
    "\t\t3-element Array{Tuple{Char,Int64},1}:\n",
    "\t\t('a', 1)\n",
    "\t\t('b', 2)\n",
    "\t\t('c', 3)\n",
    "```\n",
    "\n",
    "The result is a **vector of tuples**; in this example, each tuple contains a character from the string and the corresponding element from the array."
   ]
  },
  {
   "cell_type": "code",
   "execution_count": 51,
   "metadata": {},
   "outputs": [
    {
     "data": {
      "text/plain": [
       "\"abc\""
      ]
     },
     "metadata": {},
     "output_type": "display_data"
    }
   ],
   "source": [
    "s"
   ]
  },
  {
   "cell_type": "code",
   "execution_count": 52,
   "metadata": {},
   "outputs": [
    {
     "data": {
      "text/plain": [
       "3-element Vector{Tuple{Char, Int64}}:\n",
       " ('a', 1)\n",
       " ('b', 2)\n",
       " ('c', 3)"
      ]
     },
     "metadata": {},
     "output_type": "display_data"
    }
   ],
   "source": [
    "t"
   ]
  },
  {
   "cell_type": "code",
   "execution_count": 50,
   "metadata": {},
   "outputs": [
    {
     "data": {
      "text/plain": [
       "3-element Vector{Tuple{Char, Tuple{Char, Int64}}}:\n",
       " ('a', ('a', 1))\n",
       " ('b', ('b', 2))\n",
       " ('c', ('c', 3))"
      ]
     },
     "metadata": {},
     "output_type": "display_data"
    }
   ],
   "source": [
    "collect(zip(s, t))"
   ]
  },
  {
   "cell_type": "code",
   "execution_count": 36,
   "metadata": {},
   "outputs": [
    {
     "data": {
      "text/plain": [
       "'b': ASCII/Unicode U+0062 (category Ll: Letter, lowercase)"
      ]
     },
     "metadata": {},
     "output_type": "display_data"
    }
   ],
   "source": [
    "collect(zip(s, t))[2][1]"
   ]
  },
  {
   "cell_type": "code",
   "execution_count": 37,
   "metadata": {},
   "outputs": [
    {
     "name": "stdout",
     "output_type": "stream",
     "text": [
      "Array{Tuple{Char, Int64}}((3,))\n",
      "  1: Tuple{Char, Int64}\n",
      "    1: Char"
     ]
    },
    {
     "name": "stdout",
     "output_type": "stream",
     "text": [
      " 'a'\n",
      "    2: Int64 1\n",
      "  2: Tuple{Char, Int64}\n",
      "    1: Char 'b'\n",
      "    2: Int64 2\n",
      "  3: Tuple{Char, Int64}\n",
      "    1: Char 'c'\n",
      "    2: Int64 3\n"
     ]
    }
   ],
   "source": [
    "dump(collect(zip(s, t)))  # to get a view of the actual data structure"
   ]
  },
  {
   "cell_type": "markdown",
   "metadata": {},
   "source": [
    "**If the sequences are not of the same length, the result has the length of the shorter one.**"
   ]
  },
  {
   "cell_type": "code",
   "execution_count": 38,
   "metadata": {},
   "outputs": [
    {
     "data": {
      "text/plain": [
       "3-element Vector{Tuple{Char, Char}}:\n",
       " ('A', 'E')\n",
       " ('n', 'l')\n",
       " ('n', 'k')"
      ]
     },
     "metadata": {},
     "output_type": "display_data"
    }
   ],
   "source": [
    "collect(zip(\"Anne\", \"Elk\"))"
   ]
  },
  {
   "cell_type": "markdown",
   "metadata": {},
   "source": [
    "And you can use **tuple assignment** in a for loop to traverse an array of tuples:"
   ]
  },
  {
   "cell_type": "code",
   "execution_count": 39,
   "metadata": {},
   "outputs": [
    {
     "name": "stdout",
     "output_type": "stream",
     "text": [
      "1 a\n",
      "2 b\n",
      "3 c\n"
     ]
    }
   ],
   "source": [
    "t = [('a', 1), ('b', 2), ('c', 3)]\n",
    "\n",
    "for (letter, number) in t \t\t# splitting by letter and number\n",
    "    println(number, \" \", letter)\n",
    "end"
   ]
  },
  {
   "cell_type": "markdown",
   "metadata": {},
   "source": [
    "Each time through the loop, Julia selects the next tuple in the array and assigns the elements to letter and number. **The parentheses around (letter, number) are obligatory**.\n",
    "\n",
    "If you combine **zip, for and tuple assignment**, you get a useful idiom for traversing two (or more) sequences at the same time. For example, `hasmatch` takes two sequences, t1 and t2, and returns true if there is an index i such that t1[i] == t2[i]:\n",
    "\n",
    "```Julia\n",
    "\tfunction hasmatch(t1, t2)\n",
    "\t\tfor (x, y) in zip(t1, t2)\n",
    "\t\t\tif x == y\n",
    "\t\t\t\treturn true\n",
    "\t\t\tend\n",
    "\t\tend\n",
    "\t\treturn false\n",
    "\tend\n",
    "```\n",
    "\n",
    "If you need to traverse the elements of a sequence and their indices, you can use the built-in function **`enumerate`**:"
   ]
  },
  {
   "cell_type": "code",
   "execution_count": 40,
   "metadata": {},
   "outputs": [
    {
     "name": "stdout",
     "output_type": "stream",
     "text": [
      "1 a\n",
      "2 b\n",
      "3 c\n"
     ]
    }
   ],
   "source": [
    "for (index, element) in enumerate(\"abc\")\n",
    "    println(index, \" \", element)\n",
    "end"
   ]
  },
  {
   "cell_type": "markdown",
   "metadata": {},
   "source": [
    "The result from enumerate is an **`enumerate object`**, which iterates a sequence of pairs; each pair contains an index (starting from 1) and an element from the given sequence."
   ]
  },
  {
   "cell_type": "code",
   "execution_count": 53,
   "metadata": {},
   "outputs": [
    {
     "name": "stdout",
     "output_type": "stream",
     "text": [
      "3 a\n",
      "2 b\n",
      "1 c\n",
      "\n",
      "a\n",
      "b\n",
      "c\n",
      "\n",
      "1\n",
      "2\n",
      "3\n"
     ]
    }
   ],
   "source": [
    "d = Dict('a'=>3, 'b'=>2, 'c'=>1)\n",
    "\n",
    "ks = sort(collect(keys(d)))\n",
    "\n",
    "vs = sort(collect(values(d)))\n",
    "\n",
    "for key in ks\n",
    "    println(d[key], \" \", key)\n",
    "end\n",
    "\n",
    "println()\n",
    "\n",
    "# note that after sorting, the order of keys and values does not correspond any longer\n",
    "for k in ks  \n",
    "    println(k)\n",
    "end\n",
    "\n",
    "println()\n",
    "\n",
    "for v in vs  \n",
    "    println(v)\n",
    "end"
   ]
  },
  {
   "cell_type": "markdown",
   "metadata": {},
   "source": [
    "Combining Dict with zip yields a concise way to create a dictionary:\n",
    "\n",
    "```Julia\n",
    "\tjulia> d = Dict(zip(\"abc\", 1:3))\n",
    "\t\tDict{Char,Int64} with 3 entries:\n",
    "\t\t\t'a' => 1\n",
    "\t\t\t'c' => 3\n",
    "\t\t\t'b' => 2\n",
    "```\n",
    "\n",
    "It is common to use **tuples as keys** in dictionaries. For example, a telephone directory might map from (last-name, first-name) pairs to telephone numbers. Assuming that we have defined last, first and number, we could write:\n",
    "\n",
    "```Julia\n",
    "\tdirectory[last, first] = number\n",
    "```\n",
    "\n",
    "**The expression in brackets is a tuple.** We could use tuple assignment to traverse this dictionary.\n",
    "\n",
    "```Julia\n",
    "\tfor ((last, first), number) in directory\n",
    "\t\tprintln(first, \" \", last, \" \", number)\n",
    "\tend\n",
    "```\n",
    "\n",
    "This loop traverses the key-value pairs in directory, which are tuples. It assigns the elements of the key in each tuple to last and first, and the value to number, then prints the name and corresponding telephone number."
   ]
  },
  {
   "cell_type": "markdown",
   "metadata": {},
   "source": [
    "### Sequences of sequences\n",
    "\n",
    "The focused has been on arrays of tuples, but almost all of the examples in this chapter also work with arrays of arrays, tuples of tuples, and tuples of arrays. To avoid enumerating all the possible combinations, it is sometimes easier to talk about sequences of sequences. In many contexts, the different kinds of sequences (strings, arrays and tuples) can be used interchangeably. So how should you choose one over the others?\n",
    "\n",
    "To start with the obvious, strings are more limited than other sequences because the elements have to be characters. They are also immutable. If you need the ability to change the characters in a string (as opposed to creating a new string), you might want to use an array of characters instead.\n",
    "\n",
    "Arrays are more common than tuples, mostly because they are mutable. But there are a few cases where you might prefer tuples:\n",
    "- In some contexts, like a return statement, it is syntactically simpler to create a tuple than an array.\n",
    "- If you are passing a sequence as an argument to a function, using tuples reduces the potential for unexpected behavior due to aliasing.\n",
    "- For performance reasons. The compiler can specialize on the type.\n",
    "\n",
    "Because tuples are immutable, they do not provide functions like `sort!` and `reverse!`, which modify existing arrays. But Julia provides the built-in function **`sort`**, which takes an array and returns a new array with the same elements in sorted order, and **`reverse`**, which takes any sequence and returns a sequence of the same type in reverse order.\n",
    "\n",
    "### Debugging\n",
    "\n",
    "Arrays, dictionaries and tuples are examples of **`data structures`**; in this notebook we are begining to see **compound data structures**, like arrays of tuples, or dictionaries that contain tuples as keys and arrays as values. \n",
    "\n",
    "Compound data structures are useful, but they are prone to **\"shape errors\"**; that is, errors caused when a data structure has the wrong **type, size**, or **structure**. For example, if you are expecting an array with one integer and I give you a plain old integer (not in an array), it will not work.\n",
    "\n",
    "Julia allows to **attach a type to elements of a sequence**. How this is done is detailed in **Multiple Dispatch**. Specifying the type eliminates a lot of shape errors.\n"
   ]
  },
  {
   "cell_type": "markdown",
   "metadata": {},
   "source": [
    "## Excercises\n",
    "\n",
    "### Exercise 12-1\n",
    "Write a function called `sumall` that takes any number of arguments and returns their sum."
   ]
  },
  {
   "cell_type": "markdown",
   "metadata": {},
   "source": [
    "### Exercise 12-2\n",
    "\n",
    "Write a function called `mostfrequent` that takes a string and prints the letters in decreasing order of frequency. Find text samples from several different languages and see how letter frequency varies between languages. Compare your results with the tables at https://en.wikipedia.org/wiki/Letter_frequencies."
   ]
  },
  {
   "cell_type": "markdown",
   "metadata": {},
   "source": [
    "### Exercise 12-3\n",
    "\n",
    "More anagrams! Write a program that reads a word list from a file (see Reading Word Lists) and prints all the sets of words that are anagrams. Here is an example of what the output might look like:\n",
    "\n",
    "    [\"deltas\", \"desalt\", \"lasted\", \"salted\", \"slated\", \"staled\"]\n",
    "    [\"retainers\", \"ternaries\"]\n",
    "    [\"generating\", \"greatening\"]\n",
    "    [\"resmelts\", \"smelters\", \"termless\"]\n",
    "\n",
    "    \t\n",
    "\n",
    "You might want to build a dictionary that maps from a collection of letters to an array of words that can be spelled with those letters. The question is, how can you represent the collection of letters in a way that can be used as a key?\n",
    "\n",
    "Modify the previous program so that it prints the longest array of anagrams first, followed by the second longest, and so on.\n",
    "\n",
    "In Scrabble a “bingo” is when you play all seven tiles in your rack, along with a letter on the board, to form an eight-letter word. What collection of 8 letters forms the most possible bingos?"
   ]
  },
  {
   "cell_type": "markdown",
   "metadata": {},
   "source": [
    "### Exercise 12-4\n",
    "\n",
    "Two words form a “metathesis pair” if you can transform one into the other by swapping two letters; for example, “converse” and “conserve”. Write a program that finds all of the metathesis pairs in the dictionary. Do not test all pairs of words, and do not test all possible swaps."
   ]
  },
  {
   "cell_type": "markdown",
   "metadata": {},
   "source": [
    "### Exercise 12-5\n",
    "\n",
    "Here’s another Car Talk Puzzler (https://www.cartalk.com/puzzler/browse):\n",
    "\n",
    "What is the longest English word, that remains a valid English word, as you remove its letters one at a time? Now, letters can be removed from either end, or the middle, but you cannot rearrange any of the letters. Every time you drop a letter, you wind up with another English word. If you do that, you are eventually going to wind up with one letter and that too is going to be an English word—one that’s found in the dictionary. I want to know what is the longest word and how many letters does it have?\n",
    "\n",
    "An example: Sprite. Ok? You start off with sprite, you take a letter off, one from the interior of the word, take the r away, and we’re left with the word spite, then we take the e off the end, we are left with spit, we take the s off, we are left with pit, it, and I.\n",
    "\n",
    "Write a program to find all words that can be reduced in this way, and then find the longest one.\n",
    "\n",
    "This exercise is a little more challenging than most, so here are some suggestions:\n",
    "\n",
    "(1) You might want to write a function that takes a word and computes an array of all the words that can be formed by removing one letter. These are the “children” of the word.\n",
    "\n",
    "(2) Recursively, a word is reducible if any of its children are reducible. As a base case, you can consider the empty string reducible.\n",
    "\n",
    "(3) The word list I provided, `words.txt`, does not contain single letter words. So you might want to add “I”, “a”, and the empty string.\n",
    "\n",
    "(4) To improve the performance of your program, you might want to memoize the words that are known to be reducible."
   ]
  }
 ],
 "metadata": {
  "kernelspec": {
   "display_name": "Julia 1.9.3",
   "language": "julia",
   "name": "julia-1.9"
  },
  "language_info": {
   "file_extension": ".jl",
   "mimetype": "application/julia",
   "name": "julia",
   "version": "1.9.3"
  },
  "orig_nbformat": 4,
  "vscode": {
   "interpreter": {
    "hash": "8e72a6ea8ae570bc9b562cd7a1d6883761b9cd7ac49ad6b17855b6c636bf0317"
   }
  }
 },
 "nbformat": 4,
 "nbformat_minor": 2
}
